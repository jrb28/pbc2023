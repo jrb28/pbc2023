{
 "cells": [
  {
   "cell_type": "markdown",
   "id": "36f9a5f0",
   "metadata": {},
   "source": [
    "# <code>numpy</code>\n",
    "\n",
    "<b>num</b>erical <b>py</b>thon\n",
    "\n",
    "- Fast\n",
    "- Data structures are limited to one data type\n",
    "- Written in the C programming language"
   ]
  },
  {
   "cell_type": "code",
   "execution_count": 29,
   "id": "3360e73c",
   "metadata": {},
   "outputs": [],
   "source": [
    "import numpy as np"
   ]
  },
  {
   "cell_type": "code",
   "execution_count": null,
   "id": "b2e57afc",
   "metadata": {},
   "outputs": [],
   "source": []
  },
  {
   "cell_type": "markdown",
   "id": "9c0d73c8",
   "metadata": {},
   "source": [
    "## Numpy arrays (<code>ndarray</code>)\n",
    "\n",
    "n-dimensional arrays"
   ]
  },
  {
   "cell_type": "code",
   "execution_count": null,
   "id": "5b3c05ee",
   "metadata": {},
   "outputs": [],
   "source": []
  },
  {
   "cell_type": "code",
   "execution_count": null,
   "id": "6d9fd1b8",
   "metadata": {},
   "outputs": [],
   "source": []
  },
  {
   "cell_type": "markdown",
   "id": "2d5da5f8",
   "metadata": {},
   "source": [
    "## Array Creation"
   ]
  },
  {
   "cell_type": "code",
   "execution_count": 30,
   "id": "febb721b",
   "metadata": {},
   "outputs": [
    {
     "data": {
      "text/plain": [
       "(numpy.ndarray, array([0, 1, 2]))"
      ]
     },
     "execution_count": 30,
     "metadata": {},
     "output_type": "execute_result"
    }
   ],
   "source": [
    "a = np.array([0,1,2])\n",
    "type(a), a"
   ]
  },
  {
   "cell_type": "code",
   "execution_count": 31,
   "id": "90a1558b",
   "metadata": {},
   "outputs": [
    {
     "data": {
      "text/plain": [
       "array([3, 4, 5])"
      ]
     },
     "execution_count": 31,
     "metadata": {},
     "output_type": "execute_result"
    }
   ],
   "source": [
    "np.array((3,4,5))"
   ]
  },
  {
   "cell_type": "code",
   "execution_count": 32,
   "id": "5ce90bdf",
   "metadata": {},
   "outputs": [
    {
     "data": {
      "text/plain": [
       "array([[1., 1., 1.],\n",
       "       [1., 1., 1.],\n",
       "       [1., 1., 1.]])"
      ]
     },
     "execution_count": 32,
     "metadata": {},
     "output_type": "execute_result"
    }
   ],
   "source": [
    "b = np.ones((3,3))\n",
    "b"
   ]
  },
  {
   "cell_type": "code",
   "execution_count": 33,
   "id": "fbf35a2a",
   "metadata": {},
   "outputs": [
    {
     "data": {
      "text/plain": [
       "array([[0., 0.],\n",
       "       [0., 0.]])"
      ]
     },
     "execution_count": 33,
     "metadata": {},
     "output_type": "execute_result"
    }
   ],
   "source": [
    "np.zeros((2,2))"
   ]
  },
  {
   "cell_type": "code",
   "execution_count": 34,
   "id": "e3102fcd",
   "metadata": {},
   "outputs": [
    {
     "data": {
      "text/plain": [
       "array([0, 1, 2, 3, 4])"
      ]
     },
     "execution_count": 34,
     "metadata": {},
     "output_type": "execute_result"
    }
   ],
   "source": [
    "np.arange(5)"
   ]
  },
  {
   "cell_type": "code",
   "execution_count": 35,
   "id": "cce59ea2",
   "metadata": {},
   "outputs": [
    {
     "data": {
      "text/plain": [
       "array([3, 4, 5, 6])"
      ]
     },
     "execution_count": 35,
     "metadata": {},
     "output_type": "execute_result"
    }
   ],
   "source": [
    "np.arange(3,7)"
   ]
  },
  {
   "cell_type": "code",
   "execution_count": 36,
   "id": "99fce4be",
   "metadata": {},
   "outputs": [
    {
     "data": {
      "text/plain": [
       "array([1, 3, 5, 7, 9])"
      ]
     },
     "execution_count": 36,
     "metadata": {},
     "output_type": "execute_result"
    }
   ],
   "source": [
    "# format: np.arange([start], stop, [step])\n",
    "np.arange(1,10,2)"
   ]
  },
  {
   "cell_type": "code",
   "execution_count": 37,
   "id": "0647697b",
   "metadata": {},
   "outputs": [
    {
     "data": {
      "text/plain": [
       "array([0. , 0.1, 0.2, 0.3, 0.4, 0.5, 0.6, 0.7, 0.8, 0.9])"
      ]
     },
     "execution_count": 37,
     "metadata": {},
     "output_type": "execute_result"
    }
   ],
   "source": [
    "np.arange(0, 1, .1)"
   ]
  },
  {
   "cell_type": "code",
   "execution_count": 38,
   "id": "2f4a4d66",
   "metadata": {},
   "outputs": [
    {
     "data": {
      "text/plain": [
       "dtype('float64')"
      ]
     },
     "execution_count": 38,
     "metadata": {},
     "output_type": "execute_result"
    }
   ],
   "source": [
    "b.dtype"
   ]
  },
  {
   "cell_type": "code",
   "execution_count": 39,
   "id": "fcf508c1",
   "metadata": {},
   "outputs": [
    {
     "data": {
      "text/plain": [
       "array([[1, 1, 1],\n",
       "       [1, 1, 1]], dtype=int64)"
      ]
     },
     "execution_count": 39,
     "metadata": {},
     "output_type": "execute_result"
    }
   ],
   "source": [
    "c = np.ones((2,3), dtype=np.int64)\n",
    "c"
   ]
  },
  {
   "cell_type": "code",
   "execution_count": 40,
   "id": "f95bec7a",
   "metadata": {},
   "outputs": [
    {
     "data": {
      "text/plain": [
       "array([[1, 1, 1],\n",
       "       [1, 1, 1]])"
      ]
     },
     "execution_count": 40,
     "metadata": {},
     "output_type": "execute_result"
    }
   ],
   "source": [
    "np.ones((2,3)).astype(np.int32)"
   ]
  },
  {
   "cell_type": "code",
   "execution_count": 41,
   "id": "bbf0d3f6",
   "metadata": {},
   "outputs": [
    {
     "name": "stdout",
     "output_type": "stream",
     "text": [
      "float64\n",
      "int32\n"
     ]
    }
   ],
   "source": [
    "d = np.ones((2,3))\n",
    "print(d.dtype)\n",
    "d = d.astype(np.int32)\n",
    "print(d.dtype)"
   ]
  },
  {
   "cell_type": "code",
   "execution_count": 42,
   "id": "cb0e5eb8",
   "metadata": {},
   "outputs": [
    {
     "data": {
      "text/plain": [
       "array([[5, 5, 5, 5],\n",
       "       [5, 5, 5, 5]])"
      ]
     },
     "execution_count": 42,
     "metadata": {},
     "output_type": "execute_result"
    }
   ],
   "source": [
    "np.full((2,4), 5)"
   ]
  },
  {
   "cell_type": "code",
   "execution_count": 43,
   "id": "66765f27",
   "metadata": {},
   "outputs": [
    {
     "data": {
      "text/plain": [
       "array([[1, 0, 0, 0, 0, 0],\n",
       "       [0, 1, 0, 0, 0, 0],\n",
       "       [0, 0, 1, 0, 0, 0],\n",
       "       [0, 0, 0, 1, 0, 0],\n",
       "       [0, 0, 0, 0, 1, 0],\n",
       "       [0, 0, 0, 0, 0, 1]], dtype=int16)"
      ]
     },
     "execution_count": 43,
     "metadata": {},
     "output_type": "execute_result"
    }
   ],
   "source": [
    "np.identity(6).astype(np.int16)"
   ]
  },
  {
   "cell_type": "code",
   "execution_count": 44,
   "id": "bcb0fdf7",
   "metadata": {},
   "outputs": [
    {
     "data": {
      "text/plain": [
       "((2, 3), tuple)"
      ]
     },
     "execution_count": 44,
     "metadata": {},
     "output_type": "execute_result"
    }
   ],
   "source": [
    "d.shape, type(d.shape)"
   ]
  },
  {
   "cell_type": "code",
   "execution_count": 45,
   "id": "dbf70b4f",
   "metadata": {},
   "outputs": [
    {
     "data": {
      "text/plain": [
       "2"
      ]
     },
     "execution_count": 45,
     "metadata": {},
     "output_type": "execute_result"
    }
   ],
   "source": [
    "# number of rows\n",
    "d.shape[0]"
   ]
  },
  {
   "cell_type": "code",
   "execution_count": 46,
   "id": "b30606d2",
   "metadata": {},
   "outputs": [
    {
     "data": {
      "text/plain": [
       "3"
      ]
     },
     "execution_count": 46,
     "metadata": {},
     "output_type": "execute_result"
    }
   ],
   "source": [
    "# number of columns\n",
    "d.shape[1]"
   ]
  },
  {
   "cell_type": "code",
   "execution_count": 47,
   "id": "5f781d23",
   "metadata": {},
   "outputs": [
    {
     "name": "stdout",
     "output_type": "stream",
     "text": [
      "1\n",
      "1\n",
      "1\n",
      "1\n",
      "1\n",
      "1\n"
     ]
    }
   ],
   "source": [
    "for i in range(d.shape[0]):\n",
    "    for j in range(d.shape[1]):\n",
    "        print(d[i][j])"
   ]
  },
  {
   "cell_type": "code",
   "execution_count": 51,
   "id": "a41d60ae",
   "metadata": {},
   "outputs": [
    {
     "data": {
      "text/plain": [
       "array([1, 1, 1, 1, 1, 1])"
      ]
     },
     "execution_count": 51,
     "metadata": {},
     "output_type": "execute_result"
    }
   ],
   "source": [
    "d.flatten()"
   ]
  },
  {
   "cell_type": "code",
   "execution_count": 54,
   "id": "32ba8eae",
   "metadata": {},
   "outputs": [
    {
     "data": {
      "text/plain": [
       "array([[1, 1],\n",
       "       [1, 1],\n",
       "       [1, 1]])"
      ]
     },
     "execution_count": 54,
     "metadata": {},
     "output_type": "execute_result"
    }
   ],
   "source": [
    "d.reshape(3,2)"
   ]
  },
  {
   "cell_type": "code",
   "execution_count": 56,
   "id": "fabdc96c",
   "metadata": {},
   "outputs": [
    {
     "data": {
      "text/plain": [
       "array([[1, 1],\n",
       "       [1, 1],\n",
       "       [1, 1]])"
      ]
     },
     "execution_count": 56,
     "metadata": {},
     "output_type": "execute_result"
    }
   ],
   "source": [
    "d.reshape(3,2)"
   ]
  },
  {
   "cell_type": "code",
   "execution_count": 57,
   "id": "93e58bae",
   "metadata": {},
   "outputs": [
    {
     "data": {
      "text/plain": [
       "array([[0.01601558, 0.56409307],\n",
       "       [0.42340698, 0.7382894 ]])"
      ]
     },
     "execution_count": 57,
     "metadata": {},
     "output_type": "execute_result"
    }
   ],
   "source": [
    "np.random.random((2,2))"
   ]
  },
  {
   "cell_type": "code",
   "execution_count": 66,
   "id": "b536aab5",
   "metadata": {},
   "outputs": [
    {
     "data": {
      "text/plain": [
       "array([[3, 2, 5, 2, 2],\n",
       "       [4, 2, 0, 4, 0]])"
      ]
     },
     "execution_count": 66,
     "metadata": {},
     "output_type": "execute_result"
    }
   ],
   "source": [
    "np.random.randint(0, 9, (2,5))"
   ]
  },
  {
   "cell_type": "code",
   "execution_count": null,
   "id": "8241d05e",
   "metadata": {},
   "outputs": [],
   "source": []
  },
  {
   "cell_type": "code",
   "execution_count": null,
   "id": "d6751d37",
   "metadata": {},
   "outputs": [],
   "source": []
  },
  {
   "cell_type": "markdown",
   "id": "72f24788",
   "metadata": {},
   "source": [
    "## numpy Slices and Indexing"
   ]
  },
  {
   "cell_type": "code",
   "execution_count": 68,
   "id": "f8bf96d6",
   "metadata": {},
   "outputs": [
    {
     "data": {
      "text/plain": [
       "array([0.09270253, 0.77252393, 0.07615393, 0.10750887, 0.56920686,\n",
       "       0.44419348, 0.10602389, 0.01271085])"
      ]
     },
     "execution_count": 68,
     "metadata": {},
     "output_type": "execute_result"
    }
   ],
   "source": [
    "h = np.random.random((8,))\n",
    "h"
   ]
  },
  {
   "cell_type": "code",
   "execution_count": 71,
   "id": "e0457d5a",
   "metadata": {},
   "outputs": [
    {
     "data": {
      "text/plain": [
       "array([[0.84289947, 0.35398689, 0.9551968 , 0.7096073 , 0.13630193,\n",
       "        0.65978114, 0.19054395],\n",
       "       [0.4645478 , 0.91883729, 0.46641935, 0.52533993, 0.24641337,\n",
       "        0.135258  , 0.56032224],\n",
       "       [0.46924966, 0.01899494, 0.68333358, 0.3740239 , 0.40945611,\n",
       "        0.65117585, 0.2638785 ],\n",
       "       [0.66552858, 0.40071934, 0.51337696, 0.62863281, 0.14451895,\n",
       "        0.93306593, 0.41697164],\n",
       "       [0.24494242, 0.0845737 , 0.22411413, 0.70108488, 0.08040327,\n",
       "        0.56551924, 0.58138612],\n",
       "       [0.90659817, 0.98449794, 0.58519318, 0.12894619, 0.52829803,\n",
       "        0.88909749, 0.28964525],\n",
       "       [0.48063969, 0.1655322 , 0.24570394, 0.85272892, 0.31223758,\n",
       "        0.77380359, 0.80363502]])"
      ]
     },
     "execution_count": 71,
     "metadata": {},
     "output_type": "execute_result"
    }
   ],
   "source": [
    "j = np.random.random((7,7))\n",
    "j"
   ]
  },
  {
   "cell_type": "code",
   "execution_count": 69,
   "id": "1a5fd688",
   "metadata": {},
   "outputs": [
    {
     "data": {
      "text/plain": [
       "tuple"
      ]
     },
     "execution_count": 69,
     "metadata": {},
     "output_type": "execute_result"
    }
   ],
   "source": [
    "type((8,))"
   ]
  },
  {
   "cell_type": "code",
   "execution_count": 70,
   "id": "687e656b",
   "metadata": {},
   "outputs": [
    {
     "data": {
      "text/plain": [
       "int"
      ]
     },
     "execution_count": 70,
     "metadata": {},
     "output_type": "execute_result"
    }
   ],
   "source": [
    "type((8))"
   ]
  },
  {
   "cell_type": "code",
   "execution_count": 72,
   "id": "47416cf2",
   "metadata": {},
   "outputs": [
    {
     "name": "stdout",
     "output_type": "stream",
     "text": [
      "[0.09270253 0.77252393 0.07615393 0.10750887 0.56920686 0.44419348\n",
      " 0.10602389 0.01271085]\n"
     ]
    },
    {
     "data": {
      "text/plain": [
       "array([0.77252393, 0.07615393, 0.10750887])"
      ]
     },
     "execution_count": 72,
     "metadata": {},
     "output_type": "execute_result"
    }
   ],
   "source": [
    "print(h)\n",
    "h[1:4]"
   ]
  },
  {
   "cell_type": "code",
   "execution_count": 75,
   "id": "b47d7b67",
   "metadata": {},
   "outputs": [
    {
     "data": {
      "text/plain": [
       "array([0.77252393, 0.10750887, 0.44419348])"
      ]
     },
     "execution_count": 75,
     "metadata": {},
     "output_type": "execute_result"
    }
   ],
   "source": [
    "h[1:7:2]"
   ]
  },
  {
   "cell_type": "code",
   "execution_count": 77,
   "id": "1cefaf65",
   "metadata": {},
   "outputs": [
    {
     "ename": "SyntaxError",
     "evalue": "incomplete input (786403058.py, line 1)",
     "output_type": "error",
     "traceback": [
      "\u001b[1;36m  Cell \u001b[1;32mIn[77], line 1\u001b[1;36m\u001b[0m\n\u001b[1;33m    h[[1,5]\u001b[0m\n\u001b[1;37m           ^\u001b[0m\n\u001b[1;31mSyntaxError\u001b[0m\u001b[1;31m:\u001b[0m incomplete input\n"
     ]
    }
   ],
   "source": []
  },
  {
   "cell_type": "code",
   "execution_count": 73,
   "id": "f89f4d13",
   "metadata": {},
   "outputs": [
    {
     "data": {
      "text/plain": [
       "0.3740239015616935"
      ]
     },
     "execution_count": 73,
     "metadata": {},
     "output_type": "execute_result"
    }
   ],
   "source": [
    "j[2][3]"
   ]
  },
  {
   "cell_type": "code",
   "execution_count": 74,
   "id": "31c12d43",
   "metadata": {},
   "outputs": [
    {
     "data": {
      "text/plain": [
       "0.3740239015616935"
      ]
     },
     "execution_count": 74,
     "metadata": {},
     "output_type": "execute_result"
    }
   ],
   "source": [
    "j[2,3]"
   ]
  },
  {
   "cell_type": "code",
   "execution_count": 78,
   "id": "342ef73b",
   "metadata": {},
   "outputs": [
    {
     "data": {
      "text/plain": [
       "array([0.46641935, 0.51337696, 0.58519318])"
      ]
     },
     "execution_count": 78,
     "metadata": {},
     "output_type": "execute_result"
    }
   ],
   "source": [
    "j[1:6:2, 2]"
   ]
  },
  {
   "cell_type": "code",
   "execution_count": 79,
   "id": "a28bd3aa",
   "metadata": {},
   "outputs": [
    {
     "data": {
      "text/plain": [
       "array([[0.46641935, 0.52533993],\n",
       "       [0.68333358, 0.3740239 ],\n",
       "       [0.51337696, 0.62863281],\n",
       "       [0.22411413, 0.70108488],\n",
       "       [0.58519318, 0.12894619]])"
      ]
     },
     "execution_count": 79,
     "metadata": {},
     "output_type": "execute_result"
    }
   ],
   "source": [
    "j[1:6, 2:4]"
   ]
  },
  {
   "cell_type": "code",
   "execution_count": 80,
   "id": "3fe33f28",
   "metadata": {},
   "outputs": [
    {
     "data": {
      "text/plain": [
       "array([0.91883729, 0.68333358, 0.62863281])"
      ]
     },
     "execution_count": 80,
     "metadata": {},
     "output_type": "execute_result"
    }
   ],
   "source": [
    "j[[1,2,3], [1,2,3]]"
   ]
  },
  {
   "cell_type": "markdown",
   "id": "a539e0b1",
   "metadata": {},
   "source": [
    "## Array Methods and Calcuations"
   ]
  },
  {
   "cell_type": "code",
   "execution_count": 81,
   "id": "20bd4325",
   "metadata": {},
   "outputs": [
    {
     "data": {
      "text/plain": [
       "array([[0.68124843, 0.41340898, 0.43512068],\n",
       "       [0.86116854, 0.43759351, 0.6199251 ],\n",
       "       [0.62583327, 0.59539012, 0.99054698]])"
      ]
     },
     "execution_count": 81,
     "metadata": {},
     "output_type": "execute_result"
    }
   ],
   "source": [
    "A = np.random.random((3,3))\n",
    "A"
   ]
  },
  {
   "cell_type": "code",
   "execution_count": 82,
   "id": "ad5feb27",
   "metadata": {},
   "outputs": [
    {
     "data": {
      "text/plain": [
       "array([[0.68124843, 0.86116854, 0.62583327],\n",
       "       [0.41340898, 0.43759351, 0.59539012],\n",
       "       [0.43512068, 0.6199251 , 0.99054698]])"
      ]
     },
     "execution_count": 82,
     "metadata": {},
     "output_type": "execute_result"
    }
   ],
   "source": [
    "A.T"
   ]
  },
  {
   "cell_type": "code",
   "execution_count": 84,
   "id": "1ec4de64",
   "metadata": {},
   "outputs": [
    {
     "ename": "AttributeError",
     "evalue": "module 'numpy.linalg' has no attribute 'trans'",
     "output_type": "error",
     "traceback": [
      "\u001b[1;31m---------------------------------------------------------------------------\u001b[0m",
      "\u001b[1;31mAttributeError\u001b[0m                            Traceback (most recent call last)",
      "Cell \u001b[1;32mIn[84], line 1\u001b[0m\n\u001b[1;32m----> 1\u001b[0m np\u001b[38;5;241m.\u001b[39mlinalg\u001b[38;5;241m.\u001b[39mtrans(A)\n",
      "\u001b[1;31mAttributeError\u001b[0m: module 'numpy.linalg' has no attribute 'trans'"
     ]
    }
   ],
   "source": [
    "np.linalg.trans(A)"
   ]
  },
  {
   "cell_type": "code",
   "execution_count": 85,
   "id": "04878e16",
   "metadata": {},
   "outputs": [
    {
     "data": {
      "text/plain": [
       "-0.04447673974067723"
      ]
     },
     "execution_count": 85,
     "metadata": {},
     "output_type": "execute_result"
    }
   ],
   "source": [
    "np.linalg.det(A)"
   ]
  },
  {
   "cell_type": "code",
   "execution_count": 88,
   "id": "b7ddc3a1",
   "metadata": {},
   "outputs": [
    {
     "data": {
      "text/plain": [
       "array([[-1.44704045,  3.38231765, -1.48114771],\n",
       "       [10.45621026, -9.04957473,  1.07046432],\n",
       "       [-5.3706875 ,  3.30247893,  1.30191465]])"
      ]
     },
     "execution_count": 88,
     "metadata": {},
     "output_type": "execute_result"
    }
   ],
   "source": [
    "Ainv = np.linalg.inv(A)\n",
    "Ainv"
   ]
  },
  {
   "cell_type": "code",
   "execution_count": 89,
   "id": "8536fd2a",
   "metadata": {},
   "outputs": [
    {
     "data": {
      "text/plain": [
       "array([[ 1.00000000e+00, -1.21566783e-16,  9.35031758e-17],\n",
       "       [ 2.16426136e-16,  1.00000000e+00,  1.37539736e-16],\n",
       "       [ 1.00203713e-15, -5.56970038e-16,  1.00000000e+00]])"
      ]
     },
     "execution_count": 89,
     "metadata": {},
     "output_type": "execute_result"
    }
   ],
   "source": [
    "A.dot(Ainv)"
   ]
  },
  {
   "cell_type": "code",
   "execution_count": null,
   "id": "1bd54444",
   "metadata": {},
   "outputs": [],
   "source": []
  },
  {
   "cell_type": "code",
   "execution_count": null,
   "id": "318271dc",
   "metadata": {},
   "outputs": [],
   "source": []
  },
  {
   "cell_type": "markdown",
   "id": "5bce02d9",
   "metadata": {},
   "source": [
    "## Numpy Linear Algebra"
   ]
  },
  {
   "cell_type": "code",
   "execution_count": null,
   "id": "2aebeb0b",
   "metadata": {},
   "outputs": [],
   "source": []
  },
  {
   "cell_type": "code",
   "execution_count": null,
   "id": "9bab8c82",
   "metadata": {},
   "outputs": [],
   "source": []
  },
  {
   "cell_type": "code",
   "execution_count": null,
   "id": "42a9b561",
   "metadata": {},
   "outputs": [],
   "source": []
  },
  {
   "cell_type": "code",
   "execution_count": null,
   "id": "86cb9615",
   "metadata": {},
   "outputs": [],
   "source": []
  },
  {
   "cell_type": "code",
   "execution_count": null,
   "id": "cf3c635e",
   "metadata": {},
   "outputs": [],
   "source": []
  },
  {
   "cell_type": "code",
   "execution_count": null,
   "id": "bb9564a1",
   "metadata": {},
   "outputs": [],
   "source": []
  },
  {
   "cell_type": "markdown",
   "id": "8621faa8",
   "metadata": {},
   "source": [
    "# A Story Problem: Computing Customer Lifetime\n",
    "\n",
    "This example uses a Markov Model.  We will ignore many of the technical details for now. \n",
    "\n",
    "We will analyze a model of customer retention with linear algebra.  Assume that we have built a model of the life cycle of customers who shop on our company's Internet site.  Our model categorizes customers into one of four states:\n",
    "- Purchased within the last month (Category 0)\n",
    "- Last purchase was between within the last one to two months (Category 1)\n",
    "- Last purchase was between within the last two to three months(Category 2)\n",
    "- Has purchased previously, but not within the last three months (Category 3)\n",
    "\n",
    "This categorization recognizes that different tactics, at differing levels of effort and cost, are required to entice customers in each category to make subsequent purchases.  It also recognizes that once customers fall into the last category it is extremely unlikely that they will ever again pruchase anything from the website.\n",
    "\n",
    "We can build a matrix, $P$, whose rows and columns correspond to these four states, the elements of which correspond to the transition probability *from* the state associated with the row *to* the state associated with the column.\n",
    "\n",
    "\\begin{align}\n",
    "P = \\left[ \n",
    "\\begin{array}{ccccc}\n",
    "p_{00} & p_{01} & p_{02}& p_{03} \\\\\n",
    "p_{10} & p_{11} & p_{12}& p_{13} \\\\\n",
    "p_{20} & p_{21} & p_{22}& p_{23} \\\\\n",
    "p_{30} & p_{31} & p_{32}& p_{33} \n",
    "\\end{array}\n",
    "\\right]\n",
    "\\end{align}\n",
    "\n",
    "where $p_{xy}$ is the probability of a customer transtioning from category/state $x$ to state $y$.  Notice that\n",
    "\n",
    "\\begin{align}\n",
    "\\Sigma_{j=0}^3 p_{ij}  = 1\n",
    "\\end{align}\n",
    "\n",
    "for the probabilities in any row $i$ because a customer must transition to one of the categories.\n",
    "\n",
    "The research question of interest to the company is, given a certain set of transition probabilities reflected in $P$, how many months will a customer be active, that is, before they fall into the last category from which they cannot be resurrected as a customer?  Let the column vector $n$ have an element for each state/category which,for each state, is the average number of months a customer remains active (before they fall into the last category) after they are categorized as being in that state.  Thus, $n$ has four elements and we have said, already, that $n_3=0$ once a customer reaches Category 3.  Our task is to solve for $n$.  Since we know already that $n_3=0$, we can ignore computing that element and we can also ignore the corresponding elements in $P$, which specifically are the last row and the last column.  Thus, redefine $P$ as\n",
    "\n",
    "\\begin{align}\n",
    "P = \\left[ \n",
    "\\begin{array}{ccccc}\n",
    "p_{00} & p_{01} & p_{02} \\\\\n",
    "p_{10} & p_{11} & p_{12} \\\\\n",
    "p_{20} & p_{21} & p_{22}\n",
    "\\end{array}\n",
    "\\right]\n",
    "\\end{align}\n",
    "\n",
    "The solution for $n$ must satisfy these equations:\n",
    "\n",
    "\\begin{align}\n",
    "n_0 = 1 + \\sum_{i=0}^{2}{p_{0,i}n_i} \\\\\n",
    "n_1 = 1 + \\sum_{i=0}^{2}{p_{1,i}n_i} \\\\\n",
    "n_2 = 1 + \\sum_{i=0}^{2}{p_{2,i}n_i} \n",
    "\\end{align}\n",
    "\n",
    "If a customer is in any one of these states, we must add 1 month to their lifetime, as we do in the first term on the right-hand side of the equations.  Then, the customer transitons to one of the other states and experiences a remaining lifetime associated with that state, which is the second term on the right-hand side.  These are called a one-step equations.\n",
    "\n",
    "We can gather these equations and write them in matrix-vector form, where $\\textbf{1}$ is a vector of ones:\n",
    "\n",
    "\\begin{align}\n",
    "n = \\textbf{1} + Pn\n",
    "\\end{align}\n",
    "\n",
    "This equation can be rewritten in a number of ways:\n",
    "\n",
    "\\begin{align}\n",
    "\\left(I - P \\right) n = \\textbf{1} \\\\\n",
    "n = \\left(I - P \\right)^{-1} \\textbf{1} \n",
    "\\end{align}\n",
    "\n",
    "**We will demonstrate three ways to find a solution to this problem using the linalg subpackage of numpy, and in so doing illustrate several numpy functions and methods.**\n",
    "\n",
    "First, define the matrix $P$."
   ]
  },
  {
   "cell_type": "code",
   "execution_count": 90,
   "id": "6f929a1c",
   "metadata": {},
   "outputs": [
    {
     "data": {
      "text/plain": [
       "array([[0.3, 0.7, 0. ],\n",
       "       [0.2, 0. , 0.8],\n",
       "       [0.1, 0. , 0. ]])"
      ]
     },
     "execution_count": 90,
     "metadata": {},
     "output_type": "execute_result"
    }
   ],
   "source": [
    "P = np.array([[0.3,0.7,0],[0.2,0.0,0.8],[0.1,0.0,0.0]])\n",
    "P"
   ]
  },
  {
   "cell_type": "markdown",
   "id": "d0ff5431",
   "metadata": {},
   "source": [
    "## Method 1: Use the numpy.linalg.solve() Function\n",
    "\n",
    "The function <code>numpy.linalg.solve(A,b)</code> will solve equations of the form $A x = b$ yielding $x$ given the matrix $A$ and column vector $b$ as arguments.  The equation in the problem description, $\\left(I - P \\right) n = \\textbf{1}$, is of that form.  This approach, reassuringly, yields the same result as the first approach.  "
   ]
  },
  {
   "cell_type": "code",
   "execution_count": 92,
   "id": "177b8e11",
   "metadata": {},
   "outputs": [],
   "source": [
    "from numpy import linalg"
   ]
  },
  {
   "cell_type": "code",
   "execution_count": 93,
   "id": "18db83a9",
   "metadata": {},
   "outputs": [
    {
     "data": {
      "text/plain": [
       "array([[4.48412698],\n",
       "       [3.05555556],\n",
       "       [1.4484127 ]])"
      ]
     },
     "execution_count": 93,
     "metadata": {},
     "output_type": "execute_result"
    }
   ],
   "source": [
    "linalg.solve((np.identity(P.shape[0]) - P),np.ones((P.shape[0],1)))"
   ]
  },
  {
   "cell_type": "markdown",
   "id": "c44c1d35",
   "metadata": {},
   "source": [
    "## Method 2: Use the numpy.linalg.inv() Function to Compute the Inverse of a Matrix\n",
    "\n",
    "This approach solves this form of the problem, $n = \\left(I - P \\right)^{-1} \\textbf{1}$, but using <code>numpy.linalg.inv()</code> to take the inverse of $\\left(I - P \\right)$.  The <code>numpy.ndarray.dot()</code> method is, again, used for multiple a matrix by a vector."
   ]
  },
  {
   "cell_type": "code",
   "execution_count": 94,
   "id": "cd539681",
   "metadata": {},
   "outputs": [
    {
     "data": {
      "text/plain": [
       "array([[4.48412698],\n",
       "       [3.05555556],\n",
       "       [1.4484127 ]])"
      ]
     },
     "execution_count": 94,
     "metadata": {},
     "output_type": "execute_result"
    }
   ],
   "source": [
    "linalg.inv(np.identity(P.shape[0]) - P).dot(np.ones((P.shape[0],1)))"
   ]
  },
  {
   "cell_type": "markdown",
   "id": "540775c8",
   "metadata": {},
   "source": [
    "# <code>pandas</code>\n",
    "\n",
    "<b>pan</b>el <b>da</b>ta"
   ]
  },
  {
   "cell_type": "code",
   "execution_count": null,
   "id": "d278d01c",
   "metadata": {},
   "outputs": [],
   "source": []
  },
  {
   "cell_type": "code",
   "execution_count": null,
   "id": "40c61381",
   "metadata": {},
   "outputs": [],
   "source": []
  },
  {
   "cell_type": "code",
   "execution_count": null,
   "id": "bf734669",
   "metadata": {},
   "outputs": [],
   "source": []
  },
  {
   "cell_type": "code",
   "execution_count": null,
   "id": "f650dc13",
   "metadata": {},
   "outputs": [],
   "source": []
  },
  {
   "cell_type": "code",
   "execution_count": null,
   "id": "29367ae9",
   "metadata": {},
   "outputs": [],
   "source": []
  },
  {
   "cell_type": "code",
   "execution_count": null,
   "id": "4c38973a",
   "metadata": {},
   "outputs": [],
   "source": []
  },
  {
   "cell_type": "code",
   "execution_count": null,
   "id": "3229aebb",
   "metadata": {},
   "outputs": [],
   "source": []
  },
  {
   "cell_type": "code",
   "execution_count": null,
   "id": "35116d5b",
   "metadata": {},
   "outputs": [],
   "source": []
  },
  {
   "cell_type": "code",
   "execution_count": null,
   "id": "0046d126",
   "metadata": {},
   "outputs": [],
   "source": []
  },
  {
   "cell_type": "code",
   "execution_count": null,
   "id": "2689332a",
   "metadata": {},
   "outputs": [],
   "source": []
  }
 ],
 "metadata": {
  "kernelspec": {
   "display_name": "Python 3 (ipykernel)",
   "language": "python",
   "name": "python3"
  },
  "language_info": {
   "codemirror_mode": {
    "name": "ipython",
    "version": 3
   },
   "file_extension": ".py",
   "mimetype": "text/x-python",
   "name": "python",
   "nbconvert_exporter": "python",
   "pygments_lexer": "ipython3",
   "version": "3.11.4"
  }
 },
 "nbformat": 4,
 "nbformat_minor": 5
}
