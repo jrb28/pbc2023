{
 "cells": [
  {
   "cell_type": "markdown",
   "id": "36f9a5f0",
   "metadata": {},
   "source": [
    "# <code>numpy</code>\n",
    "\n",
    "<b>num</b>erical <b>py</b>thon\n",
    "\n",
    "- Fast\n",
    "- Data structures are limited to one data type\n",
    "- Written in the C programming language"
   ]
  },
  {
   "cell_type": "code",
   "execution_count": 29,
   "id": "3360e73c",
   "metadata": {},
   "outputs": [],
   "source": [
    "import numpy as np"
   ]
  },
  {
   "cell_type": "code",
   "execution_count": null,
   "id": "b2e57afc",
   "metadata": {},
   "outputs": [],
   "source": []
  },
  {
   "cell_type": "markdown",
   "id": "9c0d73c8",
   "metadata": {},
   "source": [
    "## Numpy arrays (<code>ndarray</code>)\n",
    "\n",
    "n-dimensional arrays"
   ]
  },
  {
   "cell_type": "code",
   "execution_count": null,
   "id": "5b3c05ee",
   "metadata": {},
   "outputs": [],
   "source": []
  },
  {
   "cell_type": "code",
   "execution_count": null,
   "id": "6d9fd1b8",
   "metadata": {},
   "outputs": [],
   "source": []
  },
  {
   "cell_type": "markdown",
   "id": "2d5da5f8",
   "metadata": {},
   "source": [
    "## Array Creation"
   ]
  },
  {
   "cell_type": "code",
   "execution_count": 30,
   "id": "febb721b",
   "metadata": {},
   "outputs": [
    {
     "data": {
      "text/plain": [
       "(numpy.ndarray, array([0, 1, 2]))"
      ]
     },
     "execution_count": 30,
     "metadata": {},
     "output_type": "execute_result"
    }
   ],
   "source": [
    "a = np.array([0,1,2])\n",
    "type(a), a"
   ]
  },
  {
   "cell_type": "code",
   "execution_count": 31,
   "id": "90a1558b",
   "metadata": {},
   "outputs": [
    {
     "data": {
      "text/plain": [
       "array([3, 4, 5])"
      ]
     },
     "execution_count": 31,
     "metadata": {},
     "output_type": "execute_result"
    }
   ],
   "source": [
    "np.array((3,4,5))"
   ]
  },
  {
   "cell_type": "code",
   "execution_count": 32,
   "id": "5ce90bdf",
   "metadata": {},
   "outputs": [
    {
     "data": {
      "text/plain": [
       "array([[1., 1., 1.],\n",
       "       [1., 1., 1.],\n",
       "       [1., 1., 1.]])"
      ]
     },
     "execution_count": 32,
     "metadata": {},
     "output_type": "execute_result"
    }
   ],
   "source": [
    "b = np.ones((3,3))\n",
    "b"
   ]
  },
  {
   "cell_type": "code",
   "execution_count": 33,
   "id": "fbf35a2a",
   "metadata": {},
   "outputs": [
    {
     "data": {
      "text/plain": [
       "array([[0., 0.],\n",
       "       [0., 0.]])"
      ]
     },
     "execution_count": 33,
     "metadata": {},
     "output_type": "execute_result"
    }
   ],
   "source": [
    "np.zeros((2,2))"
   ]
  },
  {
   "cell_type": "code",
   "execution_count": 34,
   "id": "e3102fcd",
   "metadata": {},
   "outputs": [
    {
     "data": {
      "text/plain": [
       "array([0, 1, 2, 3, 4])"
      ]
     },
     "execution_count": 34,
     "metadata": {},
     "output_type": "execute_result"
    }
   ],
   "source": [
    "np.arange(5)"
   ]
  },
  {
   "cell_type": "code",
   "execution_count": 35,
   "id": "cce59ea2",
   "metadata": {},
   "outputs": [
    {
     "data": {
      "text/plain": [
       "array([3, 4, 5, 6])"
      ]
     },
     "execution_count": 35,
     "metadata": {},
     "output_type": "execute_result"
    }
   ],
   "source": [
    "np.arange(3,7)"
   ]
  },
  {
   "cell_type": "code",
   "execution_count": 36,
   "id": "99fce4be",
   "metadata": {},
   "outputs": [
    {
     "data": {
      "text/plain": [
       "array([1, 3, 5, 7, 9])"
      ]
     },
     "execution_count": 36,
     "metadata": {},
     "output_type": "execute_result"
    }
   ],
   "source": [
    "# format: np.arange([start], stop, [step])\n",
    "np.arange(1,10,2)"
   ]
  },
  {
   "cell_type": "code",
   "execution_count": 37,
   "id": "0647697b",
   "metadata": {},
   "outputs": [
    {
     "data": {
      "text/plain": [
       "array([0. , 0.1, 0.2, 0.3, 0.4, 0.5, 0.6, 0.7, 0.8, 0.9])"
      ]
     },
     "execution_count": 37,
     "metadata": {},
     "output_type": "execute_result"
    }
   ],
   "source": [
    "np.arange(0, 1, .1)"
   ]
  },
  {
   "cell_type": "code",
   "execution_count": 38,
   "id": "2f4a4d66",
   "metadata": {},
   "outputs": [
    {
     "data": {
      "text/plain": [
       "dtype('float64')"
      ]
     },
     "execution_count": 38,
     "metadata": {},
     "output_type": "execute_result"
    }
   ],
   "source": [
    "b.dtype"
   ]
  },
  {
   "cell_type": "code",
   "execution_count": 39,
   "id": "fcf508c1",
   "metadata": {},
   "outputs": [
    {
     "data": {
      "text/plain": [
       "array([[1, 1, 1],\n",
       "       [1, 1, 1]], dtype=int64)"
      ]
     },
     "execution_count": 39,
     "metadata": {},
     "output_type": "execute_result"
    }
   ],
   "source": [
    "c = np.ones((2,3), dtype=np.int64)\n",
    "c"
   ]
  },
  {
   "cell_type": "code",
   "execution_count": 40,
   "id": "f95bec7a",
   "metadata": {},
   "outputs": [
    {
     "data": {
      "text/plain": [
       "array([[1, 1, 1],\n",
       "       [1, 1, 1]])"
      ]
     },
     "execution_count": 40,
     "metadata": {},
     "output_type": "execute_result"
    }
   ],
   "source": [
    "np.ones((2,3)).astype(np.int32)"
   ]
  },
  {
   "cell_type": "code",
   "execution_count": 41,
   "id": "bbf0d3f6",
   "metadata": {},
   "outputs": [
    {
     "name": "stdout",
     "output_type": "stream",
     "text": [
      "float64\n",
      "int32\n"
     ]
    }
   ],
   "source": [
    "d = np.ones((2,3))\n",
    "print(d.dtype)\n",
    "d = d.astype(np.int32)\n",
    "print(d.dtype)"
   ]
  },
  {
   "cell_type": "code",
   "execution_count": 42,
   "id": "cb0e5eb8",
   "metadata": {},
   "outputs": [
    {
     "data": {
      "text/plain": [
       "array([[5, 5, 5, 5],\n",
       "       [5, 5, 5, 5]])"
      ]
     },
     "execution_count": 42,
     "metadata": {},
     "output_type": "execute_result"
    }
   ],
   "source": [
    "np.full((2,4), 5)"
   ]
  },
  {
   "cell_type": "code",
   "execution_count": 43,
   "id": "66765f27",
   "metadata": {},
   "outputs": [
    {
     "data": {
      "text/plain": [
       "array([[1, 0, 0, 0, 0, 0],\n",
       "       [0, 1, 0, 0, 0, 0],\n",
       "       [0, 0, 1, 0, 0, 0],\n",
       "       [0, 0, 0, 1, 0, 0],\n",
       "       [0, 0, 0, 0, 1, 0],\n",
       "       [0, 0, 0, 0, 0, 1]], dtype=int16)"
      ]
     },
     "execution_count": 43,
     "metadata": {},
     "output_type": "execute_result"
    }
   ],
   "source": [
    "np.identity(6).astype(np.int16)"
   ]
  },
  {
   "cell_type": "code",
   "execution_count": 44,
   "id": "bcb0fdf7",
   "metadata": {},
   "outputs": [
    {
     "data": {
      "text/plain": [
       "((2, 3), tuple)"
      ]
     },
     "execution_count": 44,
     "metadata": {},
     "output_type": "execute_result"
    }
   ],
   "source": [
    "d.shape, type(d.shape)"
   ]
  },
  {
   "cell_type": "code",
   "execution_count": 45,
   "id": "dbf70b4f",
   "metadata": {},
   "outputs": [
    {
     "data": {
      "text/plain": [
       "2"
      ]
     },
     "execution_count": 45,
     "metadata": {},
     "output_type": "execute_result"
    }
   ],
   "source": [
    "# number of rows\n",
    "d.shape[0]"
   ]
  },
  {
   "cell_type": "code",
   "execution_count": 46,
   "id": "b30606d2",
   "metadata": {},
   "outputs": [
    {
     "data": {
      "text/plain": [
       "3"
      ]
     },
     "execution_count": 46,
     "metadata": {},
     "output_type": "execute_result"
    }
   ],
   "source": [
    "# number of columns\n",
    "d.shape[1]"
   ]
  },
  {
   "cell_type": "code",
   "execution_count": 47,
   "id": "5f781d23",
   "metadata": {},
   "outputs": [
    {
     "name": "stdout",
     "output_type": "stream",
     "text": [
      "1\n",
      "1\n",
      "1\n",
      "1\n",
      "1\n",
      "1\n"
     ]
    }
   ],
   "source": [
    "for i in range(d.shape[0]):\n",
    "    for j in range(d.shape[1]):\n",
    "        print(d[i][j])"
   ]
  },
  {
   "cell_type": "code",
   "execution_count": 51,
   "id": "a41d60ae",
   "metadata": {},
   "outputs": [
    {
     "data": {
      "text/plain": [
       "array([1, 1, 1, 1, 1, 1])"
      ]
     },
     "execution_count": 51,
     "metadata": {},
     "output_type": "execute_result"
    }
   ],
   "source": [
    "d.flatten()"
   ]
  },
  {
   "cell_type": "code",
   "execution_count": 54,
   "id": "32ba8eae",
   "metadata": {},
   "outputs": [
    {
     "data": {
      "text/plain": [
       "array([[1, 1],\n",
       "       [1, 1],\n",
       "       [1, 1]])"
      ]
     },
     "execution_count": 54,
     "metadata": {},
     "output_type": "execute_result"
    }
   ],
   "source": [
    "d.reshape(3,2)"
   ]
  },
  {
   "cell_type": "code",
   "execution_count": 56,
   "id": "fabdc96c",
   "metadata": {},
   "outputs": [
    {
     "data": {
      "text/plain": [
       "array([[1, 1],\n",
       "       [1, 1],\n",
       "       [1, 1]])"
      ]
     },
     "execution_count": 56,
     "metadata": {},
     "output_type": "execute_result"
    }
   ],
   "source": [
    "d.reshape(3,2)"
   ]
  },
  {
   "cell_type": "code",
   "execution_count": 57,
   "id": "93e58bae",
   "metadata": {},
   "outputs": [
    {
     "data": {
      "text/plain": [
       "array([[0.01601558, 0.56409307],\n",
       "       [0.42340698, 0.7382894 ]])"
      ]
     },
     "execution_count": 57,
     "metadata": {},
     "output_type": "execute_result"
    }
   ],
   "source": [
    "np.random.random((2,2))"
   ]
  },
  {
   "cell_type": "code",
   "execution_count": 66,
   "id": "b536aab5",
   "metadata": {},
   "outputs": [
    {
     "data": {
      "text/plain": [
       "array([[3, 2, 5, 2, 2],\n",
       "       [4, 2, 0, 4, 0]])"
      ]
     },
     "execution_count": 66,
     "metadata": {},
     "output_type": "execute_result"
    }
   ],
   "source": [
    "np.random.randint(0, 9, (2,5))"
   ]
  },
  {
   "cell_type": "code",
   "execution_count": null,
   "id": "8241d05e",
   "metadata": {},
   "outputs": [],
   "source": []
  },
  {
   "cell_type": "code",
   "execution_count": null,
   "id": "d6751d37",
   "metadata": {},
   "outputs": [],
   "source": []
  },
  {
   "cell_type": "markdown",
   "id": "72f24788",
   "metadata": {},
   "source": [
    "## numpy Slices and Indexing"
   ]
  },
  {
   "cell_type": "code",
   "execution_count": 68,
   "id": "f8bf96d6",
   "metadata": {},
   "outputs": [
    {
     "data": {
      "text/plain": [
       "array([0.09270253, 0.77252393, 0.07615393, 0.10750887, 0.56920686,\n",
       "       0.44419348, 0.10602389, 0.01271085])"
      ]
     },
     "execution_count": 68,
     "metadata": {},
     "output_type": "execute_result"
    }
   ],
   "source": [
    "h = np.random.random((8,))\n",
    "h"
   ]
  },
  {
   "cell_type": "code",
   "execution_count": 71,
   "id": "825fee0c",
   "metadata": {},
   "outputs": [
    {
     "data": {
      "text/plain": [
       "array([[0.84289947, 0.35398689, 0.9551968 , 0.7096073 , 0.13630193,\n",
       "        0.65978114, 0.19054395],\n",
       "       [0.4645478 , 0.91883729, 0.46641935, 0.52533993, 0.24641337,\n",
       "        0.135258  , 0.56032224],\n",
       "       [0.46924966, 0.01899494, 0.68333358, 0.3740239 , 0.40945611,\n",
       "        0.65117585, 0.2638785 ],\n",
       "       [0.66552858, 0.40071934, 0.51337696, 0.62863281, 0.14451895,\n",
       "        0.93306593, 0.41697164],\n",
       "       [0.24494242, 0.0845737 , 0.22411413, 0.70108488, 0.08040327,\n",
       "        0.56551924, 0.58138612],\n",
       "       [0.90659817, 0.98449794, 0.58519318, 0.12894619, 0.52829803,\n",
       "        0.88909749, 0.28964525],\n",
       "       [0.48063969, 0.1655322 , 0.24570394, 0.85272892, 0.31223758,\n",
       "        0.77380359, 0.80363502]])"
      ]
     },
     "execution_count": 71,
     "metadata": {},
     "output_type": "execute_result"
    }
   ],
   "source": [
    "j = np.random.random((7,7))\n",
    "j"
   ]
  },
  {
   "cell_type": "code",
   "execution_count": 69,
   "id": "1a5fd688",
   "metadata": {},
   "outputs": [
    {
     "data": {
      "text/plain": [
       "tuple"
      ]
     },
     "execution_count": 69,
     "metadata": {},
     "output_type": "execute_result"
    }
   ],
   "source": [
    "type((8,))"
   ]
  },
  {
   "cell_type": "code",
   "execution_count": 70,
   "id": "687e656b",
   "metadata": {},
   "outputs": [
    {
     "data": {
      "text/plain": [
       "int"
      ]
     },
     "execution_count": 70,
     "metadata": {},
     "output_type": "execute_result"
    }
   ],
   "source": [
    "type((8))"
   ]
  },
  {
   "cell_type": "code",
   "execution_count": 72,
   "id": "99168d86",
   "metadata": {},
   "outputs": [
    {
     "name": "stdout",
     "output_type": "stream",
     "text": [
      "[0.09270253 0.77252393 0.07615393 0.10750887 0.56920686 0.44419348\n",
      " 0.10602389 0.01271085]\n"
     ]
    },
    {
     "data": {
      "text/plain": [
       "array([0.77252393, 0.07615393, 0.10750887])"
      ]
     },
     "execution_count": 72,
     "metadata": {},
     "output_type": "execute_result"
    }
   ],
   "source": [
    "print(h)\n",
    "h[1:4]"
   ]
  },
  {
   "cell_type": "code",
   "execution_count": 75,
   "id": "41a1f6bc",
   "metadata": {},
   "outputs": [
    {
     "data": {
      "text/plain": [
       "array([0.77252393, 0.10750887, 0.44419348])"
      ]
     },
     "execution_count": 75,
     "metadata": {},
     "output_type": "execute_result"
    }
   ],
   "source": [
    "h[1:7:2]"
   ]
  },
  {
   "cell_type": "code",
   "execution_count": 77,
   "id": "4ab6d6f5",
   "metadata": {},
   "outputs": [
    {
     "ename": "SyntaxError",
     "evalue": "incomplete input (786403058.py, line 1)",
     "output_type": "error",
     "traceback": [
      "\u001b[1;36m  Cell \u001b[1;32mIn[77], line 1\u001b[1;36m\u001b[0m\n\u001b[1;33m    h[[1,5]\u001b[0m\n\u001b[1;37m           ^\u001b[0m\n\u001b[1;31mSyntaxError\u001b[0m\u001b[1;31m:\u001b[0m incomplete input\n"
     ]
    }
   ],
   "source": []
  },
  {
   "cell_type": "code",
   "execution_count": 73,
   "id": "08fcfacc",
   "metadata": {},
   "outputs": [
    {
     "data": {
      "text/plain": [
       "0.3740239015616935"
      ]
     },
     "execution_count": 73,
     "metadata": {},
     "output_type": "execute_result"
    }
   ],
   "source": [
    "j[2][3]"
   ]
  },
  {
   "cell_type": "code",
   "execution_count": 74,
   "id": "49bc6d31",
   "metadata": {},
   "outputs": [
    {
     "data": {
      "text/plain": [
       "0.3740239015616935"
      ]
     },
     "execution_count": 74,
     "metadata": {},
     "output_type": "execute_result"
    }
   ],
   "source": [
    "j[2,3]"
   ]
  },
  {
   "cell_type": "code",
   "execution_count": 78,
   "id": "e057a511",
   "metadata": {},
   "outputs": [
    {
     "data": {
      "text/plain": [
       "array([0.46641935, 0.51337696, 0.58519318])"
      ]
     },
     "execution_count": 78,
     "metadata": {},
     "output_type": "execute_result"
    }
   ],
   "source": [
    "j[1:6:2, 2]"
   ]
  },
  {
   "cell_type": "code",
   "execution_count": 79,
   "id": "559ccbc2",
   "metadata": {},
   "outputs": [
    {
     "data": {
      "text/plain": [
       "array([[0.46641935, 0.52533993],\n",
       "       [0.68333358, 0.3740239 ],\n",
       "       [0.51337696, 0.62863281],\n",
       "       [0.22411413, 0.70108488],\n",
       "       [0.58519318, 0.12894619]])"
      ]
     },
     "execution_count": 79,
     "metadata": {},
     "output_type": "execute_result"
    }
   ],
   "source": [
    "j[1:6, 2:4]"
   ]
  },
  {
   "cell_type": "code",
   "execution_count": 80,
   "id": "28cef181",
   "metadata": {},
   "outputs": [
    {
     "data": {
      "text/plain": [
       "array([0.91883729, 0.68333358, 0.62863281])"
      ]
     },
     "execution_count": 80,
     "metadata": {},
     "output_type": "execute_result"
    }
   ],
   "source": [
    "j[[1,2,3], [1,2,3]]"
   ]
  },
  {
   "cell_type": "markdown",
   "id": "a539e0b1",
   "metadata": {},
   "source": [
    "## Array Methods and Calcuations"
   ]
  },
  {
   "cell_type": "code",
   "execution_count": 81,
   "id": "20bd4325",
   "metadata": {},
   "outputs": [
    {
     "data": {
      "text/plain": [
       "array([[0.68124843, 0.41340898, 0.43512068],\n",
       "       [0.86116854, 0.43759351, 0.6199251 ],\n",
       "       [0.62583327, 0.59539012, 0.99054698]])"
      ]
     },
     "execution_count": 81,
     "metadata": {},
     "output_type": "execute_result"
    }
   ],
   "source": [
    "A = np.random.random((3,3))\n",
    "A"
   ]
  },
  {
   "cell_type": "code",
   "execution_count": 82,
   "id": "ad5feb27",
   "metadata": {},
   "outputs": [
    {
     "data": {
      "text/plain": [
       "array([[0.68124843, 0.86116854, 0.62583327],\n",
       "       [0.41340898, 0.43759351, 0.59539012],\n",
       "       [0.43512068, 0.6199251 , 0.99054698]])"
      ]
     },
     "execution_count": 82,
     "metadata": {},
     "output_type": "execute_result"
    }
   ],
   "source": [
    "A.T"
   ]
  },
  {
   "cell_type": "code",
   "execution_count": 84,
   "id": "1ec4de64",
   "metadata": {},
   "outputs": [
    {
     "ename": "AttributeError",
     "evalue": "module 'numpy.linalg' has no attribute 'trans'",
     "output_type": "error",
     "traceback": [
      "\u001b[1;31m---------------------------------------------------------------------------\u001b[0m",
      "\u001b[1;31mAttributeError\u001b[0m                            Traceback (most recent call last)",
      "Cell \u001b[1;32mIn[84], line 1\u001b[0m\n\u001b[1;32m----> 1\u001b[0m np\u001b[38;5;241m.\u001b[39mlinalg\u001b[38;5;241m.\u001b[39mtrans(A)\n",
      "\u001b[1;31mAttributeError\u001b[0m: module 'numpy.linalg' has no attribute 'trans'"
     ]
    }
   ],
   "source": [
    "np.linalg.trans(A)"
   ]
  },
  {
   "cell_type": "code",
   "execution_count": 85,
   "id": "04878e16",
   "metadata": {},
   "outputs": [
    {
     "data": {
      "text/plain": [
       "-0.04447673974067723"
      ]
     },
     "execution_count": 85,
     "metadata": {},
     "output_type": "execute_result"
    }
   ],
   "source": [
    "np.linalg.det(A)"
   ]
  },
  {
   "cell_type": "code",
   "execution_count": 88,
   "id": "b7ddc3a1",
   "metadata": {},
   "outputs": [
    {
     "data": {
      "text/plain": [
       "array([[-1.44704045,  3.38231765, -1.48114771],\n",
       "       [10.45621026, -9.04957473,  1.07046432],\n",
       "       [-5.3706875 ,  3.30247893,  1.30191465]])"
      ]
     },
     "execution_count": 88,
     "metadata": {},
     "output_type": "execute_result"
    }
   ],
   "source": [
    "Ainv = np.linalg.inv(A)\n",
    "Ainv"
   ]
  },
  {
   "cell_type": "code",
   "execution_count": 89,
   "id": "8536fd2a",
   "metadata": {},
   "outputs": [
    {
     "data": {
      "text/plain": [
       "array([[ 1.00000000e+00, -1.21566783e-16,  9.35031758e-17],\n",
       "       [ 2.16426136e-16,  1.00000000e+00,  1.37539736e-16],\n",
       "       [ 1.00203713e-15, -5.56970038e-16,  1.00000000e+00]])"
      ]
     },
     "execution_count": 89,
     "metadata": {},
     "output_type": "execute_result"
    }
   ],
   "source": [
    "A.dot(Ainv)"
   ]
  },
  {
   "cell_type": "code",
   "execution_count": null,
   "id": "1bd54444",
   "metadata": {},
   "outputs": [],
   "source": []
  },
  {
   "cell_type": "code",
   "execution_count": null,
   "id": "318271dc",
   "metadata": {},
   "outputs": [],
   "source": []
  },
  {
   "cell_type": "markdown",
   "id": "5bce02d9",
   "metadata": {},
   "source": [
    "## Numpy Linear Algebra"
   ]
  },
  {
   "cell_type": "code",
   "execution_count": null,
   "id": "2aebeb0b",
   "metadata": {},
   "outputs": [],
   "source": []
  },
  {
   "cell_type": "code",
   "execution_count": null,
   "id": "9bab8c82",
   "metadata": {},
   "outputs": [],
   "source": []
  },
  {
   "cell_type": "code",
   "execution_count": null,
   "id": "42a9b561",
   "metadata": {},
   "outputs": [],
   "source": []
  },
  {
   "cell_type": "code",
   "execution_count": null,
   "id": "86cb9615",
   "metadata": {},
   "outputs": [],
   "source": []
  },
  {
   "cell_type": "code",
   "execution_count": null,
   "id": "cf3c635e",
   "metadata": {},
   "outputs": [],
   "source": []
  },
  {
   "cell_type": "code",
   "execution_count": null,
   "id": "bb9564a1",
   "metadata": {},
   "outputs": [],
   "source": []
  },
  {
   "cell_type": "markdown",
   "id": "8621faa8",
   "metadata": {},
   "source": [
    "# A Story Problem: Computing Customer Lifetime\n",
    "\n",
    "This example uses a Markov Model.  We will ignore many of the technical details for now. \n",
    "\n",
    "We will analyze a model of customer retention with linear algebra.  Assume that we have built a model of the life cycle of customers who shop on our company's Internet site.  Our model categorizes customers into one of four states:\n",
    "- Purchased within the last month (Category 0)\n",
    "- Last purchase was between within the last one to two months (Category 1)\n",
    "- Last purchase was between within the last two to three months(Category 2)\n",
    "- Has purchased previously, but not within the last three months (Category 3)\n",
    "\n",
    "This categorization recognizes that different tactics, at differing levels of effort and cost, are required to entice customers in each category to make subsequent purchases.  It also recognizes that once customers fall into the last category it is extremely unlikely that they will ever again pruchase anything from the website.\n",
    "\n",
    "We can build a matrix, $P$, whose rows and columns correspond to these four states, the elements of which correspond to the transition probability *from* the state associated with the row *to* the state associated with the column.\n",
    "\n",
    "\\begin{align}\n",
    "P = \\left[ \n",
    "\\begin{array}{ccccc}\n",
    "p_{00} & p_{01} & p_{02}& p_{03} \\\\\n",
    "p_{10} & p_{11} & p_{12}& p_{13} \\\\\n",
    "p_{20} & p_{21} & p_{22}& p_{23} \\\\\n",
    "p_{30} & p_{31} & p_{32}& p_{33} \n",
    "\\end{array}\n",
    "\\right]\n",
    "\\end{align}\n",
    "\n",
    "where $p_{xy}$ is the probability of a customer transtioning from category/state $x$ to state $y$.  Notice that\n",
    "\n",
    "\\begin{align}\n",
    "\\Sigma_{j=0}^3 p_{ij}  = 1\n",
    "\\end{align}\n",
    "\n",
    "for the probabilities in any row $i$ because a customer must transition to one of the categories.\n",
    "\n",
    "The research question of interest to the company is, given a certain set of transition probabilities reflected in $P$, how many months will a customer be active, that is, before they fall into the last category from which they cannot be resurrected as a customer?  Let the column vector $n$ have an element for each state/category which,for each state, is the average number of months a customer remains active (before they fall into the last category) after they are categorized as being in that state.  Thus, $n$ has four elements and we have said, already, that $n_3=0$ once a customer reaches Category 3.  Our task is to solve for $n$.  Since we know already that $n_3=0$, we can ignore computing that element and we can also ignore the corresponding elements in $P$, which specifically are the last row and the last column.  Thus, redefine $P$ as\n",
    "\n",
    "\\begin{align}\n",
    "P = \\left[ \n",
    "\\begin{array}{ccccc}\n",
    "p_{00} & p_{01} & p_{02} \\\\\n",
    "p_{10} & p_{11} & p_{12} \\\\\n",
    "p_{20} & p_{21} & p_{22}\n",
    "\\end{array}\n",
    "\\right]\n",
    "\\end{align}\n",
    "\n",
    "The solution for $n$ must satisfy these equations:\n",
    "\n",
    "\\begin{align}\n",
    "n_0 = 1 + \\sum_{i=0}^{2}{p_{0,i}n_i} \\\\\n",
    "n_1 = 1 + \\sum_{i=0}^{2}{p_{1,i}n_i} \\\\\n",
    "n_2 = 1 + \\sum_{i=0}^{2}{p_{2,i}n_i} \n",
    "\\end{align}\n",
    "\n",
    "If a customer is in any one of these states, we must add 1 month to their lifetime, as we do in the first term on the right-hand side of the equations.  Then, the customer transitons to one of the other states and experiences a remaining lifetime associated with that state, which is the second term on the right-hand side.  These are called a one-step equations.\n",
    "\n",
    "We can gather these equations and write them in matrix-vector form, where $\\textbf{1}$ is a vector of ones:\n",
    "\n",
    "\\begin{align}\n",
    "n = \\textbf{1} + Pn\n",
    "\\end{align}\n",
    "\n",
    "This equation can be rewritten in a number of ways:\n",
    "\n",
    "\\begin{align}\n",
    "\\left(I - P \\right) n = \\textbf{1} \\\\\n",
    "n = \\left(I - P \\right)^{-1} \\textbf{1} \n",
    "\\end{align}\n",
    "\n",
    "**We will demonstrate three ways to find a solution to this problem using the linalg subpackage of numpy, and in so doing illustrate several numpy functions and methods.**\n",
    "\n",
    "First, define the matrix $P$."
   ]
  },
  {
   "cell_type": "code",
   "execution_count": 90,
   "id": "6f929a1c",
   "metadata": {},
   "outputs": [
    {
     "data": {
      "text/plain": [
       "array([[0.3, 0.7, 0. ],\n",
       "       [0.2, 0. , 0.8],\n",
       "       [0.1, 0. , 0. ]])"
      ]
     },
     "execution_count": 90,
     "metadata": {},
     "output_type": "execute_result"
    }
   ],
   "source": [
    "P = np.array([[0.3,0.7,0],[0.2,0.0,0.8],[0.1,0.0,0.0]])\n",
    "P"
   ]
  },
  {
   "cell_type": "markdown",
   "id": "d0ff5431",
   "metadata": {},
   "source": [
    "## Method 1: Use the numpy.linalg.solve() Function\n",
    "\n",
    "The function <code>numpy.linalg.solve(A,b)</code> will solve equations of the form $A x = b$ yielding $x$ given the matrix $A$ and column vector $b$ as arguments.  The equation in the problem description, $\\left(I - P \\right) n = \\textbf{1}$, is of that form.  This approach, reassuringly, yields the same result as the first approach.  "
   ]
  },
  {
   "cell_type": "code",
   "execution_count": 92,
   "id": "04598175",
   "metadata": {},
   "outputs": [],
   "source": [
    "from numpy import linalg"
   ]
  },
  {
   "cell_type": "code",
   "execution_count": 93,
   "id": "18db83a9",
   "metadata": {},
   "outputs": [
    {
     "data": {
      "text/plain": [
       "array([[4.48412698],\n",
       "       [3.05555556],\n",
       "       [1.4484127 ]])"
      ]
     },
     "execution_count": 93,
     "metadata": {},
     "output_type": "execute_result"
    }
   ],
   "source": [
    "linalg.solve((np.identity(P.shape[0]) - P),np.ones((P.shape[0],1)))"
   ]
  },
  {
   "cell_type": "markdown",
   "id": "c44c1d35",
   "metadata": {},
   "source": [
    "## Method 2: Use the numpy.linalg.inv() Function to Compute the Inverse of a Matrix\n",
    "\n",
    "This approach solves this form of the problem, $n = \\left(I - P \\right)^{-1} \\textbf{1}$, but using <code>numpy.linalg.inv()</code> to take the inverse of $\\left(I - P \\right)$.  The <code>numpy.ndarray.dot()</code> method is, again, used for multiple a matrix by a vector."
   ]
  },
  {
   "cell_type": "code",
   "execution_count": 94,
   "id": "cd539681",
   "metadata": {},
   "outputs": [
    {
     "data": {
      "text/plain": [
       "array([[4.48412698],\n",
       "       [3.05555556],\n",
       "       [1.4484127 ]])"
      ]
     },
     "execution_count": 94,
     "metadata": {},
     "output_type": "execute_result"
    }
   ],
   "source": [
    "linalg.inv(np.identity(P.shape[0]) - P).dot(np.ones((P.shape[0],1)))"
   ]
  },
  {
   "cell_type": "markdown",
   "id": "540775c8",
   "metadata": {},
   "source": [
    "# <code>pandas</code>\n",
    "\n",
    "<b>pan</b>el <b>da</b>ta\n",
    "\n",
    "<code>pandas</code> data types:\n",
    "- 1D: Series\n",
    "- 2D: DataFrames\n",
    "- 3D: Panels\n",
    "\n",
    "Features:\n",
    "- Each Series or DataFrame column is of a consistent data type\n",
    "- Each DataFrame column can be of a different data type\n",
    "- Each DataFrame column is built from a <code>numpy</code> array\n",
    "\n",
    "Top (most used) five Python packages:\n",
    "- __<code>numpy</code>__\n",
    "- <code>scipy</code>\n",
    "- __<code>Jupyter</code>__\n",
    "- __<code>pandas</code>__\n",
    "- __<code>matplotlib</code>__"
   ]
  },
  {
   "cell_type": "markdown",
   "id": "20dd0981",
   "metadata": {},
   "source": [
    "## <code>pandas</code> Series"
   ]
  },
  {
   "cell_type": "markdown",
   "id": "f9880c46",
   "metadata": {},
   "source": [
    "### A Series with Categorical Data\n",
    "\n",
    "<code>pd.Series</code> performs a data type conversion, in the case below, from a Python list to a pandas Series data type."
   ]
  },
  {
   "cell_type": "code",
   "execution_count": 95,
   "id": "6af9d5e6",
   "metadata": {},
   "outputs": [],
   "source": [
    "import pandas as pd"
   ]
  },
  {
   "cell_type": "code",
   "execution_count": 96,
   "id": "eb765a4c",
   "metadata": {
    "collapsed": true
   },
   "outputs": [
    {
     "data": {
      "text/plain": [
       "0        chocolate\n",
       "1       strawberry\n",
       "2          vanilla\n",
       "3       rum raisin\n",
       "4        chocolate\n",
       "5          vanilla\n",
       "6          vanilla\n",
       "7       strawberry\n",
       "8       rum raisin\n",
       "9        chocolate\n",
       "10      strawberry\n",
       "11    cotton candy\n",
       "12       chocolate\n",
       "13         vanilla\n",
       "14      rum raisin\n",
       "15         vanilla\n",
       "16         vanilla\n",
       "17      strawberry\n",
       "18       chocolate\n",
       "19         vanilla\n",
       "20       chocolate\n",
       "21         vanilla\n",
       "22      strawberry\n",
       "23         vanilla\n",
       "24       chocolate\n",
       "25       chocolate\n",
       "26      purple cow\n",
       "27       chocolate\n",
       "28      rum raisin\n",
       "29         vanilla\n",
       "30       chocolate\n",
       "31      bubble gum\n",
       "32         vanilla\n",
       "dtype: object"
      ]
     },
     "execution_count": 96,
     "metadata": {},
     "output_type": "execute_result"
    }
   ],
   "source": [
    "ic = ['chocolate', 'strawberry', 'vanilla', 'rum raisin', 'chocolate', 'vanilla', 'vanilla', 'strawberry', 'rum raisin', 'chocolate', 'strawberry', 'cotton candy', 'chocolate', 'vanilla', 'rum raisin', 'vanilla', 'vanilla', 'strawberry', 'chocolate', 'vanilla', 'chocolate', 'vanilla', 'strawberry', 'vanilla', 'chocolate', 'chocolate', 'purple cow', 'chocolate', 'rum raisin', 'vanilla', 'chocolate', 'bubble gum', 'vanilla']\n",
    "ic = pd.Series(ic)\n",
    "ic"
   ]
  },
  {
   "cell_type": "code",
   "execution_count": 97,
   "id": "7eb3dafa",
   "metadata": {},
   "outputs": [
    {
     "data": {
      "text/plain": [
       "pandas.core.series.Series"
      ]
     },
     "execution_count": 97,
     "metadata": {},
     "output_type": "execute_result"
    }
   ],
   "source": [
    "type(ic)"
   ]
  },
  {
   "cell_type": "code",
   "execution_count": 98,
   "id": "b781787b",
   "metadata": {},
   "outputs": [
    {
     "data": {
      "text/plain": [
       "0     chocolate\n",
       "1    strawberry\n",
       "2       vanilla\n",
       "3    rum raisin\n",
       "4     chocolate\n",
       "dtype: object"
      ]
     },
     "execution_count": 98,
     "metadata": {},
     "output_type": "execute_result"
    }
   ],
   "source": [
    "ic.head()"
   ]
  },
  {
   "cell_type": "code",
   "execution_count": 99,
   "id": "e8cd3a9c",
   "metadata": {},
   "outputs": [
    {
     "data": {
      "text/plain": [
       "0     chocolate\n",
       "1    strawberry\n",
       "2       vanilla\n",
       "dtype: object"
      ]
     },
     "execution_count": 99,
     "metadata": {},
     "output_type": "execute_result"
    }
   ],
   "source": [
    "ic.head(n=3)"
   ]
  },
  {
   "cell_type": "markdown",
   "id": "16b9d34d",
   "metadata": {},
   "source": [
    "### Series Structure\n",
    "\n",
    "Series have one data column and an index \"column.\"  The index column is generated automatically when you do the data type conversion, although you can manually change the data in the index column, which is meant primarily for accessing data in the values column and, perhaps, as labels for plotting the data.  The data in the \"data\" column are accessible with the .values property and the indices are available with the .index property."
   ]
  },
  {
   "cell_type": "code",
   "execution_count": 100,
   "id": "149efae8",
   "metadata": {},
   "outputs": [
    {
     "data": {
      "text/plain": [
       "array(['chocolate', 'strawberry', 'vanilla', 'rum raisin', 'chocolate',\n",
       "       'vanilla', 'vanilla', 'strawberry', 'rum raisin', 'chocolate',\n",
       "       'strawberry', 'cotton candy', 'chocolate', 'vanilla', 'rum raisin',\n",
       "       'vanilla', 'vanilla', 'strawberry', 'chocolate', 'vanilla',\n",
       "       'chocolate', 'vanilla', 'strawberry', 'vanilla', 'chocolate',\n",
       "       'chocolate', 'purple cow', 'chocolate', 'rum raisin', 'vanilla',\n",
       "       'chocolate', 'bubble gum', 'vanilla'], dtype=object)"
      ]
     },
     "execution_count": 100,
     "metadata": {},
     "output_type": "execute_result"
    }
   ],
   "source": [
    "ic.values"
   ]
  },
  {
   "cell_type": "code",
   "execution_count": 101,
   "id": "c2f812e5",
   "metadata": {},
   "outputs": [
    {
     "data": {
      "text/plain": [
       "numpy.ndarray"
      ]
     },
     "execution_count": 101,
     "metadata": {},
     "output_type": "execute_result"
    }
   ],
   "source": [
    "type(ic.values)"
   ]
  },
  {
   "cell_type": "code",
   "execution_count": 102,
   "id": "785d6ce0",
   "metadata": {},
   "outputs": [
    {
     "data": {
      "text/plain": [
       "RangeIndex(start=0, stop=33, step=1)"
      ]
     },
     "execution_count": 102,
     "metadata": {},
     "output_type": "execute_result"
    }
   ],
   "source": [
    "ic.index"
   ]
  },
  {
   "cell_type": "code",
   "execution_count": 103,
   "id": "89c33e59",
   "metadata": {},
   "outputs": [
    {
     "data": {
      "text/plain": [
       "33"
      ]
     },
     "execution_count": 103,
     "metadata": {},
     "output_type": "execute_result"
    }
   ],
   "source": [
    "ic.size"
   ]
  },
  {
   "cell_type": "markdown",
   "id": "9658e828",
   "metadata": {},
   "source": [
    "You can name your Series, if you wish.  The name will be shown when you print the Series."
   ]
  },
  {
   "cell_type": "code",
   "execution_count": 104,
   "id": "ed7fbe1b",
   "metadata": {},
   "outputs": [],
   "source": [
    "ic.name = 'Flavor'"
   ]
  },
  {
   "cell_type": "code",
   "execution_count": 105,
   "id": "1358dfcb",
   "metadata": {},
   "outputs": [
    {
     "data": {
      "text/plain": [
       "'Flavor'"
      ]
     },
     "execution_count": 105,
     "metadata": {},
     "output_type": "execute_result"
    }
   ],
   "source": [
    "ic.name"
   ]
  },
  {
   "cell_type": "code",
   "execution_count": 106,
   "id": "d5fdcda6",
   "metadata": {
    "scrolled": true
   },
   "outputs": [
    {
     "data": {
      "text/plain": [
       "0        chocolate\n",
       "1       strawberry\n",
       "2          vanilla\n",
       "3       rum raisin\n",
       "4        chocolate\n",
       "5          vanilla\n",
       "6          vanilla\n",
       "7       strawberry\n",
       "8       rum raisin\n",
       "9        chocolate\n",
       "10      strawberry\n",
       "11    cotton candy\n",
       "12       chocolate\n",
       "13         vanilla\n",
       "14      rum raisin\n",
       "15         vanilla\n",
       "16         vanilla\n",
       "17      strawberry\n",
       "18       chocolate\n",
       "19         vanilla\n",
       "20       chocolate\n",
       "21         vanilla\n",
       "22      strawberry\n",
       "23         vanilla\n",
       "24       chocolate\n",
       "25       chocolate\n",
       "26      purple cow\n",
       "27       chocolate\n",
       "28      rum raisin\n",
       "29         vanilla\n",
       "30       chocolate\n",
       "31      bubble gum\n",
       "32         vanilla\n",
       "Name: Flavor, dtype: object"
      ]
     },
     "execution_count": 106,
     "metadata": {},
     "output_type": "execute_result"
    }
   ],
   "source": [
    "ic"
   ]
  },
  {
   "cell_type": "markdown",
   "id": "5fe587b3",
   "metadata": {},
   "source": [
    "Collapse or expand the listing of the Series by clicking in the laft margin."
   ]
  },
  {
   "cell_type": "code",
   "execution_count": null,
   "id": "50e4b11f",
   "metadata": {},
   "outputs": [],
   "source": [
    "ic"
   ]
  },
  {
   "cell_type": "markdown",
   "id": "7dc298b5",
   "metadata": {},
   "source": [
    "## Operations with Series"
   ]
  },
  {
   "cell_type": "markdown",
   "id": "9f007340",
   "metadata": {},
   "source": [
    "A very useful method for analyzing categorical data and plotting it, in a histogram, is the .value_counts() method.  It gives the number of observations found for each value in the data column."
   ]
  },
  {
   "cell_type": "code",
   "execution_count": 107,
   "id": "b9835e7e",
   "metadata": {},
   "outputs": [
    {
     "data": {
      "text/plain": [
       "vanilla         11\n",
       "chocolate       10\n",
       "strawberry       5\n",
       "rum raisin       4\n",
       "cotton candy     1\n",
       "purple cow       1\n",
       "bubble gum       1\n",
       "Name: Flavor, dtype: int64"
      ]
     },
     "execution_count": 107,
     "metadata": {},
     "output_type": "execute_result"
    }
   ],
   "source": [
    "ic.value_counts()"
   ]
  },
  {
   "cell_type": "code",
   "execution_count": 108,
   "id": "9edc6274",
   "metadata": {},
   "outputs": [
    {
     "data": {
      "text/plain": [
       "pandas.core.series.Series"
      ]
     },
     "execution_count": 108,
     "metadata": {},
     "output_type": "execute_result"
    }
   ],
   "source": [
    "type(ic.value_counts())"
   ]
  },
  {
   "cell_type": "code",
   "execution_count": 109,
   "id": "630a05f0",
   "metadata": {},
   "outputs": [
    {
     "data": {
      "text/plain": [
       "Index(['vanilla', 'chocolate', 'strawberry', 'rum raisin', 'cotton candy',\n",
       "       'purple cow', 'bubble gum'],\n",
       "      dtype='object')"
      ]
     },
     "execution_count": 109,
     "metadata": {},
     "output_type": "execute_result"
    }
   ],
   "source": [
    "ic.value_counts().index"
   ]
  },
  {
   "cell_type": "code",
   "execution_count": 110,
   "id": "43418538",
   "metadata": {},
   "outputs": [
    {
     "data": {
      "text/plain": [
       "array([11, 10,  5,  4,  1,  1,  1], dtype=int64)"
      ]
     },
     "execution_count": 110,
     "metadata": {},
     "output_type": "execute_result"
    }
   ],
   "source": [
    "ic.value_counts().values"
   ]
  },
  {
   "cell_type": "code",
   "execution_count": 111,
   "id": "0f680b80",
   "metadata": {},
   "outputs": [
    {
     "data": {
      "text/plain": [
       "numpy.ndarray"
      ]
     },
     "execution_count": 111,
     "metadata": {},
     "output_type": "execute_result"
    }
   ],
   "source": [
    "type(ic.value_counts().values)"
   ]
  },
  {
   "cell_type": "code",
   "execution_count": 112,
   "id": "e7143717",
   "metadata": {},
   "outputs": [
    {
     "data": {
      "text/plain": [
       "array(['chocolate', 'strawberry', 'vanilla', 'rum raisin', 'cotton candy',\n",
       "       'purple cow', 'bubble gum'], dtype=object)"
      ]
     },
     "execution_count": 112,
     "metadata": {},
     "output_type": "execute_result"
    }
   ],
   "source": [
    "ic.unique()"
   ]
  },
  {
   "cell_type": "markdown",
   "id": "100afea2",
   "metadata": {},
   "source": [
    "### Accessing Series Data\n",
    "\n",
    "Data rows can be accessed either by the 'label' in the index \"column\" or by their position in the data column.  The .loc command finds data rows based on their label and .iloc finds data based on it position, that is, the sequence in which the rows are found in the Series.  To start, the index column has values starting at 0 and incrementing by 1 with every subsequent row, so .loc and iloc will work identically."
   ]
  },
  {
   "cell_type": "code",
   "execution_count": 113,
   "id": "f35ce63b",
   "metadata": {},
   "outputs": [
    {
     "data": {
      "text/plain": [
       "0     0.931531\n",
       "1     0.287781\n",
       "2     0.695377\n",
       "3     0.223280\n",
       "4     0.081874\n",
       "5     0.383196\n",
       "6     0.863874\n",
       "7     0.878258\n",
       "8     0.649234\n",
       "9     0.397767\n",
       "10    0.026497\n",
       "11    0.143870\n",
       "12    0.707155\n",
       "13    0.859273\n",
       "14    0.619832\n",
       "15    0.450022\n",
       "16    0.045182\n",
       "17    0.930076\n",
       "18    0.539196\n",
       "19    0.806883\n",
       "20    0.991422\n",
       "21    0.813460\n",
       "22    0.760176\n",
       "23    0.514939\n",
       "24    0.020814\n",
       "dtype: float64"
      ]
     },
     "execution_count": 113,
     "metadata": {},
     "output_type": "execute_result"
    }
   ],
   "source": [
    "import random\n",
    "temp = pd.Series([random.random() for i in range(25)])\n",
    "temp"
   ]
  },
  {
   "cell_type": "code",
   "execution_count": 114,
   "id": "d1677189",
   "metadata": {},
   "outputs": [
    {
     "data": {
      "text/plain": [
       "0.9315311598971022"
      ]
     },
     "execution_count": 114,
     "metadata": {},
     "output_type": "execute_result"
    }
   ],
   "source": [
    "temp.loc[0]"
   ]
  },
  {
   "cell_type": "code",
   "execution_count": 115,
   "id": "a89a917a",
   "metadata": {},
   "outputs": [
    {
     "data": {
      "text/plain": [
       "0.9315311598971022"
      ]
     },
     "execution_count": 115,
     "metadata": {},
     "output_type": "execute_result"
    }
   ],
   "source": [
    "temp.iloc[0]"
   ]
  },
  {
   "cell_type": "markdown",
   "id": "f308a598",
   "metadata": {},
   "source": [
    "But, now, let's change the indices!"
   ]
  },
  {
   "cell_type": "code",
   "execution_count": 116,
   "id": "982ccf82",
   "metadata": {},
   "outputs": [],
   "source": [
    "temp.index = range(50,75,1)"
   ]
  },
  {
   "cell_type": "code",
   "execution_count": 117,
   "id": "f5e04754",
   "metadata": {},
   "outputs": [
    {
     "data": {
      "text/plain": [
       "RangeIndex(start=50, stop=75, step=1)"
      ]
     },
     "execution_count": 117,
     "metadata": {},
     "output_type": "execute_result"
    }
   ],
   "source": [
    "temp.index"
   ]
  },
  {
   "cell_type": "code",
   "execution_count": 118,
   "id": "c5c052b5",
   "metadata": {},
   "outputs": [
    {
     "data": {
      "text/plain": [
       "50    0.931531\n",
       "51    0.287781\n",
       "52    0.695377\n",
       "53    0.223280\n",
       "54    0.081874\n",
       "55    0.383196\n",
       "56    0.863874\n",
       "57    0.878258\n",
       "58    0.649234\n",
       "59    0.397767\n",
       "60    0.026497\n",
       "61    0.143870\n",
       "62    0.707155\n",
       "63    0.859273\n",
       "64    0.619832\n",
       "65    0.450022\n",
       "66    0.045182\n",
       "67    0.930076\n",
       "68    0.539196\n",
       "69    0.806883\n",
       "70    0.991422\n",
       "71    0.813460\n",
       "72    0.760176\n",
       "73    0.514939\n",
       "74    0.020814\n",
       "dtype: float64"
      ]
     },
     "execution_count": 118,
     "metadata": {},
     "output_type": "execute_result"
    }
   ],
   "source": [
    "temp"
   ]
  },
  {
   "cell_type": "markdown",
   "id": "9261a21c",
   "metadata": {},
   "source": [
    "The statement below will yield an error since we no long have an index label of 0."
   ]
  },
  {
   "cell_type": "code",
   "execution_count": 119,
   "id": "eb8956e8",
   "metadata": {},
   "outputs": [
    {
     "ename": "KeyError",
     "evalue": "0",
     "output_type": "error",
     "traceback": [
      "\u001b[1;31m---------------------------------------------------------------------------\u001b[0m",
      "\u001b[1;31mValueError\u001b[0m                                Traceback (most recent call last)",
      "File \u001b[1;32m~\\AppData\\Local\\anaconda3\\Lib\\site-packages\\pandas\\core\\indexes\\range.py:391\u001b[0m, in \u001b[0;36mRangeIndex.get_loc\u001b[1;34m(self, key, method, tolerance)\u001b[0m\n\u001b[0;32m    390\u001b[0m \u001b[38;5;28;01mtry\u001b[39;00m:\n\u001b[1;32m--> 391\u001b[0m     \u001b[38;5;28;01mreturn\u001b[39;00m \u001b[38;5;28mself\u001b[39m\u001b[38;5;241m.\u001b[39m_range\u001b[38;5;241m.\u001b[39mindex(new_key)\n\u001b[0;32m    392\u001b[0m \u001b[38;5;28;01mexcept\u001b[39;00m \u001b[38;5;167;01mValueError\u001b[39;00m \u001b[38;5;28;01mas\u001b[39;00m err:\n",
      "\u001b[1;31mValueError\u001b[0m: 0 is not in range",
      "\nThe above exception was the direct cause of the following exception:\n",
      "\u001b[1;31mKeyError\u001b[0m                                  Traceback (most recent call last)",
      "Cell \u001b[1;32mIn[119], line 1\u001b[0m\n\u001b[1;32m----> 1\u001b[0m temp\u001b[38;5;241m.\u001b[39mloc[\u001b[38;5;241m0\u001b[39m]\n",
      "File \u001b[1;32m~\\AppData\\Local\\anaconda3\\Lib\\site-packages\\pandas\\core\\indexing.py:1073\u001b[0m, in \u001b[0;36m_LocationIndexer.__getitem__\u001b[1;34m(self, key)\u001b[0m\n\u001b[0;32m   1070\u001b[0m axis \u001b[38;5;241m=\u001b[39m \u001b[38;5;28mself\u001b[39m\u001b[38;5;241m.\u001b[39maxis \u001b[38;5;129;01mor\u001b[39;00m \u001b[38;5;241m0\u001b[39m\n\u001b[0;32m   1072\u001b[0m maybe_callable \u001b[38;5;241m=\u001b[39m com\u001b[38;5;241m.\u001b[39mapply_if_callable(key, \u001b[38;5;28mself\u001b[39m\u001b[38;5;241m.\u001b[39mobj)\n\u001b[1;32m-> 1073\u001b[0m \u001b[38;5;28;01mreturn\u001b[39;00m \u001b[38;5;28mself\u001b[39m\u001b[38;5;241m.\u001b[39m_getitem_axis(maybe_callable, axis\u001b[38;5;241m=\u001b[39maxis)\n",
      "File \u001b[1;32m~\\AppData\\Local\\anaconda3\\Lib\\site-packages\\pandas\\core\\indexing.py:1312\u001b[0m, in \u001b[0;36m_LocIndexer._getitem_axis\u001b[1;34m(self, key, axis)\u001b[0m\n\u001b[0;32m   1310\u001b[0m \u001b[38;5;66;03m# fall thru to straight lookup\u001b[39;00m\n\u001b[0;32m   1311\u001b[0m \u001b[38;5;28mself\u001b[39m\u001b[38;5;241m.\u001b[39m_validate_key(key, axis)\n\u001b[1;32m-> 1312\u001b[0m \u001b[38;5;28;01mreturn\u001b[39;00m \u001b[38;5;28mself\u001b[39m\u001b[38;5;241m.\u001b[39m_get_label(key, axis\u001b[38;5;241m=\u001b[39maxis)\n",
      "File \u001b[1;32m~\\AppData\\Local\\anaconda3\\Lib\\site-packages\\pandas\\core\\indexing.py:1260\u001b[0m, in \u001b[0;36m_LocIndexer._get_label\u001b[1;34m(self, label, axis)\u001b[0m\n\u001b[0;32m   1258\u001b[0m \u001b[38;5;28;01mdef\u001b[39;00m \u001b[38;5;21m_get_label\u001b[39m(\u001b[38;5;28mself\u001b[39m, label, axis: \u001b[38;5;28mint\u001b[39m):\n\u001b[0;32m   1259\u001b[0m     \u001b[38;5;66;03m# GH#5567 this will fail if the label is not present in the axis.\u001b[39;00m\n\u001b[1;32m-> 1260\u001b[0m     \u001b[38;5;28;01mreturn\u001b[39;00m \u001b[38;5;28mself\u001b[39m\u001b[38;5;241m.\u001b[39mobj\u001b[38;5;241m.\u001b[39mxs(label, axis\u001b[38;5;241m=\u001b[39maxis)\n",
      "File \u001b[1;32m~\\AppData\\Local\\anaconda3\\Lib\\site-packages\\pandas\\core\\generic.py:4056\u001b[0m, in \u001b[0;36mNDFrame.xs\u001b[1;34m(self, key, axis, level, drop_level)\u001b[0m\n\u001b[0;32m   4054\u001b[0m             new_index \u001b[38;5;241m=\u001b[39m index[loc]\n\u001b[0;32m   4055\u001b[0m \u001b[38;5;28;01melse\u001b[39;00m:\n\u001b[1;32m-> 4056\u001b[0m     loc \u001b[38;5;241m=\u001b[39m index\u001b[38;5;241m.\u001b[39mget_loc(key)\n\u001b[0;32m   4058\u001b[0m     \u001b[38;5;28;01mif\u001b[39;00m \u001b[38;5;28misinstance\u001b[39m(loc, np\u001b[38;5;241m.\u001b[39mndarray):\n\u001b[0;32m   4059\u001b[0m         \u001b[38;5;28;01mif\u001b[39;00m loc\u001b[38;5;241m.\u001b[39mdtype \u001b[38;5;241m==\u001b[39m np\u001b[38;5;241m.\u001b[39mbool_:\n",
      "File \u001b[1;32m~\\AppData\\Local\\anaconda3\\Lib\\site-packages\\pandas\\core\\indexes\\range.py:393\u001b[0m, in \u001b[0;36mRangeIndex.get_loc\u001b[1;34m(self, key, method, tolerance)\u001b[0m\n\u001b[0;32m    391\u001b[0m         \u001b[38;5;28;01mreturn\u001b[39;00m \u001b[38;5;28mself\u001b[39m\u001b[38;5;241m.\u001b[39m_range\u001b[38;5;241m.\u001b[39mindex(new_key)\n\u001b[0;32m    392\u001b[0m     \u001b[38;5;28;01mexcept\u001b[39;00m \u001b[38;5;167;01mValueError\u001b[39;00m \u001b[38;5;28;01mas\u001b[39;00m err:\n\u001b[1;32m--> 393\u001b[0m         \u001b[38;5;28;01mraise\u001b[39;00m \u001b[38;5;167;01mKeyError\u001b[39;00m(key) \u001b[38;5;28;01mfrom\u001b[39;00m \u001b[38;5;21;01merr\u001b[39;00m\n\u001b[0;32m    394\u001b[0m \u001b[38;5;28mself\u001b[39m\u001b[38;5;241m.\u001b[39m_check_indexing_error(key)\n\u001b[0;32m    395\u001b[0m \u001b[38;5;28;01mraise\u001b[39;00m \u001b[38;5;167;01mKeyError\u001b[39;00m(key)\n",
      "\u001b[1;31mKeyError\u001b[0m: 0"
     ]
    }
   ],
   "source": [
    "temp.loc[0]"
   ]
  },
  {
   "cell_type": "markdown",
   "id": "1429ee01",
   "metadata": {},
   "source": [
    "The first record, now, has a label of 51."
   ]
  },
  {
   "cell_type": "code",
   "execution_count": 121,
   "id": "99a854ab",
   "metadata": {},
   "outputs": [
    {
     "data": {
      "text/plain": [
       "0.9315311598971022"
      ]
     },
     "execution_count": 121,
     "metadata": {},
     "output_type": "execute_result"
    }
   ],
   "source": [
    "temp.loc[50]"
   ]
  },
  {
   "cell_type": "code",
   "execution_count": 120,
   "id": "60902bfe",
   "metadata": {},
   "outputs": [
    {
     "data": {
      "text/plain": [
       "0.9315311598971022"
      ]
     },
     "execution_count": 120,
     "metadata": {},
     "output_type": "execute_result"
    }
   ],
   "source": [
    "temp.iloc[0]"
   ]
  },
  {
   "cell_type": "markdown",
   "id": "576cc2b7",
   "metadata": {},
   "source": [
    "### Series Methods for Numerical Data"
   ]
  },
  {
   "cell_type": "code",
   "execution_count": 122,
   "id": "0d927fea",
   "metadata": {},
   "outputs": [
    {
     "name": "stdout",
     "output_type": "stream",
     "text": [
      "temp.sum():  13.620966906566\n",
      "temp.mean():  0.54483867626264\n",
      "temp.median():  0.6198317384601386\n",
      "temp.product():  1.9859720305234757e-11\n",
      "\n",
      "temp.describe(): \n",
      " count    25.000000\n",
      "mean      0.544839\n",
      "std       0.319969\n",
      "min       0.020814\n",
      "25%       0.287781\n",
      "50%       0.619832\n",
      "75%       0.813460\n",
      "max       0.991422\n",
      "dtype: float64\n"
     ]
    }
   ],
   "source": [
    "print('temp.sum(): ',temp.sum())\n",
    "print('temp.mean(): ',temp.mean())\n",
    "print('temp.median(): ',temp.median())\n",
    "print('temp.product(): ',temp.product())\n",
    "print('\\ntemp.describe(): \\n',temp.describe())\n"
   ]
  },
  {
   "cell_type": "code",
   "execution_count": 127,
   "id": "c7af1906",
   "metadata": {
    "scrolled": true
   },
   "outputs": [
    {
     "data": {
      "text/plain": [
       "74    0.020814\n",
       "60    0.026497\n",
       "66    0.045182\n",
       "54    0.081874\n",
       "61    0.143870\n",
       "dtype: float64"
      ]
     },
     "execution_count": 127,
     "metadata": {},
     "output_type": "execute_result"
    }
   ],
   "source": [
    "temp.sort_values()\n",
    "temp.head()"
   ]
  },
  {
   "cell_type": "markdown",
   "id": "30796612",
   "metadata": {},
   "source": [
    "The inplace argument causes the contents of the Series to be replaced with the sorted version."
   ]
  },
  {
   "cell_type": "code",
   "execution_count": 128,
   "id": "e2b642c5",
   "metadata": {},
   "outputs": [
    {
     "data": {
      "text/plain": [
       "74    0.020814\n",
       "60    0.026497\n",
       "66    0.045182\n",
       "54    0.081874\n",
       "61    0.143870\n",
       "dtype: float64"
      ]
     },
     "execution_count": 128,
     "metadata": {},
     "output_type": "execute_result"
    }
   ],
   "source": [
    "temp.sort_values(inplace=True)\n",
    "temp.head()"
   ]
  },
  {
   "cell_type": "markdown",
   "id": "3d489aa5",
   "metadata": {},
   "source": [
    "Oops, the command above did not change the series.  The Series is not altered unless we set the 'inplace' parameter equal to True. "
   ]
  },
  {
   "cell_type": "code",
   "execution_count": 126,
   "id": "db575970",
   "metadata": {
    "collapsed": true
   },
   "outputs": [
    {
     "data": {
      "text/plain": [
       "74    0.020814\n",
       "60    0.026497\n",
       "66    0.045182\n",
       "54    0.081874\n",
       "61    0.143870\n",
       "53    0.223280\n",
       "51    0.287781\n",
       "55    0.383196\n",
       "59    0.397767\n",
       "65    0.450022\n",
       "73    0.514939\n",
       "68    0.539196\n",
       "64    0.619832\n",
       "58    0.649234\n",
       "52    0.695377\n",
       "62    0.707155\n",
       "72    0.760176\n",
       "69    0.806883\n",
       "71    0.813460\n",
       "63    0.859273\n",
       "56    0.863874\n",
       "57    0.878258\n",
       "67    0.930076\n",
       "50    0.931531\n",
       "70    0.991422\n",
       "dtype: float64"
      ]
     },
     "execution_count": 126,
     "metadata": {},
     "output_type": "execute_result"
    }
   ],
   "source": [
    "saveIt = temp.sort_values()\n",
    "saveIt"
   ]
  },
  {
   "cell_type": "code",
   "execution_count": null,
   "id": "cceef684",
   "metadata": {},
   "outputs": [],
   "source": [
    "temp.sort_values(inplace=True)\n",
    "temp.head()"
   ]
  },
  {
   "cell_type": "markdown",
   "id": "86dad833",
   "metadata": {},
   "source": [
    "Use the ascending parameter to sort in descending order."
   ]
  },
  {
   "cell_type": "code",
   "execution_count": null,
   "id": "863f8349",
   "metadata": {},
   "outputs": [],
   "source": [
    "temp.sort_values(inplace=True,ascending=False)\n",
    "temp.head()"
   ]
  },
  {
   "cell_type": "markdown",
   "id": "2b9eae73",
   "metadata": {},
   "source": [
    "You can use the command below to put the data back in their original order, by index, if your indices are sequential integers."
   ]
  },
  {
   "cell_type": "code",
   "execution_count": 129,
   "id": "0e6651be",
   "metadata": {},
   "outputs": [
    {
     "data": {
      "text/plain": [
       "50    0.931531\n",
       "51    0.287781\n",
       "52    0.695377\n",
       "53    0.223280\n",
       "54    0.081874\n",
       "dtype: float64"
      ]
     },
     "execution_count": 129,
     "metadata": {},
     "output_type": "execute_result"
    }
   ],
   "source": [
    "temp.sort_index(inplace=True)\n",
    "temp.head()"
   ]
  },
  {
   "cell_type": "markdown",
   "id": "588f1175",
   "metadata": {},
   "source": [
    "## <code>pandas DataFrame</code>s"
   ]
  },
  {
   "cell_type": "markdown",
   "id": "91bdad98",
   "metadata": {},
   "source": [
    "### Inputting Text Files with pandas\n",
    "\n",
    "The pd.read_csv() method is very useful for inputting csv files.  The first row should contain the names of the columns.\n",
    "\n",
    "In the cell below we are reading in the contents of a file that contains the Iris data that we previously worked with and assigning that data to the variable df.  Using df or using variable names starting with df is a good technique to help remind you that the data type of the variable is a DataFrame."
   ]
  },
  {
   "cell_type": "code",
   "execution_count": 133,
   "id": "157ff47a",
   "metadata": {},
   "outputs": [
    {
     "name": "stdout",
     "output_type": "stream",
     "text": [
      "Type of df variable:  <class 'pandas.core.frame.DataFrame'>\n",
      "Column Labels:  ['Id' 'SepalLengthCm' 'SepalWidthCm' 'PetalLengthCm' 'PetalWidthCm'\n",
      " 'Species']\n"
     ]
    }
   ],
   "source": [
    "df = pd.read_csv('Iris.csv')\n",
    "print('Type of df variable: ',type(df))\n",
    "print('Column Labels: ',df.columns.values)"
   ]
  },
  {
   "cell_type": "markdown",
   "id": "4bf45764",
   "metadata": {},
   "source": [
    "### Accessing DataFrame Elements"
   ]
  },
  {
   "cell_type": "code",
   "execution_count": 134,
   "id": "9668883f",
   "metadata": {
    "scrolled": true
   },
   "outputs": [
    {
     "data": {
      "text/plain": [
       "0      1.4\n",
       "1      1.4\n",
       "2      1.3\n",
       "3      1.5\n",
       "4      1.4\n",
       "      ... \n",
       "145    5.2\n",
       "146    5.0\n",
       "147    5.2\n",
       "148    5.4\n",
       "149    5.1\n",
       "Name: PetalLengthCm, Length: 150, dtype: float64"
      ]
     },
     "execution_count": 134,
     "metadata": {},
     "output_type": "execute_result"
    }
   ],
   "source": [
    "df['PetalLengthCm']"
   ]
  },
  {
   "cell_type": "code",
   "execution_count": null,
   "id": "3be16afa",
   "metadata": {
    "scrolled": true
   },
   "outputs": [],
   "source": [
    "df['PetalWidthCm']"
   ]
  },
  {
   "cell_type": "code",
   "execution_count": 135,
   "id": "021bcb5c",
   "metadata": {},
   "outputs": [
    {
     "data": {
      "text/plain": [
       "pandas.core.series.Series"
      ]
     },
     "execution_count": 135,
     "metadata": {},
     "output_type": "execute_result"
    }
   ],
   "source": [
    "type(df['PetalLengthCm'])"
   ]
  },
  {
   "cell_type": "code",
   "execution_count": 136,
   "id": "dc50a595",
   "metadata": {},
   "outputs": [
    {
     "data": {
      "text/plain": [
       "Id                         1\n",
       "SepalLengthCm            5.1\n",
       "SepalWidthCm             3.5\n",
       "PetalLengthCm            1.4\n",
       "PetalWidthCm             0.2\n",
       "Species          Iris-setosa\n",
       "Name: 0, dtype: object"
      ]
     },
     "execution_count": 136,
     "metadata": {},
     "output_type": "execute_result"
    }
   ],
   "source": [
    "df.loc[0]"
   ]
  },
  {
   "cell_type": "code",
   "execution_count": 137,
   "id": "e0f0c548",
   "metadata": {},
   "outputs": [
    {
     "data": {
      "text/plain": [
       "Id                         1\n",
       "SepalLengthCm            5.1\n",
       "SepalWidthCm             3.5\n",
       "PetalLengthCm            1.4\n",
       "PetalWidthCm             0.2\n",
       "Species          Iris-setosa\n",
       "Name: 0, dtype: object"
      ]
     },
     "execution_count": 137,
     "metadata": {},
     "output_type": "execute_result"
    }
   ],
   "source": [
    "df.iloc[0]"
   ]
  },
  {
   "cell_type": "code",
   "execution_count": 138,
   "id": "f88f9f19",
   "metadata": {},
   "outputs": [
    {
     "data": {
      "text/plain": [
       "0.2"
      ]
     },
     "execution_count": 138,
     "metadata": {},
     "output_type": "execute_result"
    }
   ],
   "source": [
    "df['PetalWidthCm'].iloc[0]"
   ]
  },
  {
   "cell_type": "code",
   "execution_count": 139,
   "id": "0ecf14f0",
   "metadata": {},
   "outputs": [
    {
     "data": {
      "text/plain": [
       "0.2"
      ]
     },
     "execution_count": 139,
     "metadata": {},
     "output_type": "execute_result"
    }
   ],
   "source": [
    "df.iloc[0]['PetalWidthCm']"
   ]
  },
  {
   "cell_type": "markdown",
   "id": "e8355532",
   "metadata": {},
   "source": [
    "### Properties and Methods to DataFrame Columns\n",
    "\n",
    "Many of the same properties that we applied to pandas Series also apply to pandas DataFrames."
   ]
  },
  {
   "cell_type": "code",
   "execution_count": 140,
   "id": "7e1032b1",
   "metadata": {},
   "outputs": [
    {
     "data": {
      "text/plain": [
       "(150, 6)"
      ]
     },
     "execution_count": 140,
     "metadata": {},
     "output_type": "execute_result"
    }
   ],
   "source": [
    "df.shape"
   ]
  },
  {
   "cell_type": "code",
   "execution_count": 141,
   "id": "072812c3",
   "metadata": {},
   "outputs": [
    {
     "data": {
      "text/plain": [
       "Id                 int64\n",
       "SepalLengthCm    float64\n",
       "SepalWidthCm     float64\n",
       "PetalLengthCm    float64\n",
       "PetalWidthCm     float64\n",
       "Species           object\n",
       "dtype: object"
      ]
     },
     "execution_count": 141,
     "metadata": {},
     "output_type": "execute_result"
    }
   ],
   "source": [
    "df.dtypes"
   ]
  },
  {
   "cell_type": "code",
   "execution_count": 142,
   "id": "fb588220",
   "metadata": {
    "collapsed": true
   },
   "outputs": [
    {
     "data": {
      "text/plain": [
       "array([[1, 5.1, 3.5, 1.4, 0.2, 'Iris-setosa'],\n",
       "       [2, 4.9, 3.0, 1.4, 0.2, 'Iris-setosa'],\n",
       "       [3, 4.7, 3.2, 1.3, 0.2, 'Iris-setosa'],\n",
       "       [4, 4.6, 3.1, 1.5, 0.2, 'Iris-setosa'],\n",
       "       [5, 5.0, 3.6, 1.4, 0.2, 'Iris-setosa'],\n",
       "       [6, 5.4, 3.9, 1.7, 0.4, 'Iris-setosa'],\n",
       "       [7, 4.6, 3.4, 1.4, 0.3, 'Iris-setosa'],\n",
       "       [8, 5.0, 3.4, 1.5, 0.2, 'Iris-setosa'],\n",
       "       [9, 4.4, 2.9, 1.4, 0.2, 'Iris-setosa'],\n",
       "       [10, 4.9, 3.1, 1.5, 0.1, 'Iris-setosa'],\n",
       "       [11, 5.4, 3.7, 1.5, 0.2, 'Iris-setosa'],\n",
       "       [12, 4.8, 3.4, 1.6, 0.2, 'Iris-setosa'],\n",
       "       [13, 4.8, 3.0, 1.4, 0.1, 'Iris-setosa'],\n",
       "       [14, 4.3, 3.0, 1.1, 0.1, 'Iris-setosa'],\n",
       "       [15, 5.8, 4.0, 1.2, 0.2, 'Iris-setosa'],\n",
       "       [16, 5.7, 4.4, 1.5, 0.4, 'Iris-setosa'],\n",
       "       [17, 5.4, 3.9, 1.3, 0.4, 'Iris-setosa'],\n",
       "       [18, 5.1, 3.5, 1.4, 0.3, 'Iris-setosa'],\n",
       "       [19, 5.7, 3.8, 1.7, 0.3, 'Iris-setosa'],\n",
       "       [20, 5.1, 3.8, 1.5, 0.3, 'Iris-setosa'],\n",
       "       [21, 5.4, 3.4, 1.7, 0.2, 'Iris-setosa'],\n",
       "       [22, 5.1, 3.7, 1.5, 0.4, 'Iris-setosa'],\n",
       "       [23, 4.6, 3.6, 1.0, 0.2, 'Iris-setosa'],\n",
       "       [24, 5.1, 3.3, 1.7, 0.5, 'Iris-setosa'],\n",
       "       [25, 4.8, 3.4, 1.9, 0.2, 'Iris-setosa'],\n",
       "       [26, 5.0, 3.0, 1.6, 0.2, 'Iris-setosa'],\n",
       "       [27, 5.0, 3.4, 1.6, 0.4, 'Iris-setosa'],\n",
       "       [28, 5.2, 3.5, 1.5, 0.2, 'Iris-setosa'],\n",
       "       [29, 5.2, 3.4, 1.4, 0.2, 'Iris-setosa'],\n",
       "       [30, 4.7, 3.2, 1.6, 0.2, 'Iris-setosa'],\n",
       "       [31, 4.8, 3.1, 1.6, 0.2, 'Iris-setosa'],\n",
       "       [32, 5.4, 3.4, 1.5, 0.4, 'Iris-setosa'],\n",
       "       [33, 5.2, 4.1, 1.5, 0.1, 'Iris-setosa'],\n",
       "       [34, 5.5, 4.2, 1.4, 0.2, 'Iris-setosa'],\n",
       "       [35, 4.9, 3.1, 1.5, 0.1, 'Iris-setosa'],\n",
       "       [36, 5.0, 3.2, 1.2, 0.2, 'Iris-setosa'],\n",
       "       [37, 5.5, 3.5, 1.3, 0.2, 'Iris-setosa'],\n",
       "       [38, 4.9, 3.1, 1.5, 0.1, 'Iris-setosa'],\n",
       "       [39, 4.4, 3.0, 1.3, 0.2, 'Iris-setosa'],\n",
       "       [40, 5.1, 3.4, 1.5, 0.2, 'Iris-setosa'],\n",
       "       [41, 5.0, 3.5, 1.3, 0.3, 'Iris-setosa'],\n",
       "       [42, 4.5, 2.3, 1.3, 0.3, 'Iris-setosa'],\n",
       "       [43, 4.4, 3.2, 1.3, 0.2, 'Iris-setosa'],\n",
       "       [44, 5.0, 3.5, 1.6, 0.6, 'Iris-setosa'],\n",
       "       [45, 5.1, 3.8, 1.9, 0.4, 'Iris-setosa'],\n",
       "       [46, 4.8, 3.0, 1.4, 0.3, 'Iris-setosa'],\n",
       "       [47, 5.1, 3.8, 1.6, 0.2, 'Iris-setosa'],\n",
       "       [48, 4.6, 3.2, 1.4, 0.2, 'Iris-setosa'],\n",
       "       [49, 5.3, 3.7, 1.5, 0.2, 'Iris-setosa'],\n",
       "       [50, 5.0, 3.3, 1.4, 0.2, 'Iris-setosa'],\n",
       "       [51, 7.0, 3.2, 4.7, 1.4, 'Iris-versicolor'],\n",
       "       [52, 6.4, 3.2, 4.5, 1.5, 'Iris-versicolor'],\n",
       "       [53, 6.9, 3.1, 4.9, 1.5, 'Iris-versicolor'],\n",
       "       [54, 5.5, 2.3, 4.0, 1.3, 'Iris-versicolor'],\n",
       "       [55, 6.5, 2.8, 4.6, 1.5, 'Iris-versicolor'],\n",
       "       [56, 5.7, 2.8, 4.5, 1.3, 'Iris-versicolor'],\n",
       "       [57, 6.3, 3.3, 4.7, 1.6, 'Iris-versicolor'],\n",
       "       [58, 4.9, 2.4, 3.3, 1.0, 'Iris-versicolor'],\n",
       "       [59, 6.6, 2.9, 4.6, 1.3, 'Iris-versicolor'],\n",
       "       [60, 5.2, 2.7, 3.9, 1.4, 'Iris-versicolor'],\n",
       "       [61, 5.0, 2.0, 3.5, 1.0, 'Iris-versicolor'],\n",
       "       [62, 5.9, 3.0, 4.2, 1.5, 'Iris-versicolor'],\n",
       "       [63, 6.0, 2.2, 4.0, 1.0, 'Iris-versicolor'],\n",
       "       [64, 6.1, 2.9, 4.7, 1.4, 'Iris-versicolor'],\n",
       "       [65, 5.6, 2.9, 3.6, 1.3, 'Iris-versicolor'],\n",
       "       [66, 6.7, 3.1, 4.4, 1.4, 'Iris-versicolor'],\n",
       "       [67, 5.6, 3.0, 4.5, 1.5, 'Iris-versicolor'],\n",
       "       [68, 5.8, 2.7, 4.1, 1.0, 'Iris-versicolor'],\n",
       "       [69, 6.2, 2.2, 4.5, 1.5, 'Iris-versicolor'],\n",
       "       [70, 5.6, 2.5, 3.9, 1.1, 'Iris-versicolor'],\n",
       "       [71, 5.9, 3.2, 4.8, 1.8, 'Iris-versicolor'],\n",
       "       [72, 6.1, 2.8, 4.0, 1.3, 'Iris-versicolor'],\n",
       "       [73, 6.3, 2.5, 4.9, 1.5, 'Iris-versicolor'],\n",
       "       [74, 6.1, 2.8, 4.7, 1.2, 'Iris-versicolor'],\n",
       "       [75, 6.4, 2.9, 4.3, 1.3, 'Iris-versicolor'],\n",
       "       [76, 6.6, 3.0, 4.4, 1.4, 'Iris-versicolor'],\n",
       "       [77, 6.8, 2.8, 4.8, 1.4, 'Iris-versicolor'],\n",
       "       [78, 6.7, 3.0, 5.0, 1.7, 'Iris-versicolor'],\n",
       "       [79, 6.0, 2.9, 4.5, 1.5, 'Iris-versicolor'],\n",
       "       [80, 5.7, 2.6, 3.5, 1.0, 'Iris-versicolor'],\n",
       "       [81, 5.5, 2.4, 3.8, 1.1, 'Iris-versicolor'],\n",
       "       [82, 5.5, 2.4, 3.7, 1.0, 'Iris-versicolor'],\n",
       "       [83, 5.8, 2.7, 3.9, 1.2, 'Iris-versicolor'],\n",
       "       [84, 6.0, 2.7, 5.1, 1.6, 'Iris-versicolor'],\n",
       "       [85, 5.4, 3.0, 4.5, 1.5, 'Iris-versicolor'],\n",
       "       [86, 6.0, 3.4, 4.5, 1.6, 'Iris-versicolor'],\n",
       "       [87, 6.7, 3.1, 4.7, 1.5, 'Iris-versicolor'],\n",
       "       [88, 6.3, 2.3, 4.4, 1.3, 'Iris-versicolor'],\n",
       "       [89, 5.6, 3.0, 4.1, 1.3, 'Iris-versicolor'],\n",
       "       [90, 5.5, 2.5, 4.0, 1.3, 'Iris-versicolor'],\n",
       "       [91, 5.5, 2.6, 4.4, 1.2, 'Iris-versicolor'],\n",
       "       [92, 6.1, 3.0, 4.6, 1.4, 'Iris-versicolor'],\n",
       "       [93, 5.8, 2.6, 4.0, 1.2, 'Iris-versicolor'],\n",
       "       [94, 5.0, 2.3, 3.3, 1.0, 'Iris-versicolor'],\n",
       "       [95, 5.6, 2.7, 4.2, 1.3, 'Iris-versicolor'],\n",
       "       [96, 5.7, 3.0, 4.2, 1.2, 'Iris-versicolor'],\n",
       "       [97, 5.7, 2.9, 4.2, 1.3, 'Iris-versicolor'],\n",
       "       [98, 6.2, 2.9, 4.3, 1.3, 'Iris-versicolor'],\n",
       "       [99, 5.1, 2.5, 3.0, 1.1, 'Iris-versicolor'],\n",
       "       [100, 5.7, 2.8, 4.1, 1.3, 'Iris-versicolor'],\n",
       "       [101, 6.3, 3.3, 6.0, 2.5, 'Iris-virginica'],\n",
       "       [102, 5.8, 2.7, 5.1, 1.9, 'Iris-virginica'],\n",
       "       [103, 7.1, 3.0, 5.9, 2.1, 'Iris-virginica'],\n",
       "       [104, 6.3, 2.9, 5.6, 1.8, 'Iris-virginica'],\n",
       "       [105, 6.5, 3.0, 5.8, 2.2, 'Iris-virginica'],\n",
       "       [106, 7.6, 3.0, 6.6, 2.1, 'Iris-virginica'],\n",
       "       [107, 4.9, 2.5, 4.5, 1.7, 'Iris-virginica'],\n",
       "       [108, 7.3, 2.9, 6.3, 1.8, 'Iris-virginica'],\n",
       "       [109, 6.7, 2.5, 5.8, 1.8, 'Iris-virginica'],\n",
       "       [110, 7.2, 3.6, 6.1, 2.5, 'Iris-virginica'],\n",
       "       [111, 6.5, 3.2, 5.1, 2.0, 'Iris-virginica'],\n",
       "       [112, 6.4, 2.7, 5.3, 1.9, 'Iris-virginica'],\n",
       "       [113, 6.8, 3.0, 5.5, 2.1, 'Iris-virginica'],\n",
       "       [114, 5.7, 2.5, 5.0, 2.0, 'Iris-virginica'],\n",
       "       [115, 5.8, 2.8, 5.1, 2.4, 'Iris-virginica'],\n",
       "       [116, 6.4, 3.2, 5.3, 2.3, 'Iris-virginica'],\n",
       "       [117, 6.5, 3.0, 5.5, 1.8, 'Iris-virginica'],\n",
       "       [118, 7.7, 3.8, 6.7, 2.2, 'Iris-virginica'],\n",
       "       [119, 7.7, 2.6, 6.9, 2.3, 'Iris-virginica'],\n",
       "       [120, 6.0, 2.2, 5.0, 1.5, 'Iris-virginica'],\n",
       "       [121, 6.9, 3.2, 5.7, 2.3, 'Iris-virginica'],\n",
       "       [122, 5.6, 2.8, 4.9, 2.0, 'Iris-virginica'],\n",
       "       [123, 7.7, 2.8, 6.7, 2.0, 'Iris-virginica'],\n",
       "       [124, 6.3, 2.7, 4.9, 1.8, 'Iris-virginica'],\n",
       "       [125, 6.7, 3.3, 5.7, 2.1, 'Iris-virginica'],\n",
       "       [126, 7.2, 3.2, 6.0, 1.8, 'Iris-virginica'],\n",
       "       [127, 6.2, 2.8, 4.8, 1.8, 'Iris-virginica'],\n",
       "       [128, 6.1, 3.0, 4.9, 1.8, 'Iris-virginica'],\n",
       "       [129, 6.4, 2.8, 5.6, 2.1, 'Iris-virginica'],\n",
       "       [130, 7.2, 3.0, 5.8, 1.6, 'Iris-virginica'],\n",
       "       [131, 7.4, 2.8, 6.1, 1.9, 'Iris-virginica'],\n",
       "       [132, 7.9, 3.8, 6.4, 2.0, 'Iris-virginica'],\n",
       "       [133, 6.4, 2.8, 5.6, 2.2, 'Iris-virginica'],\n",
       "       [134, 6.3, 2.8, 5.1, 1.5, 'Iris-virginica'],\n",
       "       [135, 6.1, 2.6, 5.6, 1.4, 'Iris-virginica'],\n",
       "       [136, 7.7, 3.0, 6.1, 2.3, 'Iris-virginica'],\n",
       "       [137, 6.3, 3.4, 5.6, 2.4, 'Iris-virginica'],\n",
       "       [138, 6.4, 3.1, 5.5, 1.8, 'Iris-virginica'],\n",
       "       [139, 6.0, 3.0, 4.8, 1.8, 'Iris-virginica'],\n",
       "       [140, 6.9, 3.1, 5.4, 2.1, 'Iris-virginica'],\n",
       "       [141, 6.7, 3.1, 5.6, 2.4, 'Iris-virginica'],\n",
       "       [142, 6.9, 3.1, 5.1, 2.3, 'Iris-virginica'],\n",
       "       [143, 5.8, 2.7, 5.1, 1.9, 'Iris-virginica'],\n",
       "       [144, 6.8, 3.2, 5.9, 2.3, 'Iris-virginica'],\n",
       "       [145, 6.7, 3.3, 5.7, 2.5, 'Iris-virginica'],\n",
       "       [146, 6.7, 3.0, 5.2, 2.3, 'Iris-virginica'],\n",
       "       [147, 6.3, 2.5, 5.0, 1.9, 'Iris-virginica'],\n",
       "       [148, 6.5, 3.0, 5.2, 2.0, 'Iris-virginica'],\n",
       "       [149, 6.2, 3.4, 5.4, 2.3, 'Iris-virginica'],\n",
       "       [150, 5.9, 3.0, 5.1, 1.8, 'Iris-virginica']], dtype=object)"
      ]
     },
     "execution_count": 142,
     "metadata": {},
     "output_type": "execute_result"
    }
   ],
   "source": [
    "df.values"
   ]
  },
  {
   "cell_type": "code",
   "execution_count": null,
   "id": "eaf28202",
   "metadata": {},
   "outputs": [],
   "source": [
    "df.index"
   ]
  },
  {
   "cell_type": "code",
   "execution_count": 143,
   "id": "c7ba6fd9",
   "metadata": {},
   "outputs": [
    {
     "data": {
      "text/plain": [
       "Index(['Id', 'SepalLengthCm', 'SepalWidthCm', 'PetalLengthCm', 'PetalWidthCm',\n",
       "       'Species'],\n",
       "      dtype='object')"
      ]
     },
     "execution_count": 143,
     "metadata": {},
     "output_type": "execute_result"
    }
   ],
   "source": [
    "df.columns"
   ]
  },
  {
   "cell_type": "code",
   "execution_count": 144,
   "id": "9b7b8f34",
   "metadata": {},
   "outputs": [
    {
     "data": {
      "text/plain": [
       "array(['Id', 'SepalLengthCm', 'SepalWidthCm', 'PetalLengthCm',\n",
       "       'PetalWidthCm', 'Species'], dtype=object)"
      ]
     },
     "execution_count": 144,
     "metadata": {},
     "output_type": "execute_result"
    }
   ],
   "source": [
    "df.columns.values"
   ]
  },
  {
   "cell_type": "code",
   "execution_count": 145,
   "id": "01c56d14",
   "metadata": {
    "collapsed": true
   },
   "outputs": [
    {
     "data": {
      "text/plain": [
       "[[1, 5.1, 3.5, 1.4, 0.2, 'Iris-setosa'],\n",
       " [2, 4.9, 3.0, 1.4, 0.2, 'Iris-setosa'],\n",
       " [3, 4.7, 3.2, 1.3, 0.2, 'Iris-setosa'],\n",
       " [4, 4.6, 3.1, 1.5, 0.2, 'Iris-setosa'],\n",
       " [5, 5.0, 3.6, 1.4, 0.2, 'Iris-setosa'],\n",
       " [6, 5.4, 3.9, 1.7, 0.4, 'Iris-setosa'],\n",
       " [7, 4.6, 3.4, 1.4, 0.3, 'Iris-setosa'],\n",
       " [8, 5.0, 3.4, 1.5, 0.2, 'Iris-setosa'],\n",
       " [9, 4.4, 2.9, 1.4, 0.2, 'Iris-setosa'],\n",
       " [10, 4.9, 3.1, 1.5, 0.1, 'Iris-setosa'],\n",
       " [11, 5.4, 3.7, 1.5, 0.2, 'Iris-setosa'],\n",
       " [12, 4.8, 3.4, 1.6, 0.2, 'Iris-setosa'],\n",
       " [13, 4.8, 3.0, 1.4, 0.1, 'Iris-setosa'],\n",
       " [14, 4.3, 3.0, 1.1, 0.1, 'Iris-setosa'],\n",
       " [15, 5.8, 4.0, 1.2, 0.2, 'Iris-setosa'],\n",
       " [16, 5.7, 4.4, 1.5, 0.4, 'Iris-setosa'],\n",
       " [17, 5.4, 3.9, 1.3, 0.4, 'Iris-setosa'],\n",
       " [18, 5.1, 3.5, 1.4, 0.3, 'Iris-setosa'],\n",
       " [19, 5.7, 3.8, 1.7, 0.3, 'Iris-setosa'],\n",
       " [20, 5.1, 3.8, 1.5, 0.3, 'Iris-setosa'],\n",
       " [21, 5.4, 3.4, 1.7, 0.2, 'Iris-setosa'],\n",
       " [22, 5.1, 3.7, 1.5, 0.4, 'Iris-setosa'],\n",
       " [23, 4.6, 3.6, 1.0, 0.2, 'Iris-setosa'],\n",
       " [24, 5.1, 3.3, 1.7, 0.5, 'Iris-setosa'],\n",
       " [25, 4.8, 3.4, 1.9, 0.2, 'Iris-setosa'],\n",
       " [26, 5.0, 3.0, 1.6, 0.2, 'Iris-setosa'],\n",
       " [27, 5.0, 3.4, 1.6, 0.4, 'Iris-setosa'],\n",
       " [28, 5.2, 3.5, 1.5, 0.2, 'Iris-setosa'],\n",
       " [29, 5.2, 3.4, 1.4, 0.2, 'Iris-setosa'],\n",
       " [30, 4.7, 3.2, 1.6, 0.2, 'Iris-setosa'],\n",
       " [31, 4.8, 3.1, 1.6, 0.2, 'Iris-setosa'],\n",
       " [32, 5.4, 3.4, 1.5, 0.4, 'Iris-setosa'],\n",
       " [33, 5.2, 4.1, 1.5, 0.1, 'Iris-setosa'],\n",
       " [34, 5.5, 4.2, 1.4, 0.2, 'Iris-setosa'],\n",
       " [35, 4.9, 3.1, 1.5, 0.1, 'Iris-setosa'],\n",
       " [36, 5.0, 3.2, 1.2, 0.2, 'Iris-setosa'],\n",
       " [37, 5.5, 3.5, 1.3, 0.2, 'Iris-setosa'],\n",
       " [38, 4.9, 3.1, 1.5, 0.1, 'Iris-setosa'],\n",
       " [39, 4.4, 3.0, 1.3, 0.2, 'Iris-setosa'],\n",
       " [40, 5.1, 3.4, 1.5, 0.2, 'Iris-setosa'],\n",
       " [41, 5.0, 3.5, 1.3, 0.3, 'Iris-setosa'],\n",
       " [42, 4.5, 2.3, 1.3, 0.3, 'Iris-setosa'],\n",
       " [43, 4.4, 3.2, 1.3, 0.2, 'Iris-setosa'],\n",
       " [44, 5.0, 3.5, 1.6, 0.6, 'Iris-setosa'],\n",
       " [45, 5.1, 3.8, 1.9, 0.4, 'Iris-setosa'],\n",
       " [46, 4.8, 3.0, 1.4, 0.3, 'Iris-setosa'],\n",
       " [47, 5.1, 3.8, 1.6, 0.2, 'Iris-setosa'],\n",
       " [48, 4.6, 3.2, 1.4, 0.2, 'Iris-setosa'],\n",
       " [49, 5.3, 3.7, 1.5, 0.2, 'Iris-setosa'],\n",
       " [50, 5.0, 3.3, 1.4, 0.2, 'Iris-setosa'],\n",
       " [51, 7.0, 3.2, 4.7, 1.4, 'Iris-versicolor'],\n",
       " [52, 6.4, 3.2, 4.5, 1.5, 'Iris-versicolor'],\n",
       " [53, 6.9, 3.1, 4.9, 1.5, 'Iris-versicolor'],\n",
       " [54, 5.5, 2.3, 4.0, 1.3, 'Iris-versicolor'],\n",
       " [55, 6.5, 2.8, 4.6, 1.5, 'Iris-versicolor'],\n",
       " [56, 5.7, 2.8, 4.5, 1.3, 'Iris-versicolor'],\n",
       " [57, 6.3, 3.3, 4.7, 1.6, 'Iris-versicolor'],\n",
       " [58, 4.9, 2.4, 3.3, 1.0, 'Iris-versicolor'],\n",
       " [59, 6.6, 2.9, 4.6, 1.3, 'Iris-versicolor'],\n",
       " [60, 5.2, 2.7, 3.9, 1.4, 'Iris-versicolor'],\n",
       " [61, 5.0, 2.0, 3.5, 1.0, 'Iris-versicolor'],\n",
       " [62, 5.9, 3.0, 4.2, 1.5, 'Iris-versicolor'],\n",
       " [63, 6.0, 2.2, 4.0, 1.0, 'Iris-versicolor'],\n",
       " [64, 6.1, 2.9, 4.7, 1.4, 'Iris-versicolor'],\n",
       " [65, 5.6, 2.9, 3.6, 1.3, 'Iris-versicolor'],\n",
       " [66, 6.7, 3.1, 4.4, 1.4, 'Iris-versicolor'],\n",
       " [67, 5.6, 3.0, 4.5, 1.5, 'Iris-versicolor'],\n",
       " [68, 5.8, 2.7, 4.1, 1.0, 'Iris-versicolor'],\n",
       " [69, 6.2, 2.2, 4.5, 1.5, 'Iris-versicolor'],\n",
       " [70, 5.6, 2.5, 3.9, 1.1, 'Iris-versicolor'],\n",
       " [71, 5.9, 3.2, 4.8, 1.8, 'Iris-versicolor'],\n",
       " [72, 6.1, 2.8, 4.0, 1.3, 'Iris-versicolor'],\n",
       " [73, 6.3, 2.5, 4.9, 1.5, 'Iris-versicolor'],\n",
       " [74, 6.1, 2.8, 4.7, 1.2, 'Iris-versicolor'],\n",
       " [75, 6.4, 2.9, 4.3, 1.3, 'Iris-versicolor'],\n",
       " [76, 6.6, 3.0, 4.4, 1.4, 'Iris-versicolor'],\n",
       " [77, 6.8, 2.8, 4.8, 1.4, 'Iris-versicolor'],\n",
       " [78, 6.7, 3.0, 5.0, 1.7, 'Iris-versicolor'],\n",
       " [79, 6.0, 2.9, 4.5, 1.5, 'Iris-versicolor'],\n",
       " [80, 5.7, 2.6, 3.5, 1.0, 'Iris-versicolor'],\n",
       " [81, 5.5, 2.4, 3.8, 1.1, 'Iris-versicolor'],\n",
       " [82, 5.5, 2.4, 3.7, 1.0, 'Iris-versicolor'],\n",
       " [83, 5.8, 2.7, 3.9, 1.2, 'Iris-versicolor'],\n",
       " [84, 6.0, 2.7, 5.1, 1.6, 'Iris-versicolor'],\n",
       " [85, 5.4, 3.0, 4.5, 1.5, 'Iris-versicolor'],\n",
       " [86, 6.0, 3.4, 4.5, 1.6, 'Iris-versicolor'],\n",
       " [87, 6.7, 3.1, 4.7, 1.5, 'Iris-versicolor'],\n",
       " [88, 6.3, 2.3, 4.4, 1.3, 'Iris-versicolor'],\n",
       " [89, 5.6, 3.0, 4.1, 1.3, 'Iris-versicolor'],\n",
       " [90, 5.5, 2.5, 4.0, 1.3, 'Iris-versicolor'],\n",
       " [91, 5.5, 2.6, 4.4, 1.2, 'Iris-versicolor'],\n",
       " [92, 6.1, 3.0, 4.6, 1.4, 'Iris-versicolor'],\n",
       " [93, 5.8, 2.6, 4.0, 1.2, 'Iris-versicolor'],\n",
       " [94, 5.0, 2.3, 3.3, 1.0, 'Iris-versicolor'],\n",
       " [95, 5.6, 2.7, 4.2, 1.3, 'Iris-versicolor'],\n",
       " [96, 5.7, 3.0, 4.2, 1.2, 'Iris-versicolor'],\n",
       " [97, 5.7, 2.9, 4.2, 1.3, 'Iris-versicolor'],\n",
       " [98, 6.2, 2.9, 4.3, 1.3, 'Iris-versicolor'],\n",
       " [99, 5.1, 2.5, 3.0, 1.1, 'Iris-versicolor'],\n",
       " [100, 5.7, 2.8, 4.1, 1.3, 'Iris-versicolor'],\n",
       " [101, 6.3, 3.3, 6.0, 2.5, 'Iris-virginica'],\n",
       " [102, 5.8, 2.7, 5.1, 1.9, 'Iris-virginica'],\n",
       " [103, 7.1, 3.0, 5.9, 2.1, 'Iris-virginica'],\n",
       " [104, 6.3, 2.9, 5.6, 1.8, 'Iris-virginica'],\n",
       " [105, 6.5, 3.0, 5.8, 2.2, 'Iris-virginica'],\n",
       " [106, 7.6, 3.0, 6.6, 2.1, 'Iris-virginica'],\n",
       " [107, 4.9, 2.5, 4.5, 1.7, 'Iris-virginica'],\n",
       " [108, 7.3, 2.9, 6.3, 1.8, 'Iris-virginica'],\n",
       " [109, 6.7, 2.5, 5.8, 1.8, 'Iris-virginica'],\n",
       " [110, 7.2, 3.6, 6.1, 2.5, 'Iris-virginica'],\n",
       " [111, 6.5, 3.2, 5.1, 2.0, 'Iris-virginica'],\n",
       " [112, 6.4, 2.7, 5.3, 1.9, 'Iris-virginica'],\n",
       " [113, 6.8, 3.0, 5.5, 2.1, 'Iris-virginica'],\n",
       " [114, 5.7, 2.5, 5.0, 2.0, 'Iris-virginica'],\n",
       " [115, 5.8, 2.8, 5.1, 2.4, 'Iris-virginica'],\n",
       " [116, 6.4, 3.2, 5.3, 2.3, 'Iris-virginica'],\n",
       " [117, 6.5, 3.0, 5.5, 1.8, 'Iris-virginica'],\n",
       " [118, 7.7, 3.8, 6.7, 2.2, 'Iris-virginica'],\n",
       " [119, 7.7, 2.6, 6.9, 2.3, 'Iris-virginica'],\n",
       " [120, 6.0, 2.2, 5.0, 1.5, 'Iris-virginica'],\n",
       " [121, 6.9, 3.2, 5.7, 2.3, 'Iris-virginica'],\n",
       " [122, 5.6, 2.8, 4.9, 2.0, 'Iris-virginica'],\n",
       " [123, 7.7, 2.8, 6.7, 2.0, 'Iris-virginica'],\n",
       " [124, 6.3, 2.7, 4.9, 1.8, 'Iris-virginica'],\n",
       " [125, 6.7, 3.3, 5.7, 2.1, 'Iris-virginica'],\n",
       " [126, 7.2, 3.2, 6.0, 1.8, 'Iris-virginica'],\n",
       " [127, 6.2, 2.8, 4.8, 1.8, 'Iris-virginica'],\n",
       " [128, 6.1, 3.0, 4.9, 1.8, 'Iris-virginica'],\n",
       " [129, 6.4, 2.8, 5.6, 2.1, 'Iris-virginica'],\n",
       " [130, 7.2, 3.0, 5.8, 1.6, 'Iris-virginica'],\n",
       " [131, 7.4, 2.8, 6.1, 1.9, 'Iris-virginica'],\n",
       " [132, 7.9, 3.8, 6.4, 2.0, 'Iris-virginica'],\n",
       " [133, 6.4, 2.8, 5.6, 2.2, 'Iris-virginica'],\n",
       " [134, 6.3, 2.8, 5.1, 1.5, 'Iris-virginica'],\n",
       " [135, 6.1, 2.6, 5.6, 1.4, 'Iris-virginica'],\n",
       " [136, 7.7, 3.0, 6.1, 2.3, 'Iris-virginica'],\n",
       " [137, 6.3, 3.4, 5.6, 2.4, 'Iris-virginica'],\n",
       " [138, 6.4, 3.1, 5.5, 1.8, 'Iris-virginica'],\n",
       " [139, 6.0, 3.0, 4.8, 1.8, 'Iris-virginica'],\n",
       " [140, 6.9, 3.1, 5.4, 2.1, 'Iris-virginica'],\n",
       " [141, 6.7, 3.1, 5.6, 2.4, 'Iris-virginica'],\n",
       " [142, 6.9, 3.1, 5.1, 2.3, 'Iris-virginica'],\n",
       " [143, 5.8, 2.7, 5.1, 1.9, 'Iris-virginica'],\n",
       " [144, 6.8, 3.2, 5.9, 2.3, 'Iris-virginica'],\n",
       " [145, 6.7, 3.3, 5.7, 2.5, 'Iris-virginica'],\n",
       " [146, 6.7, 3.0, 5.2, 2.3, 'Iris-virginica'],\n",
       " [147, 6.3, 2.5, 5.0, 1.9, 'Iris-virginica'],\n",
       " [148, 6.5, 3.0, 5.2, 2.0, 'Iris-virginica'],\n",
       " [149, 6.2, 3.4, 5.4, 2.3, 'Iris-virginica'],\n",
       " [150, 5.9, 3.0, 5.1, 1.8, 'Iris-virginica']]"
      ]
     },
     "execution_count": 145,
     "metadata": {},
     "output_type": "execute_result"
    }
   ],
   "source": [
    "df.values.tolist()"
   ]
  },
  {
   "cell_type": "code",
   "execution_count": 146,
   "id": "02e420de",
   "metadata": {},
   "outputs": [
    {
     "data": {
      "text/plain": [
       "list"
      ]
     },
     "execution_count": 146,
     "metadata": {},
     "output_type": "execute_result"
    }
   ],
   "source": [
    "type(df.values.tolist())"
   ]
  },
  {
   "cell_type": "code",
   "execution_count": null,
   "id": "5f1b1c43",
   "metadata": {},
   "outputs": [],
   "source": [
    "df.columns.values.tolist()"
   ]
  },
  {
   "cell_type": "code",
   "execution_count": 147,
   "id": "13f3c62e",
   "metadata": {},
   "outputs": [
    {
     "data": {
      "text/html": [
       "<div>\n",
       "<style scoped>\n",
       "    .dataframe tbody tr th:only-of-type {\n",
       "        vertical-align: middle;\n",
       "    }\n",
       "\n",
       "    .dataframe tbody tr th {\n",
       "        vertical-align: top;\n",
       "    }\n",
       "\n",
       "    .dataframe thead th {\n",
       "        text-align: right;\n",
       "    }\n",
       "</style>\n",
       "<table border=\"1\" class=\"dataframe\">\n",
       "  <thead>\n",
       "    <tr style=\"text-align: right;\">\n",
       "      <th></th>\n",
       "      <th>Id</th>\n",
       "      <th>SepalLengthCm</th>\n",
       "      <th>SepalWidthCm</th>\n",
       "      <th>PetalLengthCm</th>\n",
       "      <th>PetalWidthCm</th>\n",
       "    </tr>\n",
       "  </thead>\n",
       "  <tbody>\n",
       "    <tr>\n",
       "      <th>count</th>\n",
       "      <td>150.000000</td>\n",
       "      <td>150.000000</td>\n",
       "      <td>150.000000</td>\n",
       "      <td>150.000000</td>\n",
       "      <td>150.000000</td>\n",
       "    </tr>\n",
       "    <tr>\n",
       "      <th>mean</th>\n",
       "      <td>75.500000</td>\n",
       "      <td>5.843333</td>\n",
       "      <td>3.054000</td>\n",
       "      <td>3.758667</td>\n",
       "      <td>1.198667</td>\n",
       "    </tr>\n",
       "    <tr>\n",
       "      <th>std</th>\n",
       "      <td>43.445368</td>\n",
       "      <td>0.828066</td>\n",
       "      <td>0.433594</td>\n",
       "      <td>1.764420</td>\n",
       "      <td>0.763161</td>\n",
       "    </tr>\n",
       "    <tr>\n",
       "      <th>min</th>\n",
       "      <td>1.000000</td>\n",
       "      <td>4.300000</td>\n",
       "      <td>2.000000</td>\n",
       "      <td>1.000000</td>\n",
       "      <td>0.100000</td>\n",
       "    </tr>\n",
       "    <tr>\n",
       "      <th>25%</th>\n",
       "      <td>38.250000</td>\n",
       "      <td>5.100000</td>\n",
       "      <td>2.800000</td>\n",
       "      <td>1.600000</td>\n",
       "      <td>0.300000</td>\n",
       "    </tr>\n",
       "    <tr>\n",
       "      <th>50%</th>\n",
       "      <td>75.500000</td>\n",
       "      <td>5.800000</td>\n",
       "      <td>3.000000</td>\n",
       "      <td>4.350000</td>\n",
       "      <td>1.300000</td>\n",
       "    </tr>\n",
       "    <tr>\n",
       "      <th>75%</th>\n",
       "      <td>112.750000</td>\n",
       "      <td>6.400000</td>\n",
       "      <td>3.300000</td>\n",
       "      <td>5.100000</td>\n",
       "      <td>1.800000</td>\n",
       "    </tr>\n",
       "    <tr>\n",
       "      <th>max</th>\n",
       "      <td>150.000000</td>\n",
       "      <td>7.900000</td>\n",
       "      <td>4.400000</td>\n",
       "      <td>6.900000</td>\n",
       "      <td>2.500000</td>\n",
       "    </tr>\n",
       "  </tbody>\n",
       "</table>\n",
       "</div>"
      ],
      "text/plain": [
       "               Id  SepalLengthCm  SepalWidthCm  PetalLengthCm  PetalWidthCm\n",
       "count  150.000000     150.000000    150.000000     150.000000    150.000000\n",
       "mean    75.500000       5.843333      3.054000       3.758667      1.198667\n",
       "std     43.445368       0.828066      0.433594       1.764420      0.763161\n",
       "min      1.000000       4.300000      2.000000       1.000000      0.100000\n",
       "25%     38.250000       5.100000      2.800000       1.600000      0.300000\n",
       "50%     75.500000       5.800000      3.000000       4.350000      1.300000\n",
       "75%    112.750000       6.400000      3.300000       5.100000      1.800000\n",
       "max    150.000000       7.900000      4.400000       6.900000      2.500000"
      ]
     },
     "execution_count": 147,
     "metadata": {},
     "output_type": "execute_result"
    }
   ],
   "source": [
    "df.describe()"
   ]
  },
  {
   "cell_type": "code",
   "execution_count": 148,
   "id": "c1ee2fdf",
   "metadata": {},
   "outputs": [
    {
     "name": "stderr",
     "output_type": "stream",
     "text": [
      "C:\\Users\\jrbrad\\AppData\\Local\\Temp\\ipykernel_15200\\3698961737.py:1: FutureWarning: The default value of numeric_only in DataFrame.mean is deprecated. In a future version, it will default to False. In addition, specifying 'numeric_only=None' is deprecated. Select only valid columns or specify the value of numeric_only to silence this warning.\n",
      "  df.mean()\n"
     ]
    },
    {
     "data": {
      "text/plain": [
       "Id               75.500000\n",
       "SepalLengthCm     5.843333\n",
       "SepalWidthCm      3.054000\n",
       "PetalLengthCm     3.758667\n",
       "PetalWidthCm      1.198667\n",
       "dtype: float64"
      ]
     },
     "execution_count": 148,
     "metadata": {},
     "output_type": "execute_result"
    }
   ],
   "source": [
    "df.mean()"
   ]
  },
  {
   "cell_type": "code",
   "execution_count": 149,
   "id": "33669dbb",
   "metadata": {},
   "outputs": [
    {
     "name": "stderr",
     "output_type": "stream",
     "text": [
      "C:\\Users\\jrbrad\\AppData\\Local\\Temp\\ipykernel_15200\\530051474.py:1: FutureWarning: The default value of numeric_only in DataFrame.median is deprecated. In a future version, it will default to False. In addition, specifying 'numeric_only=None' is deprecated. Select only valid columns or specify the value of numeric_only to silence this warning.\n",
      "  df.median()\n"
     ]
    },
    {
     "data": {
      "text/plain": [
       "Id               75.50\n",
       "SepalLengthCm     5.80\n",
       "SepalWidthCm      3.00\n",
       "PetalLengthCm     4.35\n",
       "PetalWidthCm      1.30\n",
       "dtype: float64"
      ]
     },
     "execution_count": 149,
     "metadata": {},
     "output_type": "execute_result"
    }
   ],
   "source": [
    "df.median()"
   ]
  },
  {
   "cell_type": "code",
   "execution_count": 150,
   "id": "d2549cc5",
   "metadata": {},
   "outputs": [
    {
     "data": {
      "text/plain": [
       "Id                         1\n",
       "SepalLengthCm            4.3\n",
       "SepalWidthCm             2.0\n",
       "PetalLengthCm            1.0\n",
       "PetalWidthCm             0.1\n",
       "Species          Iris-setosa\n",
       "dtype: object"
      ]
     },
     "execution_count": 150,
     "metadata": {},
     "output_type": "execute_result"
    }
   ],
   "source": [
    "df.min()"
   ]
  },
  {
   "cell_type": "code",
   "execution_count": 151,
   "id": "5f6f781b",
   "metadata": {},
   "outputs": [
    {
     "data": {
      "text/plain": [
       "Id                          150\n",
       "SepalLengthCm               7.9\n",
       "SepalWidthCm                4.4\n",
       "PetalLengthCm               6.9\n",
       "PetalWidthCm                2.5\n",
       "Species          Iris-virginica\n",
       "dtype: object"
      ]
     },
     "execution_count": 151,
     "metadata": {},
     "output_type": "execute_result"
    }
   ],
   "source": [
    "df.max()"
   ]
  },
  {
   "cell_type": "markdown",
   "id": "7c907e62",
   "metadata": {
    "collapsed": true
   },
   "source": [
    "Here is a link that shows other mathematical functions that can be applied to DataFrames:\n",
    "\n",
    "[https://pandas.pydata.org/pandas-docs/stable/generated/pandas.DataFrame.html](https://pandas.pydata.org/pandas-docs/stable/generated/pandas.DataFrame.html)"
   ]
  },
  {
   "cell_type": "markdown",
   "id": "86aab596",
   "metadata": {},
   "source": [
    "### Applying Series Properties and Methods to DataFrame Columns\n",
    "\n",
    "The columns of a DataFrame are Series objects, so you can apply the Series properties and methods that we have descussed previously."
   ]
  },
  {
   "cell_type": "code",
   "execution_count": null,
   "id": "03905538",
   "metadata": {},
   "outputs": [],
   "source": [
    "df['PetalLengthCm'].loc[0]"
   ]
  },
  {
   "cell_type": "code",
   "execution_count": null,
   "id": "135543d4",
   "metadata": {},
   "outputs": [],
   "source": [
    "df['PetalLengthCm'].iloc[0]"
   ]
  },
  {
   "cell_type": "code",
   "execution_count": null,
   "id": "b272238e",
   "metadata": {},
   "outputs": [],
   "source": [
    "print(df['PetalLengthCm'].sum())\n",
    "print(df['PetalLengthCm'].mean())\n",
    "print(df['PetalLengthCm'].median())\n",
    "print(df['PetalLengthCm'].shape)\n",
    "print(df['PetalLengthCm'].describe())"
   ]
  },
  {
   "cell_type": "code",
   "execution_count": null,
   "id": "2d90aa26",
   "metadata": {},
   "outputs": [],
   "source": [
    "df['PetalLengthCm'].values"
   ]
  },
  {
   "cell_type": "code",
   "execution_count": null,
   "id": "9bbd8b03",
   "metadata": {},
   "outputs": [],
   "source": [
    "df['PetalLengthCm'].index"
   ]
  },
  {
   "cell_type": "code",
   "execution_count": null,
   "id": "e11b215b",
   "metadata": {},
   "outputs": [],
   "source": [
    "df['PetalLengthCm'].size"
   ]
  },
  {
   "cell_type": "code",
   "execution_count": 153,
   "id": "471256fe",
   "metadata": {},
   "outputs": [
    {
     "data": {
      "text/plain": [
       "'PetalLengthCm'"
      ]
     },
     "execution_count": 153,
     "metadata": {},
     "output_type": "execute_result"
    }
   ],
   "source": [
    "df['PetalLengthCm'].name"
   ]
  },
  {
   "cell_type": "code",
   "execution_count": null,
   "id": "9d529cc2",
   "metadata": {},
   "outputs": [],
   "source": [
    "df['Species'].unique()"
   ]
  },
  {
   "cell_type": "code",
   "execution_count": null,
   "id": "100ae2c3",
   "metadata": {},
   "outputs": [],
   "source": [
    "df['Species'].value_counts()"
   ]
  },
  {
   "cell_type": "markdown",
   "id": "c38e532c",
   "metadata": {},
   "source": [
    "### Sorting DataFrame Rows"
   ]
  },
  {
   "cell_type": "code",
   "execution_count": 154,
   "id": "2bd0f339",
   "metadata": {},
   "outputs": [
    {
     "data": {
      "text/html": [
       "<div>\n",
       "<style scoped>\n",
       "    .dataframe tbody tr th:only-of-type {\n",
       "        vertical-align: middle;\n",
       "    }\n",
       "\n",
       "    .dataframe tbody tr th {\n",
       "        vertical-align: top;\n",
       "    }\n",
       "\n",
       "    .dataframe thead th {\n",
       "        text-align: right;\n",
       "    }\n",
       "</style>\n",
       "<table border=\"1\" class=\"dataframe\">\n",
       "  <thead>\n",
       "    <tr style=\"text-align: right;\">\n",
       "      <th></th>\n",
       "      <th>Id</th>\n",
       "      <th>SepalLengthCm</th>\n",
       "      <th>SepalWidthCm</th>\n",
       "      <th>PetalLengthCm</th>\n",
       "      <th>PetalWidthCm</th>\n",
       "      <th>Species</th>\n",
       "    </tr>\n",
       "  </thead>\n",
       "  <tbody>\n",
       "    <tr>\n",
       "      <th>13</th>\n",
       "      <td>14</td>\n",
       "      <td>4.3</td>\n",
       "      <td>3.0</td>\n",
       "      <td>1.1</td>\n",
       "      <td>0.1</td>\n",
       "      <td>Iris-setosa</td>\n",
       "    </tr>\n",
       "    <tr>\n",
       "      <th>42</th>\n",
       "      <td>43</td>\n",
       "      <td>4.4</td>\n",
       "      <td>3.2</td>\n",
       "      <td>1.3</td>\n",
       "      <td>0.2</td>\n",
       "      <td>Iris-setosa</td>\n",
       "    </tr>\n",
       "    <tr>\n",
       "      <th>38</th>\n",
       "      <td>39</td>\n",
       "      <td>4.4</td>\n",
       "      <td>3.0</td>\n",
       "      <td>1.3</td>\n",
       "      <td>0.2</td>\n",
       "      <td>Iris-setosa</td>\n",
       "    </tr>\n",
       "    <tr>\n",
       "      <th>8</th>\n",
       "      <td>9</td>\n",
       "      <td>4.4</td>\n",
       "      <td>2.9</td>\n",
       "      <td>1.4</td>\n",
       "      <td>0.2</td>\n",
       "      <td>Iris-setosa</td>\n",
       "    </tr>\n",
       "    <tr>\n",
       "      <th>41</th>\n",
       "      <td>42</td>\n",
       "      <td>4.5</td>\n",
       "      <td>2.3</td>\n",
       "      <td>1.3</td>\n",
       "      <td>0.3</td>\n",
       "      <td>Iris-setosa</td>\n",
       "    </tr>\n",
       "    <tr>\n",
       "      <th>...</th>\n",
       "      <td>...</td>\n",
       "      <td>...</td>\n",
       "      <td>...</td>\n",
       "      <td>...</td>\n",
       "      <td>...</td>\n",
       "      <td>...</td>\n",
       "    </tr>\n",
       "    <tr>\n",
       "      <th>122</th>\n",
       "      <td>123</td>\n",
       "      <td>7.7</td>\n",
       "      <td>2.8</td>\n",
       "      <td>6.7</td>\n",
       "      <td>2.0</td>\n",
       "      <td>Iris-virginica</td>\n",
       "    </tr>\n",
       "    <tr>\n",
       "      <th>118</th>\n",
       "      <td>119</td>\n",
       "      <td>7.7</td>\n",
       "      <td>2.6</td>\n",
       "      <td>6.9</td>\n",
       "      <td>2.3</td>\n",
       "      <td>Iris-virginica</td>\n",
       "    </tr>\n",
       "    <tr>\n",
       "      <th>117</th>\n",
       "      <td>118</td>\n",
       "      <td>7.7</td>\n",
       "      <td>3.8</td>\n",
       "      <td>6.7</td>\n",
       "      <td>2.2</td>\n",
       "      <td>Iris-virginica</td>\n",
       "    </tr>\n",
       "    <tr>\n",
       "      <th>135</th>\n",
       "      <td>136</td>\n",
       "      <td>7.7</td>\n",
       "      <td>3.0</td>\n",
       "      <td>6.1</td>\n",
       "      <td>2.3</td>\n",
       "      <td>Iris-virginica</td>\n",
       "    </tr>\n",
       "    <tr>\n",
       "      <th>131</th>\n",
       "      <td>132</td>\n",
       "      <td>7.9</td>\n",
       "      <td>3.8</td>\n",
       "      <td>6.4</td>\n",
       "      <td>2.0</td>\n",
       "      <td>Iris-virginica</td>\n",
       "    </tr>\n",
       "  </tbody>\n",
       "</table>\n",
       "<p>150 rows × 6 columns</p>\n",
       "</div>"
      ],
      "text/plain": [
       "      Id  SepalLengthCm  SepalWidthCm  PetalLengthCm  PetalWidthCm  \\\n",
       "13    14            4.3           3.0            1.1           0.1   \n",
       "42    43            4.4           3.2            1.3           0.2   \n",
       "38    39            4.4           3.0            1.3           0.2   \n",
       "8      9            4.4           2.9            1.4           0.2   \n",
       "41    42            4.5           2.3            1.3           0.3   \n",
       "..   ...            ...           ...            ...           ...   \n",
       "122  123            7.7           2.8            6.7           2.0   \n",
       "118  119            7.7           2.6            6.9           2.3   \n",
       "117  118            7.7           3.8            6.7           2.2   \n",
       "135  136            7.7           3.0            6.1           2.3   \n",
       "131  132            7.9           3.8            6.4           2.0   \n",
       "\n",
       "            Species  \n",
       "13      Iris-setosa  \n",
       "42      Iris-setosa  \n",
       "38      Iris-setosa  \n",
       "8       Iris-setosa  \n",
       "41      Iris-setosa  \n",
       "..              ...  \n",
       "122  Iris-virginica  \n",
       "118  Iris-virginica  \n",
       "117  Iris-virginica  \n",
       "135  Iris-virginica  \n",
       "131  Iris-virginica  \n",
       "\n",
       "[150 rows x 6 columns]"
      ]
     },
     "execution_count": 154,
     "metadata": {},
     "output_type": "execute_result"
    }
   ],
   "source": [
    "df.sort_values(by='SepalLengthCm',inplace=True)\n",
    "df"
   ]
  },
  {
   "cell_type": "code",
   "execution_count": 155,
   "id": "e3f5aba8",
   "metadata": {},
   "outputs": [
    {
     "data": {
      "text/html": [
       "<div>\n",
       "<style scoped>\n",
       "    .dataframe tbody tr th:only-of-type {\n",
       "        vertical-align: middle;\n",
       "    }\n",
       "\n",
       "    .dataframe tbody tr th {\n",
       "        vertical-align: top;\n",
       "    }\n",
       "\n",
       "    .dataframe thead th {\n",
       "        text-align: right;\n",
       "    }\n",
       "</style>\n",
       "<table border=\"1\" class=\"dataframe\">\n",
       "  <thead>\n",
       "    <tr style=\"text-align: right;\">\n",
       "      <th></th>\n",
       "      <th>Id</th>\n",
       "      <th>SepalLengthCm</th>\n",
       "      <th>SepalWidthCm</th>\n",
       "      <th>PetalLengthCm</th>\n",
       "      <th>PetalWidthCm</th>\n",
       "      <th>Species</th>\n",
       "    </tr>\n",
       "  </thead>\n",
       "  <tbody>\n",
       "    <tr>\n",
       "      <th>0</th>\n",
       "      <td>1</td>\n",
       "      <td>5.1</td>\n",
       "      <td>3.5</td>\n",
       "      <td>1.4</td>\n",
       "      <td>0.2</td>\n",
       "      <td>Iris-setosa</td>\n",
       "    </tr>\n",
       "    <tr>\n",
       "      <th>1</th>\n",
       "      <td>2</td>\n",
       "      <td>4.9</td>\n",
       "      <td>3.0</td>\n",
       "      <td>1.4</td>\n",
       "      <td>0.2</td>\n",
       "      <td>Iris-setosa</td>\n",
       "    </tr>\n",
       "    <tr>\n",
       "      <th>2</th>\n",
       "      <td>3</td>\n",
       "      <td>4.7</td>\n",
       "      <td>3.2</td>\n",
       "      <td>1.3</td>\n",
       "      <td>0.2</td>\n",
       "      <td>Iris-setosa</td>\n",
       "    </tr>\n",
       "    <tr>\n",
       "      <th>3</th>\n",
       "      <td>4</td>\n",
       "      <td>4.6</td>\n",
       "      <td>3.1</td>\n",
       "      <td>1.5</td>\n",
       "      <td>0.2</td>\n",
       "      <td>Iris-setosa</td>\n",
       "    </tr>\n",
       "    <tr>\n",
       "      <th>4</th>\n",
       "      <td>5</td>\n",
       "      <td>5.0</td>\n",
       "      <td>3.6</td>\n",
       "      <td>1.4</td>\n",
       "      <td>0.2</td>\n",
       "      <td>Iris-setosa</td>\n",
       "    </tr>\n",
       "    <tr>\n",
       "      <th>...</th>\n",
       "      <td>...</td>\n",
       "      <td>...</td>\n",
       "      <td>...</td>\n",
       "      <td>...</td>\n",
       "      <td>...</td>\n",
       "      <td>...</td>\n",
       "    </tr>\n",
       "    <tr>\n",
       "      <th>145</th>\n",
       "      <td>146</td>\n",
       "      <td>6.7</td>\n",
       "      <td>3.0</td>\n",
       "      <td>5.2</td>\n",
       "      <td>2.3</td>\n",
       "      <td>Iris-virginica</td>\n",
       "    </tr>\n",
       "    <tr>\n",
       "      <th>146</th>\n",
       "      <td>147</td>\n",
       "      <td>6.3</td>\n",
       "      <td>2.5</td>\n",
       "      <td>5.0</td>\n",
       "      <td>1.9</td>\n",
       "      <td>Iris-virginica</td>\n",
       "    </tr>\n",
       "    <tr>\n",
       "      <th>147</th>\n",
       "      <td>148</td>\n",
       "      <td>6.5</td>\n",
       "      <td>3.0</td>\n",
       "      <td>5.2</td>\n",
       "      <td>2.0</td>\n",
       "      <td>Iris-virginica</td>\n",
       "    </tr>\n",
       "    <tr>\n",
       "      <th>148</th>\n",
       "      <td>149</td>\n",
       "      <td>6.2</td>\n",
       "      <td>3.4</td>\n",
       "      <td>5.4</td>\n",
       "      <td>2.3</td>\n",
       "      <td>Iris-virginica</td>\n",
       "    </tr>\n",
       "    <tr>\n",
       "      <th>149</th>\n",
       "      <td>150</td>\n",
       "      <td>5.9</td>\n",
       "      <td>3.0</td>\n",
       "      <td>5.1</td>\n",
       "      <td>1.8</td>\n",
       "      <td>Iris-virginica</td>\n",
       "    </tr>\n",
       "  </tbody>\n",
       "</table>\n",
       "<p>150 rows × 6 columns</p>\n",
       "</div>"
      ],
      "text/plain": [
       "      Id  SepalLengthCm  SepalWidthCm  PetalLengthCm  PetalWidthCm  \\\n",
       "0      1            5.1           3.5            1.4           0.2   \n",
       "1      2            4.9           3.0            1.4           0.2   \n",
       "2      3            4.7           3.2            1.3           0.2   \n",
       "3      4            4.6           3.1            1.5           0.2   \n",
       "4      5            5.0           3.6            1.4           0.2   \n",
       "..   ...            ...           ...            ...           ...   \n",
       "145  146            6.7           3.0            5.2           2.3   \n",
       "146  147            6.3           2.5            5.0           1.9   \n",
       "147  148            6.5           3.0            5.2           2.0   \n",
       "148  149            6.2           3.4            5.4           2.3   \n",
       "149  150            5.9           3.0            5.1           1.8   \n",
       "\n",
       "            Species  \n",
       "0       Iris-setosa  \n",
       "1       Iris-setosa  \n",
       "2       Iris-setosa  \n",
       "3       Iris-setosa  \n",
       "4       Iris-setosa  \n",
       "..              ...  \n",
       "145  Iris-virginica  \n",
       "146  Iris-virginica  \n",
       "147  Iris-virginica  \n",
       "148  Iris-virginica  \n",
       "149  Iris-virginica  \n",
       "\n",
       "[150 rows x 6 columns]"
      ]
     },
     "execution_count": 155,
     "metadata": {},
     "output_type": "execute_result"
    }
   ],
   "source": [
    "df.sort_index(inplace=True)\n",
    "df"
   ]
  },
  {
   "cell_type": "code",
   "execution_count": 156,
   "id": "e57fa8d6",
   "metadata": {},
   "outputs": [
    {
     "data": {
      "text/html": [
       "<div>\n",
       "<style scoped>\n",
       "    .dataframe tbody tr th:only-of-type {\n",
       "        vertical-align: middle;\n",
       "    }\n",
       "\n",
       "    .dataframe tbody tr th {\n",
       "        vertical-align: top;\n",
       "    }\n",
       "\n",
       "    .dataframe thead th {\n",
       "        text-align: right;\n",
       "    }\n",
       "</style>\n",
       "<table border=\"1\" class=\"dataframe\">\n",
       "  <thead>\n",
       "    <tr style=\"text-align: right;\">\n",
       "      <th></th>\n",
       "      <th>Id</th>\n",
       "      <th>SepalLengthCm</th>\n",
       "      <th>SepalWidthCm</th>\n",
       "      <th>PetalLengthCm</th>\n",
       "      <th>PetalWidthCm</th>\n",
       "      <th>Species</th>\n",
       "    </tr>\n",
       "  </thead>\n",
       "  <tbody>\n",
       "    <tr>\n",
       "      <th>13</th>\n",
       "      <td>14</td>\n",
       "      <td>4.3</td>\n",
       "      <td>3.0</td>\n",
       "      <td>1.1</td>\n",
       "      <td>0.1</td>\n",
       "      <td>Iris-setosa</td>\n",
       "    </tr>\n",
       "    <tr>\n",
       "      <th>8</th>\n",
       "      <td>9</td>\n",
       "      <td>4.4</td>\n",
       "      <td>2.9</td>\n",
       "      <td>1.4</td>\n",
       "      <td>0.2</td>\n",
       "      <td>Iris-setosa</td>\n",
       "    </tr>\n",
       "    <tr>\n",
       "      <th>38</th>\n",
       "      <td>39</td>\n",
       "      <td>4.4</td>\n",
       "      <td>3.0</td>\n",
       "      <td>1.3</td>\n",
       "      <td>0.2</td>\n",
       "      <td>Iris-setosa</td>\n",
       "    </tr>\n",
       "    <tr>\n",
       "      <th>42</th>\n",
       "      <td>43</td>\n",
       "      <td>4.4</td>\n",
       "      <td>3.2</td>\n",
       "      <td>1.3</td>\n",
       "      <td>0.2</td>\n",
       "      <td>Iris-setosa</td>\n",
       "    </tr>\n",
       "    <tr>\n",
       "      <th>41</th>\n",
       "      <td>42</td>\n",
       "      <td>4.5</td>\n",
       "      <td>2.3</td>\n",
       "      <td>1.3</td>\n",
       "      <td>0.3</td>\n",
       "      <td>Iris-setosa</td>\n",
       "    </tr>\n",
       "    <tr>\n",
       "      <th>...</th>\n",
       "      <td>...</td>\n",
       "      <td>...</td>\n",
       "      <td>...</td>\n",
       "      <td>...</td>\n",
       "      <td>...</td>\n",
       "      <td>...</td>\n",
       "    </tr>\n",
       "    <tr>\n",
       "      <th>118</th>\n",
       "      <td>119</td>\n",
       "      <td>7.7</td>\n",
       "      <td>2.6</td>\n",
       "      <td>6.9</td>\n",
       "      <td>2.3</td>\n",
       "      <td>Iris-virginica</td>\n",
       "    </tr>\n",
       "    <tr>\n",
       "      <th>122</th>\n",
       "      <td>123</td>\n",
       "      <td>7.7</td>\n",
       "      <td>2.8</td>\n",
       "      <td>6.7</td>\n",
       "      <td>2.0</td>\n",
       "      <td>Iris-virginica</td>\n",
       "    </tr>\n",
       "    <tr>\n",
       "      <th>135</th>\n",
       "      <td>136</td>\n",
       "      <td>7.7</td>\n",
       "      <td>3.0</td>\n",
       "      <td>6.1</td>\n",
       "      <td>2.3</td>\n",
       "      <td>Iris-virginica</td>\n",
       "    </tr>\n",
       "    <tr>\n",
       "      <th>117</th>\n",
       "      <td>118</td>\n",
       "      <td>7.7</td>\n",
       "      <td>3.8</td>\n",
       "      <td>6.7</td>\n",
       "      <td>2.2</td>\n",
       "      <td>Iris-virginica</td>\n",
       "    </tr>\n",
       "    <tr>\n",
       "      <th>131</th>\n",
       "      <td>132</td>\n",
       "      <td>7.9</td>\n",
       "      <td>3.8</td>\n",
       "      <td>6.4</td>\n",
       "      <td>2.0</td>\n",
       "      <td>Iris-virginica</td>\n",
       "    </tr>\n",
       "  </tbody>\n",
       "</table>\n",
       "<p>150 rows × 6 columns</p>\n",
       "</div>"
      ],
      "text/plain": [
       "      Id  SepalLengthCm  SepalWidthCm  PetalLengthCm  PetalWidthCm  \\\n",
       "13    14            4.3           3.0            1.1           0.1   \n",
       "8      9            4.4           2.9            1.4           0.2   \n",
       "38    39            4.4           3.0            1.3           0.2   \n",
       "42    43            4.4           3.2            1.3           0.2   \n",
       "41    42            4.5           2.3            1.3           0.3   \n",
       "..   ...            ...           ...            ...           ...   \n",
       "118  119            7.7           2.6            6.9           2.3   \n",
       "122  123            7.7           2.8            6.7           2.0   \n",
       "135  136            7.7           3.0            6.1           2.3   \n",
       "117  118            7.7           3.8            6.7           2.2   \n",
       "131  132            7.9           3.8            6.4           2.0   \n",
       "\n",
       "            Species  \n",
       "13      Iris-setosa  \n",
       "8       Iris-setosa  \n",
       "38      Iris-setosa  \n",
       "42      Iris-setosa  \n",
       "41      Iris-setosa  \n",
       "..              ...  \n",
       "118  Iris-virginica  \n",
       "122  Iris-virginica  \n",
       "135  Iris-virginica  \n",
       "117  Iris-virginica  \n",
       "131  Iris-virginica  \n",
       "\n",
       "[150 rows x 6 columns]"
      ]
     },
     "execution_count": 156,
     "metadata": {},
     "output_type": "execute_result"
    }
   ],
   "source": [
    "df.sort_values(by=['SepalLengthCm','SepalWidthCm'], inplace=True)\n",
    "df"
   ]
  },
  {
   "cell_type": "code",
   "execution_count": null,
   "id": "4f40f41a",
   "metadata": {},
   "outputs": [],
   "source": [
    "df.sort_values(by='Id',inplace=True)\n",
    "df"
   ]
  },
  {
   "cell_type": "markdown",
   "id": "25446101",
   "metadata": {},
   "source": [
    "### Creating and Deleting New DataFrame Columns and Deleting Existing Columns\n",
    "\n",
    "Feature Engineering is a name for creating new columns that enhance the value of your analysis by, for example, increasing the accuracy of predictions.  We will demonstrate how to create new columns in a pandas DataFrame, although the task we will perform is not of monumental value.  Specifically, we will create a new column that converts the data from being measured in centimeters to being measures in inches.\n",
    "\n",
    "Let's convert the PetalLengthCm column to inches and, in so doing, create a new column called PetalLengthIn.\n",
    "\n",
    "The statement in the cell below is, perhaps, a bit confusing.  It seems that we are dividing a dataFrame column, on the right-hand side, by a constant.  Thus, it seems we've mixed data type: we have a pandas Series and a constant.  However, the division is interpreted element-wise, so each element is divided by 2.54."
   ]
  },
  {
   "cell_type": "code",
   "execution_count": 157,
   "id": "2c3510d2",
   "metadata": {
    "collapsed": true
   },
   "outputs": [
    {
     "data": {
      "text/plain": [
       "13     0.433071\n",
       "8      0.551181\n",
       "38     0.511811\n",
       "42     0.511811\n",
       "41     0.511811\n",
       "         ...   \n",
       "118    2.716535\n",
       "122    2.637795\n",
       "135    2.401575\n",
       "117    2.637795\n",
       "131    2.519685\n",
       "Name: PetalLengthIn, Length: 150, dtype: float64"
      ]
     },
     "execution_count": 157,
     "metadata": {},
     "output_type": "execute_result"
    }
   ],
   "source": [
    "InPerCm = 2.54   # Conversion factor for inches to centimeters\n",
    "df['PetalLengthIn'] = df['PetalLengthCm'] / InPerCm\n",
    "df['PetalLengthIn']"
   ]
  },
  {
   "cell_type": "markdown",
   "id": "54b0caeb",
   "metadata": {},
   "source": [
    "Recall that we previously saw that we might predict Iris species based on the PetalLengthIn dimension, which is the column we just created.  Recall that a PetalLengthIn less than 1 inch indicated Iris-setosa, a PetalLengthIn between 1 and 1.9 inches suggests Iris-versicolor, and a PetalLengthIn greater than 1.9 suggests Iris-virginica.\n",
    "\n",
    "Let's create a column with these predictions.  The first step is to create a function that, given a row from the DataFrame df, evaluates the value in the PetalLengthIn column and returns the appropriate species names as a string value."
   ]
  },
  {
   "cell_type": "code",
   "execution_count": 159,
   "id": "8091dbfc",
   "metadata": {},
   "outputs": [],
   "source": [
    "def predict(row):\n",
    "    if row['PetalLengthIn'] <= 1.0:\n",
    "        return 'Iris-setosa'\n",
    "    elif row['PetalLengthIn'] <= 1.9:\n",
    "        return 'Iris-versicolor'\n",
    "    else:\n",
    "        return 'Iris-virginica'"
   ]
  },
  {
   "cell_type": "markdown",
   "id": "5744d98b",
   "metadata": {},
   "source": [
    "The .apply DataFrame method causes these actions:\n",
    "\n",
    "- Each row of the Dataframe is passed, one-by-one, to the function whose name is given as the first argument.  In this case the function name is predict, which is the function we just defined.\n",
    "- The return value from the predict function for each row is appended to the new column 'Predict' in the same row that gave rise to the return value.\n",
    "- The 'axis' argument determines whether the DataFrame data is sent to 'predict' by rows or by columns.\n",
    "\n",
    "This last point is, perhaps, a bit confusing.  Specifying axis = 'columns' means that one 'set' of column values are sent to the function in each pass.  That means, by the way I think, that the data are sent row by row.  Specifying axis = 'rows' implies the converse: the total contents of each column, including the index column, are sent one-by-one to the function."
   ]
  },
  {
   "cell_type": "code",
   "execution_count": 160,
   "id": "9d1b6328",
   "metadata": {
    "scrolled": true
   },
   "outputs": [
    {
     "name": "stdout",
     "output_type": "stream",
     "text": [
      "13        Iris-setosa\n",
      "8         Iris-setosa\n",
      "38        Iris-setosa\n",
      "42        Iris-setosa\n",
      "41        Iris-setosa\n",
      "            ...      \n",
      "118    Iris-virginica\n",
      "122    Iris-virginica\n",
      "135    Iris-virginica\n",
      "117    Iris-virginica\n",
      "131    Iris-virginica\n",
      "Name: Predict, Length: 150, dtype: object\n"
     ]
    }
   ],
   "source": [
    "df['Predict'] = df.apply(predict,axis='columns')\n",
    "print(df['Predict'])"
   ]
  },
  {
   "cell_type": "code",
   "execution_count": 161,
   "id": "48faa9bf",
   "metadata": {},
   "outputs": [],
   "source": [
    "df['DeleteMe'] = 0\n",
    "df['DeleteMe1'] = 0\n",
    "df['DeleteMe2'] = 0"
   ]
  },
  {
   "cell_type": "code",
   "execution_count": 164,
   "id": "4fc6085f",
   "metadata": {},
   "outputs": [
    {
     "data": {
      "text/plain": [
       "array(['Id', 'SepalLengthCm', 'SepalWidthCm', 'PetalLengthCm',\n",
       "       'PetalWidthCm', 'Species', 'PetalLengthIn', 'Predict', 'DeleteMe',\n",
       "       'DeleteMe1', 'DeleteMe2'], dtype=object)"
      ]
     },
     "execution_count": 164,
     "metadata": {},
     "output_type": "execute_result"
    }
   ],
   "source": [
    "df.columns.values"
   ]
  },
  {
   "cell_type": "code",
   "execution_count": 165,
   "id": "dfa7dd5f",
   "metadata": {},
   "outputs": [],
   "source": [
    "df.drop('DeleteMe', axis=1, inplace=True)"
   ]
  },
  {
   "cell_type": "code",
   "execution_count": 166,
   "id": "caf3bbfb",
   "metadata": {},
   "outputs": [
    {
     "data": {
      "text/plain": [
       "array(['Id', 'SepalLengthCm', 'SepalWidthCm', 'PetalLengthCm',\n",
       "       'PetalWidthCm', 'Species', 'PetalLengthIn', 'Predict', 'DeleteMe1',\n",
       "       'DeleteMe2'], dtype=object)"
      ]
     },
     "execution_count": 166,
     "metadata": {},
     "output_type": "execute_result"
    }
   ],
   "source": [
    "df.columns.values"
   ]
  },
  {
   "cell_type": "code",
   "execution_count": null,
   "id": "00ba58f6",
   "metadata": {},
   "outputs": [],
   "source": [
    "df.drop(['DeleteMe1','DeleteMe2'], axis=1, inplace=True)"
   ]
  },
  {
   "cell_type": "markdown",
   "id": "f4114889",
   "metadata": {},
   "source": [
    "### Handling Null Fields"
   ]
  },
  {
   "cell_type": "code",
   "execution_count": 167,
   "id": "dacad86d",
   "metadata": {},
   "outputs": [],
   "source": [
    "import numpy as np\n",
    "dfAdd = pd.DataFrame([[151,5.0,17,1.4,0.2,np.NaN,0.57,np.NaN],[152,5.0,18,1.4,0.2,np.NaN,0.57,np.NaN]], columns=['Id', 'SepalLengthCm', 'SepalWidthCm', 'PetalLengthCm', 'PetalWidthCm',\n",
    " 'Species', 'PetalLengthIn', 'Predict'])"
   ]
  },
  {
   "cell_type": "code",
   "execution_count": 168,
   "id": "0181f87c",
   "metadata": {
    "collapsed": true
   },
   "outputs": [
    {
     "data": {
      "text/html": [
       "<div>\n",
       "<style scoped>\n",
       "    .dataframe tbody tr th:only-of-type {\n",
       "        vertical-align: middle;\n",
       "    }\n",
       "\n",
       "    .dataframe tbody tr th {\n",
       "        vertical-align: top;\n",
       "    }\n",
       "\n",
       "    .dataframe thead th {\n",
       "        text-align: right;\n",
       "    }\n",
       "</style>\n",
       "<table border=\"1\" class=\"dataframe\">\n",
       "  <thead>\n",
       "    <tr style=\"text-align: right;\">\n",
       "      <th></th>\n",
       "      <th>Id</th>\n",
       "      <th>SepalLengthCm</th>\n",
       "      <th>SepalWidthCm</th>\n",
       "      <th>PetalLengthCm</th>\n",
       "      <th>PetalWidthCm</th>\n",
       "      <th>Species</th>\n",
       "      <th>PetalLengthIn</th>\n",
       "      <th>Predict</th>\n",
       "    </tr>\n",
       "  </thead>\n",
       "  <tbody>\n",
       "    <tr>\n",
       "      <th>0</th>\n",
       "      <td>151</td>\n",
       "      <td>5.0</td>\n",
       "      <td>17</td>\n",
       "      <td>1.4</td>\n",
       "      <td>0.2</td>\n",
       "      <td>NaN</td>\n",
       "      <td>0.57</td>\n",
       "      <td>NaN</td>\n",
       "    </tr>\n",
       "    <tr>\n",
       "      <th>1</th>\n",
       "      <td>152</td>\n",
       "      <td>5.0</td>\n",
       "      <td>18</td>\n",
       "      <td>1.4</td>\n",
       "      <td>0.2</td>\n",
       "      <td>NaN</td>\n",
       "      <td>0.57</td>\n",
       "      <td>NaN</td>\n",
       "    </tr>\n",
       "  </tbody>\n",
       "</table>\n",
       "</div>"
      ],
      "text/plain": [
       "    Id  SepalLengthCm  SepalWidthCm  PetalLengthCm  PetalWidthCm  Species  \\\n",
       "0  151            5.0            17            1.4           0.2      NaN   \n",
       "1  152            5.0            18            1.4           0.2      NaN   \n",
       "\n",
       "   PetalLengthIn  Predict  \n",
       "0           0.57      NaN  \n",
       "1           0.57      NaN  "
      ]
     },
     "execution_count": 168,
     "metadata": {},
     "output_type": "execute_result"
    }
   ],
   "source": [
    "dfAdd"
   ]
  },
  {
   "cell_type": "code",
   "execution_count": 169,
   "id": "331dee21",
   "metadata": {},
   "outputs": [
    {
     "name": "stderr",
     "output_type": "stream",
     "text": [
      "C:\\Users\\jrbrad\\AppData\\Local\\Temp\\ipykernel_15200\\558829623.py:1: FutureWarning: The frame.append method is deprecated and will be removed from pandas in a future version. Use pandas.concat instead.\n",
      "  df = df.append(dfAdd)\n"
     ]
    }
   ],
   "source": [
    "df = df.append(dfAdd)"
   ]
  },
  {
   "cell_type": "code",
   "execution_count": 170,
   "id": "f203379d",
   "metadata": {},
   "outputs": [
    {
     "data": {
      "text/html": [
       "<div>\n",
       "<style scoped>\n",
       "    .dataframe tbody tr th:only-of-type {\n",
       "        vertical-align: middle;\n",
       "    }\n",
       "\n",
       "    .dataframe tbody tr th {\n",
       "        vertical-align: top;\n",
       "    }\n",
       "\n",
       "    .dataframe thead th {\n",
       "        text-align: right;\n",
       "    }\n",
       "</style>\n",
       "<table border=\"1\" class=\"dataframe\">\n",
       "  <thead>\n",
       "    <tr style=\"text-align: right;\">\n",
       "      <th></th>\n",
       "      <th>Id</th>\n",
       "      <th>SepalLengthCm</th>\n",
       "      <th>SepalWidthCm</th>\n",
       "      <th>PetalLengthCm</th>\n",
       "      <th>PetalWidthCm</th>\n",
       "      <th>Species</th>\n",
       "      <th>PetalLengthIn</th>\n",
       "      <th>Predict</th>\n",
       "      <th>DeleteMe1</th>\n",
       "      <th>DeleteMe2</th>\n",
       "    </tr>\n",
       "  </thead>\n",
       "  <tbody>\n",
       "    <tr>\n",
       "      <th>13</th>\n",
       "      <td>14</td>\n",
       "      <td>4.3</td>\n",
       "      <td>3.0</td>\n",
       "      <td>1.1</td>\n",
       "      <td>0.1</td>\n",
       "      <td>Iris-setosa</td>\n",
       "      <td>0.433071</td>\n",
       "      <td>Iris-setosa</td>\n",
       "      <td>0.0</td>\n",
       "      <td>0.0</td>\n",
       "    </tr>\n",
       "    <tr>\n",
       "      <th>8</th>\n",
       "      <td>9</td>\n",
       "      <td>4.4</td>\n",
       "      <td>2.9</td>\n",
       "      <td>1.4</td>\n",
       "      <td>0.2</td>\n",
       "      <td>Iris-setosa</td>\n",
       "      <td>0.551181</td>\n",
       "      <td>Iris-setosa</td>\n",
       "      <td>0.0</td>\n",
       "      <td>0.0</td>\n",
       "    </tr>\n",
       "    <tr>\n",
       "      <th>38</th>\n",
       "      <td>39</td>\n",
       "      <td>4.4</td>\n",
       "      <td>3.0</td>\n",
       "      <td>1.3</td>\n",
       "      <td>0.2</td>\n",
       "      <td>Iris-setosa</td>\n",
       "      <td>0.511811</td>\n",
       "      <td>Iris-setosa</td>\n",
       "      <td>0.0</td>\n",
       "      <td>0.0</td>\n",
       "    </tr>\n",
       "    <tr>\n",
       "      <th>42</th>\n",
       "      <td>43</td>\n",
       "      <td>4.4</td>\n",
       "      <td>3.2</td>\n",
       "      <td>1.3</td>\n",
       "      <td>0.2</td>\n",
       "      <td>Iris-setosa</td>\n",
       "      <td>0.511811</td>\n",
       "      <td>Iris-setosa</td>\n",
       "      <td>0.0</td>\n",
       "      <td>0.0</td>\n",
       "    </tr>\n",
       "    <tr>\n",
       "      <th>41</th>\n",
       "      <td>42</td>\n",
       "      <td>4.5</td>\n",
       "      <td>2.3</td>\n",
       "      <td>1.3</td>\n",
       "      <td>0.3</td>\n",
       "      <td>Iris-setosa</td>\n",
       "      <td>0.511811</td>\n",
       "      <td>Iris-setosa</td>\n",
       "      <td>0.0</td>\n",
       "      <td>0.0</td>\n",
       "    </tr>\n",
       "    <tr>\n",
       "      <th>...</th>\n",
       "      <td>...</td>\n",
       "      <td>...</td>\n",
       "      <td>...</td>\n",
       "      <td>...</td>\n",
       "      <td>...</td>\n",
       "      <td>...</td>\n",
       "      <td>...</td>\n",
       "      <td>...</td>\n",
       "      <td>...</td>\n",
       "      <td>...</td>\n",
       "    </tr>\n",
       "    <tr>\n",
       "      <th>135</th>\n",
       "      <td>136</td>\n",
       "      <td>7.7</td>\n",
       "      <td>3.0</td>\n",
       "      <td>6.1</td>\n",
       "      <td>2.3</td>\n",
       "      <td>Iris-virginica</td>\n",
       "      <td>2.401575</td>\n",
       "      <td>Iris-virginica</td>\n",
       "      <td>0.0</td>\n",
       "      <td>0.0</td>\n",
       "    </tr>\n",
       "    <tr>\n",
       "      <th>117</th>\n",
       "      <td>118</td>\n",
       "      <td>7.7</td>\n",
       "      <td>3.8</td>\n",
       "      <td>6.7</td>\n",
       "      <td>2.2</td>\n",
       "      <td>Iris-virginica</td>\n",
       "      <td>2.637795</td>\n",
       "      <td>Iris-virginica</td>\n",
       "      <td>0.0</td>\n",
       "      <td>0.0</td>\n",
       "    </tr>\n",
       "    <tr>\n",
       "      <th>131</th>\n",
       "      <td>132</td>\n",
       "      <td>7.9</td>\n",
       "      <td>3.8</td>\n",
       "      <td>6.4</td>\n",
       "      <td>2.0</td>\n",
       "      <td>Iris-virginica</td>\n",
       "      <td>2.519685</td>\n",
       "      <td>Iris-virginica</td>\n",
       "      <td>0.0</td>\n",
       "      <td>0.0</td>\n",
       "    </tr>\n",
       "    <tr>\n",
       "      <th>0</th>\n",
       "      <td>151</td>\n",
       "      <td>5.0</td>\n",
       "      <td>17.0</td>\n",
       "      <td>1.4</td>\n",
       "      <td>0.2</td>\n",
       "      <td>NaN</td>\n",
       "      <td>0.570000</td>\n",
       "      <td>NaN</td>\n",
       "      <td>NaN</td>\n",
       "      <td>NaN</td>\n",
       "    </tr>\n",
       "    <tr>\n",
       "      <th>1</th>\n",
       "      <td>152</td>\n",
       "      <td>5.0</td>\n",
       "      <td>18.0</td>\n",
       "      <td>1.4</td>\n",
       "      <td>0.2</td>\n",
       "      <td>NaN</td>\n",
       "      <td>0.570000</td>\n",
       "      <td>NaN</td>\n",
       "      <td>NaN</td>\n",
       "      <td>NaN</td>\n",
       "    </tr>\n",
       "  </tbody>\n",
       "</table>\n",
       "<p>152 rows × 10 columns</p>\n",
       "</div>"
      ],
      "text/plain": [
       "      Id  SepalLengthCm  SepalWidthCm  PetalLengthCm  PetalWidthCm  \\\n",
       "13    14            4.3           3.0            1.1           0.1   \n",
       "8      9            4.4           2.9            1.4           0.2   \n",
       "38    39            4.4           3.0            1.3           0.2   \n",
       "42    43            4.4           3.2            1.3           0.2   \n",
       "41    42            4.5           2.3            1.3           0.3   \n",
       "..   ...            ...           ...            ...           ...   \n",
       "135  136            7.7           3.0            6.1           2.3   \n",
       "117  118            7.7           3.8            6.7           2.2   \n",
       "131  132            7.9           3.8            6.4           2.0   \n",
       "0    151            5.0          17.0            1.4           0.2   \n",
       "1    152            5.0          18.0            1.4           0.2   \n",
       "\n",
       "            Species  PetalLengthIn         Predict  DeleteMe1  DeleteMe2  \n",
       "13      Iris-setosa       0.433071     Iris-setosa        0.0        0.0  \n",
       "8       Iris-setosa       0.551181     Iris-setosa        0.0        0.0  \n",
       "38      Iris-setosa       0.511811     Iris-setosa        0.0        0.0  \n",
       "42      Iris-setosa       0.511811     Iris-setosa        0.0        0.0  \n",
       "41      Iris-setosa       0.511811     Iris-setosa        0.0        0.0  \n",
       "..              ...            ...             ...        ...        ...  \n",
       "135  Iris-virginica       2.401575  Iris-virginica        0.0        0.0  \n",
       "117  Iris-virginica       2.637795  Iris-virginica        0.0        0.0  \n",
       "131  Iris-virginica       2.519685  Iris-virginica        0.0        0.0  \n",
       "0               NaN       0.570000             NaN        NaN        NaN  \n",
       "1               NaN       0.570000             NaN        NaN        NaN  \n",
       "\n",
       "[152 rows x 10 columns]"
      ]
     },
     "execution_count": 170,
     "metadata": {},
     "output_type": "execute_result"
    }
   ],
   "source": [
    "df"
   ]
  },
  {
   "cell_type": "code",
   "execution_count": 171,
   "id": "42c861c0",
   "metadata": {},
   "outputs": [
    {
     "data": {
      "text/html": [
       "<div>\n",
       "<style scoped>\n",
       "    .dataframe tbody tr th:only-of-type {\n",
       "        vertical-align: middle;\n",
       "    }\n",
       "\n",
       "    .dataframe tbody tr th {\n",
       "        vertical-align: top;\n",
       "    }\n",
       "\n",
       "    .dataframe thead th {\n",
       "        text-align: right;\n",
       "    }\n",
       "</style>\n",
       "<table border=\"1\" class=\"dataframe\">\n",
       "  <thead>\n",
       "    <tr style=\"text-align: right;\">\n",
       "      <th></th>\n",
       "      <th>Id</th>\n",
       "      <th>SepalLengthCm</th>\n",
       "      <th>SepalWidthCm</th>\n",
       "      <th>PetalLengthCm</th>\n",
       "      <th>PetalWidthCm</th>\n",
       "      <th>Species</th>\n",
       "      <th>PetalLengthIn</th>\n",
       "      <th>Predict</th>\n",
       "      <th>DeleteMe1</th>\n",
       "      <th>DeleteMe2</th>\n",
       "    </tr>\n",
       "  </thead>\n",
       "  <tbody>\n",
       "    <tr>\n",
       "      <th>13</th>\n",
       "      <td>14</td>\n",
       "      <td>4.3</td>\n",
       "      <td>3.0</td>\n",
       "      <td>1.1</td>\n",
       "      <td>0.1</td>\n",
       "      <td>Iris-setosa</td>\n",
       "      <td>0.433071</td>\n",
       "      <td>Iris-setosa</td>\n",
       "      <td>0.0</td>\n",
       "      <td>0.0</td>\n",
       "    </tr>\n",
       "    <tr>\n",
       "      <th>8</th>\n",
       "      <td>9</td>\n",
       "      <td>4.4</td>\n",
       "      <td>2.9</td>\n",
       "      <td>1.4</td>\n",
       "      <td>0.2</td>\n",
       "      <td>Iris-setosa</td>\n",
       "      <td>0.551181</td>\n",
       "      <td>Iris-setosa</td>\n",
       "      <td>0.0</td>\n",
       "      <td>0.0</td>\n",
       "    </tr>\n",
       "    <tr>\n",
       "      <th>38</th>\n",
       "      <td>39</td>\n",
       "      <td>4.4</td>\n",
       "      <td>3.0</td>\n",
       "      <td>1.3</td>\n",
       "      <td>0.2</td>\n",
       "      <td>Iris-setosa</td>\n",
       "      <td>0.511811</td>\n",
       "      <td>Iris-setosa</td>\n",
       "      <td>0.0</td>\n",
       "      <td>0.0</td>\n",
       "    </tr>\n",
       "    <tr>\n",
       "      <th>42</th>\n",
       "      <td>43</td>\n",
       "      <td>4.4</td>\n",
       "      <td>3.2</td>\n",
       "      <td>1.3</td>\n",
       "      <td>0.2</td>\n",
       "      <td>Iris-setosa</td>\n",
       "      <td>0.511811</td>\n",
       "      <td>Iris-setosa</td>\n",
       "      <td>0.0</td>\n",
       "      <td>0.0</td>\n",
       "    </tr>\n",
       "    <tr>\n",
       "      <th>41</th>\n",
       "      <td>42</td>\n",
       "      <td>4.5</td>\n",
       "      <td>2.3</td>\n",
       "      <td>1.3</td>\n",
       "      <td>0.3</td>\n",
       "      <td>Iris-setosa</td>\n",
       "      <td>0.511811</td>\n",
       "      <td>Iris-setosa</td>\n",
       "      <td>0.0</td>\n",
       "      <td>0.0</td>\n",
       "    </tr>\n",
       "    <tr>\n",
       "      <th>...</th>\n",
       "      <td>...</td>\n",
       "      <td>...</td>\n",
       "      <td>...</td>\n",
       "      <td>...</td>\n",
       "      <td>...</td>\n",
       "      <td>...</td>\n",
       "      <td>...</td>\n",
       "      <td>...</td>\n",
       "      <td>...</td>\n",
       "      <td>...</td>\n",
       "    </tr>\n",
       "    <tr>\n",
       "      <th>118</th>\n",
       "      <td>119</td>\n",
       "      <td>7.7</td>\n",
       "      <td>2.6</td>\n",
       "      <td>6.9</td>\n",
       "      <td>2.3</td>\n",
       "      <td>Iris-virginica</td>\n",
       "      <td>2.716535</td>\n",
       "      <td>Iris-virginica</td>\n",
       "      <td>0.0</td>\n",
       "      <td>0.0</td>\n",
       "    </tr>\n",
       "    <tr>\n",
       "      <th>122</th>\n",
       "      <td>123</td>\n",
       "      <td>7.7</td>\n",
       "      <td>2.8</td>\n",
       "      <td>6.7</td>\n",
       "      <td>2.0</td>\n",
       "      <td>Iris-virginica</td>\n",
       "      <td>2.637795</td>\n",
       "      <td>Iris-virginica</td>\n",
       "      <td>0.0</td>\n",
       "      <td>0.0</td>\n",
       "    </tr>\n",
       "    <tr>\n",
       "      <th>135</th>\n",
       "      <td>136</td>\n",
       "      <td>7.7</td>\n",
       "      <td>3.0</td>\n",
       "      <td>6.1</td>\n",
       "      <td>2.3</td>\n",
       "      <td>Iris-virginica</td>\n",
       "      <td>2.401575</td>\n",
       "      <td>Iris-virginica</td>\n",
       "      <td>0.0</td>\n",
       "      <td>0.0</td>\n",
       "    </tr>\n",
       "    <tr>\n",
       "      <th>117</th>\n",
       "      <td>118</td>\n",
       "      <td>7.7</td>\n",
       "      <td>3.8</td>\n",
       "      <td>6.7</td>\n",
       "      <td>2.2</td>\n",
       "      <td>Iris-virginica</td>\n",
       "      <td>2.637795</td>\n",
       "      <td>Iris-virginica</td>\n",
       "      <td>0.0</td>\n",
       "      <td>0.0</td>\n",
       "    </tr>\n",
       "    <tr>\n",
       "      <th>131</th>\n",
       "      <td>132</td>\n",
       "      <td>7.9</td>\n",
       "      <td>3.8</td>\n",
       "      <td>6.4</td>\n",
       "      <td>2.0</td>\n",
       "      <td>Iris-virginica</td>\n",
       "      <td>2.519685</td>\n",
       "      <td>Iris-virginica</td>\n",
       "      <td>0.0</td>\n",
       "      <td>0.0</td>\n",
       "    </tr>\n",
       "  </tbody>\n",
       "</table>\n",
       "<p>150 rows × 10 columns</p>\n",
       "</div>"
      ],
      "text/plain": [
       "      Id  SepalLengthCm  SepalWidthCm  PetalLengthCm  PetalWidthCm  \\\n",
       "13    14            4.3           3.0            1.1           0.1   \n",
       "8      9            4.4           2.9            1.4           0.2   \n",
       "38    39            4.4           3.0            1.3           0.2   \n",
       "42    43            4.4           3.2            1.3           0.2   \n",
       "41    42            4.5           2.3            1.3           0.3   \n",
       "..   ...            ...           ...            ...           ...   \n",
       "118  119            7.7           2.6            6.9           2.3   \n",
       "122  123            7.7           2.8            6.7           2.0   \n",
       "135  136            7.7           3.0            6.1           2.3   \n",
       "117  118            7.7           3.8            6.7           2.2   \n",
       "131  132            7.9           3.8            6.4           2.0   \n",
       "\n",
       "            Species  PetalLengthIn         Predict  DeleteMe1  DeleteMe2  \n",
       "13      Iris-setosa       0.433071     Iris-setosa        0.0        0.0  \n",
       "8       Iris-setosa       0.551181     Iris-setosa        0.0        0.0  \n",
       "38      Iris-setosa       0.511811     Iris-setosa        0.0        0.0  \n",
       "42      Iris-setosa       0.511811     Iris-setosa        0.0        0.0  \n",
       "41      Iris-setosa       0.511811     Iris-setosa        0.0        0.0  \n",
       "..              ...            ...             ...        ...        ...  \n",
       "118  Iris-virginica       2.716535  Iris-virginica        0.0        0.0  \n",
       "122  Iris-virginica       2.637795  Iris-virginica        0.0        0.0  \n",
       "135  Iris-virginica       2.401575  Iris-virginica        0.0        0.0  \n",
       "117  Iris-virginica       2.637795  Iris-virginica        0.0        0.0  \n",
       "131  Iris-virginica       2.519685  Iris-virginica        0.0        0.0  \n",
       "\n",
       "[150 rows x 10 columns]"
      ]
     },
     "execution_count": 171,
     "metadata": {},
     "output_type": "execute_result"
    }
   ],
   "source": [
    "df.dropna(inplace=True)\n",
    "df"
   ]
  },
  {
   "cell_type": "code",
   "execution_count": 174,
   "id": "97898677",
   "metadata": {
    "scrolled": false
   },
   "outputs": [
    {
     "name": "stderr",
     "output_type": "stream",
     "text": [
      "C:\\Users\\jrbrad\\AppData\\Local\\Temp\\ipykernel_15200\\1650249893.py:3: FutureWarning: The frame.append method is deprecated and will be removed from pandas in a future version. Use pandas.concat instead.\n",
      "  df = df.append(dfAdd)\n"
     ]
    },
    {
     "data": {
      "text/html": [
       "<div>\n",
       "<style scoped>\n",
       "    .dataframe tbody tr th:only-of-type {\n",
       "        vertical-align: middle;\n",
       "    }\n",
       "\n",
       "    .dataframe tbody tr th {\n",
       "        vertical-align: top;\n",
       "    }\n",
       "\n",
       "    .dataframe thead th {\n",
       "        text-align: right;\n",
       "    }\n",
       "</style>\n",
       "<table border=\"1\" class=\"dataframe\">\n",
       "  <thead>\n",
       "    <tr style=\"text-align: right;\">\n",
       "      <th></th>\n",
       "      <th>Id</th>\n",
       "      <th>SepalLengthCm</th>\n",
       "      <th>SepalWidthCm</th>\n",
       "      <th>PetalLengthCm</th>\n",
       "      <th>PetalWidthCm</th>\n",
       "      <th>Species</th>\n",
       "      <th>PetalLengthIn</th>\n",
       "      <th>Predict</th>\n",
       "      <th>DeleteMe1</th>\n",
       "      <th>DeleteMe2</th>\n",
       "    </tr>\n",
       "  </thead>\n",
       "  <tbody>\n",
       "    <tr>\n",
       "      <th>13</th>\n",
       "      <td>14</td>\n",
       "      <td>4.3</td>\n",
       "      <td>3.0</td>\n",
       "      <td>1.1</td>\n",
       "      <td>0.1</td>\n",
       "      <td>Iris-setosa</td>\n",
       "      <td>0.433071</td>\n",
       "      <td>Iris-setosa</td>\n",
       "      <td>0.0</td>\n",
       "      <td>0.0</td>\n",
       "    </tr>\n",
       "    <tr>\n",
       "      <th>8</th>\n",
       "      <td>9</td>\n",
       "      <td>4.4</td>\n",
       "      <td>2.9</td>\n",
       "      <td>1.4</td>\n",
       "      <td>0.2</td>\n",
       "      <td>Iris-setosa</td>\n",
       "      <td>0.551181</td>\n",
       "      <td>Iris-setosa</td>\n",
       "      <td>0.0</td>\n",
       "      <td>0.0</td>\n",
       "    </tr>\n",
       "    <tr>\n",
       "      <th>38</th>\n",
       "      <td>39</td>\n",
       "      <td>4.4</td>\n",
       "      <td>3.0</td>\n",
       "      <td>1.3</td>\n",
       "      <td>0.2</td>\n",
       "      <td>Iris-setosa</td>\n",
       "      <td>0.511811</td>\n",
       "      <td>Iris-setosa</td>\n",
       "      <td>0.0</td>\n",
       "      <td>0.0</td>\n",
       "    </tr>\n",
       "    <tr>\n",
       "      <th>42</th>\n",
       "      <td>43</td>\n",
       "      <td>4.4</td>\n",
       "      <td>3.2</td>\n",
       "      <td>1.3</td>\n",
       "      <td>0.2</td>\n",
       "      <td>Iris-setosa</td>\n",
       "      <td>0.511811</td>\n",
       "      <td>Iris-setosa</td>\n",
       "      <td>0.0</td>\n",
       "      <td>0.0</td>\n",
       "    </tr>\n",
       "    <tr>\n",
       "      <th>41</th>\n",
       "      <td>42</td>\n",
       "      <td>4.5</td>\n",
       "      <td>2.3</td>\n",
       "      <td>1.3</td>\n",
       "      <td>0.3</td>\n",
       "      <td>Iris-setosa</td>\n",
       "      <td>0.511811</td>\n",
       "      <td>Iris-setosa</td>\n",
       "      <td>0.0</td>\n",
       "      <td>0.0</td>\n",
       "    </tr>\n",
       "    <tr>\n",
       "      <th>...</th>\n",
       "      <td>...</td>\n",
       "      <td>...</td>\n",
       "      <td>...</td>\n",
       "      <td>...</td>\n",
       "      <td>...</td>\n",
       "      <td>...</td>\n",
       "      <td>...</td>\n",
       "      <td>...</td>\n",
       "      <td>...</td>\n",
       "      <td>...</td>\n",
       "    </tr>\n",
       "    <tr>\n",
       "      <th>131</th>\n",
       "      <td>132</td>\n",
       "      <td>7.9</td>\n",
       "      <td>3.8</td>\n",
       "      <td>6.4</td>\n",
       "      <td>2.0</td>\n",
       "      <td>Iris-virginica</td>\n",
       "      <td>2.519685</td>\n",
       "      <td>Iris-virginica</td>\n",
       "      <td>0.0</td>\n",
       "      <td>0.0</td>\n",
       "    </tr>\n",
       "    <tr>\n",
       "      <th>0</th>\n",
       "      <td>151</td>\n",
       "      <td>5.0</td>\n",
       "      <td>17.0</td>\n",
       "      <td>1.4</td>\n",
       "      <td>0.2</td>\n",
       "      <td>NotSpecified</td>\n",
       "      <td>0.570000</td>\n",
       "      <td>NaN</td>\n",
       "      <td>NaN</td>\n",
       "      <td>NaN</td>\n",
       "    </tr>\n",
       "    <tr>\n",
       "      <th>1</th>\n",
       "      <td>152</td>\n",
       "      <td>5.0</td>\n",
       "      <td>18.0</td>\n",
       "      <td>1.4</td>\n",
       "      <td>0.2</td>\n",
       "      <td>NotSpecified</td>\n",
       "      <td>0.570000</td>\n",
       "      <td>NaN</td>\n",
       "      <td>NaN</td>\n",
       "      <td>NaN</td>\n",
       "    </tr>\n",
       "    <tr>\n",
       "      <th>0</th>\n",
       "      <td>151</td>\n",
       "      <td>5.0</td>\n",
       "      <td>17.0</td>\n",
       "      <td>1.4</td>\n",
       "      <td>0.2</td>\n",
       "      <td>NaN</td>\n",
       "      <td>0.570000</td>\n",
       "      <td>NaN</td>\n",
       "      <td>NaN</td>\n",
       "      <td>NaN</td>\n",
       "    </tr>\n",
       "    <tr>\n",
       "      <th>1</th>\n",
       "      <td>152</td>\n",
       "      <td>5.0</td>\n",
       "      <td>18.0</td>\n",
       "      <td>1.4</td>\n",
       "      <td>0.2</td>\n",
       "      <td>NaN</td>\n",
       "      <td>0.570000</td>\n",
       "      <td>NaN</td>\n",
       "      <td>NaN</td>\n",
       "      <td>NaN</td>\n",
       "    </tr>\n",
       "  </tbody>\n",
       "</table>\n",
       "<p>154 rows × 10 columns</p>\n",
       "</div>"
      ],
      "text/plain": [
       "      Id  SepalLengthCm  SepalWidthCm  PetalLengthCm  PetalWidthCm  \\\n",
       "13    14            4.3           3.0            1.1           0.1   \n",
       "8      9            4.4           2.9            1.4           0.2   \n",
       "38    39            4.4           3.0            1.3           0.2   \n",
       "42    43            4.4           3.2            1.3           0.2   \n",
       "41    42            4.5           2.3            1.3           0.3   \n",
       "..   ...            ...           ...            ...           ...   \n",
       "131  132            7.9           3.8            6.4           2.0   \n",
       "0    151            5.0          17.0            1.4           0.2   \n",
       "1    152            5.0          18.0            1.4           0.2   \n",
       "0    151            5.0          17.0            1.4           0.2   \n",
       "1    152            5.0          18.0            1.4           0.2   \n",
       "\n",
       "            Species  PetalLengthIn         Predict  DeleteMe1  DeleteMe2  \n",
       "13      Iris-setosa       0.433071     Iris-setosa        0.0        0.0  \n",
       "8       Iris-setosa       0.551181     Iris-setosa        0.0        0.0  \n",
       "38      Iris-setosa       0.511811     Iris-setosa        0.0        0.0  \n",
       "42      Iris-setosa       0.511811     Iris-setosa        0.0        0.0  \n",
       "41      Iris-setosa       0.511811     Iris-setosa        0.0        0.0  \n",
       "..              ...            ...             ...        ...        ...  \n",
       "131  Iris-virginica       2.519685  Iris-virginica        0.0        0.0  \n",
       "0      NotSpecified       0.570000             NaN        NaN        NaN  \n",
       "1      NotSpecified       0.570000             NaN        NaN        NaN  \n",
       "0               NaN       0.570000             NaN        NaN        NaN  \n",
       "1               NaN       0.570000             NaN        NaN        NaN  \n",
       "\n",
       "[154 rows x 10 columns]"
      ]
     },
     "execution_count": 174,
     "metadata": {},
     "output_type": "execute_result"
    }
   ],
   "source": [
    "dfAdd = pd.DataFrame([[151,5.0,17,1.4,0.2,np.NaN,0.57,np.NaN],[152,5.0,18,1.4,0.2,np.NaN,0.57,np.NaN]], columns=['Id', 'SepalLengthCm', 'SepalWidthCm', 'PetalLengthCm', 'PetalWidthCm',\n",
    " 'Species', 'PetalLengthIn', 'Predict'])\n",
    "df = df.append(dfAdd)\n",
    "df"
   ]
  },
  {
   "cell_type": "code",
   "execution_count": 173,
   "id": "b8cedfbd",
   "metadata": {},
   "outputs": [
    {
     "data": {
      "text/html": [
       "<div>\n",
       "<style scoped>\n",
       "    .dataframe tbody tr th:only-of-type {\n",
       "        vertical-align: middle;\n",
       "    }\n",
       "\n",
       "    .dataframe tbody tr th {\n",
       "        vertical-align: top;\n",
       "    }\n",
       "\n",
       "    .dataframe thead th {\n",
       "        text-align: right;\n",
       "    }\n",
       "</style>\n",
       "<table border=\"1\" class=\"dataframe\">\n",
       "  <thead>\n",
       "    <tr style=\"text-align: right;\">\n",
       "      <th></th>\n",
       "      <th>Id</th>\n",
       "      <th>SepalLengthCm</th>\n",
       "      <th>SepalWidthCm</th>\n",
       "      <th>PetalLengthCm</th>\n",
       "      <th>PetalWidthCm</th>\n",
       "      <th>Species</th>\n",
       "      <th>PetalLengthIn</th>\n",
       "      <th>Predict</th>\n",
       "      <th>DeleteMe1</th>\n",
       "      <th>DeleteMe2</th>\n",
       "    </tr>\n",
       "  </thead>\n",
       "  <tbody>\n",
       "    <tr>\n",
       "      <th>13</th>\n",
       "      <td>14</td>\n",
       "      <td>4.3</td>\n",
       "      <td>3.0</td>\n",
       "      <td>1.1</td>\n",
       "      <td>0.1</td>\n",
       "      <td>Iris-setosa</td>\n",
       "      <td>0.433071</td>\n",
       "      <td>Iris-setosa</td>\n",
       "      <td>0.0</td>\n",
       "      <td>0.0</td>\n",
       "    </tr>\n",
       "    <tr>\n",
       "      <th>8</th>\n",
       "      <td>9</td>\n",
       "      <td>4.4</td>\n",
       "      <td>2.9</td>\n",
       "      <td>1.4</td>\n",
       "      <td>0.2</td>\n",
       "      <td>Iris-setosa</td>\n",
       "      <td>0.551181</td>\n",
       "      <td>Iris-setosa</td>\n",
       "      <td>0.0</td>\n",
       "      <td>0.0</td>\n",
       "    </tr>\n",
       "    <tr>\n",
       "      <th>38</th>\n",
       "      <td>39</td>\n",
       "      <td>4.4</td>\n",
       "      <td>3.0</td>\n",
       "      <td>1.3</td>\n",
       "      <td>0.2</td>\n",
       "      <td>Iris-setosa</td>\n",
       "      <td>0.511811</td>\n",
       "      <td>Iris-setosa</td>\n",
       "      <td>0.0</td>\n",
       "      <td>0.0</td>\n",
       "    </tr>\n",
       "    <tr>\n",
       "      <th>42</th>\n",
       "      <td>43</td>\n",
       "      <td>4.4</td>\n",
       "      <td>3.2</td>\n",
       "      <td>1.3</td>\n",
       "      <td>0.2</td>\n",
       "      <td>Iris-setosa</td>\n",
       "      <td>0.511811</td>\n",
       "      <td>Iris-setosa</td>\n",
       "      <td>0.0</td>\n",
       "      <td>0.0</td>\n",
       "    </tr>\n",
       "    <tr>\n",
       "      <th>41</th>\n",
       "      <td>42</td>\n",
       "      <td>4.5</td>\n",
       "      <td>2.3</td>\n",
       "      <td>1.3</td>\n",
       "      <td>0.3</td>\n",
       "      <td>Iris-setosa</td>\n",
       "      <td>0.511811</td>\n",
       "      <td>Iris-setosa</td>\n",
       "      <td>0.0</td>\n",
       "      <td>0.0</td>\n",
       "    </tr>\n",
       "    <tr>\n",
       "      <th>...</th>\n",
       "      <td>...</td>\n",
       "      <td>...</td>\n",
       "      <td>...</td>\n",
       "      <td>...</td>\n",
       "      <td>...</td>\n",
       "      <td>...</td>\n",
       "      <td>...</td>\n",
       "      <td>...</td>\n",
       "      <td>...</td>\n",
       "      <td>...</td>\n",
       "    </tr>\n",
       "    <tr>\n",
       "      <th>135</th>\n",
       "      <td>136</td>\n",
       "      <td>7.7</td>\n",
       "      <td>3.0</td>\n",
       "      <td>6.1</td>\n",
       "      <td>2.3</td>\n",
       "      <td>Iris-virginica</td>\n",
       "      <td>2.401575</td>\n",
       "      <td>Iris-virginica</td>\n",
       "      <td>0.0</td>\n",
       "      <td>0.0</td>\n",
       "    </tr>\n",
       "    <tr>\n",
       "      <th>117</th>\n",
       "      <td>118</td>\n",
       "      <td>7.7</td>\n",
       "      <td>3.8</td>\n",
       "      <td>6.7</td>\n",
       "      <td>2.2</td>\n",
       "      <td>Iris-virginica</td>\n",
       "      <td>2.637795</td>\n",
       "      <td>Iris-virginica</td>\n",
       "      <td>0.0</td>\n",
       "      <td>0.0</td>\n",
       "    </tr>\n",
       "    <tr>\n",
       "      <th>131</th>\n",
       "      <td>132</td>\n",
       "      <td>7.9</td>\n",
       "      <td>3.8</td>\n",
       "      <td>6.4</td>\n",
       "      <td>2.0</td>\n",
       "      <td>Iris-virginica</td>\n",
       "      <td>2.519685</td>\n",
       "      <td>Iris-virginica</td>\n",
       "      <td>0.0</td>\n",
       "      <td>0.0</td>\n",
       "    </tr>\n",
       "    <tr>\n",
       "      <th>0</th>\n",
       "      <td>151</td>\n",
       "      <td>5.0</td>\n",
       "      <td>17.0</td>\n",
       "      <td>1.4</td>\n",
       "      <td>0.2</td>\n",
       "      <td>NotSpecified</td>\n",
       "      <td>0.570000</td>\n",
       "      <td>NaN</td>\n",
       "      <td>NaN</td>\n",
       "      <td>NaN</td>\n",
       "    </tr>\n",
       "    <tr>\n",
       "      <th>1</th>\n",
       "      <td>152</td>\n",
       "      <td>5.0</td>\n",
       "      <td>18.0</td>\n",
       "      <td>1.4</td>\n",
       "      <td>0.2</td>\n",
       "      <td>NotSpecified</td>\n",
       "      <td>0.570000</td>\n",
       "      <td>NaN</td>\n",
       "      <td>NaN</td>\n",
       "      <td>NaN</td>\n",
       "    </tr>\n",
       "  </tbody>\n",
       "</table>\n",
       "<p>152 rows × 10 columns</p>\n",
       "</div>"
      ],
      "text/plain": [
       "      Id  SepalLengthCm  SepalWidthCm  PetalLengthCm  PetalWidthCm  \\\n",
       "13    14            4.3           3.0            1.1           0.1   \n",
       "8      9            4.4           2.9            1.4           0.2   \n",
       "38    39            4.4           3.0            1.3           0.2   \n",
       "42    43            4.4           3.2            1.3           0.2   \n",
       "41    42            4.5           2.3            1.3           0.3   \n",
       "..   ...            ...           ...            ...           ...   \n",
       "135  136            7.7           3.0            6.1           2.3   \n",
       "117  118            7.7           3.8            6.7           2.2   \n",
       "131  132            7.9           3.8            6.4           2.0   \n",
       "0    151            5.0          17.0            1.4           0.2   \n",
       "1    152            5.0          18.0            1.4           0.2   \n",
       "\n",
       "            Species  PetalLengthIn         Predict  DeleteMe1  DeleteMe2  \n",
       "13      Iris-setosa       0.433071     Iris-setosa        0.0        0.0  \n",
       "8       Iris-setosa       0.551181     Iris-setosa        0.0        0.0  \n",
       "38      Iris-setosa       0.511811     Iris-setosa        0.0        0.0  \n",
       "42      Iris-setosa       0.511811     Iris-setosa        0.0        0.0  \n",
       "41      Iris-setosa       0.511811     Iris-setosa        0.0        0.0  \n",
       "..              ...            ...             ...        ...        ...  \n",
       "135  Iris-virginica       2.401575  Iris-virginica        0.0        0.0  \n",
       "117  Iris-virginica       2.637795  Iris-virginica        0.0        0.0  \n",
       "131  Iris-virginica       2.519685  Iris-virginica        0.0        0.0  \n",
       "0      NotSpecified       0.570000             NaN        NaN        NaN  \n",
       "1      NotSpecified       0.570000             NaN        NaN        NaN  \n",
       "\n",
       "[152 rows x 10 columns]"
      ]
     },
     "execution_count": 173,
     "metadata": {},
     "output_type": "execute_result"
    }
   ],
   "source": [
    "df['Species'].fillna('NotSpecified',inplace=True)\n",
    "df"
   ]
  },
  {
   "cell_type": "code",
   "execution_count": 175,
   "id": "105a41e2",
   "metadata": {},
   "outputs": [
    {
     "data": {
      "text/html": [
       "<div>\n",
       "<style scoped>\n",
       "    .dataframe tbody tr th:only-of-type {\n",
       "        vertical-align: middle;\n",
       "    }\n",
       "\n",
       "    .dataframe tbody tr th {\n",
       "        vertical-align: top;\n",
       "    }\n",
       "\n",
       "    .dataframe thead th {\n",
       "        text-align: right;\n",
       "    }\n",
       "</style>\n",
       "<table border=\"1\" class=\"dataframe\">\n",
       "  <thead>\n",
       "    <tr style=\"text-align: right;\">\n",
       "      <th></th>\n",
       "      <th>Id</th>\n",
       "      <th>SepalLengthCm</th>\n",
       "      <th>SepalWidthCm</th>\n",
       "      <th>PetalLengthCm</th>\n",
       "      <th>PetalWidthCm</th>\n",
       "      <th>Species</th>\n",
       "      <th>PetalLengthIn</th>\n",
       "      <th>Predict</th>\n",
       "      <th>DeleteMe1</th>\n",
       "      <th>DeleteMe2</th>\n",
       "    </tr>\n",
       "  </thead>\n",
       "  <tbody>\n",
       "    <tr>\n",
       "      <th>13</th>\n",
       "      <td>14</td>\n",
       "      <td>4.3</td>\n",
       "      <td>3.0</td>\n",
       "      <td>1.1</td>\n",
       "      <td>0.1</td>\n",
       "      <td>Iris-setosa</td>\n",
       "      <td>0.433071</td>\n",
       "      <td>Iris-setosa</td>\n",
       "      <td>0.0</td>\n",
       "      <td>0.0</td>\n",
       "    </tr>\n",
       "    <tr>\n",
       "      <th>8</th>\n",
       "      <td>9</td>\n",
       "      <td>4.4</td>\n",
       "      <td>2.9</td>\n",
       "      <td>1.4</td>\n",
       "      <td>0.2</td>\n",
       "      <td>Iris-setosa</td>\n",
       "      <td>0.551181</td>\n",
       "      <td>Iris-setosa</td>\n",
       "      <td>0.0</td>\n",
       "      <td>0.0</td>\n",
       "    </tr>\n",
       "    <tr>\n",
       "      <th>38</th>\n",
       "      <td>39</td>\n",
       "      <td>4.4</td>\n",
       "      <td>3.0</td>\n",
       "      <td>1.3</td>\n",
       "      <td>0.2</td>\n",
       "      <td>Iris-setosa</td>\n",
       "      <td>0.511811</td>\n",
       "      <td>Iris-setosa</td>\n",
       "      <td>0.0</td>\n",
       "      <td>0.0</td>\n",
       "    </tr>\n",
       "    <tr>\n",
       "      <th>42</th>\n",
       "      <td>43</td>\n",
       "      <td>4.4</td>\n",
       "      <td>3.2</td>\n",
       "      <td>1.3</td>\n",
       "      <td>0.2</td>\n",
       "      <td>Iris-setosa</td>\n",
       "      <td>0.511811</td>\n",
       "      <td>Iris-setosa</td>\n",
       "      <td>0.0</td>\n",
       "      <td>0.0</td>\n",
       "    </tr>\n",
       "    <tr>\n",
       "      <th>41</th>\n",
       "      <td>42</td>\n",
       "      <td>4.5</td>\n",
       "      <td>2.3</td>\n",
       "      <td>1.3</td>\n",
       "      <td>0.3</td>\n",
       "      <td>Iris-setosa</td>\n",
       "      <td>0.511811</td>\n",
       "      <td>Iris-setosa</td>\n",
       "      <td>0.0</td>\n",
       "      <td>0.0</td>\n",
       "    </tr>\n",
       "    <tr>\n",
       "      <th>...</th>\n",
       "      <td>...</td>\n",
       "      <td>...</td>\n",
       "      <td>...</td>\n",
       "      <td>...</td>\n",
       "      <td>...</td>\n",
       "      <td>...</td>\n",
       "      <td>...</td>\n",
       "      <td>...</td>\n",
       "      <td>...</td>\n",
       "      <td>...</td>\n",
       "    </tr>\n",
       "    <tr>\n",
       "      <th>118</th>\n",
       "      <td>119</td>\n",
       "      <td>7.7</td>\n",
       "      <td>2.6</td>\n",
       "      <td>6.9</td>\n",
       "      <td>2.3</td>\n",
       "      <td>Iris-virginica</td>\n",
       "      <td>2.716535</td>\n",
       "      <td>Iris-virginica</td>\n",
       "      <td>0.0</td>\n",
       "      <td>0.0</td>\n",
       "    </tr>\n",
       "    <tr>\n",
       "      <th>122</th>\n",
       "      <td>123</td>\n",
       "      <td>7.7</td>\n",
       "      <td>2.8</td>\n",
       "      <td>6.7</td>\n",
       "      <td>2.0</td>\n",
       "      <td>Iris-virginica</td>\n",
       "      <td>2.637795</td>\n",
       "      <td>Iris-virginica</td>\n",
       "      <td>0.0</td>\n",
       "      <td>0.0</td>\n",
       "    </tr>\n",
       "    <tr>\n",
       "      <th>135</th>\n",
       "      <td>136</td>\n",
       "      <td>7.7</td>\n",
       "      <td>3.0</td>\n",
       "      <td>6.1</td>\n",
       "      <td>2.3</td>\n",
       "      <td>Iris-virginica</td>\n",
       "      <td>2.401575</td>\n",
       "      <td>Iris-virginica</td>\n",
       "      <td>0.0</td>\n",
       "      <td>0.0</td>\n",
       "    </tr>\n",
       "    <tr>\n",
       "      <th>117</th>\n",
       "      <td>118</td>\n",
       "      <td>7.7</td>\n",
       "      <td>3.8</td>\n",
       "      <td>6.7</td>\n",
       "      <td>2.2</td>\n",
       "      <td>Iris-virginica</td>\n",
       "      <td>2.637795</td>\n",
       "      <td>Iris-virginica</td>\n",
       "      <td>0.0</td>\n",
       "      <td>0.0</td>\n",
       "    </tr>\n",
       "    <tr>\n",
       "      <th>131</th>\n",
       "      <td>132</td>\n",
       "      <td>7.9</td>\n",
       "      <td>3.8</td>\n",
       "      <td>6.4</td>\n",
       "      <td>2.0</td>\n",
       "      <td>Iris-virginica</td>\n",
       "      <td>2.519685</td>\n",
       "      <td>Iris-virginica</td>\n",
       "      <td>0.0</td>\n",
       "      <td>0.0</td>\n",
       "    </tr>\n",
       "  </tbody>\n",
       "</table>\n",
       "<p>150 rows × 10 columns</p>\n",
       "</div>"
      ],
      "text/plain": [
       "      Id  SepalLengthCm  SepalWidthCm  PetalLengthCm  PetalWidthCm  \\\n",
       "13    14            4.3           3.0            1.1           0.1   \n",
       "8      9            4.4           2.9            1.4           0.2   \n",
       "38    39            4.4           3.0            1.3           0.2   \n",
       "42    43            4.4           3.2            1.3           0.2   \n",
       "41    42            4.5           2.3            1.3           0.3   \n",
       "..   ...            ...           ...            ...           ...   \n",
       "118  119            7.7           2.6            6.9           2.3   \n",
       "122  123            7.7           2.8            6.7           2.0   \n",
       "135  136            7.7           3.0            6.1           2.3   \n",
       "117  118            7.7           3.8            6.7           2.2   \n",
       "131  132            7.9           3.8            6.4           2.0   \n",
       "\n",
       "            Species  PetalLengthIn         Predict  DeleteMe1  DeleteMe2  \n",
       "13      Iris-setosa       0.433071     Iris-setosa        0.0        0.0  \n",
       "8       Iris-setosa       0.551181     Iris-setosa        0.0        0.0  \n",
       "38      Iris-setosa       0.511811     Iris-setosa        0.0        0.0  \n",
       "42      Iris-setosa       0.511811     Iris-setosa        0.0        0.0  \n",
       "41      Iris-setosa       0.511811     Iris-setosa        0.0        0.0  \n",
       "..              ...            ...             ...        ...        ...  \n",
       "118  Iris-virginica       2.716535  Iris-virginica        0.0        0.0  \n",
       "122  Iris-virginica       2.637795  Iris-virginica        0.0        0.0  \n",
       "135  Iris-virginica       2.401575  Iris-virginica        0.0        0.0  \n",
       "117  Iris-virginica       2.637795  Iris-virginica        0.0        0.0  \n",
       "131  Iris-virginica       2.519685  Iris-virginica        0.0        0.0  \n",
       "\n",
       "[150 rows x 10 columns]"
      ]
     },
     "execution_count": 175,
     "metadata": {},
     "output_type": "execute_result"
    }
   ],
   "source": [
    "df.dropna(subset = ['Predict'],inplace=True)\n",
    "df"
   ]
  },
  {
   "cell_type": "markdown",
   "id": "304aab06",
   "metadata": {
    "collapsed": true
   },
   "source": [
    "### Filtering DataFrame Rows\n",
    "\n",
    "An analyst sometimes must look at a subset of the rows in a data source.  The pandas package offers an easy way to _filter_  out the rows that we need to omit from a computation.\n",
    "\n",
    "Filtering out rows requires that we reference the DataFrame of interest and put a logical condition within square bracket that indicates the condition for the rows to retain in the DataFrame, such as:\n",
    "\n",
    "df[ _condition_ ]\n",
    "\n",
    "If we want to replace the DataFrame with the filtered set of rows, then we need this assignment statement:\n",
    "\n",
    "df = df[ _condition_ ]\n",
    "\n",
    "We may use multiple conditions where | indicates a logical OR operator and & indicates a logical AND operator:\n",
    "\n",
    "df = df[ _(condition1) | (condition2)_ ]\n",
    "\n",
    "df = df[ _(condition1) & (condition2)_ ]\n",
    "\n",
    "Note the Boolean condition statements must be enclosed in parentheses to enure the conditional statements are parsed in the desired order."
   ]
  },
  {
   "cell_type": "code",
   "execution_count": null,
   "id": "124baaf9",
   "metadata": {},
   "outputs": [],
   "source": [
    "df.shape"
   ]
  },
  {
   "cell_type": "code",
   "execution_count": null,
   "id": "6a6bfa1c",
   "metadata": {},
   "outputs": [],
   "source": [
    "df.columns.values"
   ]
  },
  {
   "cell_type": "markdown",
   "id": "5adc819b",
   "metadata": {},
   "source": [
    "Let's first focus on the rows where the petal lenght is 5.0 cm or greater."
   ]
  },
  {
   "cell_type": "code",
   "execution_count": 176,
   "id": "99f9b64e",
   "metadata": {},
   "outputs": [
    {
     "data": {
      "text/plain": [
       "13     False\n",
       "8      False\n",
       "38     False\n",
       "42     False\n",
       "41     False\n",
       "       ...  \n",
       "118     True\n",
       "122     True\n",
       "135     True\n",
       "117     True\n",
       "131     True\n",
       "Name: PetalLengthCm, Length: 150, dtype: bool"
      ]
     },
     "execution_count": 176,
     "metadata": {},
     "output_type": "execute_result"
    }
   ],
   "source": [
    "df['PetalLengthCm'] >= 5.0"
   ]
  },
  {
   "cell_type": "code",
   "execution_count": 179,
   "id": "7180bd57",
   "metadata": {
    "collapsed": true
   },
   "outputs": [
    {
     "data": {
      "text/html": [
       "<div>\n",
       "<style scoped>\n",
       "    .dataframe tbody tr th:only-of-type {\n",
       "        vertical-align: middle;\n",
       "    }\n",
       "\n",
       "    .dataframe tbody tr th {\n",
       "        vertical-align: top;\n",
       "    }\n",
       "\n",
       "    .dataframe thead th {\n",
       "        text-align: right;\n",
       "    }\n",
       "</style>\n",
       "<table border=\"1\" class=\"dataframe\">\n",
       "  <thead>\n",
       "    <tr style=\"text-align: right;\">\n",
       "      <th></th>\n",
       "      <th>Id</th>\n",
       "      <th>SepalLengthCm</th>\n",
       "      <th>SepalWidthCm</th>\n",
       "      <th>PetalLengthCm</th>\n",
       "      <th>PetalWidthCm</th>\n",
       "      <th>Species</th>\n",
       "      <th>PetalLengthIn</th>\n",
       "      <th>Predict</th>\n",
       "      <th>DeleteMe1</th>\n",
       "      <th>DeleteMe2</th>\n",
       "    </tr>\n",
       "  </thead>\n",
       "  <tbody>\n",
       "    <tr>\n",
       "      <th>113</th>\n",
       "      <td>114</td>\n",
       "      <td>5.7</td>\n",
       "      <td>2.5</td>\n",
       "      <td>5.0</td>\n",
       "      <td>2.0</td>\n",
       "      <td>Iris-virginica</td>\n",
       "      <td>1.968504</td>\n",
       "      <td>Iris-virginica</td>\n",
       "      <td>0.0</td>\n",
       "      <td>0.0</td>\n",
       "    </tr>\n",
       "    <tr>\n",
       "      <th>101</th>\n",
       "      <td>102</td>\n",
       "      <td>5.8</td>\n",
       "      <td>2.7</td>\n",
       "      <td>5.1</td>\n",
       "      <td>1.9</td>\n",
       "      <td>Iris-virginica</td>\n",
       "      <td>2.007874</td>\n",
       "      <td>Iris-virginica</td>\n",
       "      <td>0.0</td>\n",
       "      <td>0.0</td>\n",
       "    </tr>\n",
       "    <tr>\n",
       "      <th>142</th>\n",
       "      <td>143</td>\n",
       "      <td>5.8</td>\n",
       "      <td>2.7</td>\n",
       "      <td>5.1</td>\n",
       "      <td>1.9</td>\n",
       "      <td>Iris-virginica</td>\n",
       "      <td>2.007874</td>\n",
       "      <td>Iris-virginica</td>\n",
       "      <td>0.0</td>\n",
       "      <td>0.0</td>\n",
       "    </tr>\n",
       "    <tr>\n",
       "      <th>114</th>\n",
       "      <td>115</td>\n",
       "      <td>5.8</td>\n",
       "      <td>2.8</td>\n",
       "      <td>5.1</td>\n",
       "      <td>2.4</td>\n",
       "      <td>Iris-virginica</td>\n",
       "      <td>2.007874</td>\n",
       "      <td>Iris-virginica</td>\n",
       "      <td>0.0</td>\n",
       "      <td>0.0</td>\n",
       "    </tr>\n",
       "    <tr>\n",
       "      <th>149</th>\n",
       "      <td>150</td>\n",
       "      <td>5.9</td>\n",
       "      <td>3.0</td>\n",
       "      <td>5.1</td>\n",
       "      <td>1.8</td>\n",
       "      <td>Iris-virginica</td>\n",
       "      <td>2.007874</td>\n",
       "      <td>Iris-virginica</td>\n",
       "      <td>0.0</td>\n",
       "      <td>0.0</td>\n",
       "    </tr>\n",
       "    <tr>\n",
       "      <th>119</th>\n",
       "      <td>120</td>\n",
       "      <td>6.0</td>\n",
       "      <td>2.2</td>\n",
       "      <td>5.0</td>\n",
       "      <td>1.5</td>\n",
       "      <td>Iris-virginica</td>\n",
       "      <td>1.968504</td>\n",
       "      <td>Iris-virginica</td>\n",
       "      <td>0.0</td>\n",
       "      <td>0.0</td>\n",
       "    </tr>\n",
       "    <tr>\n",
       "      <th>83</th>\n",
       "      <td>84</td>\n",
       "      <td>6.0</td>\n",
       "      <td>2.7</td>\n",
       "      <td>5.1</td>\n",
       "      <td>1.6</td>\n",
       "      <td>Iris-versicolor</td>\n",
       "      <td>2.007874</td>\n",
       "      <td>Iris-virginica</td>\n",
       "      <td>0.0</td>\n",
       "      <td>0.0</td>\n",
       "    </tr>\n",
       "    <tr>\n",
       "      <th>134</th>\n",
       "      <td>135</td>\n",
       "      <td>6.1</td>\n",
       "      <td>2.6</td>\n",
       "      <td>5.6</td>\n",
       "      <td>1.4</td>\n",
       "      <td>Iris-virginica</td>\n",
       "      <td>2.204724</td>\n",
       "      <td>Iris-virginica</td>\n",
       "      <td>0.0</td>\n",
       "      <td>0.0</td>\n",
       "    </tr>\n",
       "    <tr>\n",
       "      <th>148</th>\n",
       "      <td>149</td>\n",
       "      <td>6.2</td>\n",
       "      <td>3.4</td>\n",
       "      <td>5.4</td>\n",
       "      <td>2.3</td>\n",
       "      <td>Iris-virginica</td>\n",
       "      <td>2.125984</td>\n",
       "      <td>Iris-virginica</td>\n",
       "      <td>0.0</td>\n",
       "      <td>0.0</td>\n",
       "    </tr>\n",
       "    <tr>\n",
       "      <th>146</th>\n",
       "      <td>147</td>\n",
       "      <td>6.3</td>\n",
       "      <td>2.5</td>\n",
       "      <td>5.0</td>\n",
       "      <td>1.9</td>\n",
       "      <td>Iris-virginica</td>\n",
       "      <td>1.968504</td>\n",
       "      <td>Iris-virginica</td>\n",
       "      <td>0.0</td>\n",
       "      <td>0.0</td>\n",
       "    </tr>\n",
       "    <tr>\n",
       "      <th>133</th>\n",
       "      <td>134</td>\n",
       "      <td>6.3</td>\n",
       "      <td>2.8</td>\n",
       "      <td>5.1</td>\n",
       "      <td>1.5</td>\n",
       "      <td>Iris-virginica</td>\n",
       "      <td>2.007874</td>\n",
       "      <td>Iris-virginica</td>\n",
       "      <td>0.0</td>\n",
       "      <td>0.0</td>\n",
       "    </tr>\n",
       "    <tr>\n",
       "      <th>103</th>\n",
       "      <td>104</td>\n",
       "      <td>6.3</td>\n",
       "      <td>2.9</td>\n",
       "      <td>5.6</td>\n",
       "      <td>1.8</td>\n",
       "      <td>Iris-virginica</td>\n",
       "      <td>2.204724</td>\n",
       "      <td>Iris-virginica</td>\n",
       "      <td>0.0</td>\n",
       "      <td>0.0</td>\n",
       "    </tr>\n",
       "    <tr>\n",
       "      <th>100</th>\n",
       "      <td>101</td>\n",
       "      <td>6.3</td>\n",
       "      <td>3.3</td>\n",
       "      <td>6.0</td>\n",
       "      <td>2.5</td>\n",
       "      <td>Iris-virginica</td>\n",
       "      <td>2.362205</td>\n",
       "      <td>Iris-virginica</td>\n",
       "      <td>0.0</td>\n",
       "      <td>0.0</td>\n",
       "    </tr>\n",
       "    <tr>\n",
       "      <th>136</th>\n",
       "      <td>137</td>\n",
       "      <td>6.3</td>\n",
       "      <td>3.4</td>\n",
       "      <td>5.6</td>\n",
       "      <td>2.4</td>\n",
       "      <td>Iris-virginica</td>\n",
       "      <td>2.204724</td>\n",
       "      <td>Iris-virginica</td>\n",
       "      <td>0.0</td>\n",
       "      <td>0.0</td>\n",
       "    </tr>\n",
       "    <tr>\n",
       "      <th>111</th>\n",
       "      <td>112</td>\n",
       "      <td>6.4</td>\n",
       "      <td>2.7</td>\n",
       "      <td>5.3</td>\n",
       "      <td>1.9</td>\n",
       "      <td>Iris-virginica</td>\n",
       "      <td>2.086614</td>\n",
       "      <td>Iris-virginica</td>\n",
       "      <td>0.0</td>\n",
       "      <td>0.0</td>\n",
       "    </tr>\n",
       "    <tr>\n",
       "      <th>128</th>\n",
       "      <td>129</td>\n",
       "      <td>6.4</td>\n",
       "      <td>2.8</td>\n",
       "      <td>5.6</td>\n",
       "      <td>2.1</td>\n",
       "      <td>Iris-virginica</td>\n",
       "      <td>2.204724</td>\n",
       "      <td>Iris-virginica</td>\n",
       "      <td>0.0</td>\n",
       "      <td>0.0</td>\n",
       "    </tr>\n",
       "    <tr>\n",
       "      <th>132</th>\n",
       "      <td>133</td>\n",
       "      <td>6.4</td>\n",
       "      <td>2.8</td>\n",
       "      <td>5.6</td>\n",
       "      <td>2.2</td>\n",
       "      <td>Iris-virginica</td>\n",
       "      <td>2.204724</td>\n",
       "      <td>Iris-virginica</td>\n",
       "      <td>0.0</td>\n",
       "      <td>0.0</td>\n",
       "    </tr>\n",
       "    <tr>\n",
       "      <th>137</th>\n",
       "      <td>138</td>\n",
       "      <td>6.4</td>\n",
       "      <td>3.1</td>\n",
       "      <td>5.5</td>\n",
       "      <td>1.8</td>\n",
       "      <td>Iris-virginica</td>\n",
       "      <td>2.165354</td>\n",
       "      <td>Iris-virginica</td>\n",
       "      <td>0.0</td>\n",
       "      <td>0.0</td>\n",
       "    </tr>\n",
       "    <tr>\n",
       "      <th>115</th>\n",
       "      <td>116</td>\n",
       "      <td>6.4</td>\n",
       "      <td>3.2</td>\n",
       "      <td>5.3</td>\n",
       "      <td>2.3</td>\n",
       "      <td>Iris-virginica</td>\n",
       "      <td>2.086614</td>\n",
       "      <td>Iris-virginica</td>\n",
       "      <td>0.0</td>\n",
       "      <td>0.0</td>\n",
       "    </tr>\n",
       "    <tr>\n",
       "      <th>104</th>\n",
       "      <td>105</td>\n",
       "      <td>6.5</td>\n",
       "      <td>3.0</td>\n",
       "      <td>5.8</td>\n",
       "      <td>2.2</td>\n",
       "      <td>Iris-virginica</td>\n",
       "      <td>2.283465</td>\n",
       "      <td>Iris-virginica</td>\n",
       "      <td>0.0</td>\n",
       "      <td>0.0</td>\n",
       "    </tr>\n",
       "    <tr>\n",
       "      <th>116</th>\n",
       "      <td>117</td>\n",
       "      <td>6.5</td>\n",
       "      <td>3.0</td>\n",
       "      <td>5.5</td>\n",
       "      <td>1.8</td>\n",
       "      <td>Iris-virginica</td>\n",
       "      <td>2.165354</td>\n",
       "      <td>Iris-virginica</td>\n",
       "      <td>0.0</td>\n",
       "      <td>0.0</td>\n",
       "    </tr>\n",
       "    <tr>\n",
       "      <th>147</th>\n",
       "      <td>148</td>\n",
       "      <td>6.5</td>\n",
       "      <td>3.0</td>\n",
       "      <td>5.2</td>\n",
       "      <td>2.0</td>\n",
       "      <td>Iris-virginica</td>\n",
       "      <td>2.047244</td>\n",
       "      <td>Iris-virginica</td>\n",
       "      <td>0.0</td>\n",
       "      <td>0.0</td>\n",
       "    </tr>\n",
       "    <tr>\n",
       "      <th>110</th>\n",
       "      <td>111</td>\n",
       "      <td>6.5</td>\n",
       "      <td>3.2</td>\n",
       "      <td>5.1</td>\n",
       "      <td>2.0</td>\n",
       "      <td>Iris-virginica</td>\n",
       "      <td>2.007874</td>\n",
       "      <td>Iris-virginica</td>\n",
       "      <td>0.0</td>\n",
       "      <td>0.0</td>\n",
       "    </tr>\n",
       "    <tr>\n",
       "      <th>108</th>\n",
       "      <td>109</td>\n",
       "      <td>6.7</td>\n",
       "      <td>2.5</td>\n",
       "      <td>5.8</td>\n",
       "      <td>1.8</td>\n",
       "      <td>Iris-virginica</td>\n",
       "      <td>2.283465</td>\n",
       "      <td>Iris-virginica</td>\n",
       "      <td>0.0</td>\n",
       "      <td>0.0</td>\n",
       "    </tr>\n",
       "    <tr>\n",
       "      <th>77</th>\n",
       "      <td>78</td>\n",
       "      <td>6.7</td>\n",
       "      <td>3.0</td>\n",
       "      <td>5.0</td>\n",
       "      <td>1.7</td>\n",
       "      <td>Iris-versicolor</td>\n",
       "      <td>1.968504</td>\n",
       "      <td>Iris-virginica</td>\n",
       "      <td>0.0</td>\n",
       "      <td>0.0</td>\n",
       "    </tr>\n",
       "    <tr>\n",
       "      <th>145</th>\n",
       "      <td>146</td>\n",
       "      <td>6.7</td>\n",
       "      <td>3.0</td>\n",
       "      <td>5.2</td>\n",
       "      <td>2.3</td>\n",
       "      <td>Iris-virginica</td>\n",
       "      <td>2.047244</td>\n",
       "      <td>Iris-virginica</td>\n",
       "      <td>0.0</td>\n",
       "      <td>0.0</td>\n",
       "    </tr>\n",
       "    <tr>\n",
       "      <th>140</th>\n",
       "      <td>141</td>\n",
       "      <td>6.7</td>\n",
       "      <td>3.1</td>\n",
       "      <td>5.6</td>\n",
       "      <td>2.4</td>\n",
       "      <td>Iris-virginica</td>\n",
       "      <td>2.204724</td>\n",
       "      <td>Iris-virginica</td>\n",
       "      <td>0.0</td>\n",
       "      <td>0.0</td>\n",
       "    </tr>\n",
       "    <tr>\n",
       "      <th>124</th>\n",
       "      <td>125</td>\n",
       "      <td>6.7</td>\n",
       "      <td>3.3</td>\n",
       "      <td>5.7</td>\n",
       "      <td>2.1</td>\n",
       "      <td>Iris-virginica</td>\n",
       "      <td>2.244094</td>\n",
       "      <td>Iris-virginica</td>\n",
       "      <td>0.0</td>\n",
       "      <td>0.0</td>\n",
       "    </tr>\n",
       "    <tr>\n",
       "      <th>144</th>\n",
       "      <td>145</td>\n",
       "      <td>6.7</td>\n",
       "      <td>3.3</td>\n",
       "      <td>5.7</td>\n",
       "      <td>2.5</td>\n",
       "      <td>Iris-virginica</td>\n",
       "      <td>2.244094</td>\n",
       "      <td>Iris-virginica</td>\n",
       "      <td>0.0</td>\n",
       "      <td>0.0</td>\n",
       "    </tr>\n",
       "    <tr>\n",
       "      <th>112</th>\n",
       "      <td>113</td>\n",
       "      <td>6.8</td>\n",
       "      <td>3.0</td>\n",
       "      <td>5.5</td>\n",
       "      <td>2.1</td>\n",
       "      <td>Iris-virginica</td>\n",
       "      <td>2.165354</td>\n",
       "      <td>Iris-virginica</td>\n",
       "      <td>0.0</td>\n",
       "      <td>0.0</td>\n",
       "    </tr>\n",
       "    <tr>\n",
       "      <th>143</th>\n",
       "      <td>144</td>\n",
       "      <td>6.8</td>\n",
       "      <td>3.2</td>\n",
       "      <td>5.9</td>\n",
       "      <td>2.3</td>\n",
       "      <td>Iris-virginica</td>\n",
       "      <td>2.322835</td>\n",
       "      <td>Iris-virginica</td>\n",
       "      <td>0.0</td>\n",
       "      <td>0.0</td>\n",
       "    </tr>\n",
       "    <tr>\n",
       "      <th>139</th>\n",
       "      <td>140</td>\n",
       "      <td>6.9</td>\n",
       "      <td>3.1</td>\n",
       "      <td>5.4</td>\n",
       "      <td>2.1</td>\n",
       "      <td>Iris-virginica</td>\n",
       "      <td>2.125984</td>\n",
       "      <td>Iris-virginica</td>\n",
       "      <td>0.0</td>\n",
       "      <td>0.0</td>\n",
       "    </tr>\n",
       "    <tr>\n",
       "      <th>141</th>\n",
       "      <td>142</td>\n",
       "      <td>6.9</td>\n",
       "      <td>3.1</td>\n",
       "      <td>5.1</td>\n",
       "      <td>2.3</td>\n",
       "      <td>Iris-virginica</td>\n",
       "      <td>2.007874</td>\n",
       "      <td>Iris-virginica</td>\n",
       "      <td>0.0</td>\n",
       "      <td>0.0</td>\n",
       "    </tr>\n",
       "    <tr>\n",
       "      <th>120</th>\n",
       "      <td>121</td>\n",
       "      <td>6.9</td>\n",
       "      <td>3.2</td>\n",
       "      <td>5.7</td>\n",
       "      <td>2.3</td>\n",
       "      <td>Iris-virginica</td>\n",
       "      <td>2.244094</td>\n",
       "      <td>Iris-virginica</td>\n",
       "      <td>0.0</td>\n",
       "      <td>0.0</td>\n",
       "    </tr>\n",
       "    <tr>\n",
       "      <th>102</th>\n",
       "      <td>103</td>\n",
       "      <td>7.1</td>\n",
       "      <td>3.0</td>\n",
       "      <td>5.9</td>\n",
       "      <td>2.1</td>\n",
       "      <td>Iris-virginica</td>\n",
       "      <td>2.322835</td>\n",
       "      <td>Iris-virginica</td>\n",
       "      <td>0.0</td>\n",
       "      <td>0.0</td>\n",
       "    </tr>\n",
       "    <tr>\n",
       "      <th>129</th>\n",
       "      <td>130</td>\n",
       "      <td>7.2</td>\n",
       "      <td>3.0</td>\n",
       "      <td>5.8</td>\n",
       "      <td>1.6</td>\n",
       "      <td>Iris-virginica</td>\n",
       "      <td>2.283465</td>\n",
       "      <td>Iris-virginica</td>\n",
       "      <td>0.0</td>\n",
       "      <td>0.0</td>\n",
       "    </tr>\n",
       "    <tr>\n",
       "      <th>125</th>\n",
       "      <td>126</td>\n",
       "      <td>7.2</td>\n",
       "      <td>3.2</td>\n",
       "      <td>6.0</td>\n",
       "      <td>1.8</td>\n",
       "      <td>Iris-virginica</td>\n",
       "      <td>2.362205</td>\n",
       "      <td>Iris-virginica</td>\n",
       "      <td>0.0</td>\n",
       "      <td>0.0</td>\n",
       "    </tr>\n",
       "    <tr>\n",
       "      <th>109</th>\n",
       "      <td>110</td>\n",
       "      <td>7.2</td>\n",
       "      <td>3.6</td>\n",
       "      <td>6.1</td>\n",
       "      <td>2.5</td>\n",
       "      <td>Iris-virginica</td>\n",
       "      <td>2.401575</td>\n",
       "      <td>Iris-virginica</td>\n",
       "      <td>0.0</td>\n",
       "      <td>0.0</td>\n",
       "    </tr>\n",
       "    <tr>\n",
       "      <th>107</th>\n",
       "      <td>108</td>\n",
       "      <td>7.3</td>\n",
       "      <td>2.9</td>\n",
       "      <td>6.3</td>\n",
       "      <td>1.8</td>\n",
       "      <td>Iris-virginica</td>\n",
       "      <td>2.480315</td>\n",
       "      <td>Iris-virginica</td>\n",
       "      <td>0.0</td>\n",
       "      <td>0.0</td>\n",
       "    </tr>\n",
       "    <tr>\n",
       "      <th>130</th>\n",
       "      <td>131</td>\n",
       "      <td>7.4</td>\n",
       "      <td>2.8</td>\n",
       "      <td>6.1</td>\n",
       "      <td>1.9</td>\n",
       "      <td>Iris-virginica</td>\n",
       "      <td>2.401575</td>\n",
       "      <td>Iris-virginica</td>\n",
       "      <td>0.0</td>\n",
       "      <td>0.0</td>\n",
       "    </tr>\n",
       "    <tr>\n",
       "      <th>105</th>\n",
       "      <td>106</td>\n",
       "      <td>7.6</td>\n",
       "      <td>3.0</td>\n",
       "      <td>6.6</td>\n",
       "      <td>2.1</td>\n",
       "      <td>Iris-virginica</td>\n",
       "      <td>2.598425</td>\n",
       "      <td>Iris-virginica</td>\n",
       "      <td>0.0</td>\n",
       "      <td>0.0</td>\n",
       "    </tr>\n",
       "    <tr>\n",
       "      <th>118</th>\n",
       "      <td>119</td>\n",
       "      <td>7.7</td>\n",
       "      <td>2.6</td>\n",
       "      <td>6.9</td>\n",
       "      <td>2.3</td>\n",
       "      <td>Iris-virginica</td>\n",
       "      <td>2.716535</td>\n",
       "      <td>Iris-virginica</td>\n",
       "      <td>0.0</td>\n",
       "      <td>0.0</td>\n",
       "    </tr>\n",
       "    <tr>\n",
       "      <th>122</th>\n",
       "      <td>123</td>\n",
       "      <td>7.7</td>\n",
       "      <td>2.8</td>\n",
       "      <td>6.7</td>\n",
       "      <td>2.0</td>\n",
       "      <td>Iris-virginica</td>\n",
       "      <td>2.637795</td>\n",
       "      <td>Iris-virginica</td>\n",
       "      <td>0.0</td>\n",
       "      <td>0.0</td>\n",
       "    </tr>\n",
       "    <tr>\n",
       "      <th>135</th>\n",
       "      <td>136</td>\n",
       "      <td>7.7</td>\n",
       "      <td>3.0</td>\n",
       "      <td>6.1</td>\n",
       "      <td>2.3</td>\n",
       "      <td>Iris-virginica</td>\n",
       "      <td>2.401575</td>\n",
       "      <td>Iris-virginica</td>\n",
       "      <td>0.0</td>\n",
       "      <td>0.0</td>\n",
       "    </tr>\n",
       "    <tr>\n",
       "      <th>117</th>\n",
       "      <td>118</td>\n",
       "      <td>7.7</td>\n",
       "      <td>3.8</td>\n",
       "      <td>6.7</td>\n",
       "      <td>2.2</td>\n",
       "      <td>Iris-virginica</td>\n",
       "      <td>2.637795</td>\n",
       "      <td>Iris-virginica</td>\n",
       "      <td>0.0</td>\n",
       "      <td>0.0</td>\n",
       "    </tr>\n",
       "    <tr>\n",
       "      <th>131</th>\n",
       "      <td>132</td>\n",
       "      <td>7.9</td>\n",
       "      <td>3.8</td>\n",
       "      <td>6.4</td>\n",
       "      <td>2.0</td>\n",
       "      <td>Iris-virginica</td>\n",
       "      <td>2.519685</td>\n",
       "      <td>Iris-virginica</td>\n",
       "      <td>0.0</td>\n",
       "      <td>0.0</td>\n",
       "    </tr>\n",
       "  </tbody>\n",
       "</table>\n",
       "</div>"
      ],
      "text/plain": [
       "      Id  SepalLengthCm  SepalWidthCm  PetalLengthCm  PetalWidthCm  \\\n",
       "113  114            5.7           2.5            5.0           2.0   \n",
       "101  102            5.8           2.7            5.1           1.9   \n",
       "142  143            5.8           2.7            5.1           1.9   \n",
       "114  115            5.8           2.8            5.1           2.4   \n",
       "149  150            5.9           3.0            5.1           1.8   \n",
       "119  120            6.0           2.2            5.0           1.5   \n",
       "83    84            6.0           2.7            5.1           1.6   \n",
       "134  135            6.1           2.6            5.6           1.4   \n",
       "148  149            6.2           3.4            5.4           2.3   \n",
       "146  147            6.3           2.5            5.0           1.9   \n",
       "133  134            6.3           2.8            5.1           1.5   \n",
       "103  104            6.3           2.9            5.6           1.8   \n",
       "100  101            6.3           3.3            6.0           2.5   \n",
       "136  137            6.3           3.4            5.6           2.4   \n",
       "111  112            6.4           2.7            5.3           1.9   \n",
       "128  129            6.4           2.8            5.6           2.1   \n",
       "132  133            6.4           2.8            5.6           2.2   \n",
       "137  138            6.4           3.1            5.5           1.8   \n",
       "115  116            6.4           3.2            5.3           2.3   \n",
       "104  105            6.5           3.0            5.8           2.2   \n",
       "116  117            6.5           3.0            5.5           1.8   \n",
       "147  148            6.5           3.0            5.2           2.0   \n",
       "110  111            6.5           3.2            5.1           2.0   \n",
       "108  109            6.7           2.5            5.8           1.8   \n",
       "77    78            6.7           3.0            5.0           1.7   \n",
       "145  146            6.7           3.0            5.2           2.3   \n",
       "140  141            6.7           3.1            5.6           2.4   \n",
       "124  125            6.7           3.3            5.7           2.1   \n",
       "144  145            6.7           3.3            5.7           2.5   \n",
       "112  113            6.8           3.0            5.5           2.1   \n",
       "143  144            6.8           3.2            5.9           2.3   \n",
       "139  140            6.9           3.1            5.4           2.1   \n",
       "141  142            6.9           3.1            5.1           2.3   \n",
       "120  121            6.9           3.2            5.7           2.3   \n",
       "102  103            7.1           3.0            5.9           2.1   \n",
       "129  130            7.2           3.0            5.8           1.6   \n",
       "125  126            7.2           3.2            6.0           1.8   \n",
       "109  110            7.2           3.6            6.1           2.5   \n",
       "107  108            7.3           2.9            6.3           1.8   \n",
       "130  131            7.4           2.8            6.1           1.9   \n",
       "105  106            7.6           3.0            6.6           2.1   \n",
       "118  119            7.7           2.6            6.9           2.3   \n",
       "122  123            7.7           2.8            6.7           2.0   \n",
       "135  136            7.7           3.0            6.1           2.3   \n",
       "117  118            7.7           3.8            6.7           2.2   \n",
       "131  132            7.9           3.8            6.4           2.0   \n",
       "\n",
       "             Species  PetalLengthIn         Predict  DeleteMe1  DeleteMe2  \n",
       "113   Iris-virginica       1.968504  Iris-virginica        0.0        0.0  \n",
       "101   Iris-virginica       2.007874  Iris-virginica        0.0        0.0  \n",
       "142   Iris-virginica       2.007874  Iris-virginica        0.0        0.0  \n",
       "114   Iris-virginica       2.007874  Iris-virginica        0.0        0.0  \n",
       "149   Iris-virginica       2.007874  Iris-virginica        0.0        0.0  \n",
       "119   Iris-virginica       1.968504  Iris-virginica        0.0        0.0  \n",
       "83   Iris-versicolor       2.007874  Iris-virginica        0.0        0.0  \n",
       "134   Iris-virginica       2.204724  Iris-virginica        0.0        0.0  \n",
       "148   Iris-virginica       2.125984  Iris-virginica        0.0        0.0  \n",
       "146   Iris-virginica       1.968504  Iris-virginica        0.0        0.0  \n",
       "133   Iris-virginica       2.007874  Iris-virginica        0.0        0.0  \n",
       "103   Iris-virginica       2.204724  Iris-virginica        0.0        0.0  \n",
       "100   Iris-virginica       2.362205  Iris-virginica        0.0        0.0  \n",
       "136   Iris-virginica       2.204724  Iris-virginica        0.0        0.0  \n",
       "111   Iris-virginica       2.086614  Iris-virginica        0.0        0.0  \n",
       "128   Iris-virginica       2.204724  Iris-virginica        0.0        0.0  \n",
       "132   Iris-virginica       2.204724  Iris-virginica        0.0        0.0  \n",
       "137   Iris-virginica       2.165354  Iris-virginica        0.0        0.0  \n",
       "115   Iris-virginica       2.086614  Iris-virginica        0.0        0.0  \n",
       "104   Iris-virginica       2.283465  Iris-virginica        0.0        0.0  \n",
       "116   Iris-virginica       2.165354  Iris-virginica        0.0        0.0  \n",
       "147   Iris-virginica       2.047244  Iris-virginica        0.0        0.0  \n",
       "110   Iris-virginica       2.007874  Iris-virginica        0.0        0.0  \n",
       "108   Iris-virginica       2.283465  Iris-virginica        0.0        0.0  \n",
       "77   Iris-versicolor       1.968504  Iris-virginica        0.0        0.0  \n",
       "145   Iris-virginica       2.047244  Iris-virginica        0.0        0.0  \n",
       "140   Iris-virginica       2.204724  Iris-virginica        0.0        0.0  \n",
       "124   Iris-virginica       2.244094  Iris-virginica        0.0        0.0  \n",
       "144   Iris-virginica       2.244094  Iris-virginica        0.0        0.0  \n",
       "112   Iris-virginica       2.165354  Iris-virginica        0.0        0.0  \n",
       "143   Iris-virginica       2.322835  Iris-virginica        0.0        0.0  \n",
       "139   Iris-virginica       2.125984  Iris-virginica        0.0        0.0  \n",
       "141   Iris-virginica       2.007874  Iris-virginica        0.0        0.0  \n",
       "120   Iris-virginica       2.244094  Iris-virginica        0.0        0.0  \n",
       "102   Iris-virginica       2.322835  Iris-virginica        0.0        0.0  \n",
       "129   Iris-virginica       2.283465  Iris-virginica        0.0        0.0  \n",
       "125   Iris-virginica       2.362205  Iris-virginica        0.0        0.0  \n",
       "109   Iris-virginica       2.401575  Iris-virginica        0.0        0.0  \n",
       "107   Iris-virginica       2.480315  Iris-virginica        0.0        0.0  \n",
       "130   Iris-virginica       2.401575  Iris-virginica        0.0        0.0  \n",
       "105   Iris-virginica       2.598425  Iris-virginica        0.0        0.0  \n",
       "118   Iris-virginica       2.716535  Iris-virginica        0.0        0.0  \n",
       "122   Iris-virginica       2.637795  Iris-virginica        0.0        0.0  \n",
       "135   Iris-virginica       2.401575  Iris-virginica        0.0        0.0  \n",
       "117   Iris-virginica       2.637795  Iris-virginica        0.0        0.0  \n",
       "131   Iris-virginica       2.519685  Iris-virginica        0.0        0.0  "
      ]
     },
     "execution_count": 179,
     "metadata": {},
     "output_type": "execute_result"
    }
   ],
   "source": [
    "df[df['PetalLengthCm'] >= 5.0]"
   ]
  },
  {
   "cell_type": "code",
   "execution_count": 180,
   "id": "90fefde9",
   "metadata": {},
   "outputs": [
    {
     "data": {
      "text/plain": [
       "(150, 10)"
      ]
     },
     "execution_count": 180,
     "metadata": {},
     "output_type": "execute_result"
    }
   ],
   "source": [
    "df.shape"
   ]
  },
  {
   "cell_type": "code",
   "execution_count": 181,
   "id": "db81b475",
   "metadata": {},
   "outputs": [],
   "source": [
    "df = df[df['PetalLengthCm'] >= 5.0]"
   ]
  },
  {
   "cell_type": "code",
   "execution_count": 182,
   "id": "cfae7c85",
   "metadata": {},
   "outputs": [
    {
     "data": {
      "text/plain": [
       "(46, 10)"
      ]
     },
     "execution_count": 182,
     "metadata": {},
     "output_type": "execute_result"
    }
   ],
   "source": [
    "df.shape"
   ]
  },
  {
   "cell_type": "markdown",
   "id": "f0a95a21",
   "metadata": {},
   "source": [
    "Let's reload the original DataFrame."
   ]
  },
  {
   "cell_type": "code",
   "execution_count": 183,
   "id": "c47289ba",
   "metadata": {},
   "outputs": [],
   "source": [
    "df = pd.read_csv('Iris.csv')"
   ]
  },
  {
   "cell_type": "code",
   "execution_count": null,
   "id": "d7c502c5",
   "metadata": {},
   "outputs": [],
   "source": [
    "df.shape"
   ]
  },
  {
   "cell_type": "markdown",
   "id": "48c2bb0c",
   "metadata": {},
   "source": [
    "Let's consider a situation where we want to compute statistics on the observations where the petal length is 5.0 cm or greater adn the petal width is less than 2.0 cm.  Again, note the parentheses that are needed around each of the two conditions."
   ]
  },
  {
   "cell_type": "code",
   "execution_count": 184,
   "id": "e8af2921",
   "metadata": {},
   "outputs": [],
   "source": [
    "df = df[(df['PetalLengthCm'] >= 5.0) & (df['PetalWidthCm'] < 2.0)]"
   ]
  },
  {
   "cell_type": "code",
   "execution_count": 185,
   "id": "eb4fc2e5",
   "metadata": {},
   "outputs": [
    {
     "data": {
      "text/plain": [
       "(18, 6)"
      ]
     },
     "execution_count": 185,
     "metadata": {},
     "output_type": "execute_result"
    }
   ],
   "source": [
    "df.shape"
   ]
  },
  {
   "cell_type": "code",
   "execution_count": null,
   "id": "52998ead",
   "metadata": {},
   "outputs": [],
   "source": [
    "df"
   ]
  },
  {
   "cell_type": "markdown",
   "id": "864e06f9",
   "metadata": {},
   "source": []
  },
  {
   "cell_type": "code",
   "execution_count": null,
   "id": "f650dc13",
   "metadata": {},
   "outputs": [],
   "source": []
  },
  {
   "cell_type": "code",
   "execution_count": null,
   "id": "29367ae9",
   "metadata": {},
   "outputs": [],
   "source": []
  },
  {
   "cell_type": "code",
   "execution_count": null,
   "id": "4c38973a",
   "metadata": {},
   "outputs": [],
   "source": []
  },
  {
   "cell_type": "code",
   "execution_count": null,
   "id": "3229aebb",
   "metadata": {},
   "outputs": [],
   "source": []
  },
  {
   "cell_type": "code",
   "execution_count": null,
   "id": "35116d5b",
   "metadata": {},
   "outputs": [],
   "source": []
  },
  {
   "cell_type": "code",
   "execution_count": null,
   "id": "0046d126",
   "metadata": {},
   "outputs": [],
   "source": []
  },
  {
   "cell_type": "code",
   "execution_count": null,
   "id": "2689332a",
   "metadata": {},
   "outputs": [],
   "source": []
  }
 ],
 "metadata": {
  "kernelspec": {
   "display_name": "Python 3 (ipykernel)",
   "language": "python",
   "name": "python3"
  },
  "language_info": {
   "codemirror_mode": {
    "name": "ipython",
    "version": 3
   },
   "file_extension": ".py",
   "mimetype": "text/x-python",
   "name": "python",
   "nbconvert_exporter": "python",
   "pygments_lexer": "ipython3",
   "version": "3.11.4"
  }
 },
 "nbformat": 4,
 "nbformat_minor": 5
}
