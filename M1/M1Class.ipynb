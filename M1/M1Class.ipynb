{
 "cells": [
  {
   "cell_type": "code",
   "execution_count": 1,
   "id": "5607a2c9",
   "metadata": {},
   "outputs": [
    {
     "name": "stdout",
     "output_type": "stream",
     "text": [
      "Hello World!\n"
     ]
    }
   ],
   "source": [
    "print('Hello World!')"
   ]
  },
  {
   "cell_type": "code",
   "execution_count": 2,
   "id": "576974f2",
   "metadata": {},
   "outputs": [
    {
     "name": "stdout",
     "output_type": "stream",
     "text": [
      "Hello World!\n"
     ]
    }
   ],
   "source": [
    "print(\"Hello World!\")"
   ]
  },
  {
   "cell_type": "code",
   "execution_count": 4,
   "id": "a383509d",
   "metadata": {},
   "outputs": [
    {
     "name": "stdout",
     "output_type": "stream",
     "text": [
      "Yaw's in class\n"
     ]
    }
   ],
   "source": [
    "print(\"Yaw's in class\")"
   ]
  },
  {
   "cell_type": "markdown",
   "id": "10f4e308",
   "metadata": {},
   "source": [
    "# Variable Types"
   ]
  },
  {
   "cell_type": "code",
   "execution_count": 6,
   "id": "6c5d3935",
   "metadata": {},
   "outputs": [],
   "source": [
    "a = 'Hello World!'"
   ]
  },
  {
   "cell_type": "code",
   "execution_count": 7,
   "id": "c08b8560",
   "metadata": {},
   "outputs": [
    {
     "name": "stdout",
     "output_type": "stream",
     "text": [
      "Hello World!\n"
     ]
    }
   ],
   "source": [
    "print(a)"
   ]
  },
  {
   "cell_type": "code",
   "execution_count": 8,
   "id": "0ba27cb9",
   "metadata": {},
   "outputs": [
    {
     "data": {
      "text/plain": [
       "'Hello World!'"
      ]
     },
     "execution_count": 8,
     "metadata": {},
     "output_type": "execute_result"
    }
   ],
   "source": [
    "a"
   ]
  },
  {
   "cell_type": "code",
   "execution_count": 9,
   "id": "60dc87bc",
   "metadata": {},
   "outputs": [
    {
     "data": {
      "text/plain": [
       "str"
      ]
     },
     "execution_count": 9,
     "metadata": {},
     "output_type": "execute_result"
    }
   ],
   "source": [
    "type(a)"
   ]
  },
  {
   "cell_type": "code",
   "execution_count": 10,
   "id": "5160d68e",
   "metadata": {},
   "outputs": [],
   "source": [
    "b = 2"
   ]
  },
  {
   "cell_type": "code",
   "execution_count": 11,
   "id": "540444c2",
   "metadata": {},
   "outputs": [
    {
     "data": {
      "text/plain": [
       "int"
      ]
     },
     "execution_count": 11,
     "metadata": {},
     "output_type": "execute_result"
    }
   ],
   "source": [
    "type(b)"
   ]
  },
  {
   "cell_type": "code",
   "execution_count": 12,
   "id": "2da3de31",
   "metadata": {},
   "outputs": [],
   "source": [
    "c = 3.14159"
   ]
  },
  {
   "cell_type": "code",
   "execution_count": 13,
   "id": "4ca2a738",
   "metadata": {},
   "outputs": [
    {
     "data": {
      "text/plain": [
       "float"
      ]
     },
     "execution_count": 13,
     "metadata": {},
     "output_type": "execute_result"
    }
   ],
   "source": [
    "type(c)"
   ]
  },
  {
   "cell_type": "code",
   "execution_count": 14,
   "id": "e4b4f74b",
   "metadata": {},
   "outputs": [
    {
     "data": {
      "text/plain": [
       "float"
      ]
     },
     "execution_count": 14,
     "metadata": {},
     "output_type": "execute_result"
    }
   ],
   "source": [
    "type(c)"
   ]
  },
  {
   "cell_type": "code",
   "execution_count": 15,
   "id": "9c454071",
   "metadata": {},
   "outputs": [],
   "source": [
    "d = 4."
   ]
  },
  {
   "cell_type": "code",
   "execution_count": 16,
   "id": "28ed4ef1",
   "metadata": {},
   "outputs": [
    {
     "data": {
      "text/plain": [
       "float"
      ]
     },
     "execution_count": 16,
     "metadata": {},
     "output_type": "execute_result"
    }
   ],
   "source": [
    "type(d)"
   ]
  },
  {
   "cell_type": "code",
   "execution_count": 17,
   "id": "fbc012be",
   "metadata": {},
   "outputs": [],
   "source": [
    "d = 'a'"
   ]
  },
  {
   "cell_type": "code",
   "execution_count": 18,
   "id": "47fca096",
   "metadata": {},
   "outputs": [
    {
     "data": {
      "text/plain": [
       "str"
      ]
     },
     "execution_count": 18,
     "metadata": {},
     "output_type": "execute_result"
    }
   ],
   "source": [
    "type(d)"
   ]
  },
  {
   "cell_type": "code",
   "execution_count": 19,
   "id": "42a2230a",
   "metadata": {},
   "outputs": [],
   "source": [
    "e = True"
   ]
  },
  {
   "cell_type": "code",
   "execution_count": 20,
   "id": "708877c3",
   "metadata": {},
   "outputs": [
    {
     "data": {
      "text/plain": [
       "bool"
      ]
     },
     "execution_count": 20,
     "metadata": {},
     "output_type": "execute_result"
    }
   ],
   "source": [
    "type(e)"
   ]
  },
  {
   "cell_type": "code",
   "execution_count": 21,
   "id": "c678a18a",
   "metadata": {},
   "outputs": [],
   "source": [
    "f = False"
   ]
  },
  {
   "cell_type": "code",
   "execution_count": 22,
   "id": "a21be72b",
   "metadata": {},
   "outputs": [
    {
     "data": {
      "text/plain": [
       "bool"
      ]
     },
     "execution_count": 22,
     "metadata": {},
     "output_type": "execute_result"
    }
   ],
   "source": [
    "type(f)"
   ]
  },
  {
   "cell_type": "code",
   "execution_count": 23,
   "id": "c0a6a2bc",
   "metadata": {},
   "outputs": [
    {
     "ename": "NameError",
     "evalue": "name 'true' is not defined",
     "output_type": "error",
     "traceback": [
      "\u001b[1;31m---------------------------------------------------------------------------\u001b[0m",
      "\u001b[1;31mNameError\u001b[0m                                 Traceback (most recent call last)",
      "Cell \u001b[1;32mIn[23], line 1\u001b[0m\n\u001b[1;32m----> 1\u001b[0m g \u001b[38;5;241m=\u001b[39m true\n",
      "\u001b[1;31mNameError\u001b[0m: name 'true' is not defined"
     ]
    }
   ],
   "source": [
    "g = true"
   ]
  },
  {
   "cell_type": "code",
   "execution_count": 24,
   "id": "e56ab41a",
   "metadata": {},
   "outputs": [
    {
     "ename": "NameError",
     "evalue": "name 'A' is not defined",
     "output_type": "error",
     "traceback": [
      "\u001b[1;31m---------------------------------------------------------------------------\u001b[0m",
      "\u001b[1;31mNameError\u001b[0m                                 Traceback (most recent call last)",
      "Cell \u001b[1;32mIn[24], line 1\u001b[0m\n\u001b[1;32m----> 1\u001b[0m A\n",
      "\u001b[1;31mNameError\u001b[0m: name 'A' is not defined"
     ]
    }
   ],
   "source": [
    "A"
   ]
  },
  {
   "cell_type": "markdown",
   "id": "0b6187a5",
   "metadata": {},
   "source": [
    "# Type Conversion"
   ]
  },
  {
   "cell_type": "code",
   "execution_count": 25,
   "id": "4d250401",
   "metadata": {},
   "outputs": [
    {
     "data": {
      "text/plain": [
       "float"
      ]
     },
     "execution_count": 25,
     "metadata": {},
     "output_type": "execute_result"
    }
   ],
   "source": [
    "h = 4.\n",
    "type(h)"
   ]
  },
  {
   "cell_type": "code",
   "execution_count": 26,
   "id": "f2205967",
   "metadata": {},
   "outputs": [
    {
     "data": {
      "text/plain": [
       "4"
      ]
     },
     "execution_count": 26,
     "metadata": {},
     "output_type": "execute_result"
    }
   ],
   "source": [
    "int(h)"
   ]
  },
  {
   "cell_type": "code",
   "execution_count": 27,
   "id": "20bab239",
   "metadata": {},
   "outputs": [
    {
     "data": {
      "text/plain": [
       "float"
      ]
     },
     "execution_count": 27,
     "metadata": {},
     "output_type": "execute_result"
    }
   ],
   "source": [
    "j = 3.14159\n",
    "type(j)"
   ]
  },
  {
   "cell_type": "code",
   "execution_count": 28,
   "id": "9334f102",
   "metadata": {},
   "outputs": [
    {
     "data": {
      "text/plain": [
       "3"
      ]
     },
     "execution_count": 28,
     "metadata": {},
     "output_type": "execute_result"
    }
   ],
   "source": [
    "int(j)"
   ]
  },
  {
   "cell_type": "code",
   "execution_count": 29,
   "id": "3b17a368",
   "metadata": {},
   "outputs": [
    {
     "data": {
      "text/plain": [
       "4"
      ]
     },
     "execution_count": 29,
     "metadata": {},
     "output_type": "execute_result"
    }
   ],
   "source": [
    "k = '4'\n",
    "type(k)\n",
    "int(k)"
   ]
  },
  {
   "cell_type": "code",
   "execution_count": 30,
   "id": "91abff9e",
   "metadata": {},
   "outputs": [
    {
     "data": {
      "text/plain": [
       "4.1"
      ]
     },
     "execution_count": 30,
     "metadata": {},
     "output_type": "execute_result"
    }
   ],
   "source": [
    "m = '4.1'\n",
    "type(m)\n",
    "float(m)"
   ]
  },
  {
   "cell_type": "code",
   "execution_count": 31,
   "id": "ad521b6d",
   "metadata": {},
   "outputs": [
    {
     "ename": "ValueError",
     "evalue": "invalid literal for int() with base 10: '4.1'",
     "output_type": "error",
     "traceback": [
      "\u001b[1;31m---------------------------------------------------------------------------\u001b[0m",
      "\u001b[1;31mValueError\u001b[0m                                Traceback (most recent call last)",
      "Cell \u001b[1;32mIn[31], line 3\u001b[0m\n\u001b[0;32m      1\u001b[0m n \u001b[38;5;241m=\u001b[39m \u001b[38;5;124m'\u001b[39m\u001b[38;5;124m4.1\u001b[39m\u001b[38;5;124m'\u001b[39m\n\u001b[0;32m      2\u001b[0m \u001b[38;5;28mtype\u001b[39m(n)\n\u001b[1;32m----> 3\u001b[0m \u001b[38;5;28mint\u001b[39m(n)\n",
      "\u001b[1;31mValueError\u001b[0m: invalid literal for int() with base 10: '4.1'"
     ]
    }
   ],
   "source": [
    "n = '4.1'\n",
    "type(n)\n",
    "int(n)"
   ]
  },
  {
   "cell_type": "code",
   "execution_count": 33,
   "id": "e06283ce",
   "metadata": {},
   "outputs": [
    {
     "data": {
      "text/plain": [
       "(str, '3.1')"
      ]
     },
     "execution_count": 33,
     "metadata": {},
     "output_type": "execute_result"
    }
   ],
   "source": [
    "p = 3.1\n",
    "type(p)\n",
    "p = str(p)\n",
    "type(p), p"
   ]
  },
  {
   "cell_type": "markdown",
   "id": "d629b210",
   "metadata": {},
   "source": [
    "# Basic Math Operations"
   ]
  },
  {
   "cell_type": "code",
   "execution_count": 1,
   "id": "fa29d162",
   "metadata": {},
   "outputs": [
    {
     "name": "stdout",
     "output_type": "stream",
     "text": [
      "3 1 6 2.0\n"
     ]
    }
   ],
   "source": [
    "aa = 1 + 2\n",
    "bb = 2 - 1\n",
    "cc = 2 * 3\n",
    "dd = 4 / 2\n",
    "print(aa, bb, cc, dd)"
   ]
  },
  {
   "cell_type": "markdown",
   "id": "d6635b34",
   "metadata": {},
   "source": [
    "Exponentiation"
   ]
  },
  {
   "cell_type": "code",
   "execution_count": 2,
   "id": "0d144d53",
   "metadata": {},
   "outputs": [
    {
     "data": {
      "text/plain": [
       "8"
      ]
     },
     "execution_count": 2,
     "metadata": {},
     "output_type": "execute_result"
    }
   ],
   "source": [
    "ee = 2**3\n",
    "ee"
   ]
  },
  {
   "cell_type": "markdown",
   "id": "1b1189c3",
   "metadata": {},
   "source": [
    "Modulus Operator... gives the reaminder after division"
   ]
  },
  {
   "cell_type": "code",
   "execution_count": 3,
   "id": "794e82ed",
   "metadata": {},
   "outputs": [
    {
     "data": {
      "text/plain": [
       "1"
      ]
     },
     "execution_count": 3,
     "metadata": {},
     "output_type": "execute_result"
    }
   ],
   "source": [
    "ff = 9 % 2\n",
    "ff"
   ]
  },
  {
   "cell_type": "code",
   "execution_count": 4,
   "id": "149d79ee",
   "metadata": {},
   "outputs": [
    {
     "data": {
      "text/plain": [
       "0"
      ]
     },
     "execution_count": 4,
     "metadata": {},
     "output_type": "execute_result"
    }
   ],
   "source": [
    "gg = 8 % 2\n",
    "gg"
   ]
  },
  {
   "cell_type": "code",
   "execution_count": 7,
   "id": "a90f92ae",
   "metadata": {},
   "outputs": [
    {
     "data": {
      "text/plain": [
       "'Go Tribe!'"
      ]
     },
     "execution_count": 7,
     "metadata": {},
     "output_type": "execute_result"
    }
   ],
   "source": [
    "hh = 'Go' + ' Tribe!'\n",
    "hh"
   ]
  },
  {
   "cell_type": "markdown",
   "id": "92ac1545",
   "metadata": {},
   "source": [
    "# Naming Variables\n",
    "\n",
    "No spaces in variable names\n",
    "\n",
    "Variables with two words: use underscore or camel case.\n",
    "\n",
    "Criteria:\n",
    "- Short as possible\n",
    "- Descriptive"
   ]
  },
  {
   "cell_type": "code",
   "execution_count": 8,
   "id": "a2973516",
   "metadata": {},
   "outputs": [],
   "source": [
    "variable_cost = 1\n",
    "variableCost = 2\n",
    "vc = 3\n",
    "var_cost = 4\n",
    "varCost = 4\n",
    "fixCost = 4\n",
    "costVar = 4\n",
    "costFix = 4"
   ]
  },
  {
   "cell_type": "markdown",
   "id": "b41f1075",
   "metadata": {},
   "source": [
    "# Order of Operations\n",
    "\n",
    "- Parentheses\n",
    "- Exponentiation\n",
    "- Multiplication, Division\n",
    "- Addition, Substraction"
   ]
  },
  {
   "cell_type": "code",
   "execution_count": 9,
   "id": "226226d0",
   "metadata": {},
   "outputs": [
    {
     "data": {
      "text/plain": [
       "5.5"
      ]
     },
     "execution_count": 9,
     "metadata": {},
     "output_type": "execute_result"
    }
   ],
   "source": [
    "result = 3 + 5/2\n",
    "result"
   ]
  },
  {
   "cell_type": "code",
   "execution_count": 10,
   "id": "9fadaea6",
   "metadata": {},
   "outputs": [
    {
     "data": {
      "text/plain": [
       "4.0"
      ]
     },
     "execution_count": 10,
     "metadata": {},
     "output_type": "execute_result"
    }
   ],
   "source": [
    "mean = (3 + 5)/2\n",
    "mean"
   ]
  },
  {
   "cell_type": "code",
   "execution_count": 11,
   "id": "2f8d1270",
   "metadata": {},
   "outputs": [],
   "source": [
    "mean1 = (3 + (2+3))/2"
   ]
  },
  {
   "cell_type": "code",
   "execution_count": 12,
   "id": "570d5d34",
   "metadata": {},
   "outputs": [
    {
     "data": {
      "text/plain": [
       "59.0"
      ]
     },
     "execution_count": 12,
     "metadata": {},
     "output_type": "execute_result"
    }
   ],
   "source": [
    "result = (3 + (4)**2*3 + (28/7*2)/2*2)\n",
    "result"
   ]
  },
  {
   "cell_type": "markdown",
   "id": "0264cd4e",
   "metadata": {},
   "source": [
    "The <code>input()</code> Statement\n",
    "\n",
    "Permits input from keyboard."
   ]
  },
  {
   "cell_type": "code",
   "execution_count": 13,
   "id": "f1fa4fc3",
   "metadata": {},
   "outputs": [
    {
     "name": "stdout",
     "output_type": "stream",
     "text": [
      "Enter an integer: 7\n"
     ]
    },
    {
     "data": {
      "text/plain": [
       "'7'"
      ]
     },
     "execution_count": 13,
     "metadata": {},
     "output_type": "execute_result"
    }
   ],
   "source": [
    "my_input = input('Enter an integer: ')\n",
    "my_input"
   ]
  },
  {
   "cell_type": "code",
   "execution_count": 14,
   "id": "15ca5619",
   "metadata": {},
   "outputs": [
    {
     "name": "stdout",
     "output_type": "stream",
     "text": [
      "Enter an integer: 7\n"
     ]
    },
    {
     "ename": "TypeError",
     "evalue": "can't multiply sequence by non-int of type 'float'",
     "output_type": "error",
     "traceback": [
      "\u001b[1;31m---------------------------------------------------------------------------\u001b[0m",
      "\u001b[1;31mTypeError\u001b[0m                                 Traceback (most recent call last)",
      "Cell \u001b[1;32mIn[14], line 2\u001b[0m\n\u001b[0;32m      1\u001b[0m my_input \u001b[38;5;241m=\u001b[39m \u001b[38;5;28minput\u001b[39m(\u001b[38;5;124m'\u001b[39m\u001b[38;5;124mEnter an integer: \u001b[39m\u001b[38;5;124m'\u001b[39m)\n\u001b[1;32m----> 2\u001b[0m my_input \u001b[38;5;241m=\u001b[39m \u001b[38;5;241m2.0\u001b[39m \u001b[38;5;241m*\u001b[39m my_input\n\u001b[0;32m      3\u001b[0m my_input\n",
      "\u001b[1;31mTypeError\u001b[0m: can't multiply sequence by non-int of type 'float'"
     ]
    }
   ],
   "source": [
    "my_input = input('Enter an integer: ')\n",
    "my_input = 2.0 * my_input\n",
    "my_input"
   ]
  },
  {
   "cell_type": "code",
   "execution_count": 15,
   "id": "57543819",
   "metadata": {},
   "outputs": [
    {
     "name": "stdout",
     "output_type": "stream",
     "text": [
      "Enter an integer: 7\n"
     ]
    },
    {
     "data": {
      "text/plain": [
       "14.0"
      ]
     },
     "execution_count": 15,
     "metadata": {},
     "output_type": "execute_result"
    }
   ],
   "source": [
    "my_input = input('Enter an integer: ')\n",
    "my_input = float(my_input)\n",
    "my_input = 2.0 * my_input\n",
    "my_input"
   ]
  },
  {
   "cell_type": "code",
   "execution_count": 16,
   "id": "513f17e6",
   "metadata": {},
   "outputs": [
    {
     "name": "stdout",
     "output_type": "stream",
     "text": [
      "Enter an integer: 7\n"
     ]
    },
    {
     "data": {
      "text/plain": [
       "14.0"
      ]
     },
     "execution_count": 16,
     "metadata": {},
     "output_type": "execute_result"
    }
   ],
   "source": [
    "my_input = input('Enter an integer: ')\n",
    "my_input = 2.0 * float(my_input)\n",
    "my_input"
   ]
  },
  {
   "cell_type": "code",
   "execution_count": 17,
   "id": "9712123b",
   "metadata": {},
   "outputs": [
    {
     "name": "stdout",
     "output_type": "stream",
     "text": [
      "Enter an integer: abcd\n"
     ]
    },
    {
     "ename": "ValueError",
     "evalue": "could not convert string to float: 'abcd'",
     "output_type": "error",
     "traceback": [
      "\u001b[1;31m---------------------------------------------------------------------------\u001b[0m",
      "\u001b[1;31mValueError\u001b[0m                                Traceback (most recent call last)",
      "Cell \u001b[1;32mIn[17], line 2\u001b[0m\n\u001b[0;32m      1\u001b[0m my_input \u001b[38;5;241m=\u001b[39m \u001b[38;5;28minput\u001b[39m(\u001b[38;5;124m'\u001b[39m\u001b[38;5;124mEnter an integer: \u001b[39m\u001b[38;5;124m'\u001b[39m)\n\u001b[1;32m----> 2\u001b[0m my_input \u001b[38;5;241m=\u001b[39m \u001b[38;5;241m2.0\u001b[39m \u001b[38;5;241m*\u001b[39m \u001b[38;5;28mfloat\u001b[39m(my_input)\n\u001b[0;32m      3\u001b[0m my_input\n",
      "\u001b[1;31mValueError\u001b[0m: could not convert string to float: 'abcd'"
     ]
    }
   ],
   "source": [
    "my_input = input('Enter an integer: ')\n",
    "my_input = 2.0 * float(my_input)\n",
    "my_input"
   ]
  },
  {
   "cell_type": "markdown",
   "id": "b52ac0ae",
   "metadata": {},
   "source": [
    "# Python Builtin Functions\n",
    "\n",
    "- int()\n",
    "- float()\n",
    "- type()\n",
    "- input()\n",
    "- str()\n",
    "- bool()\n",
    "- print()\n",
    "\n",
    "https://docs.python.org/3/library/functions.html"
   ]
  },
  {
   "cell_type": "code",
   "execution_count": 18,
   "id": "4516af51",
   "metadata": {},
   "outputs": [
    {
     "data": {
      "text/plain": [
       "8"
      ]
     },
     "execution_count": 18,
     "metadata": {},
     "output_type": "execute_result"
    }
   ],
   "source": [
    "aaa = pow(2, 3)\n",
    "aaa"
   ]
  },
  {
   "cell_type": "code",
   "execution_count": 19,
   "id": "7fc9f433",
   "metadata": {},
   "outputs": [
    {
     "data": {
      "text/plain": [
       "1"
      ]
     },
     "execution_count": 19,
     "metadata": {},
     "output_type": "execute_result"
    }
   ],
   "source": [
    "min(1,2)"
   ]
  },
  {
   "cell_type": "code",
   "execution_count": 20,
   "id": "98825c57",
   "metadata": {},
   "outputs": [
    {
     "data": {
      "text/plain": [
       "2"
      ]
     },
     "execution_count": 20,
     "metadata": {},
     "output_type": "execute_result"
    }
   ],
   "source": [
    "max(1,2)"
   ]
  },
  {
   "cell_type": "code",
   "execution_count": 21,
   "id": "8dedb746",
   "metadata": {},
   "outputs": [
    {
     "data": {
      "text/plain": [
       "4"
      ]
     },
     "execution_count": 21,
     "metadata": {},
     "output_type": "execute_result"
    }
   ],
   "source": [
    "max(1,2,3,4)"
   ]
  },
  {
   "cell_type": "code",
   "execution_count": 22,
   "id": "2eff6f6e",
   "metadata": {},
   "outputs": [
    {
     "data": {
      "text/plain": [
       "5"
      ]
     },
     "execution_count": 22,
     "metadata": {},
     "output_type": "execute_result"
    }
   ],
   "source": [
    "my_str = 'hello'\n",
    "len(my_str)"
   ]
  },
  {
   "cell_type": "code",
   "execution_count": 23,
   "id": "e7ebe64b",
   "metadata": {},
   "outputs": [
    {
     "data": {
      "text/plain": [
       "False"
      ]
     },
     "execution_count": 23,
     "metadata": {},
     "output_type": "execute_result"
    }
   ],
   "source": [
    "bool(0)"
   ]
  },
  {
   "cell_type": "code",
   "execution_count": 24,
   "id": "c8726035",
   "metadata": {},
   "outputs": [
    {
     "data": {
      "text/plain": [
       "True"
      ]
     },
     "execution_count": 24,
     "metadata": {},
     "output_type": "execute_result"
    }
   ],
   "source": [
    "bool(1)"
   ]
  },
  {
   "cell_type": "code",
   "execution_count": 25,
   "id": "ad9d3b22",
   "metadata": {},
   "outputs": [
    {
     "data": {
      "text/plain": [
       "True"
      ]
     },
     "execution_count": 25,
     "metadata": {},
     "output_type": "execute_result"
    }
   ],
   "source": [
    "bool(99)"
   ]
  },
  {
   "cell_type": "markdown",
   "id": "70920f29",
   "metadata": {},
   "source": [
    "# Conditional Execution\n",
    "\n",
    "- if-elif-else\n",
    "- try-except"
   ]
  },
  {
   "cell_type": "code",
   "execution_count": null,
   "id": "3ff94241",
   "metadata": {},
   "outputs": [],
   "source": [
    "# Try to take the reciprocal of x\n",
    "x = 0\n",
    "\n",
    "if Boolean-Expression:\n",
    "    y = 1/x\n",
    "    print(y)\n",
    "else:\n",
    "    something_else_to_execute"
   ]
  },
  {
   "cell_type": "code",
   "execution_count": 1,
   "id": "8713af27",
   "metadata": {},
   "outputs": [],
   "source": [
    "x = 0"
   ]
  },
  {
   "cell_type": "code",
   "execution_count": 2,
   "id": "87dde2ed",
   "metadata": {},
   "outputs": [
    {
     "data": {
      "text/plain": [
       "True"
      ]
     },
     "execution_count": 2,
     "metadata": {},
     "output_type": "execute_result"
    }
   ],
   "source": [
    "x == 0"
   ]
  },
  {
   "cell_type": "code",
   "execution_count": 3,
   "id": "a961cbb2",
   "metadata": {},
   "outputs": [
    {
     "data": {
      "text/plain": [
       "False"
      ]
     },
     "execution_count": 3,
     "metadata": {},
     "output_type": "execute_result"
    }
   ],
   "source": [
    "x != 0"
   ]
  },
  {
   "cell_type": "code",
   "execution_count": 4,
   "id": "e8a2fd8d",
   "metadata": {},
   "outputs": [
    {
     "data": {
      "text/plain": [
       "False"
      ]
     },
     "execution_count": 4,
     "metadata": {},
     "output_type": "execute_result"
    }
   ],
   "source": [
    "x > 0 "
   ]
  },
  {
   "cell_type": "code",
   "execution_count": 5,
   "id": "2feda060",
   "metadata": {},
   "outputs": [
    {
     "data": {
      "text/plain": [
       "True"
      ]
     },
     "execution_count": 5,
     "metadata": {},
     "output_type": "execute_result"
    }
   ],
   "source": [
    "x >= 0"
   ]
  },
  {
   "cell_type": "code",
   "execution_count": 6,
   "id": "c2ed9bd5",
   "metadata": {},
   "outputs": [
    {
     "data": {
      "text/plain": [
       "True"
      ]
     },
     "execution_count": 6,
     "metadata": {},
     "output_type": "execute_result"
    }
   ],
   "source": [
    "x<= 0"
   ]
  },
  {
   "cell_type": "code",
   "execution_count": 7,
   "id": "c83757be",
   "metadata": {},
   "outputs": [
    {
     "data": {
      "text/plain": [
       "False"
      ]
     },
     "execution_count": 7,
     "metadata": {},
     "output_type": "execute_result"
    }
   ],
   "source": [
    "x < 0"
   ]
  },
  {
   "cell_type": "code",
   "execution_count": 9,
   "id": "e26571fb",
   "metadata": {},
   "outputs": [
    {
     "name": "stdout",
     "output_type": "stream",
     "text": [
      "1.0\n"
     ]
    }
   ],
   "source": [
    "# Try to take the reciprocal of x\n",
    "x = 1\n",
    "\n",
    "if x != 0:\n",
    "    y = 1/x\n",
    "    print(y)\n",
    "else:\n",
    "    print('Cannot take the reciprocal of 0')"
   ]
  },
  {
   "cell_type": "code",
   "execution_count": 11,
   "id": "867d903c",
   "metadata": {},
   "outputs": [
    {
     "name": "stdout",
     "output_type": "stream",
     "text": [
      "1.0\n"
     ]
    }
   ],
   "source": [
    "x = 1\n",
    "\n",
    "if x != 0 and x > 0:\n",
    "    y = 1/x\n",
    "    print(y)\n",
    "else:\n",
    "    print('Cannot take the reciprocal of 0')"
   ]
  },
  {
   "cell_type": "code",
   "execution_count": 14,
   "id": "ae6cb68d",
   "metadata": {},
   "outputs": [
    {
     "data": {
      "text/plain": [
       "False"
      ]
     },
     "execution_count": 14,
     "metadata": {},
     "output_type": "execute_result"
    }
   ],
   "source": [
    "y = 0\n",
    "z = 49\n",
    "\n",
    "y > 0 or z > 50"
   ]
  },
  {
   "cell_type": "code",
   "execution_count": 15,
   "id": "b8d397c9",
   "metadata": {},
   "outputs": [
    {
     "name": "stdout",
     "output_type": "stream",
     "text": [
      "Execute rest of program\n"
     ]
    }
   ],
   "source": [
    "to_compute = True\n",
    "\n",
    "if to_compute:\n",
    "    print('Execute rest of program')"
   ]
  },
  {
   "cell_type": "code",
   "execution_count": 18,
   "id": "14fca760",
   "metadata": {},
   "outputs": [
    {
     "name": "stdout",
     "output_type": "stream",
     "text": [
      "I cannot compute the solution\n"
     ]
    }
   ],
   "source": [
    "to_compute = False\n",
    "\n",
    "if not to_compute:\n",
    "    print('I cannot compute the solution')"
   ]
  },
  {
   "cell_type": "code",
   "execution_count": 16,
   "id": "18d44212",
   "metadata": {},
   "outputs": [
    {
     "data": {
      "text/plain": [
       "False"
      ]
     },
     "execution_count": 16,
     "metadata": {},
     "output_type": "execute_result"
    }
   ],
   "source": [
    "not True"
   ]
  },
  {
   "cell_type": "code",
   "execution_count": 17,
   "id": "7ab40ab4",
   "metadata": {},
   "outputs": [
    {
     "data": {
      "text/plain": [
       "True"
      ]
     },
     "execution_count": 17,
     "metadata": {},
     "output_type": "execute_result"
    }
   ],
   "source": [
    "not False"
   ]
  },
  {
   "cell_type": "markdown",
   "id": "ba057b75",
   "metadata": {},
   "source": [
    "Compute the number of students in each group\n",
    "- Inputs\n",
    "    - Number of students\n",
    "    - Number of students per group\n",
    "- Outputs\n",
    "    - Number of groups\n",
    "    - Number of leftover students\n"
   ]
  },
  {
   "cell_type": "code",
   "execution_count": 25,
   "id": "04b18800",
   "metadata": {},
   "outputs": [
    {
     "data": {
      "text/plain": [
       "(6, 4)"
      ]
     },
     "execution_count": 25,
     "metadata": {},
     "output_type": "execute_result"
    }
   ],
   "source": [
    "num_students = 34\n",
    "students_per_group = 5\n",
    "\n",
    "studt_extra = num_students % students_per_group\n",
    "num_groups = num_students//students_per_group\n",
    "\n",
    "num_groups, studt_extra"
   ]
  },
  {
   "cell_type": "markdown",
   "id": "62a3d500",
   "metadata": {},
   "source": [
    "How to find number of groups:"
   ]
  },
  {
   "cell_type": "code",
   "execution_count": 24,
   "id": "677aa100",
   "metadata": {},
   "outputs": [
    {
     "name": "stdout",
     "output_type": "stream",
     "text": [
      "6\n",
      "6\n",
      "6.0\n"
     ]
    }
   ],
   "source": [
    "#print(round(num_students/students_per_group))\n",
    "print(num_students//students_per_group)\n",
    "print(int(num_students/students_per_group))\n",
    "print((num_students - studt_extra)/students_per_group)"
   ]
  },
  {
   "cell_type": "code",
   "execution_count": 27,
   "id": "c6182a96",
   "metadata": {},
   "outputs": [
    {
     "name": "stdout",
     "output_type": "stream",
     "text": [
      "Number of Groups:  6     Number of Extra Students 4\n"
     ]
    }
   ],
   "source": [
    "num_students = 34\n",
    "students_per_group = 5\n",
    "\n",
    "studt_extra = num_students % students_per_group\n",
    "num_groups = num_students//students_per_group\n",
    "\n",
    "print('Number of Groups: ', num_groups, '    Number of Extra Students:', studt_extra)"
   ]
  },
  {
   "cell_type": "code",
   "execution_count": 4,
   "id": "03b762b0",
   "metadata": {},
   "outputs": [
    {
     "name": "stdout",
     "output_type": "stream",
     "text": [
      "Enter number of students per group: 0\n",
      "Number of students in group must be greater than 0.\n",
      "hello\n"
     ]
    }
   ],
   "source": [
    "students_per_group = input('Enter number of students per group: ')\n",
    "students_per_group = int(students_per_group)\n",
    "\n",
    "num_students = 34\n",
    "\n",
    "if students_per_group < 0:\n",
    "    print('The number of students in a group cannot be negative')\n",
    "elif students_per_group == 0:\n",
    "    print('Number of students in group must be greater than 0.')\n",
    "else:\n",
    "    studt_extra= num_students % students_per_group\n",
    "    num_groups = num_students//students_per_group\n",
    "    print('Number of Groups: ', num_groups, '    Number of Extra Students:', studt_extra)\n",
    "print('hello')"
   ]
  },
  {
   "cell_type": "code",
   "execution_count": null,
   "id": "19f82a8a",
   "metadata": {},
   "outputs": [],
   "source": []
  },
  {
   "cell_type": "code",
   "execution_count": null,
   "id": "891b7f88",
   "metadata": {},
   "outputs": [],
   "source": []
  },
  {
   "cell_type": "code",
   "execution_count": null,
   "id": "2d4caff2",
   "metadata": {},
   "outputs": [],
   "source": []
  },
  {
   "cell_type": "code",
   "execution_count": 28,
   "id": "2c380096",
   "metadata": {},
   "outputs": [
    {
     "data": {
      "text/plain": [
       "'Number of Groups: 6    Number of Extra Students: 4'"
      ]
     },
     "execution_count": 28,
     "metadata": {},
     "output_type": "execute_result"
    }
   ],
   "source": [
    "f'Number of Groups: {num_groups}    Number of Extra Students: {studt_extra}'"
   ]
  },
  {
   "cell_type": "markdown",
   "id": "d8ebd492",
   "metadata": {},
   "source": [
    "## Try-Except"
   ]
  },
  {
   "cell_type": "code",
   "execution_count": 33,
   "id": "7491aab8",
   "metadata": {},
   "outputs": [
    {
     "name": "stdout",
     "output_type": "stream",
     "text": [
      "Enter a numerical value: 0\n",
      "Cannot compute the reciprocal of 0.0\n"
     ]
    }
   ],
   "source": [
    "x = input('Enter a numerical value: ')\n",
    "x = float(x)\n",
    "\n",
    "# Compute reciprocal\n",
    "try:\n",
    "    y = 1/x\n",
    "    print(f'The reciprocal of {x} is {y}')\n",
    "except:\n",
    "    print(f'Cannot compute the reciprocal of {x}')"
   ]
  },
  {
   "cell_type": "code",
   "execution_count": 34,
   "id": "047b1f9c",
   "metadata": {},
   "outputs": [
    {
     "name": "stdout",
     "output_type": "stream",
     "text": [
      "Enter a numerical value: 0\n"
     ]
    }
   ],
   "source": [
    "x = input('Enter a numerical value: ')\n",
    "x = float(x)\n",
    "\n",
    "# Compute reciprocal\n",
    "try:\n",
    "    y = 1/x\n",
    "    print(f'The reciprocal of {x} is {y}')\n",
    "except:\n",
    "    pass"
   ]
  },
  {
   "cell_type": "markdown",
   "id": "218719a6",
   "metadata": {},
   "source": [
    "DO NOT EXECUTE THE CODE CELL BELOW... it will destroy"
   ]
  },
  {
   "cell_type": "code",
   "execution_count": 35,
   "id": "16cde46f",
   "metadata": {},
   "outputs": [],
   "source": [
    "input = x"
   ]
  },
  {
   "cell_type": "code",
   "execution_count": 1,
   "id": "9188d18f",
   "metadata": {},
   "outputs": [
    {
     "name": "stdout",
     "output_type": "stream",
     "text": [
      "Enter a numerical value: 0\n"
     ]
    }
   ],
   "source": [
    "x = input('Enter a numerical value: ')\n",
    "x = float(x)\n",
    "\n",
    "# Compute reciprocal\n",
    "try:\n",
    "    y = 1/x\n",
    "    print(f'The reciprocal of {x} is {y}')\n",
    "except:\n",
    "    pass"
   ]
  },
  {
   "cell_type": "markdown",
   "id": "1d486ac6",
   "metadata": {},
   "source": [
    "# Comments"
   ]
  },
  {
   "cell_type": "code",
   "execution_count": null,
   "id": "f9ccff30",
   "metadata": {},
   "outputs": [],
   "source": [
    "# set value of x\n",
    "x = 1\n",
    "y = x + 1 # increase value fo x by 1 and assign to y\n",
    "\n",
    "''' This is a very long comment    This is a very long comment    \n",
    "    This is a very long comment    This is a very long comment    \n",
    "    This is a very long comment    This is a very long comment    \n",
    "    This is a very long comment    This is a very long comment    \n",
    "    This is a very long comment    This is a very long comment    \n",
    "    This is a very long comment    '''\n",
    "\n",
    "\"\"\"  This is a very long comment    This is a very long comment    \n",
    "    This is a very long comment    This is a very long comment    \n",
    "    This is a very long comment    This is a very long comment    \n",
    "    This is a very long comment    This is a very long comment\"\"\"\n",
    "print(f'x = {x}  y = {y}')"
   ]
  },
  {
   "cell_type": "markdown",
   "id": "44a8a2d1",
   "metadata": {},
   "source": [
    "# <Code>list</code> Data Type"
   ]
  },
  {
   "cell_type": "code",
   "execution_count": 5,
   "id": "d97c7634",
   "metadata": {},
   "outputs": [
    {
     "data": {
      "text/plain": [
       "([0, 1, 2], list)"
      ]
     },
     "execution_count": 5,
     "metadata": {},
     "output_type": "execute_result"
    }
   ],
   "source": [
    "my_list = [0,1,2]\n",
    "my_list, type(my_list)"
   ]
  },
  {
   "cell_type": "code",
   "execution_count": 6,
   "id": "67d742ae",
   "metadata": {},
   "outputs": [
    {
     "data": {
      "text/plain": [
       "(['sdf', 'fgh'], list)"
      ]
     },
     "execution_count": 6,
     "metadata": {},
     "output_type": "execute_result"
    }
   ],
   "source": [
    "my_list2 = ['sdf', 'fgh']\n",
    "my_list2, type(my_list2)"
   ]
  },
  {
   "cell_type": "code",
   "execution_count": 7,
   "id": "c49d5410",
   "metadata": {},
   "outputs": [
    {
     "data": {
      "text/plain": [
       "([True, 1, 3.4, 'hello'], list)"
      ]
     },
     "execution_count": 7,
     "metadata": {},
     "output_type": "execute_result"
    }
   ],
   "source": [
    "my_list3 = [True, 1, 3.4, 'hello']\n",
    "my_list3, type(my_list3)"
   ]
  },
  {
   "cell_type": "code",
   "execution_count": 8,
   "id": "9e6ec4c5",
   "metadata": {},
   "outputs": [
    {
     "data": {
      "text/plain": [
       "4"
      ]
     },
     "execution_count": 8,
     "metadata": {},
     "output_type": "execute_result"
    }
   ],
   "source": [
    "len(my_list3)"
   ]
  },
  {
   "cell_type": "code",
   "execution_count": 9,
   "id": "a8c76e39",
   "metadata": {},
   "outputs": [
    {
     "data": {
      "text/plain": [
       "[True, 1, 3.4, 'hello', 'another element']"
      ]
     },
     "execution_count": 9,
     "metadata": {},
     "output_type": "execute_result"
    }
   ],
   "source": [
    "my_list3.append('another element')\n",
    "my_list3"
   ]
  },
  {
   "cell_type": "markdown",
   "id": "5296c015",
   "metadata": {},
   "source": [
    "Delete from list by index"
   ]
  },
  {
   "cell_type": "code",
   "execution_count": 10,
   "id": "6cfa99a4",
   "metadata": {},
   "outputs": [
    {
     "data": {
      "text/plain": [
       "True"
      ]
     },
     "execution_count": 10,
     "metadata": {},
     "output_type": "execute_result"
    }
   ],
   "source": [
    "my_list3[0]"
   ]
  },
  {
   "cell_type": "code",
   "execution_count": 11,
   "id": "5826eae2",
   "metadata": {},
   "outputs": [],
   "source": [
    "del my_list3[0]"
   ]
  },
  {
   "cell_type": "code",
   "execution_count": 12,
   "id": "4db28e1a",
   "metadata": {},
   "outputs": [
    {
     "data": {
      "text/plain": [
       "[1, 3.4, 'hello', 'another element']"
      ]
     },
     "execution_count": 12,
     "metadata": {},
     "output_type": "execute_result"
    }
   ],
   "source": [
    "my_list3"
   ]
  },
  {
   "cell_type": "code",
   "execution_count": 13,
   "id": "151b6289",
   "metadata": {},
   "outputs": [],
   "source": [
    "my_list3.remove('hello')"
   ]
  },
  {
   "cell_type": "code",
   "execution_count": 14,
   "id": "12dd783a",
   "metadata": {},
   "outputs": [
    {
     "data": {
      "text/plain": [
       "[1, 3.4, 'another element']"
      ]
     },
     "execution_count": 14,
     "metadata": {},
     "output_type": "execute_result"
    }
   ],
   "source": [
    "my_list3"
   ]
  },
  {
   "cell_type": "markdown",
   "id": "6d226d66",
   "metadata": {},
   "source": [
    "<code>range()</code> Statement"
   ]
  },
  {
   "cell_type": "code",
   "execution_count": 15,
   "id": "95c9be87",
   "metadata": {},
   "outputs": [
    {
     "data": {
      "text/plain": [
       "range(0, 10)"
      ]
     },
     "execution_count": 15,
     "metadata": {},
     "output_type": "execute_result"
    }
   ],
   "source": [
    "range(10)"
   ]
  },
  {
   "cell_type": "code",
   "execution_count": 16,
   "id": "04b82190",
   "metadata": {},
   "outputs": [
    {
     "data": {
      "text/plain": [
       "[0, 1, 2, 3, 4, 5, 6, 7, 8, 9]"
      ]
     },
     "execution_count": 16,
     "metadata": {},
     "output_type": "execute_result"
    }
   ],
   "source": [
    "list(range(10))"
   ]
  },
  {
   "cell_type": "code",
   "execution_count": 17,
   "id": "1c1748dc",
   "metadata": {},
   "outputs": [
    {
     "data": {
      "text/plain": [
       "[1, 3, 5, 7, 9, 11, 13, 15, 17, 19, 21, 23, 25]"
      ]
     },
     "execution_count": 17,
     "metadata": {},
     "output_type": "execute_result"
    }
   ],
   "source": [
    "# range(start, stop, increment)\n",
    "list(range(1, 27, 2))"
   ]
  },
  {
   "cell_type": "code",
   "execution_count": null,
   "id": "b418e840",
   "metadata": {},
   "outputs": [],
   "source": []
  }
 ],
 "metadata": {
  "kernelspec": {
   "display_name": "Python 3 (ipykernel)",
   "language": "python",
   "name": "python3"
  },
  "language_info": {
   "codemirror_mode": {
    "name": "ipython",
    "version": 3
   },
   "file_extension": ".py",
   "mimetype": "text/x-python",
   "name": "python",
   "nbconvert_exporter": "python",
   "pygments_lexer": "ipython3",
   "version": "3.11.4"
  }
 },
 "nbformat": 4,
 "nbformat_minor": 5
}
