{
 "cells": [
  {
   "cell_type": "markdown",
   "id": "8eec52a6",
   "metadata": {},
   "source": [
    "# Problem\n",
    "\n",
    "Create a list of 6 elements, starting with 2, where each element is the square of the previous element plus 1."
   ]
  },
  {
   "cell_type": "code",
   "execution_count": 1,
   "id": "0f6dc6c1",
   "metadata": {},
   "outputs": [
    {
     "data": {
      "text/plain": [
       "[2, 9, 100, 10201, 104080804, 10832813969448025]"
      ]
     },
     "execution_count": 1,
     "metadata": {},
     "output_type": "execute_result"
    }
   ],
   "source": [
    "val_curr = 2\n",
    "answer = [val_curr]\n",
    "\n",
    "for _ in range(5):\n",
    "    val_next = (val_curr + 1)**2\n",
    "    answer.append(val_next)\n",
    "    val_curr = val_next\n",
    "    \n",
    "answer"
   ]
  },
  {
   "cell_type": "code",
   "execution_count": 2,
   "id": "f2e6e26d",
   "metadata": {},
   "outputs": [
    {
     "data": {
      "text/plain": [
       "[2, 9, 100, 10201, 104080804, 10832813969448025]"
      ]
     },
     "execution_count": 2,
     "metadata": {},
     "output_type": "execute_result"
    }
   ],
   "source": [
    "answer = [2]\n",
    "\n",
    "for _ in range(5):\n",
    "    answer.append((answer[-1] + 1)**2)\n",
    "    \n",
    "answer"
   ]
  },
  {
   "cell_type": "code",
   "execution_count": 3,
   "id": "093a9c82",
   "metadata": {},
   "outputs": [
    {
     "data": {
      "text/plain": [
       "[2, 9, 100, 10201, 104080804, 10832813969448025]"
      ]
     },
     "execution_count": 3,
     "metadata": {},
     "output_type": "execute_result"
    }
   ],
   "source": [
    "x,y = 2,9\n",
    "answer = []\n",
    "\n",
    "for _ in range(6):\n",
    "    answer.append(x)\n",
    "    x,y = y, (y+1)**2\n",
    "    \n",
    "answer"
   ]
  },
  {
   "cell_type": "code",
   "execution_count": null,
   "id": "b0ceb221",
   "metadata": {},
   "outputs": [],
   "source": []
  }
 ],
 "metadata": {
  "kernelspec": {
   "display_name": "Python 3 (ipykernel)",
   "language": "python",
   "name": "python3"
  },
  "language_info": {
   "codemirror_mode": {
    "name": "ipython",
    "version": 3
   },
   "file_extension": ".py",
   "mimetype": "text/x-python",
   "name": "python",
   "nbconvert_exporter": "python",
   "pygments_lexer": "ipython3",
   "version": "3.11.4"
  }
 },
 "nbformat": 4,
 "nbformat_minor": 5
}
