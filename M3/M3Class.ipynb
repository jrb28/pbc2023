{
 "cells": [
  {
   "cell_type": "markdown",
   "id": "bebea854",
   "metadata": {},
   "source": [
    "# Homework\n",
    "\n",
    "## M2_1"
   ]
  },
  {
   "cell_type": "code",
   "execution_count": 1,
   "id": "11e9012c",
   "metadata": {},
   "outputs": [
    {
     "name": "stdout",
     "output_type": "stream",
     "text": [
      "Please enter a number: werwefasd\n",
      "werwefasd could not be converted to a numerical value.\n",
      "Please enter a number: eerfasdfs\n",
      "eerfasdfs could not be converted to a numerical value.\n",
      "Please enter a number: sdafasdwer\n",
      "sdafasdwer could not be converted to a numerical value.\n",
      "Please enter a number: 212\n",
      "212.0 Fahrenheit is 100.0 Celsius.\n"
     ]
    }
   ],
   "source": [
    "success = False  # indicator variable if conversion has been successful\n",
    "\n",
    "while not success:\n",
    "    f = input('Please enter a number: ')\n",
    "    try:\n",
    "        f = float(f)\n",
    "        c = (f - 32) *5/9\n",
    "        print(f'{f} Fahrenheit is {c} Celsius.')\n",
    "        success = True\n",
    "    except:\n",
    "        print(f'{f} could not be converted to a numerical value.')"
   ]
  },
  {
   "cell_type": "markdown",
   "id": "c34c4b1d",
   "metadata": {},
   "source": [
    "## M2_2"
   ]
  },
  {
   "cell_type": "code",
   "execution_count": 2,
   "id": "bd3ee38b",
   "metadata": {},
   "outputs": [
    {
     "name": "stdout",
     "output_type": "stream",
     "text": [
      "x could be interpreted as a number.\n",
      "100.0\n",
      "x could be interpreted as a number.\n",
      "0.0\n",
      "y could be interpreted as a number.\n",
      "5.0\n"
     ]
    }
   ],
   "source": [
    "temps = ['x', 212, 'x', 32, 'y', 41]\n",
    "\n",
    "for t in temps:\n",
    "    # Don't do this\n",
    "    # if type(t) == 'int' or 'float'\n",
    "    if isinstance(t, float) or isinstance(t,int):\n",
    "        # do_temp_conversion\n",
    "        t = float(t)\n",
    "        c = (t - 32) * 5/9\n",
    "        print(c)\n",
    "    else:\n",
    "        print(f'{t} could not be interpreted as a number.')"
   ]
  },
  {
   "cell_type": "code",
   "execution_count": 3,
   "id": "935dcc7b",
   "metadata": {},
   "outputs": [
    {
     "data": {
      "text/plain": [
       "True"
      ]
     },
     "execution_count": 3,
     "metadata": {},
     "output_type": "execute_result"
    }
   ],
   "source": [
    "bool('float')"
   ]
  },
  {
   "cell_type": "markdown",
   "id": "909b3396",
   "metadata": {},
   "source": [
    "# Revisit For Loops\n",
    "\n",
    "Which type of for loops must be used if we want to change the values in a list?"
   ]
  },
  {
   "cell_type": "code",
   "execution_count": 4,
   "id": "addedbda",
   "metadata": {},
   "outputs": [],
   "source": [
    "data = [3,9,3,7,0,1,5,7,8]"
   ]
  },
  {
   "cell_type": "code",
   "execution_count": 5,
   "id": "58047ff7",
   "metadata": {},
   "outputs": [
    {
     "data": {
      "text/plain": [
       "[3, 9, 3, 7, 0, 1, 5, 7, 8]"
      ]
     },
     "execution_count": 5,
     "metadata": {},
     "output_type": "execute_result"
    }
   ],
   "source": [
    "for element in data:\n",
    "    if element >= 5:\n",
    "        element = 0\n",
    "        \n",
    "data"
   ]
  },
  {
   "cell_type": "code",
   "execution_count": 6,
   "id": "7a3e96da",
   "metadata": {},
   "outputs": [
    {
     "data": {
      "text/plain": [
       "[3, 0, 3, 0, 0, 1, 0, 0, 0]"
      ]
     },
     "execution_count": 6,
     "metadata": {},
     "output_type": "execute_result"
    }
   ],
   "source": [
    "for i in range(len(data)):\n",
    "    if data[i] >= 5:\n",
    "        data[i] = 0\n",
    "        \n",
    "data"
   ]
  },
  {
   "cell_type": "markdown",
   "id": "75899ded",
   "metadata": {},
   "source": [
    "# Custom Functions\n",
    "\n",
    "- Avoid bugs\n",
    "- Cleaner, more readable code\n",
    "- Faster development\n",
    "- Code reuse, faster development of subsequent code\n",
    "- Easier maintenance"
   ]
  },
  {
   "cell_type": "code",
   "execution_count": 7,
   "id": "4a8f8618",
   "metadata": {},
   "outputs": [
    {
     "name": "stdout",
     "output_type": "stream",
     "text": [
      "2.4 54.403333333333336 42.02 6.5325\n"
     ]
    }
   ],
   "source": [
    "num_item_order = [1,2,3,2,1,2,3,4,5,1]\n",
    "sales_store = [25.21, 43.75, 94.25]\n",
    "sales_cust = [7.51, 42.12, 76.43]\n",
    "rev_order = [2.35, 7.85, 2.98, 12.95]\n",
    "\n",
    "avg_item_order = sum(num_item_order)/len(num_item_order)\n",
    "avg_store_sales = sum(sales_store)/len(sales_store)\n",
    "avg_sales_cust = sum(sales_cust)/len(sales_cust)\n",
    "avg_rev_order = sum(rev_order)/len(rev_order)\n",
    "\n",
    "print(avg_item_order, avg_store_sales, avg_sales_cust, avg_rev_order)"
   ]
  },
  {
   "cell_type": "code",
   "execution_count": 48,
   "id": "93c6641c",
   "metadata": {},
   "outputs": [],
   "source": [
    "def avg(my_list):\n",
    "    my_avg = sum(my_list)/len(my_list)\n",
    "    return my_avg"
   ]
  },
  {
   "cell_type": "code",
   "execution_count": 11,
   "id": "8acf7c5d",
   "metadata": {},
   "outputs": [],
   "source": [
    "def avg1(my_list):\n",
    "    return sum(my_list)/len(my_list)"
   ]
  },
  {
   "cell_type": "code",
   "execution_count": 9,
   "id": "c98a4720",
   "metadata": {},
   "outputs": [
    {
     "name": "stdout",
     "output_type": "stream",
     "text": [
      "2.4 54.403333333333336 42.02 6.5325\n"
     ]
    }
   ],
   "source": [
    "num_item_order = [1,2,3,2,1,2,3,4,5,1]\n",
    "sales_store = [25.21, 43.75, 94.25]\n",
    "sales_cust = [7.51, 42.12, 76.43]\n",
    "rev_order = [2.35, 7.85, 2.98, 12.95]\n",
    "\n",
    "avg_item_order = avg(num_item_order)\n",
    "avg_store_sales = avg(sales_store)\n",
    "avg_sales_cust = avg(sales_cust)\n",
    "avg_rev_order = avg(rev_order)\n",
    "\n",
    "print(avg_item_order, avg_store_sales, avg_sales_cust, avg_rev_order)"
   ]
  },
  {
   "cell_type": "code",
   "execution_count": 10,
   "id": "a5d09883",
   "metadata": {},
   "outputs": [
    {
     "name": "stdout",
     "output_type": "stream",
     "text": [
      "2.4 54.403333333333336 42.02 6.5325\n"
     ]
    }
   ],
   "source": [
    "num_item_order = [1,2,3,2,1,2,3,4,5,1]\n",
    "sales_store = [25.21, 43.75, 94.25]\n",
    "sales_cust = [7.51, 42.12, 76.43]\n",
    "rev_order = [2.35, 7.85, 2.98, 12.95]\n",
    "\n",
    "print(avg(num_item_order), avg(sales_store), avg(sales_cust), avg(rev_order))"
   ]
  },
  {
   "cell_type": "markdown",
   "id": "d4049ec7",
   "metadata": {},
   "source": [
    "Functions with multiple _arguments_"
   ]
  },
  {
   "cell_type": "code",
   "execution_count": 12,
   "id": "46c9a28a",
   "metadata": {},
   "outputs": [],
   "source": [
    "def check_type(x, y):\n",
    "    #result = (type(x) == type(y))\n",
    "    return type(x) == type(y)"
   ]
  },
  {
   "cell_type": "code",
   "execution_count": 16,
   "id": "63144287",
   "metadata": {},
   "outputs": [],
   "source": [
    "def check_type1(x, y):\n",
    "    return isinstance(x, type(y))"
   ]
  },
  {
   "cell_type": "code",
   "execution_count": 14,
   "id": "1e113bfa",
   "metadata": {},
   "outputs": [
    {
     "data": {
      "text/plain": [
       "False"
      ]
     },
     "execution_count": 14,
     "metadata": {},
     "output_type": "execute_result"
    }
   ],
   "source": [
    "check_type(1.,2)"
   ]
  },
  {
   "cell_type": "code",
   "execution_count": 17,
   "id": "5b00fa88",
   "metadata": {},
   "outputs": [
    {
     "data": {
      "text/plain": [
       "False"
      ]
     },
     "execution_count": 17,
     "metadata": {},
     "output_type": "execute_result"
    }
   ],
   "source": [
    "check_type1(1.,2)"
   ]
  },
  {
   "cell_type": "markdown",
   "id": "56b6bfdf",
   "metadata": {},
   "source": [
    "# Dictionaries\n",
    "\n",
    "A collection of _key:value_ pairs.\n",
    "\n",
    "Very fast lookup."
   ]
  },
  {
   "cell_type": "code",
   "execution_count": 5,
   "id": "c3bdafdd",
   "metadata": {},
   "outputs": [],
   "source": [
    "eng_span = {0:'cero', 1:'uno', 2:'dos', 4:'quatro'}"
   ]
  },
  {
   "cell_type": "code",
   "execution_count": 2,
   "id": "d85a7201",
   "metadata": {},
   "outputs": [
    {
     "data": {
      "text/plain": [
       "'uno'"
      ]
     },
     "execution_count": 2,
     "metadata": {},
     "output_type": "execute_result"
    }
   ],
   "source": [
    "eng_span[1]"
   ]
  },
  {
   "cell_type": "code",
   "execution_count": 3,
   "id": "a752f809",
   "metadata": {},
   "outputs": [
    {
     "ename": "KeyError",
     "evalue": "3",
     "output_type": "error",
     "traceback": [
      "\u001b[1;31m---------------------------------------------------------------------------\u001b[0m",
      "\u001b[1;31mKeyError\u001b[0m                                  Traceback (most recent call last)",
      "Cell \u001b[1;32mIn[3], line 1\u001b[0m\n\u001b[1;32m----> 1\u001b[0m eng_span[\u001b[38;5;241m3\u001b[39m]\n",
      "\u001b[1;31mKeyError\u001b[0m: 3"
     ]
    }
   ],
   "source": [
    "eng_span[3]"
   ]
  },
  {
   "cell_type": "code",
   "execution_count": 6,
   "id": "291f7aa8",
   "metadata": {},
   "outputs": [
    {
     "data": {
      "text/plain": [
       "'quatro'"
      ]
     },
     "execution_count": 6,
     "metadata": {},
     "output_type": "execute_result"
    }
   ],
   "source": [
    "eng_span[4]"
   ]
  },
  {
   "cell_type": "code",
   "execution_count": 7,
   "id": "53576e57",
   "metadata": {},
   "outputs": [
    {
     "data": {
      "text/plain": [
       "dict_keys([0, 1, 2, 4])"
      ]
     },
     "execution_count": 7,
     "metadata": {},
     "output_type": "execute_result"
    }
   ],
   "source": [
    "eng_span.keys()"
   ]
  },
  {
   "cell_type": "code",
   "execution_count": 8,
   "id": "92732b4b",
   "metadata": {},
   "outputs": [
    {
     "data": {
      "text/plain": [
       "dict_values(['cero', 'uno', 'dos', 'quatro'])"
      ]
     },
     "execution_count": 8,
     "metadata": {},
     "output_type": "execute_result"
    }
   ],
   "source": [
    "eng_span.values()"
   ]
  },
  {
   "cell_type": "code",
   "execution_count": 9,
   "id": "ab89ae71",
   "metadata": {},
   "outputs": [
    {
     "data": {
      "text/plain": [
       "dict_items([(0, 'cero'), (1, 'uno'), (2, 'dos'), (4, 'quatro')])"
      ]
     },
     "execution_count": 9,
     "metadata": {},
     "output_type": "execute_result"
    }
   ],
   "source": [
    "eng_span.items()"
   ]
  },
  {
   "cell_type": "code",
   "execution_count": 10,
   "id": "d7bf266a",
   "metadata": {},
   "outputs": [
    {
     "name": "stdout",
     "output_type": "stream",
     "text": [
      "0\n",
      "1\n",
      "2\n",
      "4\n"
     ]
    }
   ],
   "source": [
    "for k in eng_span.keys():\n",
    "    print(k)"
   ]
  },
  {
   "cell_type": "code",
   "execution_count": 11,
   "id": "9dffc81c",
   "metadata": {},
   "outputs": [
    {
     "name": "stdout",
     "output_type": "stream",
     "text": [
      "0\n",
      "1\n",
      "2\n",
      "4\n"
     ]
    }
   ],
   "source": [
    "for k in eng_span:\n",
    "    print(k)"
   ]
  },
  {
   "cell_type": "code",
   "execution_count": 12,
   "id": "6a94da21",
   "metadata": {},
   "outputs": [
    {
     "name": "stdout",
     "output_type": "stream",
     "text": [
      "(0, 'cero')\n",
      "(1, 'uno')\n",
      "(2, 'dos')\n",
      "(4, 'quatro')\n"
     ]
    }
   ],
   "source": [
    "for item in eng_span.items():\n",
    "    print(item)"
   ]
  },
  {
   "cell_type": "code",
   "execution_count": 14,
   "id": "789fccbb",
   "metadata": {},
   "outputs": [
    {
     "name": "stdout",
     "output_type": "stream",
     "text": [
      "0       cero\n",
      "1       uno\n",
      "2       dos\n",
      "4       quatro\n"
     ]
    }
   ],
   "source": [
    "for k,v in eng_span.items():\n",
    "    print(k, '     ',v)"
   ]
  },
  {
   "cell_type": "code",
   "execution_count": 15,
   "id": "0d605867",
   "metadata": {},
   "outputs": [
    {
     "ename": "ValueError",
     "evalue": "not enough values to unpack (expected 3, got 2)",
     "output_type": "error",
     "traceback": [
      "\u001b[1;31m---------------------------------------------------------------------------\u001b[0m",
      "\u001b[1;31mValueError\u001b[0m                                Traceback (most recent call last)",
      "Cell \u001b[1;32mIn[15], line 1\u001b[0m\n\u001b[1;32m----> 1\u001b[0m k,v, m \u001b[38;5;241m=\u001b[39m (\u001b[38;5;241m0\u001b[39m, \u001b[38;5;124m'\u001b[39m\u001b[38;5;124mcero\u001b[39m\u001b[38;5;124m'\u001b[39m)\n\u001b[0;32m      2\u001b[0m \u001b[38;5;28mprint\u001b[39m(k)\n\u001b[0;32m      3\u001b[0m \u001b[38;5;28mprint\u001b[39m(v)\n",
      "\u001b[1;31mValueError\u001b[0m: not enough values to unpack (expected 3, got 2)"
     ]
    }
   ],
   "source": [
    "k,v, m = (0, 'cero')\n",
    "print(k)\n",
    "print(v)"
   ]
  },
  {
   "cell_type": "code",
   "execution_count": 16,
   "id": "90d324b4",
   "metadata": {},
   "outputs": [
    {
     "data": {
      "text/plain": [
       "dict"
      ]
     },
     "execution_count": 16,
     "metadata": {},
     "output_type": "execute_result"
    }
   ],
   "source": [
    "d = {}\n",
    "type(d)"
   ]
  },
  {
   "cell_type": "code",
   "execution_count": 17,
   "id": "5e197968",
   "metadata": {},
   "outputs": [],
   "source": [
    "d['x'] = 99"
   ]
  },
  {
   "cell_type": "code",
   "execution_count": 18,
   "id": "aff7b18d",
   "metadata": {},
   "outputs": [
    {
     "data": {
      "text/plain": [
       "{'x': 99}"
      ]
     },
     "execution_count": 18,
     "metadata": {},
     "output_type": "execute_result"
    }
   ],
   "source": [
    "d"
   ]
  },
  {
   "cell_type": "code",
   "execution_count": 19,
   "id": "9820b8c0",
   "metadata": {},
   "outputs": [
    {
     "data": {
      "text/plain": [
       "{'x': 100}"
      ]
     },
     "execution_count": 19,
     "metadata": {},
     "output_type": "execute_result"
    }
   ],
   "source": [
    "d['x'] = 100\n",
    "d"
   ]
  },
  {
   "cell_type": "code",
   "execution_count": 20,
   "id": "7939b336",
   "metadata": {},
   "outputs": [
    {
     "data": {
      "text/plain": [
       "{'x': 101}"
      ]
     },
     "execution_count": 20,
     "metadata": {},
     "output_type": "execute_result"
    }
   ],
   "source": [
    "d['x'] += 1\n",
    "d"
   ]
  },
  {
   "cell_type": "code",
   "execution_count": 21,
   "id": "bd830afe",
   "metadata": {},
   "outputs": [
    {
     "data": {
      "text/plain": [
       "{0: 3, 1: 0, 2: 1, 3: 8, 4: 5, 5: 6, 6: 5, 7: 9, 8: 1, 9: 0}"
      ]
     },
     "execution_count": 21,
     "metadata": {},
     "output_type": "execute_result"
    }
   ],
   "source": [
    "d = {}\n",
    "import random\n",
    "\n",
    "for i in range(10):\n",
    "    d[i] = random.randint(0,9)\n",
    "    \n",
    "d"
   ]
  },
  {
   "cell_type": "code",
   "execution_count": 22,
   "id": "1a967938",
   "metadata": {},
   "outputs": [
    {
     "data": {
      "text/plain": [
       "[1, 8, 7, 7, 6, 1, 0, 0, 7, 8]"
      ]
     },
     "execution_count": 22,
     "metadata": {},
     "output_type": "execute_result"
    }
   ],
   "source": [
    "data = []\n",
    "\n",
    "for i in range(10000):\n",
    "    data.append(random.randint(0,9))\n",
    "data[:10]    "
   ]
  },
  {
   "cell_type": "code",
   "execution_count": 65,
   "id": "b9812774",
   "metadata": {},
   "outputs": [
    {
     "data": {
      "text/plain": [
       "{1: 998,\n",
       " 8: 1002,\n",
       " 7: 1008,\n",
       " 6: 975,\n",
       " 0: 1018,\n",
       " 4: 1001,\n",
       " 2: 976,\n",
       " 3: 1031,\n",
       " 5: 964,\n",
       " 9: 1027}"
      ]
     },
     "execution_count": 65,
     "metadata": {},
     "output_type": "execute_result"
    }
   ],
   "source": [
    "# fh = frequency histogram\n",
    "# fh dictionary has keys equal to the integer values in data list\n",
    "#  and values equal to the number number of occurrences of each unqiue\n",
    "# integer\n",
    "fh = {}\n",
    "\n",
    "for ele in data:\n",
    "    if ele in fh.keys():\n",
    "        fh[ele] += 1\n",
    "    else:\n",
    "        fh[ele] = 1\n",
    "    \n",
    "fh"
   ]
  },
  {
   "cell_type": "code",
   "execution_count": 24,
   "id": "cced354f",
   "metadata": {},
   "outputs": [
    {
     "data": {
      "text/plain": [
       "True"
      ]
     },
     "execution_count": 24,
     "metadata": {},
     "output_type": "execute_result"
    }
   ],
   "source": [
    "check = [0,3,5,8]\n",
    "3 in check"
   ]
  },
  {
   "cell_type": "code",
   "execution_count": null,
   "id": "bec6f69c",
   "metadata": {},
   "outputs": [],
   "source": []
  },
  {
   "cell_type": "markdown",
   "id": "32acf319",
   "metadata": {},
   "source": [
    "# List Comprehension"
   ]
  },
  {
   "cell_type": "code",
   "execution_count": 26,
   "id": "8c359ce6",
   "metadata": {},
   "outputs": [
    {
     "data": {
      "text/plain": [
       "[5, 1, 5, 0, 6, 3, 9, 9, 7, 6]"
      ]
     },
     "execution_count": 26,
     "metadata": {},
     "output_type": "execute_result"
    }
   ],
   "source": [
    "dt = []\n",
    "\n",
    "for i in range(10):\n",
    "    dt.append(random.randint(0,9))\n",
    "dt   "
   ]
  },
  {
   "cell_type": "code",
   "execution_count": 27,
   "id": "e24134dd",
   "metadata": {},
   "outputs": [
    {
     "data": {
      "text/plain": [
       "[0, 7, 2, 2, 1, 4, 9, 5, 3, 9]"
      ]
     },
     "execution_count": 27,
     "metadata": {},
     "output_type": "execute_result"
    }
   ],
   "source": [
    "dt1 = [random.randint(0,9) for i in range(10)]\n",
    "dt1"
   ]
  },
  {
   "cell_type": "code",
   "execution_count": 28,
   "id": "fa713f6b",
   "metadata": {},
   "outputs": [
    {
     "data": {
      "text/plain": [
       "[0, 1, 2, 3, 4, 5, 6, 7, 8, 9]"
      ]
     },
     "execution_count": 28,
     "metadata": {},
     "output_type": "execute_result"
    }
   ],
   "source": [
    "dt2 = [i for i in range(10)]\n",
    "dt2"
   ]
  },
  {
   "cell_type": "markdown",
   "id": "2bf48d8f",
   "metadata": {},
   "source": [
    "![List Comprehension Example](images/listComprehension.jpg)\n",
    "![List Comprehension Format Scheme](images/listComprehension1.jpg)"
   ]
  },
  {
   "cell_type": "code",
   "execution_count": 29,
   "id": "b5f0de32",
   "metadata": {},
   "outputs": [
    {
     "data": {
      "text/plain": [
       "[0, 1, 2, 3, 4, 5]"
      ]
     },
     "execution_count": 29,
     "metadata": {},
     "output_type": "execute_result"
    }
   ],
   "source": [
    "dt3 = [i for i in range(10) if i <= 5]\n",
    "dt3"
   ]
  },
  {
   "cell_type": "code",
   "execution_count": 30,
   "id": "11a27340",
   "metadata": {
    "collapsed": true
   },
   "outputs": [
    {
     "data": {
      "text/plain": [
       "[1,\n",
       " 1,\n",
       " 0,\n",
       " 0,\n",
       " 4,\n",
       " 0,\n",
       " 1,\n",
       " 0,\n",
       " 1,\n",
       " 2,\n",
       " 0,\n",
       " 3,\n",
       " 4,\n",
       " 3,\n",
       " 5,\n",
       " 4,\n",
       " 0,\n",
       " 2,\n",
       " 4,\n",
       " 2,\n",
       " 2,\n",
       " 4,\n",
       " 0,\n",
       " 2,\n",
       " 0,\n",
       " 3,\n",
       " 3,\n",
       " 0,\n",
       " 1,\n",
       " 5,\n",
       " 0,\n",
       " 1,\n",
       " 3,\n",
       " 3,\n",
       " 2,\n",
       " 3,\n",
       " 4,\n",
       " 1,\n",
       " 3,\n",
       " 2,\n",
       " 3,\n",
       " 3,\n",
       " 1,\n",
       " 0,\n",
       " 4,\n",
       " 4,\n",
       " 0,\n",
       " 2,\n",
       " 2,\n",
       " 5,\n",
       " 3,\n",
       " 5,\n",
       " 4,\n",
       " 2,\n",
       " 0,\n",
       " 5,\n",
       " 1,\n",
       " 2,\n",
       " 3,\n",
       " 5,\n",
       " 1,\n",
       " 1,\n",
       " 3,\n",
       " 5,\n",
       " 3,\n",
       " 2,\n",
       " 1,\n",
       " 4,\n",
       " 3,\n",
       " 2,\n",
       " 5,\n",
       " 0,\n",
       " 2,\n",
       " 2,\n",
       " 0,\n",
       " 2,\n",
       " 4,\n",
       " 0,\n",
       " 1,\n",
       " 0,\n",
       " 1,\n",
       " 0,\n",
       " 0,\n",
       " 1,\n",
       " 2,\n",
       " 4,\n",
       " 3,\n",
       " 2,\n",
       " 3,\n",
       " 1,\n",
       " 1,\n",
       " 2,\n",
       " 2,\n",
       " 3,\n",
       " 1,\n",
       " 2,\n",
       " 3,\n",
       " 1,\n",
       " 1,\n",
       " 2,\n",
       " 1,\n",
       " 4,\n",
       " 3,\n",
       " 1,\n",
       " 3,\n",
       " 4,\n",
       " 5,\n",
       " 5,\n",
       " 4,\n",
       " 0,\n",
       " 2,\n",
       " 1,\n",
       " 3,\n",
       " 4,\n",
       " 2,\n",
       " 0,\n",
       " 0,\n",
       " 3,\n",
       " 5,\n",
       " 2,\n",
       " 2,\n",
       " 1,\n",
       " 1,\n",
       " 0,\n",
       " 4,\n",
       " 5,\n",
       " 2,\n",
       " 1,\n",
       " 4,\n",
       " 0,\n",
       " 0,\n",
       " 2,\n",
       " 5,\n",
       " 1,\n",
       " 4,\n",
       " 0,\n",
       " 3,\n",
       " 1,\n",
       " 5,\n",
       " 4,\n",
       " 0,\n",
       " 2,\n",
       " 0,\n",
       " 2,\n",
       " 0,\n",
       " 3,\n",
       " 0,\n",
       " 2,\n",
       " 4,\n",
       " 4,\n",
       " 0,\n",
       " 5,\n",
       " 2,\n",
       " 5,\n",
       " 3,\n",
       " 0,\n",
       " 4,\n",
       " 5,\n",
       " 0,\n",
       " 5,\n",
       " 2,\n",
       " 3,\n",
       " 4,\n",
       " 2,\n",
       " 5,\n",
       " 3,\n",
       " 5,\n",
       " 5,\n",
       " 2,\n",
       " 5,\n",
       " 3,\n",
       " 3,\n",
       " 3,\n",
       " 0,\n",
       " 4,\n",
       " 4,\n",
       " 0,\n",
       " 4,\n",
       " 2,\n",
       " 5,\n",
       " 3,\n",
       " 1,\n",
       " 0,\n",
       " 0,\n",
       " 3,\n",
       " 5,\n",
       " 5,\n",
       " 4,\n",
       " 0,\n",
       " 1,\n",
       " 1,\n",
       " 2,\n",
       " 4,\n",
       " 4,\n",
       " 1,\n",
       " 4,\n",
       " 4,\n",
       " 1,\n",
       " 3,\n",
       " 2,\n",
       " 2,\n",
       " 1,\n",
       " 1,\n",
       " 1,\n",
       " 5,\n",
       " 3,\n",
       " 4,\n",
       " 4,\n",
       " 3,\n",
       " 0,\n",
       " 3,\n",
       " 2,\n",
       " 5,\n",
       " 0,\n",
       " 4,\n",
       " 3,\n",
       " 3,\n",
       " 1,\n",
       " 3,\n",
       " 3,\n",
       " 3,\n",
       " 3,\n",
       " 2,\n",
       " 0,\n",
       " 3,\n",
       " 5,\n",
       " 3,\n",
       " 2,\n",
       " 1,\n",
       " 2,\n",
       " 4,\n",
       " 5,\n",
       " 1,\n",
       " 0,\n",
       " 1,\n",
       " 0,\n",
       " 5,\n",
       " 0,\n",
       " 1,\n",
       " 2,\n",
       " 4,\n",
       " 1,\n",
       " 2,\n",
       " 5,\n",
       " 1,\n",
       " 5,\n",
       " 3,\n",
       " 5,\n",
       " 0,\n",
       " 0,\n",
       " 0,\n",
       " 1,\n",
       " 3,\n",
       " 1,\n",
       " 3,\n",
       " 3,\n",
       " 2,\n",
       " 3,\n",
       " 2,\n",
       " 0,\n",
       " 2,\n",
       " 2,\n",
       " 4,\n",
       " 1,\n",
       " 1,\n",
       " 2,\n",
       " 3,\n",
       " 1,\n",
       " 5,\n",
       " 1,\n",
       " 2,\n",
       " 2,\n",
       " 5,\n",
       " 1,\n",
       " 0,\n",
       " 1,\n",
       " 2,\n",
       " 2,\n",
       " 5,\n",
       " 0,\n",
       " 0,\n",
       " 3,\n",
       " 2,\n",
       " 5,\n",
       " 2,\n",
       " 3,\n",
       " 0,\n",
       " 3,\n",
       " 0,\n",
       " 3,\n",
       " 5,\n",
       " 3,\n",
       " 4,\n",
       " 4,\n",
       " 2,\n",
       " 0,\n",
       " 3,\n",
       " 2,\n",
       " 5,\n",
       " 0,\n",
       " 3,\n",
       " 0,\n",
       " 3,\n",
       " 4,\n",
       " 4,\n",
       " 3,\n",
       " 0,\n",
       " 0,\n",
       " 2,\n",
       " 2,\n",
       " 5,\n",
       " 5,\n",
       " 1,\n",
       " 5,\n",
       " 1,\n",
       " 2,\n",
       " 2,\n",
       " 3,\n",
       " 2,\n",
       " 0,\n",
       " 0,\n",
       " 2,\n",
       " 5,\n",
       " 2,\n",
       " 3,\n",
       " 2,\n",
       " 5,\n",
       " 2,\n",
       " 1,\n",
       " 5,\n",
       " 2,\n",
       " 4,\n",
       " 0,\n",
       " 3,\n",
       " 2,\n",
       " 1,\n",
       " 2,\n",
       " 4,\n",
       " 0,\n",
       " 3,\n",
       " 5,\n",
       " 0,\n",
       " 5,\n",
       " 0,\n",
       " 3,\n",
       " 2,\n",
       " 1,\n",
       " 1,\n",
       " 5,\n",
       " 1,\n",
       " 3,\n",
       " 4,\n",
       " 1,\n",
       " 5,\n",
       " 2,\n",
       " 2,\n",
       " 1,\n",
       " 0,\n",
       " 1,\n",
       " 5,\n",
       " 3,\n",
       " 4,\n",
       " 1,\n",
       " 0,\n",
       " 4,\n",
       " 0,\n",
       " 2,\n",
       " 3,\n",
       " 0,\n",
       " 1,\n",
       " 3,\n",
       " 1,\n",
       " 2,\n",
       " 1,\n",
       " 2,\n",
       " 2,\n",
       " 4,\n",
       " 0,\n",
       " 3,\n",
       " 5,\n",
       " 5,\n",
       " 3,\n",
       " 4,\n",
       " 2,\n",
       " 1,\n",
       " 4,\n",
       " 3,\n",
       " 2,\n",
       " 3,\n",
       " 1,\n",
       " 3,\n",
       " 2,\n",
       " 3,\n",
       " 2,\n",
       " 4,\n",
       " 1,\n",
       " 0,\n",
       " 4,\n",
       " 2,\n",
       " 1,\n",
       " 4,\n",
       " 4,\n",
       " 3,\n",
       " 3,\n",
       " 4,\n",
       " 3,\n",
       " 5,\n",
       " 1,\n",
       " 3,\n",
       " 1,\n",
       " 2,\n",
       " 0,\n",
       " 2,\n",
       " 3,\n",
       " 4,\n",
       " 2,\n",
       " 0,\n",
       " 5,\n",
       " 3,\n",
       " 0,\n",
       " 4,\n",
       " 1,\n",
       " 1,\n",
       " 3,\n",
       " 5,\n",
       " 0,\n",
       " 4,\n",
       " 5,\n",
       " 5,\n",
       " 3,\n",
       " 4,\n",
       " 2,\n",
       " 1,\n",
       " 1,\n",
       " 2,\n",
       " 4,\n",
       " 1,\n",
       " 1,\n",
       " 1,\n",
       " 0,\n",
       " 4,\n",
       " 2,\n",
       " 5,\n",
       " 0,\n",
       " 2,\n",
       " 1,\n",
       " 5,\n",
       " 1,\n",
       " 4,\n",
       " 5,\n",
       " 1,\n",
       " 3,\n",
       " 3,\n",
       " 4,\n",
       " 3,\n",
       " 1,\n",
       " 4,\n",
       " 2,\n",
       " 4,\n",
       " 3,\n",
       " 4,\n",
       " 4,\n",
       " 1,\n",
       " 2,\n",
       " 2,\n",
       " 1,\n",
       " 5,\n",
       " 4,\n",
       " 5,\n",
       " 5,\n",
       " 4,\n",
       " 4,\n",
       " 5,\n",
       " 0,\n",
       " 4,\n",
       " 3,\n",
       " 2,\n",
       " 2,\n",
       " 3,\n",
       " 3,\n",
       " 1,\n",
       " 3,\n",
       " 4,\n",
       " 4,\n",
       " 1,\n",
       " 0,\n",
       " 5,\n",
       " 4,\n",
       " 5,\n",
       " 4,\n",
       " 0,\n",
       " 5,\n",
       " 0,\n",
       " 2,\n",
       " 3,\n",
       " 5,\n",
       " 0,\n",
       " 0,\n",
       " 2,\n",
       " 1,\n",
       " 3,\n",
       " 1,\n",
       " 2,\n",
       " 0,\n",
       " 4,\n",
       " 3,\n",
       " 3,\n",
       " 4,\n",
       " 1,\n",
       " 5,\n",
       " 1,\n",
       " 1,\n",
       " 2,\n",
       " 5,\n",
       " 5,\n",
       " 3,\n",
       " 3,\n",
       " 0,\n",
       " 3,\n",
       " 2,\n",
       " 3,\n",
       " 4,\n",
       " 1,\n",
       " 0,\n",
       " 1,\n",
       " 3,\n",
       " 2,\n",
       " 1,\n",
       " 3,\n",
       " 3,\n",
       " 4,\n",
       " 0,\n",
       " 0,\n",
       " 2,\n",
       " 0,\n",
       " 5,\n",
       " 0,\n",
       " 3,\n",
       " 3,\n",
       " 4,\n",
       " 3,\n",
       " 0,\n",
       " 5,\n",
       " 5,\n",
       " 0,\n",
       " 3,\n",
       " 4,\n",
       " 3,\n",
       " 2,\n",
       " 1,\n",
       " 1,\n",
       " 0,\n",
       " 3,\n",
       " 0,\n",
       " 2,\n",
       " 0,\n",
       " 4,\n",
       " 3,\n",
       " 3,\n",
       " 1,\n",
       " 1,\n",
       " 3,\n",
       " 3,\n",
       " 4,\n",
       " 4,\n",
       " 5,\n",
       " 3,\n",
       " 0,\n",
       " 2,\n",
       " 4,\n",
       " 2,\n",
       " 1,\n",
       " 0,\n",
       " 3,\n",
       " 1,\n",
       " 0,\n",
       " 4,\n",
       " 1,\n",
       " 5,\n",
       " 3,\n",
       " 3,\n",
       " 1,\n",
       " 4,\n",
       " 2,\n",
       " 2,\n",
       " 0,\n",
       " 2,\n",
       " 1,\n",
       " 2,\n",
       " 3,\n",
       " 1,\n",
       " 1,\n",
       " 3,\n",
       " 2,\n",
       " 1,\n",
       " 5,\n",
       " 1,\n",
       " 5,\n",
       " 3,\n",
       " 0,\n",
       " 4,\n",
       " 5,\n",
       " 1,\n",
       " 5,\n",
       " 3,\n",
       " 3,\n",
       " 0,\n",
       " 2,\n",
       " 3,\n",
       " 4,\n",
       " 0,\n",
       " 3,\n",
       " 4,\n",
       " 1,\n",
       " 1,\n",
       " 2,\n",
       " 4,\n",
       " 1,\n",
       " 1,\n",
       " 2,\n",
       " 3,\n",
       " 0,\n",
       " 5,\n",
       " 0,\n",
       " 5,\n",
       " 5,\n",
       " 5,\n",
       " 5,\n",
       " 3,\n",
       " 1,\n",
       " 5,\n",
       " 4,\n",
       " 3,\n",
       " 4,\n",
       " 1,\n",
       " 1,\n",
       " 3,\n",
       " 0,\n",
       " 0,\n",
       " 3,\n",
       " 2,\n",
       " 5,\n",
       " 0,\n",
       " 5,\n",
       " 0,\n",
       " 0,\n",
       " 4,\n",
       " 4,\n",
       " 5,\n",
       " 0,\n",
       " 1,\n",
       " 3,\n",
       " 1,\n",
       " 4,\n",
       " 3,\n",
       " 3,\n",
       " 0,\n",
       " 2,\n",
       " 3,\n",
       " 2,\n",
       " 4,\n",
       " 1,\n",
       " 0,\n",
       " 4,\n",
       " 4,\n",
       " 1,\n",
       " 1,\n",
       " 2,\n",
       " 2,\n",
       " 3,\n",
       " 3,\n",
       " 5,\n",
       " 4,\n",
       " 5,\n",
       " 2,\n",
       " 2,\n",
       " 3,\n",
       " 2,\n",
       " 4,\n",
       " 2,\n",
       " 3,\n",
       " 3,\n",
       " 0,\n",
       " 3,\n",
       " 0,\n",
       " 0,\n",
       " 1,\n",
       " 4,\n",
       " 3,\n",
       " 2,\n",
       " 2,\n",
       " 5,\n",
       " 1,\n",
       " 5,\n",
       " 5,\n",
       " 1,\n",
       " 1,\n",
       " 4,\n",
       " 5,\n",
       " 4,\n",
       " 2,\n",
       " 0,\n",
       " 5,\n",
       " 3,\n",
       " 4,\n",
       " 5,\n",
       " 2,\n",
       " 1,\n",
       " 2,\n",
       " 4,\n",
       " 5,\n",
       " 5,\n",
       " 3,\n",
       " 4,\n",
       " 5,\n",
       " 5,\n",
       " 0,\n",
       " 1,\n",
       " 1,\n",
       " 1,\n",
       " 1,\n",
       " 0,\n",
       " 1,\n",
       " 3,\n",
       " 4,\n",
       " 3,\n",
       " 5,\n",
       " 2,\n",
       " 5,\n",
       " 0,\n",
       " 1,\n",
       " 1,\n",
       " 5,\n",
       " 1,\n",
       " 4,\n",
       " 4,\n",
       " 0,\n",
       " 4,\n",
       " 3,\n",
       " 2,\n",
       " 5,\n",
       " 1,\n",
       " 3,\n",
       " 5,\n",
       " 2,\n",
       " 0,\n",
       " 3,\n",
       " 0,\n",
       " 3,\n",
       " 0,\n",
       " 3,\n",
       " 0,\n",
       " 3,\n",
       " 0,\n",
       " 4,\n",
       " 0,\n",
       " 0,\n",
       " 1,\n",
       " 1,\n",
       " 2,\n",
       " 3,\n",
       " 5,\n",
       " 0,\n",
       " 4,\n",
       " 4,\n",
       " 2,\n",
       " 2,\n",
       " 0,\n",
       " 5,\n",
       " 4,\n",
       " 1,\n",
       " 5,\n",
       " 0,\n",
       " 5,\n",
       " 4,\n",
       " 2,\n",
       " 0,\n",
       " 1,\n",
       " 5,\n",
       " 3,\n",
       " 5,\n",
       " 0,\n",
       " 0,\n",
       " 2,\n",
       " 4,\n",
       " 1,\n",
       " 3,\n",
       " 2,\n",
       " 0,\n",
       " 4,\n",
       " 4,\n",
       " 4,\n",
       " 0,\n",
       " 4,\n",
       " 1,\n",
       " 3,\n",
       " 3,\n",
       " 0,\n",
       " 3,\n",
       " 0,\n",
       " 4,\n",
       " 3,\n",
       " 0,\n",
       " 0,\n",
       " 2,\n",
       " 3,\n",
       " 0,\n",
       " 5,\n",
       " 1,\n",
       " 5,\n",
       " 5,\n",
       " 1,\n",
       " 4,\n",
       " 5,\n",
       " 4,\n",
       " 1,\n",
       " 2,\n",
       " 0,\n",
       " 0,\n",
       " 0,\n",
       " 3,\n",
       " 1,\n",
       " 3,\n",
       " 3,\n",
       " 4,\n",
       " 2,\n",
       " 2,\n",
       " 5,\n",
       " 0,\n",
       " 2,\n",
       " 3,\n",
       " 3,\n",
       " 5,\n",
       " 5,\n",
       " 0,\n",
       " 3,\n",
       " 2,\n",
       " 3,\n",
       " 1,\n",
       " 4,\n",
       " 1,\n",
       " 4,\n",
       " 3,\n",
       " 3,\n",
       " 1,\n",
       " 1,\n",
       " 0,\n",
       " 3,\n",
       " 0,\n",
       " 0,\n",
       " 4,\n",
       " 3,\n",
       " 3,\n",
       " 5,\n",
       " 2,\n",
       " 5,\n",
       " 5,\n",
       " 2,\n",
       " 0,\n",
       " 2,\n",
       " 1,\n",
       " 1,\n",
       " 3,\n",
       " 4,\n",
       " 3,\n",
       " 0,\n",
       " 0,\n",
       " 3,\n",
       " 5,\n",
       " 0,\n",
       " 0,\n",
       " 0,\n",
       " 1,\n",
       " 3,\n",
       " 0,\n",
       " 0,\n",
       " 2,\n",
       " 2,\n",
       " 1,\n",
       " 4,\n",
       " 2,\n",
       " 4,\n",
       " 4,\n",
       " 3,\n",
       " 1,\n",
       " 0,\n",
       " 0,\n",
       " 5,\n",
       " 4,\n",
       " 3,\n",
       " 0,\n",
       " 2,\n",
       " 5,\n",
       " 4,\n",
       " 0,\n",
       " 4,\n",
       " 0,\n",
       " 4,\n",
       " 1,\n",
       " 1,\n",
       " 0,\n",
       " 5,\n",
       " 1,\n",
       " 1,\n",
       " 4,\n",
       " 4,\n",
       " 1,\n",
       " 3,\n",
       " 5,\n",
       " 5,\n",
       " 4,\n",
       " 5,\n",
       " 0,\n",
       " 5,\n",
       " 4,\n",
       " 1,\n",
       " 2,\n",
       " 1,\n",
       " 3,\n",
       " 0,\n",
       " 0,\n",
       " 1,\n",
       " 0,\n",
       " 1,\n",
       " 3,\n",
       " 2,\n",
       " 2,\n",
       " 4,\n",
       " 3,\n",
       " 2,\n",
       " 5,\n",
       " 0,\n",
       " 5,\n",
       " 2,\n",
       " 0,\n",
       " 5,\n",
       " 3,\n",
       " 5,\n",
       " 4,\n",
       " 1,\n",
       " 2,\n",
       " 4,\n",
       " 4,\n",
       " 4,\n",
       " 4,\n",
       " 1,\n",
       " 2,\n",
       " 1,\n",
       " 1,\n",
       " 4,\n",
       " 3,\n",
       " 0,\n",
       " 3,\n",
       " 0,\n",
       " 3,\n",
       " 4,\n",
       " 4,\n",
       " 2,\n",
       " 4,\n",
       " 1,\n",
       " 0,\n",
       " 0,\n",
       " 3,\n",
       " 3,\n",
       " 5,\n",
       " 1,\n",
       " 4,\n",
       " 4,\n",
       " 5,\n",
       " 3,\n",
       " 5,\n",
       " 4,\n",
       " 1,\n",
       " 4,\n",
       " 1,\n",
       " 4,\n",
       " 1,\n",
       " 3,\n",
       " 5,\n",
       " 4,\n",
       " 3,\n",
       " 1,\n",
       " 0,\n",
       " 5,\n",
       " 4,\n",
       " 4,\n",
       " 2,\n",
       " 4,\n",
       " 0,\n",
       " 4,\n",
       " 2,\n",
       " 5,\n",
       " 0,\n",
       " 3,\n",
       " 0,\n",
       " 1,\n",
       " 1,\n",
       " 0,\n",
       " 1,\n",
       " 2,\n",
       " ...]"
      ]
     },
     "execution_count": 30,
     "metadata": {},
     "output_type": "execute_result"
    }
   ],
   "source": [
    "dt4 = [d for d in data if d <=5]\n",
    "dt4"
   ]
  },
  {
   "cell_type": "markdown",
   "id": "05c1bbd6",
   "metadata": {},
   "source": [
    "![List_Comp If](images/listComprehension2.jpg)"
   ]
  },
  {
   "cell_type": "code",
   "execution_count": 32,
   "id": "2892ebe5",
   "metadata": {},
   "outputs": [
    {
     "data": {
      "text/plain": [
       "[1, 0, 0, 0, 0, 1, 0, 0, 0, 0, 4, 0, 0, 1, 0, 0, 0, 1, 2, 0]"
      ]
     },
     "execution_count": 32,
     "metadata": {},
     "output_type": "execute_result"
    }
   ],
   "source": [
    "dt5 = [d if d <= 5 else 0 for d in data[:20]]\n",
    "dt5"
   ]
  },
  {
   "cell_type": "code",
   "execution_count": null,
   "id": "7eab18a7",
   "metadata": {},
   "outputs": [],
   "source": []
  },
  {
   "cell_type": "code",
   "execution_count": null,
   "id": "420122da",
   "metadata": {},
   "outputs": [],
   "source": []
  },
  {
   "cell_type": "markdown",
   "id": "e51e804c",
   "metadata": {},
   "source": [
    "![List_Comp If-Then](images/list_comp_if_else.jpg)"
   ]
  },
  {
   "cell_type": "code",
   "execution_count": null,
   "id": "938988f0",
   "metadata": {},
   "outputs": [],
   "source": []
  },
  {
   "cell_type": "code",
   "execution_count": null,
   "id": "00f38fbb",
   "metadata": {},
   "outputs": [],
   "source": []
  },
  {
   "cell_type": "markdown",
   "id": "cc67b9a0",
   "metadata": {},
   "source": [
    "## Ternary Operator\n",
    "\n",
    "One of two outcomes is selected depending on a condition."
   ]
  },
  {
   "cell_type": "code",
   "execution_count": 33,
   "id": "edd6130d",
   "metadata": {},
   "outputs": [
    {
     "data": {
      "text/plain": [
       "'odd'"
      ]
     },
     "execution_count": 33,
     "metadata": {},
     "output_type": "execute_result"
    }
   ],
   "source": [
    "x = 3\n",
    "result = 'even' if x%2 == 0 else 'odd'\n",
    "result"
   ]
  },
  {
   "cell_type": "markdown",
   "id": "8ef4f4f0",
   "metadata": {},
   "source": [
    "# Dictionary Comprehension"
   ]
  },
  {
   "cell_type": "code",
   "execution_count": 34,
   "id": "db878a04",
   "metadata": {},
   "outputs": [
    {
     "data": {
      "text/plain": [
       "{0: 0, 1: 0, 2: 0, 3: 0, 4: 0, 5: 0, 6: 0, 7: 0, 8: 0, 9: 0}"
      ]
     },
     "execution_count": 34,
     "metadata": {},
     "output_type": "execute_result"
    }
   ],
   "source": [
    "fh = {}\n",
    "\n",
    "for i in range(10):\n",
    "    fh[i] = 0\n",
    "    \n",
    "fh"
   ]
  },
  {
   "cell_type": "code",
   "execution_count": null,
   "id": "1f6604af",
   "metadata": {},
   "outputs": [],
   "source": [
    "dc = {}"
   ]
  },
  {
   "cell_type": "code",
   "execution_count": 36,
   "id": "f9e0f563",
   "metadata": {
    "collapsed": true
   },
   "outputs": [
    {
     "data": {
      "text/plain": [
       "{0: 1018,\n",
       " 1: 998,\n",
       " 2: 976,\n",
       " 3: 1031,\n",
       " 4: 1001,\n",
       " 5: 964,\n",
       " 6: 975,\n",
       " 7: 1008,\n",
       " 8: 1002,\n",
       " 9: 1027}"
      ]
     },
     "execution_count": 36,
     "metadata": {},
     "output_type": "execute_result"
    }
   ],
   "source": [
    "# initialize fh\n",
    "fh = {}\n",
    "\n",
    "for i in range(10):\n",
    "    fh[i] = 0\n",
    "\n",
    "# create frequency histogram data\n",
    "for ele in data:\n",
    "    fh[ele] += 1\n",
    "    \n",
    "fh"
   ]
  },
  {
   "cell_type": "code",
   "execution_count": 37,
   "id": "898853ac",
   "metadata": {},
   "outputs": [
    {
     "data": {
      "text/plain": [
       "{0: 0, 1: 0, 2: 0, 3: 0, 4: 0, 5: 0, 6: 0, 7: 0, 8: 0, 9: 0}"
      ]
     },
     "execution_count": 37,
     "metadata": {},
     "output_type": "execute_result"
    }
   ],
   "source": [
    "fh = {i:0 for i in range(10)}\n",
    "fh"
   ]
  },
  {
   "cell_type": "code",
   "execution_count": 45,
   "id": "af246221",
   "metadata": {},
   "outputs": [
    {
     "data": {
      "text/plain": [
       "[('female', 88), ('male', 94), ('female', 96), ('male', 98), ('female', 91)]"
      ]
     },
     "execution_count": 45,
     "metadata": {},
     "output_type": "execute_result"
    }
   ],
   "source": [
    "import random\n",
    "data1 = [('male',random.randint(75,100)) if random.random() <= 0.5 else ('female', random.randint(85,100)) for _ in range(30)]\n",
    "data1[:5]"
   ]
  },
  {
   "cell_type": "code",
   "execution_count": 46,
   "id": "f0eb7632",
   "metadata": {},
   "outputs": [
    {
     "data": {
      "text/plain": [
       "[88, 96, 91, 89, 88, 93, 88, 97, 100, 86, 92, 85, 89, 95, 93, 90, 88]"
      ]
     },
     "execution_count": 46,
     "metadata": {},
     "output_type": "execute_result"
    }
   ],
   "source": [
    "fem_score = []\n",
    "\n",
    "for g,s in data1:\n",
    "    if g == 'female':\n",
    "        fem_score.append(s)\n",
    "        \n",
    "fem_score"
   ]
  },
  {
   "cell_type": "code",
   "execution_count": 49,
   "id": "a6e24c7b",
   "metadata": {},
   "outputs": [
    {
     "data": {
      "text/plain": [
       "91.05882352941177"
      ]
     },
     "execution_count": 49,
     "metadata": {},
     "output_type": "execute_result"
    }
   ],
   "source": [
    "avg(fem_score)"
   ]
  },
  {
   "cell_type": "code",
   "execution_count": 50,
   "id": "69f2ee82",
   "metadata": {
    "collapsed": true
   },
   "outputs": [
    {
     "data": {
      "text/plain": [
       "['female',\n",
       " 'male',\n",
       " 'female',\n",
       " 'male',\n",
       " 'female',\n",
       " 'female',\n",
       " 'male',\n",
       " 'female',\n",
       " 'female',\n",
       " 'female',\n",
       " 'male',\n",
       " 'female',\n",
       " 'female',\n",
       " 'male',\n",
       " 'female',\n",
       " 'male',\n",
       " 'female',\n",
       " 'male',\n",
       " 'female',\n",
       " 'male',\n",
       " 'male',\n",
       " 'male',\n",
       " 'male',\n",
       " 'male',\n",
       " 'female',\n",
       " 'male',\n",
       " 'female',\n",
       " 'female',\n",
       " 'female',\n",
       " 'female']"
      ]
     },
     "execution_count": 50,
     "metadata": {},
     "output_type": "execute_result"
    }
   ],
   "source": [
    "t0 = []\n",
    "\n",
    "for g,s in data1:\n",
    "    t0.append(g)\n",
    "    \n",
    "t0"
   ]
  },
  {
   "cell_type": "code",
   "execution_count": 53,
   "id": "d3154e79",
   "metadata": {},
   "outputs": [
    {
     "data": {
      "text/plain": [
       "['female',\n",
       " 'male',\n",
       " 'female',\n",
       " 'male',\n",
       " 'female',\n",
       " 'female',\n",
       " 'male',\n",
       " 'female',\n",
       " 'female',\n",
       " 'female',\n",
       " 'male',\n",
       " 'female',\n",
       " 'female',\n",
       " 'male',\n",
       " 'female',\n",
       " 'male',\n",
       " 'female',\n",
       " 'male',\n",
       " 'female',\n",
       " 'male',\n",
       " 'male',\n",
       " 'male',\n",
       " 'male',\n",
       " 'male',\n",
       " 'female',\n",
       " 'male',\n",
       " 'female',\n",
       " 'female',\n",
       " 'female',\n",
       " 'female']"
      ]
     },
     "execution_count": 53,
     "metadata": {},
     "output_type": "execute_result"
    }
   ],
   "source": [
    "t0_lc = [g for g,s in data1]    \n",
    "t0_lc"
   ]
  },
  {
   "cell_type": "code",
   "execution_count": 66,
   "id": "e9395282",
   "metadata": {},
   "outputs": [
    {
     "data": {
      "text/plain": [
       "[998, 1008, 1031, 964, 1027]"
      ]
     },
     "execution_count": 66,
     "metadata": {},
     "output_type": "execute_result"
    }
   ],
   "source": [
    "freq_odd = []\n",
    "\n",
    "for k in fh.keys():\n",
    "    if k%2==1:\n",
    "        freq_odd.append(fh[k])\n",
    "        \n",
    "freq_odd"
   ]
  },
  {
   "cell_type": "code",
   "execution_count": null,
   "id": "c45afed1",
   "metadata": {},
   "outputs": [],
   "source": []
  },
  {
   "cell_type": "code",
   "execution_count": null,
   "id": "c2aa7f7b",
   "metadata": {},
   "outputs": [],
   "source": []
  },
  {
   "cell_type": "code",
   "execution_count": null,
   "id": "0bb68295",
   "metadata": {},
   "outputs": [],
   "source": []
  },
  {
   "cell_type": "code",
   "execution_count": null,
   "id": "9ec50557",
   "metadata": {},
   "outputs": [],
   "source": []
  },
  {
   "cell_type": "code",
   "execution_count": null,
   "id": "c1d6beab",
   "metadata": {},
   "outputs": [],
   "source": []
  },
  {
   "cell_type": "code",
   "execution_count": null,
   "id": "e845cde8",
   "metadata": {},
   "outputs": [],
   "source": []
  },
  {
   "cell_type": "code",
   "execution_count": null,
   "id": "4d0a9178",
   "metadata": {},
   "outputs": [],
   "source": []
  },
  {
   "cell_type": "markdown",
   "id": "95540303",
   "metadata": {},
   "source": [
    "# Back to Lambda"
   ]
  },
  {
   "cell_type": "code",
   "execution_count": 54,
   "id": "966fead2",
   "metadata": {},
   "outputs": [],
   "source": [
    "avg_list = lambda x:sum(x)/len(x)"
   ]
  },
  {
   "cell_type": "code",
   "execution_count": 55,
   "id": "4d94a2e5",
   "metadata": {},
   "outputs": [
    {
     "name": "stdout",
     "output_type": "stream",
     "text": [
      "5.25\n"
     ]
    }
   ],
   "source": [
    "y = [6,2,9,4]\n",
    "print(avg_list(y))"
   ]
  },
  {
   "cell_type": "code",
   "execution_count": 56,
   "id": "c965dc99",
   "metadata": {},
   "outputs": [],
   "source": [
    "f2c = lambda f:(f - 32)*5/9"
   ]
  },
  {
   "cell_type": "code",
   "execution_count": 57,
   "id": "3b3b36b3",
   "metadata": {},
   "outputs": [
    {
     "data": {
      "text/plain": [
       "0.0"
      ]
     },
     "execution_count": 57,
     "metadata": {},
     "output_type": "execute_result"
    }
   ],
   "source": [
    "f2c(32)"
   ]
  },
  {
   "cell_type": "code",
   "execution_count": 58,
   "id": "51ff232c",
   "metadata": {},
   "outputs": [
    {
     "data": {
      "text/plain": [
       "100.0"
      ]
     },
     "execution_count": 58,
     "metadata": {},
     "output_type": "execute_result"
    }
   ],
   "source": [
    "f2c(212)"
   ]
  },
  {
   "cell_type": "code",
   "execution_count": 59,
   "id": "93aa260e",
   "metadata": {},
   "outputs": [
    {
     "data": {
      "text/plain": [
       "5.0"
      ]
     },
     "execution_count": 59,
     "metadata": {},
     "output_type": "execute_result"
    }
   ],
   "source": [
    "f2c(41)"
   ]
  },
  {
   "cell_type": "code",
   "execution_count": 60,
   "id": "157ea3b3",
   "metadata": {},
   "outputs": [],
   "source": [
    "even_odd = lambda x: 'odd' if x%2==1 else 'even'"
   ]
  },
  {
   "cell_type": "code",
   "execution_count": 61,
   "id": "63b9eac5",
   "metadata": {},
   "outputs": [
    {
     "data": {
      "text/plain": [
       "'odd'"
      ]
     },
     "execution_count": 61,
     "metadata": {},
     "output_type": "execute_result"
    }
   ],
   "source": [
    "even_odd(7)"
   ]
  },
  {
   "cell_type": "code",
   "execution_count": 62,
   "id": "3e7f536d",
   "metadata": {},
   "outputs": [],
   "source": [
    "even_odd = lambda x: 'odd' if x%2 else 'even'"
   ]
  },
  {
   "cell_type": "code",
   "execution_count": 63,
   "id": "683c6a18",
   "metadata": {},
   "outputs": [
    {
     "data": {
      "text/plain": [
       "'odd'"
      ]
     },
     "execution_count": 63,
     "metadata": {},
     "output_type": "execute_result"
    }
   ],
   "source": [
    "even_odd(9)"
   ]
  },
  {
   "cell_type": "code",
   "execution_count": 64,
   "id": "f93121c8",
   "metadata": {},
   "outputs": [
    {
     "data": {
      "text/plain": [
       "'even'"
      ]
     },
     "execution_count": 64,
     "metadata": {},
     "output_type": "execute_result"
    }
   ],
   "source": [
    "even_odd(4)"
   ]
  },
  {
   "cell_type": "markdown",
   "id": "2cf6eff8",
   "metadata": {},
   "source": [
    "#### Set Data Type"
   ]
  },
  {
   "cell_type": "code",
   "execution_count": 52,
   "id": "a58e9589",
   "metadata": {},
   "outputs": [
    {
     "data": {
      "text/plain": [
       "['male', 'female']"
      ]
     },
     "execution_count": 52,
     "metadata": {},
     "output_type": "execute_result"
    }
   ],
   "source": [
    "list(set(t0))"
   ]
  },
  {
   "cell_type": "code",
   "execution_count": null,
   "id": "7a8a6cdc",
   "metadata": {},
   "outputs": [],
   "source": []
  }
 ],
 "metadata": {
  "kernelspec": {
   "display_name": "Python 3 (ipykernel)",
   "language": "python",
   "name": "python3"
  },
  "language_info": {
   "codemirror_mode": {
    "name": "ipython",
    "version": 3
   },
   "file_extension": ".py",
   "mimetype": "text/x-python",
   "name": "python",
   "nbconvert_exporter": "python",
   "pygments_lexer": "ipython3",
   "version": "3.11.4"
  }
 },
 "nbformat": 4,
 "nbformat_minor": 5
}
