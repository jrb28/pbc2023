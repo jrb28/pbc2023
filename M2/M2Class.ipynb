{
 "cells": [
  {
   "cell_type": "markdown",
   "id": "3c883039",
   "metadata": {},
   "source": [
    "# Homework Discussion"
   ]
  },
  {
   "cell_type": "markdown",
   "id": "f8bd7ce8",
   "metadata": {},
   "source": [
    "## M1_1.ipynb"
   ]
  },
  {
   "cell_type": "code",
   "execution_count": 3,
   "id": "143f47b0",
   "metadata": {},
   "outputs": [
    {
     "name": "stdout",
     "output_type": "stream",
     "text": [
      "Please enter a Fahrenheit temperature: 212\n",
      "The Celsius equivalent of the temperature you entered, 212.0 degrees, is 100.0 degrees Celsius.\n"
     ]
    }
   ],
   "source": [
    "''' This program converts a Fahrenheit temperature to the Celsius scale '''\n",
    "# f = Fahrenheit\n",
    "# c = Celsius\n",
    "\n",
    "f = input('Please enter a Fahrenheit temperature: ')\n",
    "f = float(f)\n",
    "c = (f - 32) * 5/9  # conversion formula to Celsius\n",
    "print(f'The Celsius equivalent of the temperature you entered, {f} degrees, is {c} degrees Celsius.')"
   ]
  },
  {
   "cell_type": "code",
   "execution_count": 4,
   "id": "b575b4b5",
   "metadata": {},
   "outputs": [
    {
     "name": "stdout",
     "output_type": "stream",
     "text": [
      "Please enter a Fahrenheit temperature: 32.0\n",
      "The Celsius equivalent of the temperature you entered, 32.0 degrees, is 0.0 degrees Celsius.\n"
     ]
    }
   ],
   "source": [
    "''' This program converts a Fahrenheit temperature to the Celsius scale '''\n",
    "# f = Fahrenheit\n",
    "# c = Celsius\n",
    "\n",
    "f = input('Please enter a Fahrenheit temperature: ')\n",
    "f = float(f)\n",
    "#c = (f - 32) * 5/9\n",
    "print(f'The Celsius equivalent of the temperature you entered, {f} degrees, is {(f - 32) * 5/9} degrees Celsius.')"
   ]
  },
  {
   "cell_type": "markdown",
   "id": "179933ae",
   "metadata": {},
   "source": [
    "## M1_2.ipynb"
   ]
  },
  {
   "cell_type": "code",
   "execution_count": 7,
   "id": "63567cfb",
   "metadata": {},
   "outputs": [
    {
     "name": "stdout",
     "output_type": "stream",
     "text": [
      "Enter an integer: 3\n",
      "odd\n"
     ]
    }
   ],
   "source": [
    "# this is a comment\n",
    "val = input('Enter an integer: ')\n",
    "val = int(val)\n",
    "\n",
    "if val % 2:\n",
    "    print('odd')\n",
    "else:\n",
    "    print('even')"
   ]
  },
  {
   "cell_type": "code",
   "execution_count": 6,
   "id": "1c174c45",
   "metadata": {},
   "outputs": [
    {
     "name": "stdout",
     "output_type": "stream",
     "text": [
      "True\n",
      "False\n"
     ]
    }
   ],
   "source": [
    "print(bool(1))\n",
    "print(bool(0))"
   ]
  },
  {
   "cell_type": "code",
   "execution_count": 9,
   "id": "5eeed484",
   "metadata": {},
   "outputs": [
    {
     "name": "stdout",
     "output_type": "stream",
     "text": [
      "Enter an integer: 5\n",
      "No, not divisible by 3\n"
     ]
    }
   ],
   "source": [
    "# this code that determines whether a number is divisible by 3\n",
    "val = input('Enter an integer: ')\n",
    "val = int(val)\n",
    "\n",
    "if not val % 3: # or if val % 3 == 0\n",
    "    print('Yes, divisible by 3')\n",
    "else:\n",
    "    print('No, not divisible by 3')"
   ]
  },
  {
   "cell_type": "markdown",
   "id": "1cf6499a",
   "metadata": {},
   "source": [
    "## M1_3.ipynb"
   ]
  },
  {
   "cell_type": "code",
   "execution_count": 12,
   "id": "7735fc9c",
   "metadata": {},
   "outputs": [
    {
     "name": "stdout",
     "output_type": "stream",
     "text": [
      "Please enter a string: 2005\n",
      "4\n"
     ]
    }
   ],
   "source": [
    "val = input('Please enter a string: ')\n",
    "\n",
    "print(len(val))"
   ]
  },
  {
   "cell_type": "markdown",
   "id": "0f6ed91a",
   "metadata": {},
   "source": [
    "# Lists"
   ]
  },
  {
   "cell_type": "code",
   "execution_count": 13,
   "id": "25bb94fe",
   "metadata": {},
   "outputs": [
    {
     "data": {
      "text/plain": [
       "10"
      ]
     },
     "execution_count": 13,
     "metadata": {},
     "output_type": "execute_result"
    }
   ],
   "source": [
    "t = [9, 6, 8, 1, 2, 4, 6, 5, 7, 0]\n",
    "len(t)"
   ]
  },
  {
   "cell_type": "code",
   "execution_count": 14,
   "id": "da7aaaae",
   "metadata": {},
   "outputs": [
    {
     "data": {
      "text/plain": [
       "1"
      ]
     },
     "execution_count": 14,
     "metadata": {},
     "output_type": "execute_result"
    }
   ],
   "source": [
    "t[3]"
   ]
  },
  {
   "cell_type": "markdown",
   "id": "cad76b28",
   "metadata": {},
   "source": [
    "Using a colon enables multiple elements to be accessed from a list.  This is called a _slice_."
   ]
  },
  {
   "cell_type": "code",
   "execution_count": 15,
   "id": "6069865b",
   "metadata": {},
   "outputs": [
    {
     "data": {
      "text/plain": [
       "[1, 2]"
      ]
     },
     "execution_count": 15,
     "metadata": {},
     "output_type": "execute_result"
    }
   ],
   "source": [
    "t[3:5]"
   ]
  },
  {
   "cell_type": "markdown",
   "id": "f0577a28",
   "metadata": {},
   "source": [
    "No stop index says \"go to the end of the list\""
   ]
  },
  {
   "cell_type": "code",
   "execution_count": 16,
   "id": "90b417ab",
   "metadata": {},
   "outputs": [
    {
     "data": {
      "text/plain": [
       "[5, 7, 0]"
      ]
     },
     "execution_count": 16,
     "metadata": {},
     "output_type": "execute_result"
    }
   ],
   "source": [
    "t[7:]"
   ]
  },
  {
   "cell_type": "code",
   "execution_count": 17,
   "id": "62b6d1b3",
   "metadata": {},
   "outputs": [
    {
     "data": {
      "text/plain": [
       "[9, 6, 8]"
      ]
     },
     "execution_count": 17,
     "metadata": {},
     "output_type": "execute_result"
    }
   ],
   "source": [
    "t[:3]"
   ]
  },
  {
   "cell_type": "markdown",
   "id": "5092ea10",
   "metadata": {},
   "source": [
    "Negative indices count from the end of the list."
   ]
  },
  {
   "cell_type": "code",
   "execution_count": 18,
   "id": "196eb969",
   "metadata": {},
   "outputs": [
    {
     "data": {
      "text/plain": [
       "0"
      ]
     },
     "execution_count": 18,
     "metadata": {},
     "output_type": "execute_result"
    }
   ],
   "source": [
    "t[-1]"
   ]
  },
  {
   "cell_type": "code",
   "execution_count": 19,
   "id": "384a5621",
   "metadata": {},
   "outputs": [
    {
     "data": {
      "text/plain": [
       "[5, 7, 0]"
      ]
     },
     "execution_count": 19,
     "metadata": {},
     "output_type": "execute_result"
    }
   ],
   "source": [
    "t[-3:]"
   ]
  },
  {
   "cell_type": "code",
   "execution_count": 20,
   "id": "a157bd2f",
   "metadata": {},
   "outputs": [
    {
     "data": {
      "text/plain": [
       "[9, 6, 8, 1]"
      ]
     },
     "execution_count": 20,
     "metadata": {},
     "output_type": "execute_result"
    }
   ],
   "source": [
    "t[:-6]"
   ]
  },
  {
   "cell_type": "code",
   "execution_count": 21,
   "id": "c214a215",
   "metadata": {},
   "outputs": [
    {
     "data": {
      "text/plain": [
       "[2, 4, 6, 5]"
      ]
     },
     "execution_count": 21,
     "metadata": {},
     "output_type": "execute_result"
    }
   ],
   "source": [
    "t[-6:-2]"
   ]
  },
  {
   "cell_type": "code",
   "execution_count": 22,
   "id": "96803444",
   "metadata": {},
   "outputs": [
    {
     "data": {
      "text/plain": [
       "[99, 6, 8, 1, 2, 4, 6, 5, 7, 0]"
      ]
     },
     "execution_count": 22,
     "metadata": {},
     "output_type": "execute_result"
    }
   ],
   "source": [
    "t[0] = 99\n",
    "t"
   ]
  },
  {
   "cell_type": "markdown",
   "id": "2cf2a6a3",
   "metadata": {},
   "source": [
    "Lists a mutable:\n",
    "- elements can be revised\n",
    "- elements can be appended\n",
    "- elements can be deleted (list.remove(), del)"
   ]
  },
  {
   "cell_type": "markdown",
   "id": "c28f6b51",
   "metadata": {},
   "source": [
    "# Sorting Lists"
   ]
  },
  {
   "cell_type": "markdown",
   "id": "bfcbf93d",
   "metadata": {},
   "source": [
    "list.sort() is an in-pace operation."
   ]
  },
  {
   "cell_type": "code",
   "execution_count": 24,
   "id": "e8a63586",
   "metadata": {},
   "outputs": [
    {
     "name": "stdout",
     "output_type": "stream",
     "text": [
      "[99, 6, 8, 1, 2, 4, 6, 5, 7, 0]\n",
      "[0, 1, 2, 4, 5, 6, 6, 7, 8, 99]\n"
     ]
    }
   ],
   "source": [
    "print(t)\n",
    "t.sort()\n",
    "print(t)"
   ]
  },
  {
   "cell_type": "code",
   "execution_count": 25,
   "id": "a1db6b80",
   "metadata": {},
   "outputs": [],
   "source": [
    "w = [3,8,2,9,1]\n",
    "w = w.sort()\n",
    "w"
   ]
  },
  {
   "cell_type": "code",
   "execution_count": 26,
   "id": "7457d3b2",
   "metadata": {},
   "outputs": [
    {
     "data": {
      "text/plain": [
       "NoneType"
      ]
     },
     "execution_count": 26,
     "metadata": {},
     "output_type": "execute_result"
    }
   ],
   "source": [
    "type(w)"
   ]
  },
  {
   "cell_type": "code",
   "execution_count": 27,
   "id": "070b3b2f",
   "metadata": {},
   "outputs": [
    {
     "data": {
      "text/plain": [
       "[99, 8, 7, 6, 6, 5, 4, 2, 1, 0]"
      ]
     },
     "execution_count": 27,
     "metadata": {},
     "output_type": "execute_result"
    }
   ],
   "source": [
    "t.sort(reverse=True)\n",
    "t"
   ]
  },
  {
   "cell_type": "markdown",
   "id": "c519c9df",
   "metadata": {},
   "source": [
    "sorted is not an in-place operation"
   ]
  },
  {
   "cell_type": "code",
   "execution_count": 32,
   "id": "a9203ead",
   "metadata": {},
   "outputs": [],
   "source": [
    "t = sorted(t)"
   ]
  },
  {
   "cell_type": "code",
   "execution_count": 31,
   "id": "ff0d6024",
   "metadata": {},
   "outputs": [
    {
     "data": {
      "text/plain": [
       "[0, 1, 2, 4, 5, 6, 6, 7, 8, 99]"
      ]
     },
     "execution_count": 31,
     "metadata": {},
     "output_type": "execute_result"
    }
   ],
   "source": [
    "t"
   ]
  },
  {
   "cell_type": "code",
   "execution_count": 35,
   "id": "014af567",
   "metadata": {},
   "outputs": [
    {
     "data": {
      "text/plain": [
       "[99, 8, 7, 6, 6, 5, 4, 2, 1, 0]"
      ]
     },
     "execution_count": 35,
     "metadata": {},
     "output_type": "execute_result"
    }
   ],
   "source": [
    "t = sorted(t, reverse=True)\n",
    "t"
   ]
  },
  {
   "cell_type": "markdown",
   "id": "f553fa48",
   "metadata": {},
   "source": [
    "The code below is an infinite loop.  To regain control use menu Kernel>Interrupt"
   ]
  },
  {
   "cell_type": "code",
   "execution_count": null,
   "id": "3fa4357a",
   "metadata": {},
   "outputs": [],
   "source": [
    "x = 0 \n",
    "while True:\n",
    "    x += 1"
   ]
  },
  {
   "cell_type": "markdown",
   "id": "b65a9ba6",
   "metadata": {},
   "source": [
    "## Computations with Lists"
   ]
  },
  {
   "cell_type": "code",
   "execution_count": 36,
   "id": "0e6ab06f",
   "metadata": {},
   "outputs": [
    {
     "data": {
      "text/plain": [
       "138"
      ]
     },
     "execution_count": 36,
     "metadata": {},
     "output_type": "execute_result"
    }
   ],
   "source": [
    "sum(t)"
   ]
  },
  {
   "cell_type": "code",
   "execution_count": 37,
   "id": "e345d85e",
   "metadata": {},
   "outputs": [
    {
     "data": {
      "text/plain": [
       "13.8"
      ]
     },
     "execution_count": 37,
     "metadata": {},
     "output_type": "execute_result"
    }
   ],
   "source": [
    "avg = sum(t)/len(t)\n",
    "avg"
   ]
  },
  {
   "cell_type": "markdown",
   "id": "cc494a64",
   "metadata": {},
   "source": [
    "# Multiple-Dimension Lists"
   ]
  },
  {
   "cell_type": "code",
   "execution_count": 38,
   "id": "ed451269",
   "metadata": {},
   "outputs": [],
   "source": [
    "z = [[9,1], [8,2], [7,3]]"
   ]
  },
  {
   "cell_type": "code",
   "execution_count": 39,
   "id": "d88b6982",
   "metadata": {},
   "outputs": [
    {
     "data": {
      "text/plain": [
       "[9, 1]"
      ]
     },
     "execution_count": 39,
     "metadata": {},
     "output_type": "execute_result"
    }
   ],
   "source": [
    "z[0]"
   ]
  },
  {
   "cell_type": "code",
   "execution_count": 40,
   "id": "0182484e",
   "metadata": {},
   "outputs": [
    {
     "data": {
      "text/plain": [
       "1"
      ]
     },
     "execution_count": 40,
     "metadata": {},
     "output_type": "execute_result"
    }
   ],
   "source": [
    "z[0][1]"
   ]
  },
  {
   "cell_type": "code",
   "execution_count": 41,
   "id": "5e737e42",
   "metadata": {},
   "outputs": [
    {
     "data": {
      "text/plain": [
       "[[9, 1], [8, 2], [7, 3], [6, 4]]"
      ]
     },
     "execution_count": 41,
     "metadata": {},
     "output_type": "execute_result"
    }
   ],
   "source": [
    "z.append([6,4])\n",
    "z"
   ]
  },
  {
   "cell_type": "code",
   "execution_count": 42,
   "id": "dff0c29d",
   "metadata": {},
   "outputs": [
    {
     "data": {
      "text/plain": [
       "4"
      ]
     },
     "execution_count": 42,
     "metadata": {},
     "output_type": "execute_result"
    }
   ],
   "source": [
    "len(z)"
   ]
  },
  {
   "cell_type": "code",
   "execution_count": 43,
   "id": "e4a7f089",
   "metadata": {},
   "outputs": [
    {
     "data": {
      "text/plain": [
       "(2, 2, 2)"
      ]
     },
     "execution_count": 43,
     "metadata": {},
     "output_type": "execute_result"
    }
   ],
   "source": [
    "len(z[0]), len(z[1]), len(z[2])"
   ]
  },
  {
   "cell_type": "code",
   "execution_count": 44,
   "id": "b25c40e7",
   "metadata": {},
   "outputs": [
    {
     "data": {
      "text/plain": [
       "[[9, 1], [8, 2, 5], [7, 3], [6, 4]]"
      ]
     },
     "execution_count": 44,
     "metadata": {},
     "output_type": "execute_result"
    }
   ],
   "source": [
    "z[1].append(5)\n",
    "z"
   ]
  },
  {
   "cell_type": "code",
   "execution_count": 45,
   "id": "8736401e",
   "metadata": {},
   "outputs": [
    {
     "data": {
      "text/plain": [
       "[[6, 4], [7, 3], [8, 2, 5], [9, 1]]"
      ]
     },
     "execution_count": 45,
     "metadata": {},
     "output_type": "execute_result"
    }
   ],
   "source": [
    "z.sort()\n",
    "z"
   ]
  },
  {
   "cell_type": "code",
   "execution_count": 46,
   "id": "48e54c96",
   "metadata": {},
   "outputs": [
    {
     "data": {
      "text/plain": [
       "[[9, 1], [8, 2, 5], [7, 3], [6, 4]]"
      ]
     },
     "execution_count": 46,
     "metadata": {},
     "output_type": "execute_result"
    }
   ],
   "source": [
    "import operator\n",
    "\n",
    "z.sort(key=operator.itemgetter(1))\n",
    "z"
   ]
  },
  {
   "cell_type": "code",
   "execution_count": 47,
   "id": "a2f4ac71",
   "metadata": {},
   "outputs": [
    {
     "data": {
      "text/plain": [
       "[[6, 4], [7, 3], [8, 2, 5], [9, 1]]"
      ]
     },
     "execution_count": 47,
     "metadata": {},
     "output_type": "execute_result"
    }
   ],
   "source": [
    "z.sort(key=operator.itemgetter(1), reverse=True)\n",
    "z"
   ]
  },
  {
   "cell_type": "markdown",
   "id": "1eefa316",
   "metadata": {},
   "source": [
    "# Tuple Data Type"
   ]
  },
  {
   "cell_type": "code",
   "execution_count": 48,
   "id": "460f00a8",
   "metadata": {},
   "outputs": [
    {
     "name": "stdout",
     "output_type": "stream",
     "text": [
      "<class 'tuple'>\n",
      "(4, 9, 5, 2, 1)\n"
     ]
    }
   ],
   "source": [
    "my_tup = (4,9,5,2,1)\n",
    "print(type(my_tup))\n",
    "print(my_tup)"
   ]
  },
  {
   "cell_type": "code",
   "execution_count": 51,
   "id": "d4af1c9f",
   "metadata": {},
   "outputs": [
    {
     "data": {
      "text/plain": [
       "((9, 1), (8, 2), (7, 3))"
      ]
     },
     "execution_count": 51,
     "metadata": {},
     "output_type": "execute_result"
    }
   ],
   "source": [
    "my_tup = ((9,1), (8,2), (7,3))\n",
    "my_tup"
   ]
  },
  {
   "cell_type": "code",
   "execution_count": 52,
   "id": "d9ab2036",
   "metadata": {},
   "outputs": [
    {
     "data": {
      "text/plain": [
       "(8, 2)"
      ]
     },
     "execution_count": 52,
     "metadata": {},
     "output_type": "execute_result"
    }
   ],
   "source": [
    "my_tup[1]"
   ]
  },
  {
   "cell_type": "code",
   "execution_count": 53,
   "id": "87f83149",
   "metadata": {},
   "outputs": [
    {
     "data": {
      "text/plain": [
       "7"
      ]
     },
     "execution_count": 53,
     "metadata": {},
     "output_type": "execute_result"
    }
   ],
   "source": [
    "my_tup[2][0]"
   ]
  },
  {
   "cell_type": "markdown",
   "id": "f22d8396",
   "metadata": {},
   "source": [
    "Tuples are _immutable_\n",
    "- Cannot change values within tuples"
   ]
  },
  {
   "cell_type": "code",
   "execution_count": null,
   "id": "74a26a09",
   "metadata": {},
   "outputs": [],
   "source": [
    "my_tup[2][0] = 99"
   ]
  },
  {
   "cell_type": "code",
   "execution_count": 55,
   "id": "3592f211",
   "metadata": {},
   "outputs": [
    {
     "ename": "TypeError",
     "evalue": "'tuple' object does not support item assignment",
     "output_type": "error",
     "traceback": [
      "\u001b[1;31m---------------------------------------------------------------------------\u001b[0m",
      "\u001b[1;31mTypeError\u001b[0m                                 Traceback (most recent call last)",
      "Cell \u001b[1;32mIn[55], line 1\u001b[0m\n\u001b[1;32m----> 1\u001b[0m my_tup[\u001b[38;5;241m0\u001b[39m] \u001b[38;5;241m=\u001b[39m (\u001b[38;5;241m0\u001b[39m,\u001b[38;5;241m5\u001b[39m)\n",
      "\u001b[1;31mTypeError\u001b[0m: 'tuple' object does not support item assignment"
     ]
    }
   ],
   "source": [
    "my_tup[0] = (0,5)"
   ]
  },
  {
   "cell_type": "code",
   "execution_count": 56,
   "id": "f4039ed2",
   "metadata": {},
   "outputs": [
    {
     "ename": "TypeError",
     "evalue": "'tuple' object doesn't support item deletion",
     "output_type": "error",
     "traceback": [
      "\u001b[1;31m---------------------------------------------------------------------------\u001b[0m",
      "\u001b[1;31mTypeError\u001b[0m                                 Traceback (most recent call last)",
      "Cell \u001b[1;32mIn[56], line 1\u001b[0m\n\u001b[1;32m----> 1\u001b[0m \u001b[38;5;28;01mdel\u001b[39;00m my_tup[\u001b[38;5;241m0\u001b[39m]\n",
      "\u001b[1;31mTypeError\u001b[0m: 'tuple' object doesn't support item deletion"
     ]
    }
   ],
   "source": [
    "del my_tup[0]"
   ]
  },
  {
   "cell_type": "code",
   "execution_count": 57,
   "id": "43a0d6e4",
   "metadata": {},
   "outputs": [
    {
     "ename": "AttributeError",
     "evalue": "'tuple' object has no attribute 'sort'",
     "output_type": "error",
     "traceback": [
      "\u001b[1;31m---------------------------------------------------------------------------\u001b[0m",
      "\u001b[1;31mAttributeError\u001b[0m                            Traceback (most recent call last)",
      "Cell \u001b[1;32mIn[57], line 1\u001b[0m\n\u001b[1;32m----> 1\u001b[0m my_tup\u001b[38;5;241m.\u001b[39msort()\n",
      "\u001b[1;31mAttributeError\u001b[0m: 'tuple' object has no attribute 'sort'"
     ]
    }
   ],
   "source": [
    "my_tup.sort()"
   ]
  },
  {
   "cell_type": "code",
   "execution_count": 58,
   "id": "ace34124",
   "metadata": {},
   "outputs": [],
   "source": [
    "del my_tup"
   ]
  },
  {
   "cell_type": "code",
   "execution_count": 59,
   "id": "fc069079",
   "metadata": {},
   "outputs": [
    {
     "ename": "NameError",
     "evalue": "name 'my_tup' is not defined",
     "output_type": "error",
     "traceback": [
      "\u001b[1;31m---------------------------------------------------------------------------\u001b[0m",
      "\u001b[1;31mNameError\u001b[0m                                 Traceback (most recent call last)",
      "Cell \u001b[1;32mIn[59], line 1\u001b[0m\n\u001b[1;32m----> 1\u001b[0m my_tup\n",
      "\u001b[1;31mNameError\u001b[0m: name 'my_tup' is not defined"
     ]
    }
   ],
   "source": [
    "my_tup"
   ]
  },
  {
   "cell_type": "markdown",
   "id": "1597d83b",
   "metadata": {},
   "source": [
    "# For Loops\n",
    "\n",
    "Enable processing of large data sets and algorithmw with many, many iteration with little code.\n",
    "\n",
    "- Iterate through a collection of data and do some processing\n",
    "- Iterating through steps in an algorithm"
   ]
  },
  {
   "cell_type": "code",
   "execution_count": null,
   "id": "841c1669",
   "metadata": {},
   "outputs": [],
   "source": [
    "for i in [0,1,2]:\n",
    "    print(i)\n",
    "print(\"Hello, I'm done!\")"
   ]
  },
  {
   "cell_type": "code",
   "execution_count": 61,
   "id": "8f75fcc4",
   "metadata": {},
   "outputs": [
    {
     "name": "stdout",
     "output_type": "stream",
     "text": [
      "0\n",
      "Iteration 1\n",
      "1\n",
      "Iteration 2\n",
      "2\n",
      "Iteration 3\n",
      "Hello, I'm done!\n"
     ]
    }
   ],
   "source": [
    "it = 0\n",
    "for i in [0,1,2]:\n",
    "    print(i)\n",
    "    it += 1 # or it = it + 1\n",
    "    print(f'Iteration {it}')\n",
    "print(\"Hello, I'm done!\")"
   ]
  },
  {
   "cell_type": "code",
   "execution_count": 62,
   "id": "e65c3657",
   "metadata": {},
   "outputs": [
    {
     "name": "stdout",
     "output_type": "stream",
     "text": [
      "0\n",
      "1\n",
      "2\n"
     ]
    }
   ],
   "source": [
    "for j in (0,1,2):\n",
    "    print(j)"
   ]
  },
  {
   "cell_type": "code",
   "execution_count": 2,
   "id": "5c190796",
   "metadata": {},
   "outputs": [],
   "source": [
    "tot = ((9,1), (8,2), (7,3))"
   ]
  },
  {
   "cell_type": "code",
   "execution_count": 67,
   "id": "e8936909",
   "metadata": {},
   "outputs": [
    {
     "name": "stdout",
     "output_type": "stream",
     "text": [
      "(9, 1)\n",
      "(8, 2)\n",
      "(7, 3)\n"
     ]
    }
   ],
   "source": [
    "for t in tot:\n",
    "    print(t)"
   ]
  },
  {
   "cell_type": "code",
   "execution_count": 68,
   "id": "fdf75f29",
   "metadata": {},
   "outputs": [
    {
     "name": "stdout",
     "output_type": "stream",
     "text": [
      "9\n",
      "1\n",
      "8\n",
      "2\n",
      "7\n",
      "3\n"
     ]
    }
   ],
   "source": [
    "for t in tot:\n",
    "    for element in t:\n",
    "        print(element)"
   ]
  },
  {
   "cell_type": "code",
   "execution_count": 71,
   "id": "1c4be8c1",
   "metadata": {},
   "outputs": [
    {
     "name": "stdout",
     "output_type": "stream",
     "text": [
      "32\n",
      "17\n",
      "21\n",
      "Hello, I'm done!\n"
     ]
    }
   ],
   "source": [
    "my_list = [32,17,21]\n",
    "for i in range(len(my_list)):\n",
    "    print(my_list[i])\n",
    "print(\"Hello, I'm done!\")"
   ]
  },
  {
   "cell_type": "code",
   "execution_count": 70,
   "id": "b33e6987",
   "metadata": {},
   "outputs": [
    {
     "data": {
      "text/plain": [
       "range(0, 3)"
      ]
     },
     "execution_count": 70,
     "metadata": {},
     "output_type": "execute_result"
    }
   ],
   "source": [
    "my_list = [32,17,21]\n",
    "range(len(my_list))"
   ]
  },
  {
   "cell_type": "code",
   "execution_count": 72,
   "id": "6087b8ce",
   "metadata": {},
   "outputs": [
    {
     "data": {
      "text/plain": [
       "((9, 1), (8, 2), (7, 3))"
      ]
     },
     "execution_count": 72,
     "metadata": {},
     "output_type": "execute_result"
    }
   ],
   "source": [
    "tot"
   ]
  },
  {
   "cell_type": "code",
   "execution_count": 73,
   "id": "47188d22",
   "metadata": {},
   "outputs": [
    {
     "name": "stdout",
     "output_type": "stream",
     "text": [
      "9\n",
      "1\n",
      "8\n",
      "2\n",
      "7\n",
      "3\n"
     ]
    }
   ],
   "source": [
    "for i in range(len(tot)):\n",
    "    for j in range(len(tot[i])):\n",
    "        print(tot[i][j])"
   ]
  },
  {
   "cell_type": "code",
   "execution_count": 3,
   "id": "b671bc49",
   "metadata": {},
   "outputs": [
    {
     "name": "stdout",
     "output_type": "stream",
     "text": [
      "0 0\n",
      "0 1\n",
      "1 0\n",
      "1 1\n",
      "2 0\n",
      "2 1\n"
     ]
    }
   ],
   "source": [
    "for i in range(len(tot)):\n",
    "    for j in range(len(tot[i])):\n",
    "        print(i,j)\n",
    "        #print(tot[i][j])"
   ]
  },
  {
   "cell_type": "code",
   "execution_count": 4,
   "id": "17fd7156",
   "metadata": {},
   "outputs": [
    {
     "data": {
      "text/plain": [
       "((9, 1), (8, 2), (7, 3))"
      ]
     },
     "execution_count": 4,
     "metadata": {},
     "output_type": "execute_result"
    }
   ],
   "source": [
    "tot"
   ]
  },
  {
   "cell_type": "code",
   "execution_count": 5,
   "id": "593cdc78",
   "metadata": {},
   "outputs": [
    {
     "name": "stdout",
     "output_type": "stream",
     "text": [
      "t\n",
      "e\n",
      "x\n",
      "t\n"
     ]
    }
   ],
   "source": [
    "my_str = 'text'\n",
    "\n",
    "for char in my_str:\n",
    "    print(char)"
   ]
  },
  {
   "cell_type": "code",
   "execution_count": null,
   "id": "14e20225",
   "metadata": {},
   "outputs": [],
   "source": []
  },
  {
   "cell_type": "markdown",
   "id": "127546a4",
   "metadata": {},
   "source": [
    "## Iterables\n",
    "\n",
    "We have seen that you can iterate through these data types taht contain a collection of elements:\n",
    "- lists\n",
    "- tuples\n",
    "- ranges\n",
    "- strings\n",
    "\n",
    "Later on we will iterate through:\n",
    "- dictionaries\n",
    "- input text files"
   ]
  },
  {
   "cell_type": "markdown",
   "id": "5cb7ff47",
   "metadata": {},
   "source": [
    "# A Story Problem\n",
    "\n",
    "Create a list of tuples, with each tuple containing two integer elements.  The collection of tuples should exhaustively describe all the combinations of values from two die.\n",
    "\n",
    "[(1,1), (1,2), ... , (6,6)]\n",
    "\n",
    "Part 2: Calculate the probability of having the total of the two die being 7."
   ]
  },
  {
   "cell_type": "code",
   "execution_count": 6,
   "id": "76088690",
   "metadata": {},
   "outputs": [
    {
     "name": "stdout",
     "output_type": "stream",
     "text": [
      "36 \n",
      " [(1, 1), (1, 2), (1, 3), (1, 4), (1, 5), (1, 6), (2, 1), (2, 2), (2, 3), (2, 4), (2, 5), (2, 6), (3, 1), (3, 2), (3, 3), (3, 4), (3, 5), (3, 6), (4, 1), (4, 2), (4, 3), (4, 4), (4, 5), (4, 6), (5, 1), (5, 2), (5, 3), (5, 4), (5, 5), (5, 6), (6, 1), (6, 2), (6, 3), (6, 4), (6, 5), (6, 6)]\n"
     ]
    }
   ],
   "source": [
    "# Create 2 variables (tuple) for all outcomes of one die\n",
    "die2 = (1,2,3,4,5,6)\n",
    "die1 = tuple(range(1,7))\n",
    "\n",
    "# Define empty list for solution\n",
    "soln = []\n",
    "\n",
    "# 2 nested for loops to get all combinations\n",
    "for out1 in die1:\n",
    "    for out2 in die2:\n",
    "        # Insert tuple (outcome) into list\n",
    "        soln.append((out1,out2))\n",
    "print(len(soln), '\\n', soln)"
   ]
  },
  {
   "cell_type": "code",
   "execution_count": 10,
   "id": "953cd5d6",
   "metadata": {},
   "outputs": [
    {
     "name": "stdout",
     "output_type": "stream",
     "text": [
      "The probability of two die summing to 7 is 0.16666666666666666\n"
     ]
    }
   ],
   "source": [
    "# Define success\n",
    "success_value = 7\n",
    "\n",
    "# Initiate counter\n",
    "s = 0\n",
    "\n",
    "# Iterate through all outcomes and increment counter for successes\n",
    "for outcome in soln:\n",
    "    if sum(outcome) == success_value:\n",
    "        s += 1\n",
    "\n",
    "# Calculate successes/all outcomes\n",
    "print(f'The probability of two die summing to {success_value} is {s/len(soln)}')"
   ]
  },
  {
   "cell_type": "code",
   "execution_count": 7,
   "id": "80948a14",
   "metadata": {},
   "outputs": [
    {
     "data": {
      "text/plain": [
       "3"
      ]
     },
     "execution_count": 7,
     "metadata": {},
     "output_type": "execute_result"
    }
   ],
   "source": [
    "tup = (1,2)\n",
    "sum(tup)"
   ]
  },
  {
   "cell_type": "code",
   "execution_count": 11,
   "id": "0733bbc6",
   "metadata": {},
   "outputs": [
    {
     "name": "stdout",
     "output_type": "stream",
     "text": [
      "36 \n",
      " [(1, 1), (1, 2), (1, 3), (1, 4), (1, 5), (1, 6), (2, 1), (2, 2), (2, 3), (2, 4), (2, 5), (2, 6), (3, 1), (3, 2), (3, 3), (3, 4), (3, 5), (3, 6), (4, 1), (4, 2), (4, 3), (4, 4), (4, 5), (4, 6), (5, 1), (5, 2), (5, 3), (5, 4), (5, 5), (5, 6), (6, 1), (6, 2), (6, 3), (6, 4), (6, 5), (6, 6)]\n"
     ]
    }
   ],
   "source": [
    "# Create 2 variables (tuple) for all outcomes of one die\n",
    "die = tuple(range(1,7))\n",
    "\n",
    "# Define empty list for solution\n",
    "soln = []\n",
    "\n",
    "# 2 nested for loops to get all combinations\n",
    "for out1 in die:\n",
    "    for out2 in die:\n",
    "        # Insert tuple (outcome) into list\n",
    "        soln.append((out1,out2))\n",
    "print(len(soln), '\\n', soln)"
   ]
  },
  {
   "cell_type": "markdown",
   "id": "46261722",
   "metadata": {},
   "source": [
    "# While Loops"
   ]
  },
  {
   "cell_type": "code",
   "execution_count": 12,
   "id": "684d1710",
   "metadata": {},
   "outputs": [
    {
     "name": "stdout",
     "output_type": "stream",
     "text": [
      "0\n",
      "1\n",
      "2\n",
      "3\n",
      "4\n",
      "5\n",
      "6\n",
      "7\n",
      "8\n",
      "9\n",
      "I'm done\n"
     ]
    }
   ],
   "source": [
    "# counter variable\n",
    "i = 0\n",
    "\n",
    "while i < 10:\n",
    "    print(i)\n",
    "    i += 1\n",
    "print(\"I'm done\")"
   ]
  },
  {
   "cell_type": "code",
   "execution_count": 13,
   "id": "d186e79e",
   "metadata": {},
   "outputs": [
    {
     "name": "stdout",
     "output_type": "stream",
     "text": [
      "10\n",
      "9\n",
      "8\n",
      "7\n",
      "6\n",
      "5\n",
      "4\n",
      "3\n",
      "2\n",
      "1\n",
      "I'm done\n"
     ]
    }
   ],
   "source": [
    "# counter variable\n",
    "i = 10\n",
    "\n",
    "while i:\n",
    "    print(i)\n",
    "    i -= 1\n",
    "print(\"I'm done\")"
   ]
  },
  {
   "cell_type": "markdown",
   "id": "059873db",
   "metadata": {},
   "source": [
    "# A While Loop Story\n",
    "\n",
    "Use a while loop to simulate how many wins a team gets in a row."
   ]
  },
  {
   "cell_type": "code",
   "execution_count": 15,
   "id": "82dd3530",
   "metadata": {
    "collapsed": true
   },
   "outputs": [
    {
     "data": {
      "text/plain": [
       "[0.8406085817848685,\n",
       " 0.33591297555469446,\n",
       " 0.8516101781376427,\n",
       " 0.8262140879582358,\n",
       " 0.8448672077449717,\n",
       " 0.5023550291891766,\n",
       " 0.3479092703576757,\n",
       " 0.41946021312678583,\n",
       " 0.8250316340392625,\n",
       " 0.38033453573148623,\n",
       " 0.6228790845070011,\n",
       " 0.17510409794364878,\n",
       " 0.7233282749706833,\n",
       " 0.1716365771289462,\n",
       " 0.09023898384199847,\n",
       " 0.4264047083899186,\n",
       " 0.3878200316755892,\n",
       " 0.8355793407756453,\n",
       " 0.228313128168264,\n",
       " 0.042193143116966536,\n",
       " 0.27592647744009047,\n",
       " 0.41649258402712175,\n",
       " 0.11159189385595125,\n",
       " 0.45966867232069875,\n",
       " 0.47957617073005465,\n",
       " 0.21188675418776215,\n",
       " 0.07297372509090227,\n",
       " 0.15628280665876293,\n",
       " 0.990757603519496,\n",
       " 0.05094900470963726,\n",
       " 0.9846328856444646,\n",
       " 0.5204439037724589,\n",
       " 0.9268385515695124,\n",
       " 0.9962009316470993,\n",
       " 0.1169099254071796,\n",
       " 0.488344125658396,\n",
       " 0.844451450077264,\n",
       " 0.7433473222602942,\n",
       " 0.5344608676364211,\n",
       " 0.22261964777101717,\n",
       " 0.9969624791579469,\n",
       " 0.6912635989208282,\n",
       " 0.44408020230806744,\n",
       " 0.8806999806987751,\n",
       " 0.23893118881903241,\n",
       " 0.7418238103546355,\n",
       " 0.03691799341181079,\n",
       " 0.647711940658731,\n",
       " 0.47308129859946146,\n",
       " 0.6779955458235689,\n",
       " 0.36855856239220464,\n",
       " 0.6078756557814147,\n",
       " 0.19986958928229048,\n",
       " 0.19911858904525892,\n",
       " 0.3444935229815357,\n",
       " 0.5536819134172277,\n",
       " 0.43519088748320456,\n",
       " 0.5228248115289568,\n",
       " 0.23175466087887697,\n",
       " 0.2504994386524839,\n",
       " 0.3991329493068798,\n",
       " 0.5066034069129337,\n",
       " 0.6693593658811293,\n",
       " 0.9585289214034927,\n",
       " 0.5990709177852747,\n",
       " 0.016933607720593824,\n",
       " 0.9640151822814559,\n",
       " 0.6801010239186422,\n",
       " 0.2303109655255634,\n",
       " 0.017843929801362624,\n",
       " 0.8801637202288817,\n",
       " 0.2725787096426838,\n",
       " 0.15169326849256937,\n",
       " 0.5232217343092508,\n",
       " 0.5392393943507305,\n",
       " 0.2532799848109828,\n",
       " 0.8556604510413924,\n",
       " 0.20978432181000872,\n",
       " 0.5538276366227712,\n",
       " 0.3889648258685051,\n",
       " 0.2647378387488335,\n",
       " 0.8771880861413514,\n",
       " 0.719034851502852,\n",
       " 0.8172794301951727,\n",
       " 0.3486709901166005,\n",
       " 0.07797932610586489,\n",
       " 0.16847770973329335,\n",
       " 0.23928818892206105,\n",
       " 0.7127332630441833,\n",
       " 0.38214021424187083,\n",
       " 0.09954922789025422,\n",
       " 0.773617526828582,\n",
       " 0.71067437710007,\n",
       " 0.6817538363916709,\n",
       " 0.0901527404805651,\n",
       " 0.22838343497721236,\n",
       " 0.7638749509388951,\n",
       " 0.6242656947009942,\n",
       " 0.8375288331802522,\n",
       " 0.5823545688797394]"
      ]
     },
     "execution_count": 15,
     "metadata": {},
     "output_type": "execute_result"
    }
   ],
   "source": [
    "import random\n",
    "\n",
    "coll = []\n",
    "for _ in range(100):\n",
    "    coll.append(random.random())\n",
    "coll"
   ]
  },
  {
   "cell_type": "code",
   "execution_count": 20,
   "id": "bbf56bf9",
   "metadata": {},
   "outputs": [
    {
     "name": "stdout",
     "output_type": "stream",
     "text": [
      "Number of Wins: 1\n"
     ]
    }
   ],
   "source": [
    "# Initiate counter for number of wins\n",
    "wins = 0\n",
    "\n",
    "rv = random.random()\n",
    "while rv <= 0.5:\n",
    "    wins +=1\n",
    "    rv = random.random()\n",
    "    \n",
    "print(f'Number of Wins: {wins}')"
   ]
  },
  {
   "cell_type": "code",
   "execution_count": 26,
   "id": "cdde837f",
   "metadata": {},
   "outputs": [
    {
     "name": "stdout",
     "output_type": "stream",
     "text": [
      "Number of Wins: 2\n"
     ]
    }
   ],
   "source": [
    "# Initiate counter for number of wins\n",
    "wins = 0\n",
    "\n",
    "while random.random() <= 0.5:\n",
    "    wins +=1\n",
    "    \n",
    "print(f'Number of Wins: {wins}')"
   ]
  },
  {
   "cell_type": "code",
   "execution_count": 27,
   "id": "bc682498",
   "metadata": {},
   "outputs": [
    {
     "name": "stdout",
     "output_type": "stream",
     "text": [
      "[1, 4, 1, 0, 0, 3, 2, 1, 2, 10, 1, 0, 2, 0, 0, 0, 2, 0, 0, 2, 0, 1, 0, 0, 1, 5, 2, 0, 0, 0, 0, 0, 1, 0, 0, 1, 4, 1, 2, 2, 1, 2, 2, 0, 0, 5, 2, 1, 1, 2, 3, 0, 3, 1, 0, 1, 1, 5, 2, 0, 0, 1, 0, 0, 2, 2, 0, 4, 1, 1, 0, 0, 1, 0, 0, 0, 0, 2, 2, 0, 4, 0, 1, 0, 0, 0, 1, 0, 1, 0, 0, 0, 1, 0, 0, 0, 1, 3, 0, 0]\n"
     ]
    }
   ],
   "source": [
    "win_dist = []\n",
    "\n",
    "for _ in range(100):  # No need to declare dummy variable if it is not used\n",
    "\n",
    "    # Initiate counter for number of wins\n",
    "    wins = 0\n",
    "\n",
    "    while random.random() <= 0.5:\n",
    "        wins +=1\n",
    "    win_dist.append(wins)\n",
    "    #print(f'Number of Wins: {wins}')\n",
    "\n",
    "print(win_dist)"
   ]
  },
  {
   "cell_type": "markdown",
   "id": "0e9efbe2",
   "metadata": {},
   "source": [
    "<code>isinstance()</code> Function"
   ]
  },
  {
   "cell_type": "code",
   "execution_count": 30,
   "id": "fc685a9a",
   "metadata": {},
   "outputs": [
    {
     "name": "stdout",
     "output_type": "stream",
     "text": [
      "Enter a numerical value: -17\n",
      "The square root of value -17.0 could not be caclulated\n"
     ]
    }
   ],
   "source": [
    "val = input('Enter a numerical value: ')\n",
    "val = float(val)\n",
    "\n",
    "if isinstance(val, float) and val >=0:\n",
    "    print(val**0.5)\n",
    "else:\n",
    "    print(f'The square root of value {val} could not be caclulated')\n"
   ]
  },
  {
   "cell_type": "code",
   "execution_count": 31,
   "id": "aa671599",
   "metadata": {},
   "outputs": [
    {
     "data": {
      "text/plain": [
       "True"
      ]
     },
     "execution_count": 31,
     "metadata": {},
     "output_type": "execute_result"
    }
   ],
   "source": [
    "isinstance(val, float)"
   ]
  },
  {
   "cell_type": "code",
   "execution_count": null,
   "id": "419b5a8c",
   "metadata": {},
   "outputs": [],
   "source": []
  }
 ],
 "metadata": {
  "kernelspec": {
   "display_name": "Python 3 (ipykernel)",
   "language": "python",
   "name": "python3"
  },
  "language_info": {
   "codemirror_mode": {
    "name": "ipython",
    "version": 3
   },
   "file_extension": ".py",
   "mimetype": "text/x-python",
   "name": "python",
   "nbconvert_exporter": "python",
   "pygments_lexer": "ipython3",
   "version": "3.11.4"
  }
 },
 "nbformat": 4,
 "nbformat_minor": 5
}
